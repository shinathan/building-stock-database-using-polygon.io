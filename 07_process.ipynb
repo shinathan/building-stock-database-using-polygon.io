{
 "cells": [
  {
   "cell_type": "markdown",
   "metadata": {},
   "source": [
    "# 7.1 Processing raw data\n",
    "This section combines the raw data, the adjustments and cleaned bars to get processed 1-minute data. After processing we also detect the halts to create a <code>halted</code> flag. There are no gaps for processed data. All stocks that are active on a certain day have minute bars for every minute, from pre to post market, even if no trades took place. Empty bars are forward filled. Only for the first day, backwards filling may be done. All processed data will have the following columns: <code>['open', 'high', 'low', 'close', 'close_original', 'turnover', 'tradeable']</code>. Turnover is the dollar amount the stock has traded and is volume * close. Volume is an useless number on its own, as 1000 volume for a $200k stock is not the same as with a $0.1 stock. The 'close_original' is the unadjusted price. This is needed for filtering, e.g. only the stocks above $1. \n",
    "\n",
    "The steps:\n",
    "1. The bars are split and dividend adjusted. (Split adjustment is done first, then dividend adjustment. Polygon already gives the adjusted dividends, so there is no need to split-adjust dividends.)\n",
    "2. After this, the data is forward filled. If there are still NA values, the data is backward filled. Forward/backward filled bars are flagged by setting <code>tradeable</code> to False.\n",
    "3. The true start/end dates are determined for each stock.\n",
    "\n",
    "To make the loop more readable, we will first build the functions <code>split_adjust</code>, <code>dividend_adjust</code> and <code>detect_halts</code>."
   ]
  },
  {
   "cell_type": "code",
   "execution_count": 34,
   "metadata": {},
   "outputs": [],
   "source": [
    "from tickers import get_tickers\n",
    "from times import get_market_calendar\n",
    "from datetime import datetime, date, time\n",
    "import mplfinance as mpf\n",
    "import pandas as pd\n",
    "import numpy as np\n",
    "import os\n",
    "DATA_PATH = \"../data/polygon/\""
   ]
  },
  {
   "cell_type": "markdown",
   "metadata": {},
   "source": [
    "# 7.2 Split adjustment"
   ]
  },
  {
   "cell_type": "code",
   "execution_count": 35,
   "metadata": {},
   "outputs": [],
   "source": [
    "adjustments = pd.read_csv(DATA_PATH + f\"raw/adjustments/TSLA.csv\", parse_dates=True, index_col=0)\n",
    "bars = pd.read_parquet(DATA_PATH + f\"raw/m1/TSLA-2019-06-03.parquet\")\n",
    "\n",
    "adjustments.index = pd.to_datetime(adjustments.index).date\n",
    "splits = adjustments[adjustments.type == \"SPLIT\"].copy()"
   ]
  },
  {
   "cell_type": "code",
   "execution_count": 36,
   "metadata": {},
   "outputs": [
    {
     "data": {
      "text/html": [
       "<div>\n",
       "<style scoped>\n",
       "    .dataframe tbody tr th:only-of-type {\n",
       "        vertical-align: middle;\n",
       "    }\n",
       "\n",
       "    .dataframe tbody tr th {\n",
       "        vertical-align: top;\n",
       "    }\n",
       "\n",
       "    .dataframe thead th {\n",
       "        text-align: right;\n",
       "    }\n",
       "</style>\n",
       "<table border=\"1\" class=\"dataframe\">\n",
       "  <thead>\n",
       "    <tr style=\"text-align: right;\">\n",
       "      <th></th>\n",
       "      <th>type</th>\n",
       "      <th>subtype</th>\n",
       "      <th>amount</th>\n",
       "    </tr>\n",
       "  </thead>\n",
       "  <tbody>\n",
       "    <tr>\n",
       "      <th>2020-08-31</th>\n",
       "      <td>SPLIT</td>\n",
       "      <td>N</td>\n",
       "      <td>0.200000</td>\n",
       "    </tr>\n",
       "    <tr>\n",
       "      <th>2022-08-25</th>\n",
       "      <td>SPLIT</td>\n",
       "      <td>N</td>\n",
       "      <td>0.333333</td>\n",
       "    </tr>\n",
       "  </tbody>\n",
       "</table>\n",
       "</div>"
      ],
      "text/plain": [
       "             type subtype    amount\n",
       "2020-08-31  SPLIT       N  0.200000\n",
       "2022-08-25  SPLIT       N  0.333333"
      ]
     },
     "execution_count": 36,
     "metadata": {},
     "output_type": "execute_result"
    }
   ],
   "source": [
    "splits"
   ]
  },
  {
   "cell_type": "code",
   "execution_count": 37,
   "metadata": {},
   "outputs": [
    {
     "data": {
      "text/html": [
       "<div>\n",
       "<style scoped>\n",
       "    .dataframe tbody tr th:only-of-type {\n",
       "        vertical-align: middle;\n",
       "    }\n",
       "\n",
       "    .dataframe tbody tr th {\n",
       "        vertical-align: top;\n",
       "    }\n",
       "\n",
       "    .dataframe thead th {\n",
       "        text-align: right;\n",
       "    }\n",
       "</style>\n",
       "<table border=\"1\" class=\"dataframe\">\n",
       "  <thead>\n",
       "    <tr style=\"text-align: right;\">\n",
       "      <th></th>\n",
       "      <th>cumulative_adjustment</th>\n",
       "    </tr>\n",
       "  </thead>\n",
       "  <tbody>\n",
       "    <tr>\n",
       "      <th>2020-08-31</th>\n",
       "      <td>0.066667</td>\n",
       "    </tr>\n",
       "    <tr>\n",
       "      <th>2022-08-25</th>\n",
       "      <td>0.333333</td>\n",
       "    </tr>\n",
       "  </tbody>\n",
       "</table>\n",
       "</div>"
      ],
      "text/plain": [
       "            cumulative_adjustment\n",
       "2020-08-31               0.066667\n",
       "2022-08-25               0.333333"
      ]
     },
     "execution_count": 37,
     "metadata": {},
     "output_type": "execute_result"
    }
   ],
   "source": [
    "trading_dates_ticker = sorted(list(set(bars.index.date)))\n",
    "\n",
    "# The original dates of 'split' are the dates of the split. But adjustments are for all dates before the split.\n",
    "splits['cumulative_adjustment'] = splits['amount'][::-1].cumprod()\n",
    "splits = splits.drop(columns=['type', 'subtype', 'amount'])\n",
    "splits"
   ]
  },
  {
   "cell_type": "code",
   "execution_count": 38,
   "metadata": {},
   "outputs": [
    {
     "data": {
      "text/html": [
       "<div>\n",
       "<style scoped>\n",
       "    .dataframe tbody tr th:only-of-type {\n",
       "        vertical-align: middle;\n",
       "    }\n",
       "\n",
       "    .dataframe tbody tr th {\n",
       "        vertical-align: top;\n",
       "    }\n",
       "\n",
       "    .dataframe thead th {\n",
       "        text-align: right;\n",
       "    }\n",
       "</style>\n",
       "<table border=\"1\" class=\"dataframe\">\n",
       "  <thead>\n",
       "    <tr style=\"text-align: right;\">\n",
       "      <th></th>\n",
       "      <th>cumulative_adjustment</th>\n",
       "    </tr>\n",
       "  </thead>\n",
       "  <tbody>\n",
       "    <tr>\n",
       "      <th>2020-08-28</th>\n",
       "      <td>0.066667</td>\n",
       "    </tr>\n",
       "    <tr>\n",
       "      <th>2022-08-24</th>\n",
       "      <td>0.333333</td>\n",
       "    </tr>\n",
       "  </tbody>\n",
       "</table>\n",
       "</div>"
      ],
      "text/plain": [
       "            cumulative_adjustment\n",
       "2020-08-28               0.066667\n",
       "2022-08-24               0.333333"
      ]
     },
     "execution_count": 38,
     "metadata": {},
     "output_type": "execute_result"
    }
   ],
   "source": [
    "splits.index = splits.index.map(lambda day : max(d for d in trading_dates_ticker if d < day)) # Shift dates 1 day back (the reason we cannot just use timedelta(days=1) is because that might not be a trading date.\n",
    "splits"
   ]
  },
  {
   "cell_type": "code",
   "execution_count": 39,
   "metadata": {},
   "outputs": [],
   "source": [
    "splits = splits.reindex(trading_dates_ticker) # Reindex using stock data \n",
    "splits.cumulative_adjustment = splits.cumulative_adjustment.fillna(method='bfill').fillna(value=1) # Backward fill and fill ones"
   ]
  },
  {
   "cell_type": "code",
   "execution_count": 40,
   "metadata": {},
   "outputs": [
    {
     "data": {
      "text/html": [
       "<div>\n",
       "<style scoped>\n",
       "    .dataframe tbody tr th:only-of-type {\n",
       "        vertical-align: middle;\n",
       "    }\n",
       "\n",
       "    .dataframe tbody tr th {\n",
       "        vertical-align: top;\n",
       "    }\n",
       "\n",
       "    .dataframe thead th {\n",
       "        text-align: right;\n",
       "    }\n",
       "</style>\n",
       "<table border=\"1\" class=\"dataframe\">\n",
       "  <thead>\n",
       "    <tr style=\"text-align: right;\">\n",
       "      <th></th>\n",
       "      <th>cumulative_adjustment</th>\n",
       "    </tr>\n",
       "  </thead>\n",
       "  <tbody>\n",
       "    <tr>\n",
       "      <th>2019-06-03</th>\n",
       "      <td>0.066667</td>\n",
       "    </tr>\n",
       "    <tr>\n",
       "      <th>2019-06-04</th>\n",
       "      <td>0.066667</td>\n",
       "    </tr>\n",
       "    <tr>\n",
       "      <th>2019-06-05</th>\n",
       "      <td>0.066667</td>\n",
       "    </tr>\n",
       "    <tr>\n",
       "      <th>2019-06-06</th>\n",
       "      <td>0.066667</td>\n",
       "    </tr>\n",
       "    <tr>\n",
       "      <th>2019-06-07</th>\n",
       "      <td>0.066667</td>\n",
       "    </tr>\n",
       "  </tbody>\n",
       "</table>\n",
       "</div>"
      ],
      "text/plain": [
       "            cumulative_adjustment\n",
       "2019-06-03               0.066667\n",
       "2019-06-04               0.066667\n",
       "2019-06-05               0.066667\n",
       "2019-06-06               0.066667\n",
       "2019-06-07               0.066667"
      ]
     },
     "execution_count": 40,
     "metadata": {},
     "output_type": "execute_result"
    }
   ],
   "source": [
    "splits[splits.index > date(2019, 3, 26)][:5]"
   ]
  },
  {
   "cell_type": "code",
   "execution_count": 41,
   "metadata": {},
   "outputs": [
    {
     "data": {
      "image/png": "[encoded data removed]",
      "text/plain": [
       "<Figure size 800x575 with 2 Axes>"
      ]
     },
     "metadata": {},
     "output_type": "display_data"
    }
   ],
   "source": [
    "daily = bars.resample('1D').agg({'open': 'first', \n",
    "                                 'high': 'max', \n",
    "                                 'low': 'min', \n",
    "                                 'close': 'last'})\n",
    "mpf.plot(daily, type='ohlc', show_nontrading=False, warn_too_much_data=1000000)"
   ]
  },
  {
   "cell_type": "code",
   "execution_count": 42,
   "metadata": {},
   "outputs": [],
   "source": [
    "bars['date'] = bars.index.date\n",
    "bars = bars.merge(splits, left_on='date', right_index=True, how='left')\n",
    "bars[['open', 'high', 'low', 'close']] = bars[['open', 'high', 'low', 'close']].\\\n",
    "    multiply(bars[\"cumulative_adjustment\"], axis=\"index\")\n",
    "bars['close_original'] = bars['close']\n",
    "\n",
    "bars['turnover'] = bars['volume'] * bars['close_original']"
   ]
  },
  {
   "cell_type": "code",
   "execution_count": 43,
   "metadata": {},
   "outputs": [
    {
     "data": {
      "image/png": "[encoded data removed]",
      "text/plain": [
       "<Figure size 800x575 with 2 Axes>"
      ]
     },
     "metadata": {},
     "output_type": "display_data"
    }
   ],
   "source": [
    "daily = bars.resample('1D').agg({'open': 'first', \n",
    "                                 'high': 'max', \n",
    "                                 'low': 'min', \n",
    "                                 'close': 'last'})\n",
    "mpf.plot(daily, type='ohlc', show_nontrading=False, warn_too_much_data=1000000)"
   ]
  },
  {
   "cell_type": "markdown",
   "metadata": {},
   "source": [
    "Putting it all together in a function yields:"
   ]
  },
  {
   "cell_type": "code",
   "execution_count": 44,
   "metadata": {},
   "outputs": [],
   "source": [
    "def split_adjust(bars, ticker):\n",
    "    \"\"\"\n",
    "    Returns the split-adjusted bars and add a column with the original close price.,\n",
    "    If there is no split-data, the original bars are returned.\n",
    "    \"\"\"\n",
    "    bars['close_original'] = bars['close']\n",
    "    bars['turnover'] = bars['volume'] * bars['close_original']\n",
    "\n",
    "    if not os.path.isfile(DATA_PATH + f\"raw/adjustments/{ticker}.csv\"):\n",
    "        return bars[['open', 'high', 'low', 'close', 'close_original', 'turnover']]\n",
    "    \n",
    "    adjustments = pd.read_csv(DATA_PATH + f\"raw/adjustments/{ticker}.csv\", parse_dates=True, index_col=0)\n",
    "    adjustments.index = pd.to_datetime(adjustments.index).date\n",
    "    trading_dates_ticker = sorted(list(set(bars.index.date)))\n",
    "    adjustments = adjustments[(adjustments.index > trading_dates_ticker[0]) & (adjustments.index <= trading_dates_ticker[-1])]\n",
    "\n",
    "    splits = adjustments[adjustments.type == \"SPLIT\"].copy()\n",
    "\n",
    "    # Adjust for splits\n",
    "    if not splits.empty:\n",
    "        splits['cumulative_adjustment'] = splits['amount'][::-1].cumprod()\n",
    "        splits = splits.drop(columns=['type', 'subtype', 'amount'])\n",
    "        splits.index = splits.index.map(lambda day : max(d for d in trading_dates_ticker if d < day))\n",
    "        splits = splits.reindex(trading_dates_ticker) # Reindex using stock data \n",
    "        splits.cumulative_adjustment = splits.cumulative_adjustment.fillna(method='bfill').fillna(value=1) \n",
    "\n",
    "        # Merge adjustments with the bars and adjust\n",
    "        bars['date'] = bars.index.date\n",
    "        bars = bars.merge(splits, left_on='date', right_index=True, how='left')\n",
    "        bars['close_original'] = bars['close']\n",
    "        bars[['open', 'high', 'low', 'close']] = bars[['open', 'high', 'low', 'close']].\\\n",
    "            multiply(bars[\"cumulative_adjustment\"], axis=\"index\")\n",
    "\n",
    "        bars.drop(columns=['cumulative_adjustment', 'date'], inplace=True)\n",
    "\n",
    "    return bars[['open', 'high', 'low', 'close', 'close_original', 'turnover']]"
   ]
  },
  {
   "cell_type": "markdown",
   "metadata": {},
   "source": [
    "# 7.3 Dividend adjustment\n",
    "We use the [stockcharts](https://support.stockcharts.com/doku.php?id=policies:historical_price_data_is_adjusted_for_splits_dividends_and_distributions#:~:text=Dividend%20Adjustment%20Calculation%20Details%3A,then%20multiplied%20by%20this%20factor) or [Yahoo](https://help.yahoo.com/kb/SLN28256.html) method to adjust dividends, which mimics dividend reinvesting at the close of cum-dividend date. If at cum-dividend the price is 60, and at ex-dividend is 50 after a 10/share dividend, then all prices from cum-dividend and before are adjusted by the factor *1 - (dividend/cumdividend close)*. So the adjusted cum-dividend close will be 50. \n",
    "\n",
    "Note: Even though the close (which can differ on early close days) is used to calculate the adjustment factor, the post-market prices also have to be adjusted. "
   ]
  },
  {
   "cell_type": "code",
   "execution_count": 45,
   "metadata": {},
   "outputs": [
    {
     "data": {
      "text/html": [
       "<div>\n",
       "<style scoped>\n",
       "    .dataframe tbody tr th:only-of-type {\n",
       "        vertical-align: middle;\n",
       "    }\n",
       "\n",
       "    .dataframe tbody tr th {\n",
       "        vertical-align: top;\n",
       "    }\n",
       "\n",
       "    .dataframe thead th {\n",
       "        text-align: right;\n",
       "    }\n",
       "</style>\n",
       "<table border=\"1\" class=\"dataframe\">\n",
       "  <thead>\n",
       "    <tr style=\"text-align: right;\">\n",
       "      <th></th>\n",
       "      <th>type</th>\n",
       "      <th>subtype</th>\n",
       "      <th>amount</th>\n",
       "    </tr>\n",
       "  </thead>\n",
       "  <tbody>\n",
       "    <tr>\n",
       "      <th>2019-07-01</th>\n",
       "      <td>DIV</td>\n",
       "      <td>CD</td>\n",
       "      <td>0.165078</td>\n",
       "    </tr>\n",
       "    <tr>\n",
       "      <th>2019-08-01</th>\n",
       "      <td>DIV</td>\n",
       "      <td>CD</td>\n",
       "      <td>0.154507</td>\n",
       "    </tr>\n",
       "    <tr>\n",
       "      <th>2019-09-03</th>\n",
       "      <td>DIV</td>\n",
       "      <td>CD</td>\n",
       "      <td>0.168404</td>\n",
       "    </tr>\n",
       "  </tbody>\n",
       "</table>\n",
       "</div>"
      ],
      "text/plain": [
       "           type subtype    amount\n",
       "2019-07-01  DIV      CD  0.165078\n",
       "2019-08-01  DIV      CD  0.154507\n",
       "2019-09-03  DIV      CD  0.168404"
      ]
     },
     "execution_count": 45,
     "metadata": {},
     "output_type": "execute_result"
    }
   ],
   "source": [
    "split_adjusted_bars = split_adjust(pd.read_parquet(DATA_PATH + f\"raw/m1/BIL-2019-06-01.parquet\"), 'BIL')\n",
    "trading_dates_ticker = sorted(list(set(bars.index.date)))\n",
    "\n",
    "adjustments = pd.read_csv(DATA_PATH + f\"raw/adjustments/BIL.csv\", parse_dates=True, index_col=0)\n",
    "adjustments.index = pd.to_datetime(adjustments.index).date\n",
    "adjustments = adjustments[(adjustments.index > trading_dates_ticker[0]) & (adjustments.index <= trading_dates_ticker[-1])]\n",
    "\n",
    "split_adjusted_dividends = adjustments[adjustments.type == \"DIV\"].copy()\n",
    "split_adjusted_dividends.head(3)"
   ]
  },
  {
   "cell_type": "code",
   "execution_count": 46,
   "metadata": {},
   "outputs": [
    {
     "data": {
      "image/png": "[encoded data removed]",
      "text/plain": [
       "<Figure size 800x575 with 2 Axes>"
      ]
     },
     "metadata": {},
     "output_type": "display_data"
    }
   ],
   "source": [
    "daily = split_adjusted_bars.resample('1D').agg({'open': 'first', \n",
    "                                 'high': 'max', \n",
    "                                 'low': 'min', \n",
    "                                 'close': 'last'})\n",
    "daily.dropna(inplace=True)\n",
    "mpf.plot(daily, type='ohlc', show_nontrading=False, warn_too_much_data=1000000)"
   ]
  },
  {
   "cell_type": "markdown",
   "metadata": {},
   "source": [
    "Let's first get the cum_div_dates."
   ]
  },
  {
   "cell_type": "code",
   "execution_count": 47,
   "metadata": {},
   "outputs": [
    {
     "data": {
      "text/html": [
       "<div>\n",
       "<style scoped>\n",
       "    .dataframe tbody tr th:only-of-type {\n",
       "        vertical-align: middle;\n",
       "    }\n",
       "\n",
       "    .dataframe tbody tr th {\n",
       "        vertical-align: top;\n",
       "    }\n",
       "\n",
       "    .dataframe thead th {\n",
       "        text-align: right;\n",
       "    }\n",
       "</style>\n",
       "<table border=\"1\" class=\"dataframe\">\n",
       "  <thead>\n",
       "    <tr style=\"text-align: right;\">\n",
       "      <th></th>\n",
       "      <th>amount</th>\n",
       "      <th>cum_div_date</th>\n",
       "    </tr>\n",
       "    <tr>\n",
       "      <th>ex_div_date</th>\n",
       "      <th></th>\n",
       "      <th></th>\n",
       "    </tr>\n",
       "  </thead>\n",
       "  <tbody>\n",
       "    <tr>\n",
       "      <th>2019-07-01</th>\n",
       "      <td>0.165078</td>\n",
       "      <td>2019-06-28</td>\n",
       "    </tr>\n",
       "    <tr>\n",
       "      <th>2019-08-01</th>\n",
       "      <td>0.154507</td>\n",
       "      <td>2019-07-31</td>\n",
       "    </tr>\n",
       "    <tr>\n",
       "      <th>2019-09-03</th>\n",
       "      <td>0.168404</td>\n",
       "      <td>2019-08-30</td>\n",
       "    </tr>\n",
       "  </tbody>\n",
       "</table>\n",
       "</div>"
      ],
      "text/plain": [
       "               amount cum_div_date\n",
       "ex_div_date                       \n",
       "2019-07-01   0.165078   2019-06-28\n",
       "2019-08-01   0.154507   2019-07-31\n",
       "2019-09-03   0.168404   2019-08-30"
      ]
     },
     "execution_count": 47,
     "metadata": {},
     "output_type": "execute_result"
    }
   ],
   "source": [
    "split_adjusted_dividends['cum_div_date'] = split_adjusted_dividends.index.map(\\\n",
    "    lambda day : max(d for d in trading_dates_ticker if d < day))\n",
    "split_adjusted_dividends = split_adjusted_dividends[['amount', 'cum_div_date']]\n",
    "split_adjusted_dividends.index.names = ['ex_div_date']\n",
    "split_adjusted_dividends.head(3)"
   ]
  },
  {
   "cell_type": "code",
   "execution_count": 48,
   "metadata": {},
   "outputs": [],
   "source": [
    "# We need to get the ex-dividend closing price. Most days this is on 16:00 ET. Some days have early closes.\n",
    "market_hours = get_market_calendar('datetime')\n",
    "market_hours = market_hours[['regular_close']]"
   ]
  },
  {
   "cell_type": "code",
   "execution_count": 49,
   "metadata": {},
   "outputs": [],
   "source": [
    "split_adjusted_dividends.set_index(split_adjusted_dividends['cum_div_date'], inplace=True)\n",
    "split_adjusted_dividends['cum_div_datetime'] = market_hours.loc[split_adjusted_dividends.index, 'regular_close']\n",
    "\n",
    "# Sometimes the latest trade of the day is NOT the 15:59 bar exactly. \n",
    "# So we need to get the latest available price at or before the close.\n",
    "split_adjusted_dividends['cum_div_datetime'] = split_adjusted_dividends['cum_div_datetime'].apply(\\\n",
    "    lambda dt : (split_adjusted_bars[split_adjusted_bars.index <= dt].index).max())\n",
    "split_adjusted_dividends.set_index(split_adjusted_dividends['cum_div_datetime'], inplace=True)\n",
    "split_adjusted_dividends['cum_div_close'] = split_adjusted_bars.loc[split_adjusted_dividends['cum_div_datetime'], 'close']"
   ]
  },
  {
   "cell_type": "code",
   "execution_count": 50,
   "metadata": {},
   "outputs": [
    {
     "data": {
      "text/html": [
       "<div>\n",
       "<style scoped>\n",
       "    .dataframe tbody tr th:only-of-type {\n",
       "        vertical-align: middle;\n",
       "    }\n",
       "\n",
       "    .dataframe tbody tr th {\n",
       "        vertical-align: top;\n",
       "    }\n",
       "\n",
       "    .dataframe thead th {\n",
       "        text-align: right;\n",
       "    }\n",
       "</style>\n",
       "<table border=\"1\" class=\"dataframe\">\n",
       "  <thead>\n",
       "    <tr style=\"text-align: right;\">\n",
       "      <th></th>\n",
       "      <th>amount</th>\n",
       "      <th>cum_div_date</th>\n",
       "      <th>cum_div_datetime</th>\n",
       "      <th>cum_div_close</th>\n",
       "    </tr>\n",
       "    <tr>\n",
       "      <th>cum_div_datetime</th>\n",
       "      <th></th>\n",
       "      <th></th>\n",
       "      <th></th>\n",
       "      <th></th>\n",
       "    </tr>\n",
       "  </thead>\n",
       "  <tbody>\n",
       "    <tr>\n",
       "      <th>2019-06-28 15:59:00</th>\n",
       "      <td>0.165078</td>\n",
       "      <td>2019-06-28</td>\n",
       "      <td>2019-06-28 15:59:00</td>\n",
       "      <td>91.620</td>\n",
       "    </tr>\n",
       "    <tr>\n",
       "      <th>2019-07-31 15:59:00</th>\n",
       "      <td>0.154507</td>\n",
       "      <td>2019-07-31</td>\n",
       "      <td>2019-07-31 15:59:00</td>\n",
       "      <td>91.605</td>\n",
       "    </tr>\n",
       "    <tr>\n",
       "      <th>2019-08-30 15:59:00</th>\n",
       "      <td>0.168404</td>\n",
       "      <td>2019-08-30</td>\n",
       "      <td>2019-08-30 15:59:00</td>\n",
       "      <td>91.620</td>\n",
       "    </tr>\n",
       "  </tbody>\n",
       "</table>\n",
       "</div>"
      ],
      "text/plain": [
       "                       amount cum_div_date    cum_div_datetime  cum_div_close\n",
       "cum_div_datetime                                                             \n",
       "2019-06-28 15:59:00  0.165078   2019-06-28 2019-06-28 15:59:00         91.620\n",
       "2019-07-31 15:59:00  0.154507   2019-07-31 2019-07-31 15:59:00         91.605\n",
       "2019-08-30 15:59:00  0.168404   2019-08-30 2019-08-30 15:59:00         91.620"
      ]
     },
     "execution_count": 50,
     "metadata": {},
     "output_type": "execute_result"
    }
   ],
   "source": [
    "split_adjusted_dividends.head(3)"
   ]
  },
  {
   "cell_type": "code",
   "execution_count": 51,
   "metadata": {},
   "outputs": [],
   "source": [
    "split_adjusted_dividends['adjustment'] = 1 - (split_adjusted_dividends['amount'] / split_adjusted_dividends['cum_div_close'])\n",
    "split_adjusted_dividends['cumulative_adjustment'] = split_adjusted_dividends['adjustment'][::-1].cumprod()"
   ]
  },
  {
   "cell_type": "code",
   "execution_count": 52,
   "metadata": {},
   "outputs": [
    {
     "data": {
      "text/html": [
       "<div>\n",
       "<style scoped>\n",
       "    .dataframe tbody tr th:only-of-type {\n",
       "        vertical-align: middle;\n",
       "    }\n",
       "\n",
       "    .dataframe tbody tr th {\n",
       "        vertical-align: top;\n",
       "    }\n",
       "\n",
       "    .dataframe thead th {\n",
       "        text-align: right;\n",
       "    }\n",
       "</style>\n",
       "<table border=\"1\" class=\"dataframe\">\n",
       "  <thead>\n",
       "    <tr style=\"text-align: right;\">\n",
       "      <th></th>\n",
       "      <th>amount</th>\n",
       "      <th>cum_div_date</th>\n",
       "      <th>cum_div_datetime</th>\n",
       "      <th>cum_div_close</th>\n",
       "      <th>adjustment</th>\n",
       "      <th>cumulative_adjustment</th>\n",
       "    </tr>\n",
       "    <tr>\n",
       "      <th>cum_div_datetime</th>\n",
       "      <th></th>\n",
       "      <th></th>\n",
       "      <th></th>\n",
       "      <th></th>\n",
       "      <th></th>\n",
       "      <th></th>\n",
       "    </tr>\n",
       "  </thead>\n",
       "  <tbody>\n",
       "    <tr>\n",
       "      <th>2019-06-28 15:59:00</th>\n",
       "      <td>0.165078</td>\n",
       "      <td>2019-06-28</td>\n",
       "      <td>2019-06-28 15:59:00</td>\n",
       "      <td>91.620</td>\n",
       "      <td>0.998198</td>\n",
       "      <td>0.918868</td>\n",
       "    </tr>\n",
       "    <tr>\n",
       "      <th>2019-07-31 15:59:00</th>\n",
       "      <td>0.154507</td>\n",
       "      <td>2019-07-31</td>\n",
       "      <td>2019-07-31 15:59:00</td>\n",
       "      <td>91.605</td>\n",
       "      <td>0.998313</td>\n",
       "      <td>0.920527</td>\n",
       "    </tr>\n",
       "    <tr>\n",
       "      <th>2019-08-30 15:59:00</th>\n",
       "      <td>0.168404</td>\n",
       "      <td>2019-08-30</td>\n",
       "      <td>2019-08-30 15:59:00</td>\n",
       "      <td>91.620</td>\n",
       "      <td>0.998162</td>\n",
       "      <td>0.922082</td>\n",
       "    </tr>\n",
       "  </tbody>\n",
       "</table>\n",
       "</div>"
      ],
      "text/plain": [
       "                       amount cum_div_date    cum_div_datetime  cum_div_close  \\\n",
       "cum_div_datetime                                                                \n",
       "2019-06-28 15:59:00  0.165078   2019-06-28 2019-06-28 15:59:00         91.620   \n",
       "2019-07-31 15:59:00  0.154507   2019-07-31 2019-07-31 15:59:00         91.605   \n",
       "2019-08-30 15:59:00  0.168404   2019-08-30 2019-08-30 15:59:00         91.620   \n",
       "\n",
       "                     adjustment  cumulative_adjustment  \n",
       "cum_div_datetime                                        \n",
       "2019-06-28 15:59:00    0.998198               0.918868  \n",
       "2019-07-31 15:59:00    0.998313               0.920527  \n",
       "2019-08-30 15:59:00    0.998162               0.922082  "
      ]
     },
     "execution_count": 52,
     "metadata": {},
     "output_type": "execute_result"
    }
   ],
   "source": [
    "split_adjusted_dividends.head(3)"
   ]
  },
  {
   "cell_type": "code",
   "execution_count": 53,
   "metadata": {},
   "outputs": [],
   "source": [
    "split_adjusted_dividends.set_index(split_adjusted_dividends['cum_div_date'], inplace=True, drop=True)\n",
    "dividend_adjustments = split_adjusted_dividends[['cumulative_adjustment']]\n",
    "\n",
    "# Get dividend adjustments for every trading day (same procedure as split adjustments)\n",
    "dividend_adjustments = dividend_adjustments.reindex(trading_dates_ticker) # Reindex using stock data \n",
    "dividend_adjustments['cumulative_adjustment'] = dividend_adjustments['cumulative_adjustment'].fillna(method='bfill').fillna(value=1) # Backward fill and fill ones"
   ]
  },
  {
   "cell_type": "code",
   "execution_count": 54,
   "metadata": {},
   "outputs": [
    {
     "data": {
      "text/html": [
       "<div>\n",
       "<style scoped>\n",
       "    .dataframe tbody tr th:only-of-type {\n",
       "        vertical-align: middle;\n",
       "    }\n",
       "\n",
       "    .dataframe tbody tr th {\n",
       "        vertical-align: top;\n",
       "    }\n",
       "\n",
       "    .dataframe thead th {\n",
       "        text-align: right;\n",
       "    }\n",
       "</style>\n",
       "<table border=\"1\" class=\"dataframe\">\n",
       "  <thead>\n",
       "    <tr style=\"text-align: right;\">\n",
       "      <th></th>\n",
       "      <th>cumulative_adjustment</th>\n",
       "    </tr>\n",
       "    <tr>\n",
       "      <th>cum_div_date</th>\n",
       "      <th></th>\n",
       "    </tr>\n",
       "  </thead>\n",
       "  <tbody>\n",
       "    <tr>\n",
       "      <th>2019-06-03</th>\n",
       "      <td>0.918868</td>\n",
       "    </tr>\n",
       "    <tr>\n",
       "      <th>2019-06-04</th>\n",
       "      <td>0.918868</td>\n",
       "    </tr>\n",
       "    <tr>\n",
       "      <th>2019-06-05</th>\n",
       "      <td>0.918868</td>\n",
       "    </tr>\n",
       "  </tbody>\n",
       "</table>\n",
       "</div>"
      ],
      "text/plain": [
       "              cumulative_adjustment\n",
       "cum_div_date                       \n",
       "2019-06-03                 0.918868\n",
       "2019-06-04                 0.918868\n",
       "2019-06-05                 0.918868"
      ]
     },
     "execution_count": 54,
     "metadata": {},
     "output_type": "execute_result"
    }
   ],
   "source": [
    "dividend_adjustments.head(3)"
   ]
  },
  {
   "cell_type": "code",
   "execution_count": 55,
   "metadata": {},
   "outputs": [],
   "source": [
    "# Same procedure as with split adjustments\n",
    "all_adjusted_bars = split_adjusted_bars.copy()\n",
    "all_adjusted_bars['date'] = all_adjusted_bars.index.date\n",
    "all_adjusted_bars = all_adjusted_bars.merge(dividend_adjustments, left_on='date', right_index=True, how='left')\n",
    "all_adjusted_bars[['open', 'high', 'low', 'close']] = all_adjusted_bars[['open', 'high', 'low', 'close']].\\\n",
    "    multiply(all_adjusted_bars[\"cumulative_adjustment\"], axis=\"index\")\n",
    "all_adjusted_bars.drop(columns=['cumulative_adjustment', 'date'], inplace=True)\n",
    "\n",
    "# Round to 4 decimals\n",
    "all_adjusted_bars = round(all_adjusted_bars, 4)"
   ]
  },
  {
   "cell_type": "code",
   "execution_count": 56,
   "metadata": {},
   "outputs": [
    {
     "data": {
      "image/png": "[encoded data removed]",
      "text/plain": [
       "<Figure size 800x575 with 2 Axes>"
      ]
     },
     "metadata": {},
     "output_type": "display_data"
    }
   ],
   "source": [
    "daily = all_adjusted_bars.resample('1D').agg({'open': 'first', \n",
    "                                 'high': 'max', \n",
    "                                 'low': 'min', \n",
    "                                 'close': 'last'})\n",
    "daily.dropna(inplace=True)\n",
    "mpf.plot(daily, type='ohlc', show_nontrading=False, warn_too_much_data=1000000)"
   ]
  },
  {
   "cell_type": "markdown",
   "metadata": {},
   "source": [
    "Putting it all in a function yields:"
   ]
  },
  {
   "cell_type": "code",
   "execution_count": 57,
   "metadata": {},
   "outputs": [],
   "source": [
    "def div_adjust(split_adjusted_bars, ticker):\n",
    "    \"\"\"\n",
    "    Dividend-adjust the 1-minute bars.\n",
    "    \"\"\"\n",
    "    if not os.path.isfile(DATA_PATH + f\"raw/adjustments/{ticker}.csv\"):\n",
    "        return split_adjusted_bars\n",
    "    \n",
    "    trading_dates_ticker = sorted(list(set(split_adjusted_bars.index.date)))\n",
    "\n",
    "    adjustments = pd.read_csv(DATA_PATH + f\"raw/adjustments/{ticker}.csv\", parse_dates=True, index_col=0)\n",
    "    adjustments.index = pd.to_datetime(adjustments.index).date\n",
    "    adjustments = adjustments[(adjustments.index > trading_dates_ticker[0]) & \\\n",
    "                                (adjustments.index <= trading_dates_ticker[-1])]\n",
    "    split_adjusted_dividends = adjustments[adjustments.type == \"DIV\"].copy()\n",
    "    \n",
    "    all_adjusted_bars = split_adjusted_bars.copy()\n",
    "\n",
    "    if not split_adjusted_dividends.empty:\n",
    "        # Get cum div date\n",
    "        split_adjusted_dividends['cum_div_date'] = split_adjusted_dividends.index.map(\\\n",
    "            lambda day : max(d for d in trading_dates_ticker if d < day))\n",
    "        \n",
    "        split_adjusted_dividends = split_adjusted_dividends[['amount', 'cum_div_date']]\n",
    "        split_adjusted_dividends.index.names = ['ex_div_date']\n",
    "\n",
    "        # We need to get the ex-dividend closing price. Most days this is on 16:00 ET. Some days have early closes.\n",
    "        market_hours = get_market_calendar('datetime')\n",
    "        market_hours = market_hours[['regular_close']]\n",
    "\n",
    "        split_adjusted_dividends.set_index(split_adjusted_dividends['cum_div_date'], inplace=True)\n",
    "        split_adjusted_dividends['cum_div_datetime'] = market_hours.loc[split_adjusted_dividends.index, 'regular_close']\n",
    "\n",
    "        # Sometimes the latest trade of the day is NOT the 15:59 bar exactly. \n",
    "        # So we need to get the latest available price at or before the close.\n",
    "        split_adjusted_dividends['cum_div_datetime'] = split_adjusted_dividends['cum_div_datetime'].apply(\\\n",
    "            lambda dt : (split_adjusted_bars[split_adjusted_bars.index <= dt].index).max())\n",
    "        split_adjusted_dividends.set_index(split_adjusted_dividends['cum_div_datetime'], inplace=True)\n",
    "        split_adjusted_dividends['cum_div_close'] = split_adjusted_bars.loc[split_adjusted_dividends['cum_div_datetime'], 'close']\n",
    "\n",
    "        # Calculate adjustments\n",
    "        split_adjusted_dividends['adjustment'] = 1 - (split_adjusted_dividends['amount'] / split_adjusted_dividends['cum_div_close'])\n",
    "        split_adjusted_dividends['cumulative_adjustment'] = split_adjusted_dividends['adjustment'][::-1].cumprod()\n",
    "\n",
    "        split_adjusted_dividends.set_index(split_adjusted_dividends['cum_div_date'], inplace=True, drop=True)\n",
    "        dividend_adjustments = split_adjusted_dividends[['cumulative_adjustment']]\n",
    "\n",
    "        dividend_adjustments = dividend_adjustments.reindex(trading_dates_ticker) # Reindex using stock data \n",
    "        dividend_adjustments['cumulative_adjustment'] = dividend_adjustments['cumulative_adjustment'].\\\n",
    "            fillna(method='bfill').fillna(value=1) # Backward fill and fill ones\n",
    "\n",
    "        # Same procedure as with split adjustments\n",
    "        all_adjusted_bars['date'] = all_adjusted_bars.index.date\n",
    "        all_adjusted_bars = all_adjusted_bars.merge(dividend_adjustments, left_on='date', right_index=True, how='left')\n",
    "        all_adjusted_bars[['open', 'high', 'low', 'close']] = all_adjusted_bars[['open', 'high', 'low', 'close']].\\\n",
    "            multiply(all_adjusted_bars[\"cumulative_adjustment\"], axis=\"index\")\n",
    "\n",
    "        all_adjusted_bars.drop(columns=['cumulative_adjustment', 'date'], inplace=True)\n",
    "\n",
    "    # Round to 4 decimals\n",
    "    return round(all_adjusted_bars, 4)"
   ]
  },
  {
   "cell_type": "markdown",
   "metadata": {},
   "source": [
    "# 7.4 Reindexing and NA values"
   ]
  },
  {
   "cell_type": "markdown",
   "metadata": {},
   "source": [
    "When reindexing we need to get a list of all minutes. Since we will also have to do this in the backtester (which loops over the minutes), we will store it and create a function to retrieve it."
   ]
  },
  {
   "cell_type": "code",
   "execution_count": 58,
   "metadata": {},
   "outputs": [],
   "source": [
    "market_hours = get_market_calendar()\n",
    "\n",
    "# Get all minutes from trading days\n",
    "trading_datetimes = pd.date_range(start=market_hours.index[0], \\\n",
    "                                  end=datetime.combine(market_hours.index[-1], time(23, 59)), freq='min', name='datetime')\n",
    "trading_datetimes[(trading_datetimes.time >= time(4, 0)) & (trading_datetimes.time <= time(19, 59))]\n",
    "\n",
    "# Filter to all trading minutes in trading days\n",
    "trading_datetimes = trading_datetimes[trading_datetimes.to_series().dt.date.isin(market_hours.index)]\n",
    "trading_datetimes = trading_datetimes[(trading_datetimes.time >= time(4)) & (trading_datetimes.time <= time(19, 59))] \n",
    "\n",
    "# Remove the minutes in early closes (from 17:00 to 19:59 there is no post-market on early close days)\n",
    "early_closes = market_hours[market_hours['postmarket_close'] != time(19, 59)]\n",
    "for day, early_close in early_closes.iterrows():\n",
    "    postmarket_close = early_close['postmarket_close']\n",
    "    trading_datetimes = trading_datetimes[~((trading_datetimes > datetime.combine(day, early_close['postmarket_close'])) \\\n",
    "                                            & (trading_datetimes <= datetime.combine(day, time(19, 59)) ) )] \n",
    "\n",
    "pd.DataFrame(index=trading_datetimes).to_parquet(DATA_PATH + 'market/trading_minutes.parquet')"
   ]
  },
  {
   "cell_type": "code",
   "execution_count": 59,
   "metadata": {},
   "outputs": [],
   "source": [
    "from functools import lru_cache\n",
    "\n",
    "# This decorator ensures that when we call a function the output is stored for future calls.\n",
    "# This is useful if executing the function is expensive and gets called a lot.\n",
    "@lru_cache\n",
    "def get_market_minutes():\n",
    "    trading_datetimes = pd.read_parquet(DATA_PATH + 'market/trading_minutes.parquet')\n",
    "    return pd.to_datetime(trading_datetimes.index)"
   ]
  },
  {
   "cell_type": "code",
   "execution_count": 60,
   "metadata": {},
   "outputs": [],
   "source": [
    "def reindex_and_fill(bars):\n",
    "    # Get the days the ticker is trading\n",
    "    ticker_days = sorted(list(set(bars.index.date)))\n",
    "    market_datetimes = get_market_minutes()\n",
    "    ticker_datetimes = market_datetimes[(market_datetimes.date >= ticker_days[0]) & (market_datetimes.date <= ticker_days[-1])]\n",
    "\n",
    "    # Reindex\n",
    "    bars = bars.reindex(ticker_datetimes)\n",
    "\n",
    "    # Fill NA values\n",
    "    bars['tradeable'] = ~bars['turnover'].isna()\n",
    "    bars['turnover'] = bars['turnover'].fillna(value=0) \n",
    "\n",
    "    bars[\"close\"] = bars[\"close\"].fillna(method=\"ffill\")\n",
    "    bars[\"close_original\"] = bars[\"close_original\"].fillna(method=\"ffill\")\n",
    "    bars[\"open\"] = bars[\"open\"].fillna(bars[\"close\"])\n",
    "    bars[\"low\"] = bars[\"low\"].fillna(bars[\"close\"])\n",
    "    bars[\"high\"] = bars[\"high\"].fillna(bars[\"close\"])\n",
    "\n",
    "    # Only affects the very start. Else backfill shouldn't be used because of look-ahead bias.\n",
    "    bars[\"open\"] = bars[\"open\"].fillna(method=\"bfill\")\n",
    "    \n",
    "    bars[\"close\"] = bars[\"close\"].fillna(bars[\"open\"])\n",
    "    bars[\"close_original\"] = bars[\"close_original\"].fillna(method='bfill') # Technically we should get the open_original, but I am not going to bother with the untradeable bars at the start that will never be used.\n",
    "    bars[\"low\"] = bars[\"low\"].fillna(bars[\"open\"])\n",
    "    bars[\"high\"] = bars[\"high\"].fillna(bars[\"open\"])\n",
    "    \n",
    "    return bars"
   ]
  },
  {
   "cell_type": "code",
   "execution_count": 61,
   "metadata": {},
   "outputs": [
    {
     "data": {
      "text/html": [
       "<div>\n",
       "<style scoped>\n",
       "    .dataframe tbody tr th:only-of-type {\n",
       "        vertical-align: middle;\n",
       "    }\n",
       "\n",
       "    .dataframe tbody tr th {\n",
       "        vertical-align: top;\n",
       "    }\n",
       "\n",
       "    .dataframe thead th {\n",
       "        text-align: right;\n",
       "    }\n",
       "</style>\n",
       "<table border=\"1\" class=\"dataframe\">\n",
       "  <thead>\n",
       "    <tr style=\"text-align: right;\">\n",
       "      <th></th>\n",
       "      <th>open</th>\n",
       "      <th>high</th>\n",
       "      <th>low</th>\n",
       "      <th>close</th>\n",
       "      <th>close_original</th>\n",
       "      <th>turnover</th>\n",
       "      <th>tradeable</th>\n",
       "    </tr>\n",
       "    <tr>\n",
       "      <th>datetime</th>\n",
       "      <th></th>\n",
       "      <th></th>\n",
       "      <th></th>\n",
       "      <th></th>\n",
       "      <th></th>\n",
       "      <th></th>\n",
       "      <th></th>\n",
       "    </tr>\n",
       "  </thead>\n",
       "  <tbody>\n",
       "    <tr>\n",
       "      <th>2019-06-03 04:00:00</th>\n",
       "      <td>84.15</td>\n",
       "      <td>84.15</td>\n",
       "      <td>84.15</td>\n",
       "      <td>84.15</td>\n",
       "      <td>91.58</td>\n",
       "      <td>88374.7</td>\n",
       "      <td>True</td>\n",
       "    </tr>\n",
       "    <tr>\n",
       "      <th>2019-06-03 04:01:00</th>\n",
       "      <td>84.15</td>\n",
       "      <td>84.15</td>\n",
       "      <td>84.15</td>\n",
       "      <td>84.15</td>\n",
       "      <td>91.58</td>\n",
       "      <td>0.0</td>\n",
       "      <td>False</td>\n",
       "    </tr>\n",
       "    <tr>\n",
       "      <th>2019-06-03 04:02:00</th>\n",
       "      <td>84.15</td>\n",
       "      <td>84.15</td>\n",
       "      <td>84.15</td>\n",
       "      <td>84.15</td>\n",
       "      <td>91.58</td>\n",
       "      <td>0.0</td>\n",
       "      <td>False</td>\n",
       "    </tr>\n",
       "  </tbody>\n",
       "</table>\n",
       "</div>"
      ],
      "text/plain": [
       "                      open   high    low  close  close_original  turnover  \\\n",
       "datetime                                                                    \n",
       "2019-06-03 04:00:00  84.15  84.15  84.15  84.15           91.58   88374.7   \n",
       "2019-06-03 04:01:00  84.15  84.15  84.15  84.15           91.58       0.0   \n",
       "2019-06-03 04:02:00  84.15  84.15  84.15  84.15           91.58       0.0   \n",
       "\n",
       "                     tradeable  \n",
       "datetime                        \n",
       "2019-06-03 04:00:00       True  \n",
       "2019-06-03 04:01:00      False  \n",
       "2019-06-03 04:02:00      False  "
      ]
     },
     "execution_count": 61,
     "metadata": {},
     "output_type": "execute_result"
    }
   ],
   "source": [
    "bars = pd.read_parquet(f\"{DATA_PATH}raw/m1/BIL-2019-06-01.parquet\")\n",
    "split_adjusted_bars = split_adjust(bars, \"BIL\")\n",
    "all_adjusted_bars = div_adjust(split_adjusted_bars, \"BIL\")\n",
    "reindex_and_fill(all_adjusted_bars).head(3)"
   ]
  },
  {
   "cell_type": "markdown",
   "metadata": {},
   "source": [
    "# 7.5 Halt detection\n",
    "**I decided to skip halt detection, as the flag may not be very useful as most of the time it is just an inverse of 'tradeable'. Nevertheless, I will not delete this section of code to show how it is done.**\n",
    "\n",
    "We cannot detect all halts without tick data. However we are not interested in pre- and post-market halts anyways. We care about the liquid stocks that are halted intraday and have decent volume. Halts take a minimum of 5 minutes. This means at least 4 OHLC 1-minutes bars with no data, because a halt can start *during* the OHLC bar.\n",
    "\n",
    "For each stock where the turnover is more than 2.5 million dollars we will check whether there are 4 empty bars during regular hours. Illiquid stocks do not trade all minutes and may be incorrectly flagged. This happens quite often.\n",
    "\n",
    "The best way to do this is to flag all 'suspicious' empty periods and check with tick data if the quotes dissapear. However I do not yet have access to tick data. When we have tick data, we can just loop over the minutes with a 'halted' flag True and check if there exist quotes. "
   ]
  },
  {
   "cell_type": "code",
   "execution_count": 62,
   "metadata": {},
   "outputs": [],
   "source": [
    "# bars = pd.read_parquet(DATA_PATH + f\"raw/m1/TOP-2022-06-01.parquet\")\n",
    "# bars = split_adjust(bars, 'TOP')\n",
    "# bars = reindex_and_fill(bars)\n",
    "# bars = bars[['open', 'high', 'low', 'close', 'volume', 'tradeable']]\n",
    "# dump = bars[(bars.index >= datetime(2023, 5, 4, hour=10, minute=45)) & (bars.index <= datetime(2023, 5, 4, hour=11, minute=8))].copy()\n",
    "\n",
    "# mpf.plot(dump, type='candle', style='yahoo', show_nontrading=False, title=\"TOP intraday halts on 2023-05-04\")"
   ]
  },
  {
   "cell_type": "markdown",
   "metadata": {},
   "source": [
    "It is handy to first create a function to remove the non-regular market hours from the minute bars."
   ]
  },
  {
   "cell_type": "code",
   "execution_count": 63,
   "metadata": {},
   "outputs": [],
   "source": [
    "def remove_extended_hours(bars):\n",
    "    \"\"\"\n",
    "    Remove extended hours.\n",
    "    \"\"\"\n",
    "    # Remove non-regular trading minutes. Only the post-market hours of early closes remain.\n",
    "    bars = bars.between_time(\"9:30\", \"15:59\")\n",
    "\n",
    "    # Remove early close post-market bars\n",
    "    market_hours = get_market_calendar()\n",
    "    early_closes = market_hours[market_hours[\"regular_close\"] != time(15, 59)]\n",
    "    for date_, early_close in early_closes.iterrows():\n",
    "        bars = bars[\n",
    "            ~(\n",
    "                (bars.index > datetime.combine(date_, early_close[\"regular_close\"]))\n",
    "                & (bars.index <= datetime.combine(date_, time(19, 59)))\n",
    "            )\n",
    "        ]\n",
    "\n",
    "    return bars"
   ]
  },
  {
   "cell_type": "code",
   "execution_count": 64,
   "metadata": {},
   "outputs": [],
   "source": [
    "# def flag_halts(bars):\n",
    "#     \"\"\"\n",
    "#     Only flags intraday halts for stocks >2.5M turnover. May get false-positive if there is low volume.\n",
    "#     \"\"\"\n",
    "#     bars_halted = remove_extended_hours(bars)\n",
    "#     bars_halted = bars_halted[[\"close\", \"turnover\", \"tradeable\"]]\n",
    "    \n",
    "#     # Filter for volume\n",
    "#     # To reduce false-positives, also filter for stocks that had at least 240 minutes of trading during regular hours.\n",
    "#     daily = bars_halted[['turnover', 'close', 'tradeable']].resample('D').agg({'turnover': 'sum', 'close': 'last', 'tradeable': 'sum'})\n",
    "#     daily = daily[(daily['turnover'] > 2_500_000) & (daily['tradeable'] > 240)]\n",
    "#     has_volume = daily.index.date\n",
    "\n",
    "#     bars_halted['date'] = bars_halted.index.date\n",
    "#     bars_halted = bars_halted[bars_halted['date'].isin(has_volume)]\n",
    "\n",
    "#     # Flag if 4x untradeable one after another. Only the 4-th (and lager) occasion is flagged.\n",
    "#     bars_halted['halted_for_4+'] = (~bars_halted[\"tradeable\"]).rolling(4).sum() >= 4\n",
    "#     # Also flag the 1st, 2nd and 3rd occasion.\n",
    "#     bars_halted['halted'] = bars_halted['halted_for_4+'].replace(to_replace=False, method='bfill', limit=3)\n",
    "\n",
    "#     bars = bars.merge(bars_halted['halted'], how='left', left_index=True, right_index=True)\n",
    "#     bars['halted'] = bars['halted'].fillna(False)\n",
    "#     return bars"
   ]
  },
  {
   "cell_type": "code",
   "execution_count": 65,
   "metadata": {},
   "outputs": [],
   "source": [
    "# bars = flag_halts(bars)\n",
    "# bars[(bars.index >= datetime(2023, 5, 4, hour=10, minute=49)) & (bars.index <= datetime(2023, 5, 4, hour=11, minute=0))]"
   ]
  },
  {
   "cell_type": "markdown",
   "metadata": {},
   "source": [
    "# 7.6 Putting it all in a loop"
   ]
  },
  {
   "cell_type": "code",
   "execution_count": 77,
   "metadata": {},
   "outputs": [],
   "source": [
    "tickers_v3 = get_tickers(v=3)\n",
    "for index, row in tickers_v3.iterrows():\n",
    "    id = row['ID']\n",
    "    ticker = row[\"ticker\"]\n",
    "    \n",
    "    try:\n",
    "        bars = pd.read_parquet(f\"{DATA_PATH}raw/m1/{id}.parquet\")\n",
    "    except FileNotFoundError:\n",
    "        print(f\"There is no data for {id}\")\n",
    "        continue\n",
    "\n",
    "    # ADJUSTING\n",
    "    split_adjusted_bars = split_adjust(bars, ticker)\n",
    "    all_adjusted = div_adjust(split_adjusted_bars, ticker)\n",
    "\n",
    "    # FORWARD FILLING\n",
    "    all_adjusted = reindex_and_fill(all_adjusted)\n",
    "\n",
    "    # ROUNDING: TO 4 DECIMALS, TURNOVER TO INT\n",
    "    all_adjusted = round(all_adjusted, 4)\n",
    "    all_adjusted['turnover'] = all_adjusted['turnover'].astype(int)\n",
    "    \n",
    "    all_adjusted.to_parquet(DATA_PATH + f\"processed/m1/{id}.parquet\", engine=\"fastparquet\", row_group_offsets=25000)"
   ]
  },
  {
   "cell_type": "markdown",
   "metadata": {},
   "source": [
    "Later on, I got an error which was caused by stock prices being negative. This is caused by some special events (with a dividend type of 'SC'), where Polygon has already adjusted for it... We avoid this problem by manually deleting the dividend in the adjustment:\n",
    "* GEN: 2020-02-03\n",
    "* LIAN: 2024-02-26"
   ]
  },
  {
   "cell_type": "markdown",
   "metadata": {},
   "source": [
    "# 7.7 Updating the ticker list\n",
    "Now that we have the data, we can add two columns <code>start_data</code> and <code>end_data</code>."
   ]
  },
  {
   "cell_type": "code",
   "execution_count": null,
   "metadata": {},
   "outputs": [],
   "source": [
    "import pyarrow.parquet as pq\n",
    "\n",
    "tickers_v3 = get_tickers(v=3)\n",
    "tickers_v3[\"start_data\"] = np.nan\n",
    "tickers_v3[\"end_data\"] = np.nan\n",
    "\n",
    "for index, row in tickers_v3.iterrows():\n",
    "    id = row['ID']\n",
    "    try:\n",
    "        dataset = pq.ParquetFile(DATA_PATH + f\"processed/m1/{id}.parquet\")\n",
    "    except FileNotFoundError:\n",
    "        print(f\"There is no data for {id}\")\n",
    "        continue\n",
    "\n",
    "    # Reading metadata (statistics) of first and last row group. This avoids reading the entire file.\n",
    "    # Reading everything from the datetime column and getting first/last row took 8 minutes. This took less than 50 sec.\n",
    "    metadata_first_row_group = dataset.metadata.row_group(0)\n",
    "    metadata_last_row_group = dataset.metadata.row_group(dataset.num_row_groups-1)\n",
    "    # Retrieve statistics\n",
    "    min_date = metadata_first_row_group.column(0).statistics.min\n",
    "    max_date = metadata_last_row_group.column(0).statistics.max\n",
    "    # Convert to date\n",
    "    start_data = min_date.to_pydatetime().date()\n",
    "    end_data = max_date.to_pydatetime().date()\n",
    "    \n",
    "    tickers_v3.loc[tickers_v3['ID'] == id, [\"start_data\", \"end_data\"] ] = [start_data, end_data]\n",
    "    print(index)\n",
    "\n",
    "tickers_v3.reset_index(inplace=True)\n",
    "tickers_v3[[\"ID\", \"ticker\", \"name\", \"active\", \"start_date\", \"end_date\", \"start_data\", \"end_data\", \"type\", \"cik\", \"composite_figi\"]].to_csv(\"../data/tickers_v4.csv\")"
   ]
  },
  {
   "cell_type": "code",
   "execution_count": 68,
   "metadata": {},
   "outputs": [
    {
     "data": {
      "text/html": [
       "<div>\n",
       "<style scoped>\n",
       "    .dataframe tbody tr th:only-of-type {\n",
       "        vertical-align: middle;\n",
       "    }\n",
       "\n",
       "    .dataframe tbody tr th {\n",
       "        vertical-align: top;\n",
       "    }\n",
       "\n",
       "    .dataframe thead th {\n",
       "        text-align: right;\n",
       "    }\n",
       "</style>\n",
       "<table border=\"1\" class=\"dataframe\">\n",
       "  <thead>\n",
       "    <tr style=\"text-align: right;\">\n",
       "      <th></th>\n",
       "      <th>ID</th>\n",
       "      <th>ticker</th>\n",
       "      <th>name</th>\n",
       "      <th>active</th>\n",
       "      <th>start_date</th>\n",
       "      <th>end_date</th>\n",
       "      <th>start_data</th>\n",
       "      <th>end_data</th>\n",
       "      <th>type</th>\n",
       "    </tr>\n",
       "  </thead>\n",
       "  <tbody>\n",
       "    <tr>\n",
       "      <th>0</th>\n",
       "      <td>A-2019-06-03</td>\n",
       "      <td>A</td>\n",
       "      <td>Agilent Technologies Inc.</td>\n",
       "      <td>True</td>\n",
       "      <td>2019-06-03</td>\n",
       "      <td>2024-03-01</td>\n",
       "      <td>2019-06-03</td>\n",
       "      <td>2024-03-01</td>\n",
       "      <td>CS</td>\n",
       "    </tr>\n",
       "    <tr>\n",
       "      <th>1</th>\n",
       "      <td>AA-2019-06-03</td>\n",
       "      <td>AA</td>\n",
       "      <td>Alcoa Corporation</td>\n",
       "      <td>True</td>\n",
       "      <td>2019-06-03</td>\n",
       "      <td>2024-03-01</td>\n",
       "      <td>2019-06-03</td>\n",
       "      <td>2024-03-01</td>\n",
       "      <td>CS</td>\n",
       "    </tr>\n",
       "    <tr>\n",
       "      <th>2</th>\n",
       "      <td>AABA-2019-06-03</td>\n",
       "      <td>AABA</td>\n",
       "      <td>Altaba Inc. Common Stock</td>\n",
       "      <td>False</td>\n",
       "      <td>2019-06-03</td>\n",
       "      <td>2019-10-04</td>\n",
       "      <td>2019-06-03</td>\n",
       "      <td>2019-10-02</td>\n",
       "      <td>CS</td>\n",
       "    </tr>\n",
       "  </tbody>\n",
       "</table>\n",
       "</div>"
      ],
      "text/plain": [
       "                ID ticker                       name  active  start_date  \\\n",
       "0     A-2019-06-03      A  Agilent Technologies Inc.    True  2019-06-03   \n",
       "1    AA-2019-06-03     AA          Alcoa Corporation    True  2019-06-03   \n",
       "2  AABA-2019-06-03   AABA   Altaba Inc. Common Stock   False  2019-06-03   \n",
       "\n",
       "     end_date  start_data    end_data type  \n",
       "0  2024-03-01  2019-06-03  2024-03-01   CS  \n",
       "1  2024-03-01  2019-06-03  2024-03-01   CS  \n",
       "2  2019-10-04  2019-06-03  2019-10-02   CS  "
      ]
     },
     "execution_count": 68,
     "metadata": {},
     "output_type": "execute_result"
    }
   ],
   "source": [
    "tickers_v4 = get_tickers(v=4)\n",
    "tickers_v4['start_data'] = pd.to_datetime(tickers_v4['start_data']).dt.date\n",
    "tickers_v4['end_data'] = pd.to_datetime(tickers_v4['end_data']).dt.date\n",
    "tickers_v4.iloc[:3, :9].head(3)"
   ]
  },
  {
   "cell_type": "markdown",
   "metadata": {},
   "source": [
    "Some stocks have zero data. There are the tickers with only ghost days. We can safely remove those."
   ]
  },
  {
   "cell_type": "code",
   "execution_count": 69,
   "metadata": {},
   "outputs": [
    {
     "name": "stdout",
     "output_type": "stream",
     "text": [
      "48\n"
     ]
    },
    {
     "data": {
      "text/html": [
       "<div>\n",
       "<style scoped>\n",
       "    .dataframe tbody tr th:only-of-type {\n",
       "        vertical-align: middle;\n",
       "    }\n",
       "\n",
       "    .dataframe tbody tr th {\n",
       "        vertical-align: top;\n",
       "    }\n",
       "\n",
       "    .dataframe thead th {\n",
       "        text-align: right;\n",
       "    }\n",
       "</style>\n",
       "<table border=\"1\" class=\"dataframe\">\n",
       "  <thead>\n",
       "    <tr style=\"text-align: right;\">\n",
       "      <th></th>\n",
       "      <th>ID</th>\n",
       "      <th>ticker</th>\n",
       "      <th>name</th>\n",
       "      <th>active</th>\n",
       "      <th>start_date</th>\n",
       "      <th>end_date</th>\n",
       "      <th>start_data</th>\n",
       "      <th>end_data</th>\n",
       "      <th>type</th>\n",
       "    </tr>\n",
       "  </thead>\n",
       "  <tbody>\n",
       "    <tr>\n",
       "      <th>26</th>\n",
       "      <td>AAXN-2023-09-08</td>\n",
       "      <td>AAXN</td>\n",
       "      <td>Axon Enterprise, Inc. Common Stock</td>\n",
       "      <td>True</td>\n",
       "      <td>2023-09-08</td>\n",
       "      <td>2024-03-01</td>\n",
       "      <td>NaT</td>\n",
       "      <td>NaT</td>\n",
       "      <td>CS</td>\n",
       "    </tr>\n",
       "    <tr>\n",
       "      <th>41</th>\n",
       "      <td>ABIL-2023-09-08</td>\n",
       "      <td>ABIL</td>\n",
       "      <td>Ability Inc Ordinary Shares</td>\n",
       "      <td>True</td>\n",
       "      <td>2023-09-08</td>\n",
       "      <td>2024-03-01</td>\n",
       "      <td>NaT</td>\n",
       "      <td>NaT</td>\n",
       "      <td>CS</td>\n",
       "    </tr>\n",
       "    <tr>\n",
       "      <th>110</th>\n",
       "      <td>ACRV-2022-11-10</td>\n",
       "      <td>ACRV</td>\n",
       "      <td>Acrivon Therapeutics, Inc. Common Stock</td>\n",
       "      <td>False</td>\n",
       "      <td>2022-11-10</td>\n",
       "      <td>2022-11-11</td>\n",
       "      <td>NaT</td>\n",
       "      <td>NaT</td>\n",
       "      <td>CS</td>\n",
       "    </tr>\n",
       "  </tbody>\n",
       "</table>\n",
       "</div>"
      ],
      "text/plain": [
       "                  ID ticker                                     name  active  \\\n",
       "26   AAXN-2023-09-08   AAXN       Axon Enterprise, Inc. Common Stock    True   \n",
       "41   ABIL-2023-09-08   ABIL              Ability Inc Ordinary Shares    True   \n",
       "110  ACRV-2022-11-10   ACRV  Acrivon Therapeutics, Inc. Common Stock   False   \n",
       "\n",
       "     start_date    end_date start_data end_data type  \n",
       "26   2023-09-08  2024-03-01        NaT      NaT   CS  \n",
       "41   2023-09-08  2024-03-01        NaT      NaT   CS  \n",
       "110  2022-11-10  2022-11-11        NaT      NaT   CS  "
      ]
     },
     "execution_count": 69,
     "metadata": {},
     "output_type": "execute_result"
    }
   ],
   "source": [
    "zero_data = tickers_v4[(tickers_v4['start_data'].isna() & (tickers_v4['type'] != \"INDEX\"))]\n",
    "print(len(zero_data))\n",
    "zero_data.iloc[:3, :9].head(3)"
   ]
  },
  {
   "cell_type": "code",
   "execution_count": 70,
   "metadata": {},
   "outputs": [],
   "source": [
    "tickers_v4 = tickers_v4[~(tickers_v4['start_data'].isna() & (tickers_v4['type'] != \"INDEX\"))]\n",
    "tickers_v4.reset_index(inplace=True, drop=True)\n",
    "tickers_v4.to_csv(\"../data/tickers_v4.csv\")"
   ]
  },
  {
   "cell_type": "markdown",
   "metadata": {},
   "source": [
    "# 7.8 Updates\n",
    "Not implemented. However, we should only process the tickers that had splits/divs in the update period. The rest only has to be reindex/filled+flagged. Then appended.\n",
    "\n",
    "For now, just rerun everything after updating END_DATE."
   ]
  },
  {
   "cell_type": "code",
   "execution_count": null,
   "metadata": {},
   "outputs": [],
   "source": []
  }
 ],
 "metadata": {
  "kernelspec": {
   "display_name": "algotrading",
   "language": "python",
   "name": "python3"
  },
  "language_info": {
   "codemirror_mode": {
    "name": "ipython",
    "version": 3
   },
   "file_extension": ".py",
   "mimetype": "text/x-python",
   "name": "python",
   "nbconvert_exporter": "python",
   "pygments_lexer": "ipython3",
   "version": "3.11.4"
  }
 },
 "nbformat": 4,
 "nbformat_minor": 2
}
