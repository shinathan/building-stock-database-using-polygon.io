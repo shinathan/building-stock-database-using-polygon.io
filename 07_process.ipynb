{
 "cells": [
  {
   "cell_type": "markdown",
   "metadata": {},
   "source": [
    "# 7.1 Processing raw data\n",
    "This section combines the raw data, the adjustments and cleaned bars to get processed 1-minute data. There are no gaps for processed data. All stocks that are active on a certain day have minute bars for every minute, from pre to post market, even if no trades took place. Empty bars are forward filled. Only for the first day, backwards filling may be done. All processed data will have the following columns: <code>['open', 'high', 'low', 'close', 'close_original', 'turnover', 'tradeable']</code>. Turnover is the dollar amount the stock has traded and is volume * close. Volume is an useless number on its own, as 1000 volume for a $200k stock is not the same as with a $0.1 stock. The 'close_original' is the unadjusted price. This is needed for filtering, e.g. only the stocks above $1.\n",
    "\n",
    "The steps:\n",
    "1. The bars are split and dividend adjusted. (Split adjustment is done first, then dividend adjustment. Polygon already gives the adjusted dividends, so there is no need to split-adjust dividends.)\n",
    "2. After this, the data is forward filled. If there are still NA values, the data is backward filled. Forward/backward filled bars are flagged by setting <code>tradeable</code> to False.\n",
    "3. The true start/end dates are determined for each stock.\n",
    "\n",
    "To make the loop more readable, we will first build the functions <code>split_adjust</code>, <code>dividend_adjust</code> and <code>detect_halts</code>."
   ]
  },
  {
   "cell_type": "code",
   "execution_count": 2,
   "metadata": {},
   "outputs": [],
   "source": [
    "from tickers import get_tickers\n",
    "from times import get_market_calendar\n",
    "from datetime import datetime, date, time\n",
    "import mplfinance as mpf\n",
    "import pyarrow.parquet as pq\n",
    "import pandas as pd\n",
    "import numpy as np\n",
    "import os\n",
    "import warnings\n",
    "warnings.simplefilter(action='ignore', category=FutureWarning)\n",
    "DATA_PATH = \"../data/polygon/\""
   ]
  },
  {
   "cell_type": "markdown",
   "metadata": {},
   "source": [
    "# 7.2 Split adjustment"
   ]
  },
  {
   "cell_type": "code",
   "execution_count": 3,
   "metadata": {},
   "outputs": [],
   "source": [
    "adjustments = pd.read_csv(DATA_PATH + f\"raw/adjustments/TSLA.csv\", parse_dates=True, index_col=0)\n",
    "bars = pd.read_parquet(DATA_PATH + f\"raw/m1/TSLA.parquet\")\n",
    "\n",
    "adjustments.index = pd.to_datetime(adjustments.index).date\n",
    "splits = adjustments[adjustments.type == \"SPLIT\"].copy()"
   ]
  },
  {
   "cell_type": "code",
   "execution_count": 4,
   "metadata": {},
   "outputs": [
    {
     "data": {
      "text/html": [
       "<div>\n",
       "<style scoped>\n",
       "    .dataframe tbody tr th:only-of-type {\n",
       "        vertical-align: middle;\n",
       "    }\n",
       "\n",
       "    .dataframe tbody tr th {\n",
       "        vertical-align: top;\n",
       "    }\n",
       "\n",
       "    .dataframe thead th {\n",
       "        text-align: right;\n",
       "    }\n",
       "</style>\n",
       "<table border=\"1\" class=\"dataframe\">\n",
       "  <thead>\n",
       "    <tr style=\"text-align: right;\">\n",
       "      <th></th>\n",
       "      <th>type</th>\n",
       "      <th>subtype</th>\n",
       "      <th>amount</th>\n",
       "    </tr>\n",
       "  </thead>\n",
       "  <tbody>\n",
       "    <tr>\n",
       "      <th>2020-08-31</th>\n",
       "      <td>SPLIT</td>\n",
       "      <td>N</td>\n",
       "      <td>0.200000</td>\n",
       "    </tr>\n",
       "    <tr>\n",
       "      <th>2022-08-25</th>\n",
       "      <td>SPLIT</td>\n",
       "      <td>N</td>\n",
       "      <td>0.333333</td>\n",
       "    </tr>\n",
       "  </tbody>\n",
       "</table>\n",
       "</div>"
      ],
      "text/plain": [
       "             type subtype    amount\n",
       "2020-08-31  SPLIT       N  0.200000\n",
       "2022-08-25  SPLIT       N  0.333333"
      ]
     },
     "execution_count": 4,
     "metadata": {},
     "output_type": "execute_result"
    }
   ],
   "source": [
    "splits"
   ]
  },
  {
   "cell_type": "code",
   "execution_count": 5,
   "metadata": {},
   "outputs": [
    {
     "data": {
      "text/html": [
       "<div>\n",
       "<style scoped>\n",
       "    .dataframe tbody tr th:only-of-type {\n",
       "        vertical-align: middle;\n",
       "    }\n",
       "\n",
       "    .dataframe tbody tr th {\n",
       "        vertical-align: top;\n",
       "    }\n",
       "\n",
       "    .dataframe thead th {\n",
       "        text-align: right;\n",
       "    }\n",
       "</style>\n",
       "<table border=\"1\" class=\"dataframe\">\n",
       "  <thead>\n",
       "    <tr style=\"text-align: right;\">\n",
       "      <th></th>\n",
       "      <th>cumulative_adjustment</th>\n",
       "    </tr>\n",
       "  </thead>\n",
       "  <tbody>\n",
       "    <tr>\n",
       "      <th>2020-08-31</th>\n",
       "      <td>0.066667</td>\n",
       "    </tr>\n",
       "    <tr>\n",
       "      <th>2022-08-25</th>\n",
       "      <td>0.333333</td>\n",
       "    </tr>\n",
       "  </tbody>\n",
       "</table>\n",
       "</div>"
      ],
      "text/plain": [
       "            cumulative_adjustment\n",
       "2020-08-31               0.066667\n",
       "2022-08-25               0.333333"
      ]
     },
     "execution_count": 5,
     "metadata": {},
     "output_type": "execute_result"
    }
   ],
   "source": [
    "trading_dates_ticker = sorted(list(set(bars.index.date)))\n",
    "\n",
    "# The original dates of 'split' are the dates of the split. But adjustments are for all dates before the split.\n",
    "splits['cumulative_adjustment'] = splits['amount'][::-1].cumprod()\n",
    "splits = splits.drop(columns=['type', 'subtype', 'amount'])\n",
    "splits"
   ]
  },
  {
   "cell_type": "code",
   "execution_count": 6,
   "metadata": {},
   "outputs": [
    {
     "data": {
      "text/html": [
       "<div>\n",
       "<style scoped>\n",
       "    .dataframe tbody tr th:only-of-type {\n",
       "        vertical-align: middle;\n",
       "    }\n",
       "\n",
       "    .dataframe tbody tr th {\n",
       "        vertical-align: top;\n",
       "    }\n",
       "\n",
       "    .dataframe thead th {\n",
       "        text-align: right;\n",
       "    }\n",
       "</style>\n",
       "<table border=\"1\" class=\"dataframe\">\n",
       "  <thead>\n",
       "    <tr style=\"text-align: right;\">\n",
       "      <th></th>\n",
       "      <th>cumulative_adjustment</th>\n",
       "    </tr>\n",
       "  </thead>\n",
       "  <tbody>\n",
       "    <tr>\n",
       "      <th>2020-08-28</th>\n",
       "      <td>0.066667</td>\n",
       "    </tr>\n",
       "    <tr>\n",
       "      <th>2022-08-24</th>\n",
       "      <td>0.333333</td>\n",
       "    </tr>\n",
       "  </tbody>\n",
       "</table>\n",
       "</div>"
      ],
      "text/plain": [
       "            cumulative_adjustment\n",
       "2020-08-28               0.066667\n",
       "2022-08-24               0.333333"
      ]
     },
     "execution_count": 6,
     "metadata": {},
     "output_type": "execute_result"
    }
   ],
   "source": [
    "splits.index = splits.index.map(lambda day : max(d for d in trading_dates_ticker if d < day)) # Shift dates 1 day back (the reason we cannot just use timedelta(days=1) is because that might not be a trading date.\n",
    "splits"
   ]
  },
  {
   "cell_type": "code",
   "execution_count": 7,
   "metadata": {},
   "outputs": [
    {
     "name": "stderr",
     "output_type": "stream",
     "text": [
      "C:\\Users\\Nathan\\AppData\\Local\\Temp\\ipykernel_17184\\2799965111.py:2: FutureWarning: Series.fillna with 'method' is deprecated and will raise in a future version. Use obj.ffill() or obj.bfill() instead.\n",
      "  splits.cumulative_adjustment = splits.cumulative_adjustment.fillna(method='bfill').fillna(value=1) # Backward fill and fill ones\n"
     ]
    }
   ],
   "source": [
    "splits = splits.reindex(trading_dates_ticker) # Reindex using stock data \n",
    "splits.cumulative_adjustment = splits.cumulative_adjustment.fillna(method='bfill').fillna(value=1) # Backward fill and fill ones"
   ]
  },
  {
   "cell_type": "code",
   "execution_count": 8,
   "metadata": {},
   "outputs": [
    {
     "data": {
      "text/html": [
       "<div>\n",
       "<style scoped>\n",
       "    .dataframe tbody tr th:only-of-type {\n",
       "        vertical-align: middle;\n",
       "    }\n",
       "\n",
       "    .dataframe tbody tr th {\n",
       "        vertical-align: top;\n",
       "    }\n",
       "\n",
       "    .dataframe thead th {\n",
       "        text-align: right;\n",
       "    }\n",
       "</style>\n",
       "<table border=\"1\" class=\"dataframe\">\n",
       "  <thead>\n",
       "    <tr style=\"text-align: right;\">\n",
       "      <th></th>\n",
       "      <th>cumulative_adjustment</th>\n",
       "    </tr>\n",
       "  </thead>\n",
       "  <tbody>\n",
       "    <tr>\n",
       "      <th>2019-03-27</th>\n",
       "      <td>0.066667</td>\n",
       "    </tr>\n",
       "    <tr>\n",
       "      <th>2019-03-28</th>\n",
       "      <td>0.066667</td>\n",
       "    </tr>\n",
       "    <tr>\n",
       "      <th>2019-03-29</th>\n",
       "      <td>0.066667</td>\n",
       "    </tr>\n",
       "    <tr>\n",
       "      <th>2019-04-01</th>\n",
       "      <td>0.066667</td>\n",
       "    </tr>\n",
       "    <tr>\n",
       "      <th>2019-04-02</th>\n",
       "      <td>0.066667</td>\n",
       "    </tr>\n",
       "  </tbody>\n",
       "</table>\n",
       "</div>"
      ],
      "text/plain": [
       "            cumulative_adjustment\n",
       "2019-03-27               0.066667\n",
       "2019-03-28               0.066667\n",
       "2019-03-29               0.066667\n",
       "2019-04-01               0.066667\n",
       "2019-04-02               0.066667"
      ]
     },
     "execution_count": 8,
     "metadata": {},
     "output_type": "execute_result"
    }
   ],
   "source": [
    "splits[splits.index > date(2019, 3, 26)][:5]"
   ]
  },
  {
   "cell_type": "code",
   "execution_count": 9,
   "metadata": {},
   "outputs": [
    {
     "data": {
      "image/png": "[encoded data removed]",
      "text/plain": [
       "<Figure size 800x575 with 2 Axes>"
      ]
     },
     "metadata": {},
     "output_type": "display_data"
    }
   ],
   "source": [
    "daily = bars.resample('1D').agg({'open': 'first', \n",
    "                                 'high': 'max', \n",
    "                                 'low': 'min', \n",
    "                                 'close': 'last'})\n",
    "mpf.plot(daily, type='ohlc', show_nontrading=False, warn_too_much_data=1000000)"
   ]
  },
  {
   "cell_type": "code",
   "execution_count": 10,
   "metadata": {},
   "outputs": [],
   "source": [
    "bars['date'] = bars.index.date\n",
    "bars = bars.merge(splits, left_on='date', right_index=True, how='left')\n",
    "bars[['open', 'high', 'low', 'close']] = bars[['open', 'high', 'low', 'close']].\\\n",
    "    multiply(bars[\"cumulative_adjustment\"], axis=\"index\")\n",
    "bars['close_original'] = bars['close']\n",
    "\n",
    "bars['turnover'] = bars['volume'] * bars['close_original']"
   ]
  },
  {
   "cell_type": "code",
   "execution_count": 11,
   "metadata": {},
   "outputs": [
    {
     "data": {
      "image/png": "[encoded data removed]",
      "text/plain": [
       "<Figure size 800x575 with 2 Axes>"
      ]
     },
     "metadata": {},
     "output_type": "display_data"
    }
   ],
   "source": [
    "daily = bars.resample('1D').agg({'open': 'first', \n",
    "                                 'high': 'max', \n",
    "                                 'low': 'min', \n",
    "                                 'close': 'last'})\n",
    "mpf.plot(daily, type='ohlc', show_nontrading=False, warn_too_much_data=1000000)"
   ]
  },
  {
   "cell_type": "markdown",
   "metadata": {},
   "source": [
    "Putting it all together in a function yields:"
   ]
  },
  {
   "cell_type": "code",
   "execution_count": 3,
   "metadata": {},
   "outputs": [],
   "source": [
    "def split_adjust(bars, ticker):\n",
    "    \"\"\"\n",
    "    Returns the split-adjusted bars and add a column with the original close price.,\n",
    "    If there is no split-data, the original bars are returned.\n",
    "    \"\"\"\n",
    "    bars['close_original'] = bars['close']\n",
    "    bars['turnover'] = bars['volume'] * bars['close_original']\n",
    "\n",
    "    \"\"\"\n",
    "    ERROR FIX: When a ticker gets renamed, some (but not all) stock splits also get renamed.\n",
    "    E.g. CHFS changed to NUWE after 2020-10-19, however CHFS had a 30-1 split on 2020-10-19.\n",
    "    However the polygon adjustments show a 30-1 split on NUWE, not CHFS... However this is not\n",
    "    true for ALL renamed tickers. E.g. for ERNA it is correct. In order to fix this, we need\n",
    "    to get the ticker change which we only discuss in a future notebook. So if you have no\n",
    "    ticker_changes, you can comment the two blocks of lines with # ERROR FIX out\n",
    "    \"\"\"\n",
    "    # ERROR FIX\n",
    "    ticker_changes = pd.read_csv(DATA_PATH + \"../stockanalysis/ticker_changes.csv\")\n",
    "    has_ticker_change = False\n",
    "    if len(ticker_changes[ticker_changes['from'] == ticker]['to']) != 0:\n",
    "        ticker_to = ticker_changes[ticker_changes['from'] == ticker]['to'].values[0]\n",
    "        has_ticker_change = True\n",
    "\n",
    "    splits = pd.DataFrame()\n",
    "    trading_dates_ticker = sorted(list(set(bars.index.date)))\n",
    "    if os.path.isfile(DATA_PATH + f\"raw/adjustments/{ticker}.csv\"):\n",
    "        adjustments = pd.read_csv(DATA_PATH + f\"raw/adjustments/{ticker}.csv\", parse_dates=True, index_col=0)\n",
    "        adjustments.index = pd.to_datetime(adjustments.index).date\n",
    "        adjustments = adjustments[(adjustments.index > trading_dates_ticker[0]) & (adjustments.index <= trading_dates_ticker[-1])]\n",
    "\n",
    "        splits = adjustments[adjustments.type == \"SPLIT\"].copy()\n",
    "\n",
    "    # ERROR FIX \n",
    "    if has_ticker_change and os.path.isfile(DATA_PATH + f\"raw/adjustments/{ticker_to}.csv\"):\n",
    "        adjustments_to = pd.read_csv(DATA_PATH + f\"raw/adjustments/{ticker_to}.csv\", parse_dates=True, index_col=0)\n",
    "        adjustments_to.index = pd.to_datetime(adjustments_to.index).date\n",
    "        adjustments_to = adjustments_to[(adjustments_to.index > trading_dates_ticker[0]) & (adjustments_to.index <= trading_dates_ticker[-1])]\n",
    "        splits_to = adjustments_to[adjustments_to.type == \"SPLIT\"].copy()\n",
    "        splits = pd.concat([splits, splits_to])\n",
    "        splits = splits.drop_duplicates()\n",
    "\n",
    "    # Adjust for splits\n",
    "    if not splits.empty:\n",
    "        splits['cumulative_adjustment'] = splits['amount'][::-1].cumprod()\n",
    "        splits = splits.drop(columns=['type', 'subtype', 'amount'])\n",
    "        splits.index = splits.index.map(lambda day : max(d for d in trading_dates_ticker if d < day))\n",
    "        splits = splits.reindex(trading_dates_ticker) # Reindex using stock data \n",
    "        splits.cumulative_adjustment = splits.cumulative_adjustment.fillna(method='bfill').fillna(value=1) \n",
    "\n",
    "        # Merge adjustments with the bars and adjust\n",
    "        bars['date'] = bars.index.date\n",
    "        bars = bars.merge(splits, left_on='date', right_index=True, how='left')\n",
    "        bars['close_original'] = bars['close']\n",
    "        bars[['open', 'high', 'low', 'close']] = bars[['open', 'high', 'low', 'close']].\\\n",
    "            multiply(bars[\"cumulative_adjustment\"], axis=\"index\")\n",
    "\n",
    "        bars.drop(columns=['cumulative_adjustment', 'date'], inplace=True)\n",
    "\n",
    "    return bars[['open', 'high', 'low', 'close', 'close_original', 'turnover']]"
   ]
  },
  {
   "cell_type": "markdown",
   "metadata": {},
   "source": [
    "# 7.3 Dividend adjustment\n",
    "We use the [stockcharts](https://support.stockcharts.com/doku.php?id=policies:historical_price_data_is_adjusted_for_splits_dividends_and_distributions#:~:text=Dividend%20Adjustment%20Calculation%20Details%3A,then%20multiplied%20by%20this%20factor) or [Yahoo](https://help.yahoo.com/kb/SLN28256.html) method to adjust dividends, which mimics dividend reinvesting at the close of cum-dividend date. If at cum-dividend the price is 60, and at ex-dividend is 50 after a 10/share dividend, then all prices from cum-dividend and before are adjusted by the factor *1 - (dividend/cumdividend close)*. So the adjusted cum-dividend close will be 50. \n",
    "\n",
    "Note: Even though the close (which can differ on early close days) is used to calculate the adjustment factor, the post-market prices also have to be adjusted. "
   ]
  },
  {
   "cell_type": "code",
   "execution_count": 14,
   "metadata": {},
   "outputs": [
    {
     "name": "stderr",
     "output_type": "stream",
     "text": [
      "C:\\Users\\Nathan\\AppData\\Local\\Temp\\ipykernel_17184\\2070024.py:48: FutureWarning: Series.fillna with 'method' is deprecated and will raise in a future version. Use obj.ffill() or obj.bfill() instead.\n",
      "  splits.cumulative_adjustment = splits.cumulative_adjustment.fillna(method='bfill').fillna(value=1)\n"
     ]
    },
    {
     "data": {
      "text/html": [
       "<div>\n",
       "<style scoped>\n",
       "    .dataframe tbody tr th:only-of-type {\n",
       "        vertical-align: middle;\n",
       "    }\n",
       "\n",
       "    .dataframe tbody tr th {\n",
       "        vertical-align: top;\n",
       "    }\n",
       "\n",
       "    .dataframe thead th {\n",
       "        text-align: right;\n",
       "    }\n",
       "</style>\n",
       "<table border=\"1\" class=\"dataframe\">\n",
       "  <thead>\n",
       "    <tr style=\"text-align: right;\">\n",
       "      <th></th>\n",
       "      <th>type</th>\n",
       "      <th>subtype</th>\n",
       "      <th>amount</th>\n",
       "    </tr>\n",
       "  </thead>\n",
       "  <tbody>\n",
       "    <tr>\n",
       "      <th>2011-12-28</th>\n",
       "      <td>DIV</td>\n",
       "      <td>CD</td>\n",
       "      <td>0.001893</td>\n",
       "    </tr>\n",
       "    <tr>\n",
       "      <th>2014-03-03</th>\n",
       "      <td>DIV</td>\n",
       "      <td>CD</td>\n",
       "      <td>0.000000</td>\n",
       "    </tr>\n",
       "    <tr>\n",
       "      <th>2016-12-01</th>\n",
       "      <td>DIV</td>\n",
       "      <td>CD</td>\n",
       "      <td>0.021036</td>\n",
       "    </tr>\n",
       "  </tbody>\n",
       "</table>\n",
       "</div>"
      ],
      "text/plain": [
       "           type subtype    amount\n",
       "2011-12-28  DIV      CD  0.001893\n",
       "2014-03-03  DIV      CD  0.000000\n",
       "2016-12-01  DIV      CD  0.021036"
      ]
     },
     "execution_count": 14,
     "metadata": {},
     "output_type": "execute_result"
    }
   ],
   "source": [
    "split_adjusted_bars = split_adjust(pd.read_parquet(DATA_PATH + f\"raw/m1/BIL.parquet\"), 'BIL')\n",
    "trading_dates_ticker = sorted(list(set(bars.index.date)))\n",
    "\n",
    "adjustments = pd.read_csv(DATA_PATH + f\"raw/adjustments/BIL.csv\", parse_dates=True, index_col=0)\n",
    "adjustments.index = pd.to_datetime(adjustments.index).date\n",
    "adjustments = adjustments[(adjustments.index > trading_dates_ticker[0]) & (adjustments.index <= trading_dates_ticker[-1])]\n",
    "\n",
    "split_adjusted_dividends = adjustments[adjustments.type == \"DIV\"].copy()\n",
    "split_adjusted_dividends.head(3)"
   ]
  },
  {
   "cell_type": "code",
   "execution_count": 28,
   "metadata": {},
   "outputs": [
    {
     "data": {
      "image/png": "[encoded data removed]",
      "text/plain": [
       "<Figure size 800x575 with 2 Axes>"
      ]
     },
     "metadata": {},
     "output_type": "display_data"
    }
   ],
   "source": [
    "daily = split_adjusted_bars.resample('1D').agg({'open': 'first', \n",
    "                                 'high': 'max', \n",
    "                                 'low': 'min', \n",
    "                                 'close': 'last'})\n",
    "daily.dropna(inplace=True)\n",
    "mpf.plot(daily.tail(1000), type='ohlc', show_nontrading=False, warn_too_much_data=1000000)"
   ]
  },
  {
   "cell_type": "markdown",
   "metadata": {},
   "source": [
    "Let's first get the cum_div_dates."
   ]
  },
  {
   "cell_type": "code",
   "execution_count": 16,
   "metadata": {},
   "outputs": [
    {
     "data": {
      "text/html": [
       "<div>\n",
       "<style scoped>\n",
       "    .dataframe tbody tr th:only-of-type {\n",
       "        vertical-align: middle;\n",
       "    }\n",
       "\n",
       "    .dataframe tbody tr th {\n",
       "        vertical-align: top;\n",
       "    }\n",
       "\n",
       "    .dataframe thead th {\n",
       "        text-align: right;\n",
       "    }\n",
       "</style>\n",
       "<table border=\"1\" class=\"dataframe\">\n",
       "  <thead>\n",
       "    <tr style=\"text-align: right;\">\n",
       "      <th></th>\n",
       "      <th>amount</th>\n",
       "      <th>cum_div_date</th>\n",
       "    </tr>\n",
       "    <tr>\n",
       "      <th>ex_div_date</th>\n",
       "      <th></th>\n",
       "      <th></th>\n",
       "    </tr>\n",
       "  </thead>\n",
       "  <tbody>\n",
       "    <tr>\n",
       "      <th>2011-12-28</th>\n",
       "      <td>0.001893</td>\n",
       "      <td>2011-12-27</td>\n",
       "    </tr>\n",
       "    <tr>\n",
       "      <th>2014-03-03</th>\n",
       "      <td>0.000000</td>\n",
       "      <td>2014-02-28</td>\n",
       "    </tr>\n",
       "    <tr>\n",
       "      <th>2016-12-01</th>\n",
       "      <td>0.021036</td>\n",
       "      <td>2016-11-30</td>\n",
       "    </tr>\n",
       "  </tbody>\n",
       "</table>\n",
       "</div>"
      ],
      "text/plain": [
       "               amount cum_div_date\n",
       "ex_div_date                       \n",
       "2011-12-28   0.001893   2011-12-27\n",
       "2014-03-03   0.000000   2014-02-28\n",
       "2016-12-01   0.021036   2016-11-30"
      ]
     },
     "execution_count": 16,
     "metadata": {},
     "output_type": "execute_result"
    }
   ],
   "source": [
    "split_adjusted_dividends['cum_div_date'] = split_adjusted_dividends.index.map(\\\n",
    "    lambda day : max(d for d in trading_dates_ticker if d < day))\n",
    "split_adjusted_dividends = split_adjusted_dividends[['amount', 'cum_div_date']]\n",
    "split_adjusted_dividends.index.names = ['ex_div_date']\n",
    "split_adjusted_dividends.head(3)"
   ]
  },
  {
   "cell_type": "code",
   "execution_count": 17,
   "metadata": {},
   "outputs": [],
   "source": [
    "# We need to get the ex-dividend closing price. Most days this is on 16:00 ET. Some days have early closes.\n",
    "market_hours = get_market_calendar('datetime')\n",
    "market_hours = market_hours[['regular_close']]"
   ]
  },
  {
   "cell_type": "code",
   "execution_count": 18,
   "metadata": {},
   "outputs": [],
   "source": [
    "split_adjusted_dividends.set_index(split_adjusted_dividends['cum_div_date'], inplace=True)\n",
    "split_adjusted_dividends['cum_div_datetime'] = market_hours.loc[split_adjusted_dividends.index, 'regular_close']\n",
    "\n",
    "# Sometimes the latest trade of the day is NOT the 15:59 bar exactly. \n",
    "# So we need to get the latest available price at or before the close.\n",
    "split_adjusted_dividends['cum_div_datetime'] = split_adjusted_dividends['cum_div_datetime'].apply(\\\n",
    "    lambda dt : (split_adjusted_bars[split_adjusted_bars.index <= dt].index).max())\n",
    "split_adjusted_dividends.set_index(split_adjusted_dividends['cum_div_datetime'], inplace=True)\n",
    "split_adjusted_dividends['cum_div_close'] = split_adjusted_bars.loc[split_adjusted_dividends['cum_div_datetime'], 'close']"
   ]
  },
  {
   "cell_type": "code",
   "execution_count": 19,
   "metadata": {},
   "outputs": [
    {
     "data": {
      "text/html": [
       "<div>\n",
       "<style scoped>\n",
       "    .dataframe tbody tr th:only-of-type {\n",
       "        vertical-align: middle;\n",
       "    }\n",
       "\n",
       "    .dataframe tbody tr th {\n",
       "        vertical-align: top;\n",
       "    }\n",
       "\n",
       "    .dataframe thead th {\n",
       "        text-align: right;\n",
       "    }\n",
       "</style>\n",
       "<table border=\"1\" class=\"dataframe\">\n",
       "  <thead>\n",
       "    <tr style=\"text-align: right;\">\n",
       "      <th></th>\n",
       "      <th>amount</th>\n",
       "      <th>cum_div_date</th>\n",
       "      <th>cum_div_datetime</th>\n",
       "      <th>cum_div_close</th>\n",
       "    </tr>\n",
       "    <tr>\n",
       "      <th>cum_div_datetime</th>\n",
       "      <th></th>\n",
       "      <th></th>\n",
       "      <th></th>\n",
       "      <th></th>\n",
       "    </tr>\n",
       "  </thead>\n",
       "  <tbody>\n",
       "    <tr>\n",
       "      <th>2011-12-27 15:59:00</th>\n",
       "      <td>0.001893</td>\n",
       "      <td>2011-12-27</td>\n",
       "      <td>2011-12-27 15:59:00</td>\n",
       "      <td>91.66</td>\n",
       "    </tr>\n",
       "    <tr>\n",
       "      <th>2014-02-28 15:59:00</th>\n",
       "      <td>0.000000</td>\n",
       "      <td>2014-02-28</td>\n",
       "      <td>2014-02-28 15:59:00</td>\n",
       "      <td>91.54</td>\n",
       "    </tr>\n",
       "    <tr>\n",
       "      <th>2016-11-30 15:59:00</th>\n",
       "      <td>0.021036</td>\n",
       "      <td>2016-11-30</td>\n",
       "      <td>2016-11-30 15:59:00</td>\n",
       "      <td>91.46</td>\n",
       "    </tr>\n",
       "  </tbody>\n",
       "</table>\n",
       "</div>"
      ],
      "text/plain": [
       "                       amount cum_div_date    cum_div_datetime  cum_div_close\n",
       "cum_div_datetime                                                             \n",
       "2011-12-27 15:59:00  0.001893   2011-12-27 2011-12-27 15:59:00          91.66\n",
       "2014-02-28 15:59:00  0.000000   2014-02-28 2014-02-28 15:59:00          91.54\n",
       "2016-11-30 15:59:00  0.021036   2016-11-30 2016-11-30 15:59:00          91.46"
      ]
     },
     "execution_count": 19,
     "metadata": {},
     "output_type": "execute_result"
    }
   ],
   "source": [
    "split_adjusted_dividends.head(3)"
   ]
  },
  {
   "cell_type": "code",
   "execution_count": 20,
   "metadata": {},
   "outputs": [],
   "source": [
    "split_adjusted_dividends['adjustment'] = 1 - (split_adjusted_dividends['amount'] / split_adjusted_dividends['cum_div_close'])\n",
    "split_adjusted_dividends['cumulative_adjustment'] = split_adjusted_dividends['adjustment'][::-1].cumprod()"
   ]
  },
  {
   "cell_type": "code",
   "execution_count": 21,
   "metadata": {},
   "outputs": [
    {
     "data": {
      "text/html": [
       "<div>\n",
       "<style scoped>\n",
       "    .dataframe tbody tr th:only-of-type {\n",
       "        vertical-align: middle;\n",
       "    }\n",
       "\n",
       "    .dataframe tbody tr th {\n",
       "        vertical-align: top;\n",
       "    }\n",
       "\n",
       "    .dataframe thead th {\n",
       "        text-align: right;\n",
       "    }\n",
       "</style>\n",
       "<table border=\"1\" class=\"dataframe\">\n",
       "  <thead>\n",
       "    <tr style=\"text-align: right;\">\n",
       "      <th></th>\n",
       "      <th>amount</th>\n",
       "      <th>cum_div_date</th>\n",
       "      <th>cum_div_datetime</th>\n",
       "      <th>cum_div_close</th>\n",
       "      <th>adjustment</th>\n",
       "      <th>cumulative_adjustment</th>\n",
       "    </tr>\n",
       "    <tr>\n",
       "      <th>cum_div_datetime</th>\n",
       "      <th></th>\n",
       "      <th></th>\n",
       "      <th></th>\n",
       "      <th></th>\n",
       "      <th></th>\n",
       "      <th></th>\n",
       "    </tr>\n",
       "  </thead>\n",
       "  <tbody>\n",
       "    <tr>\n",
       "      <th>2011-12-27 15:59:00</th>\n",
       "      <td>0.001893</td>\n",
       "      <td>2011-12-27</td>\n",
       "      <td>2011-12-27 15:59:00</td>\n",
       "      <td>91.66</td>\n",
       "      <td>0.999979</td>\n",
       "      <td>0.887138</td>\n",
       "    </tr>\n",
       "    <tr>\n",
       "      <th>2014-02-28 15:59:00</th>\n",
       "      <td>0.000000</td>\n",
       "      <td>2014-02-28</td>\n",
       "      <td>2014-02-28 15:59:00</td>\n",
       "      <td>91.54</td>\n",
       "      <td>1.000000</td>\n",
       "      <td>0.887156</td>\n",
       "    </tr>\n",
       "    <tr>\n",
       "      <th>2016-11-30 15:59:00</th>\n",
       "      <td>0.021036</td>\n",
       "      <td>2016-11-30</td>\n",
       "      <td>2016-11-30 15:59:00</td>\n",
       "      <td>91.46</td>\n",
       "      <td>0.999770</td>\n",
       "      <td>0.887156</td>\n",
       "    </tr>\n",
       "  </tbody>\n",
       "</table>\n",
       "</div>"
      ],
      "text/plain": [
       "                       amount cum_div_date    cum_div_datetime  cum_div_close  \\\n",
       "cum_div_datetime                                                                \n",
       "2011-12-27 15:59:00  0.001893   2011-12-27 2011-12-27 15:59:00          91.66   \n",
       "2014-02-28 15:59:00  0.000000   2014-02-28 2014-02-28 15:59:00          91.54   \n",
       "2016-11-30 15:59:00  0.021036   2016-11-30 2016-11-30 15:59:00          91.46   \n",
       "\n",
       "                     adjustment  cumulative_adjustment  \n",
       "cum_div_datetime                                        \n",
       "2011-12-27 15:59:00    0.999979               0.887138  \n",
       "2014-02-28 15:59:00    1.000000               0.887156  \n",
       "2016-11-30 15:59:00    0.999770               0.887156  "
      ]
     },
     "execution_count": 21,
     "metadata": {},
     "output_type": "execute_result"
    }
   ],
   "source": [
    "split_adjusted_dividends.head(3)"
   ]
  },
  {
   "cell_type": "code",
   "execution_count": 22,
   "metadata": {},
   "outputs": [
    {
     "name": "stderr",
     "output_type": "stream",
     "text": [
      "C:\\Users\\Nathan\\AppData\\Local\\Temp\\ipykernel_17184\\3340914998.py:6: FutureWarning: Series.fillna with 'method' is deprecated and will raise in a future version. Use obj.ffill() or obj.bfill() instead.\n",
      "  dividend_adjustments['cumulative_adjustment'] = dividend_adjustments['cumulative_adjustment'].fillna(method='bfill').fillna(value=1) # Backward fill and fill ones\n"
     ]
    }
   ],
   "source": [
    "split_adjusted_dividends.set_index(split_adjusted_dividends['cum_div_date'], inplace=True, drop=True)\n",
    "dividend_adjustments = split_adjusted_dividends[['cumulative_adjustment']]\n",
    "\n",
    "# Get dividend adjustments for every trading day (same procedure as split adjustments)\n",
    "dividend_adjustments = dividend_adjustments.reindex(trading_dates_ticker) # Reindex using stock data \n",
    "dividend_adjustments['cumulative_adjustment'] = dividend_adjustments['cumulative_adjustment'].fillna(method='bfill').fillna(value=1) # Backward fill and fill ones"
   ]
  },
  {
   "cell_type": "code",
   "execution_count": 23,
   "metadata": {},
   "outputs": [
    {
     "data": {
      "text/html": [
       "<div>\n",
       "<style scoped>\n",
       "    .dataframe tbody tr th:only-of-type {\n",
       "        vertical-align: middle;\n",
       "    }\n",
       "\n",
       "    .dataframe tbody tr th {\n",
       "        vertical-align: top;\n",
       "    }\n",
       "\n",
       "    .dataframe thead th {\n",
       "        text-align: right;\n",
       "    }\n",
       "</style>\n",
       "<table border=\"1\" class=\"dataframe\">\n",
       "  <thead>\n",
       "    <tr style=\"text-align: right;\">\n",
       "      <th></th>\n",
       "      <th>cumulative_adjustment</th>\n",
       "    </tr>\n",
       "    <tr>\n",
       "      <th>cum_div_date</th>\n",
       "      <th></th>\n",
       "    </tr>\n",
       "  </thead>\n",
       "  <tbody>\n",
       "    <tr>\n",
       "      <th>2010-06-29</th>\n",
       "      <td>0.887138</td>\n",
       "    </tr>\n",
       "    <tr>\n",
       "      <th>2010-06-30</th>\n",
       "      <td>0.887138</td>\n",
       "    </tr>\n",
       "    <tr>\n",
       "      <th>2010-07-01</th>\n",
       "      <td>0.887138</td>\n",
       "    </tr>\n",
       "  </tbody>\n",
       "</table>\n",
       "</div>"
      ],
      "text/plain": [
       "              cumulative_adjustment\n",
       "cum_div_date                       \n",
       "2010-06-29                 0.887138\n",
       "2010-06-30                 0.887138\n",
       "2010-07-01                 0.887138"
      ]
     },
     "execution_count": 23,
     "metadata": {},
     "output_type": "execute_result"
    }
   ],
   "source": [
    "dividend_adjustments.head(3)"
   ]
  },
  {
   "cell_type": "code",
   "execution_count": 24,
   "metadata": {},
   "outputs": [],
   "source": [
    "# Same procedure as with split adjustments\n",
    "all_adjusted_bars = split_adjusted_bars.copy()\n",
    "all_adjusted_bars['date'] = all_adjusted_bars.index.date\n",
    "all_adjusted_bars = all_adjusted_bars.merge(dividend_adjustments, left_on='date', right_index=True, how='left')\n",
    "all_adjusted_bars[['open', 'high', 'low', 'close']] = all_adjusted_bars[['open', 'high', 'low', 'close']].\\\n",
    "    multiply(all_adjusted_bars[\"cumulative_adjustment\"], axis=\"index\")\n",
    "all_adjusted_bars.drop(columns=['cumulative_adjustment', 'date'], inplace=True)\n",
    "\n",
    "# Round to 4 decimals\n",
    "all_adjusted_bars = round(all_adjusted_bars, 4)"
   ]
  },
  {
   "cell_type": "code",
   "execution_count": 27,
   "metadata": {},
   "outputs": [
    {
     "data": {
      "image/png": "[encoded data removed]",
      "text/plain": [
       "<Figure size 800x575 with 2 Axes>"
      ]
     },
     "metadata": {},
     "output_type": "display_data"
    }
   ],
   "source": [
    "daily = all_adjusted_bars.resample('1D').agg({'open': 'first', \n",
    "                                 'high': 'max', \n",
    "                                 'low': 'min', \n",
    "                                 'close': 'last'})\n",
    "daily.dropna(inplace=True)\n",
    "mpf.plot(daily.tail(1000), type='ohlc', show_nontrading=False, warn_too_much_data=1000000)"
   ]
  },
  {
   "cell_type": "markdown",
   "metadata": {},
   "source": [
    "Putting it all in a function yields:"
   ]
  },
  {
   "cell_type": "code",
   "execution_count": 4,
   "metadata": {},
   "outputs": [],
   "source": [
    "def div_adjust(split_adjusted_bars, ticker):\n",
    "    \"\"\"\n",
    "    Dividend-adjust the 1-minute bars.\n",
    "    \"\"\"\n",
    "    if os.path.isfile(DATA_PATH + f\"raw/adjustments/{ticker}.csv\"):\n",
    "        trading_dates_ticker = sorted(list(set(split_adjusted_bars.index.date)))\n",
    "\n",
    "        adjustments = pd.read_csv(DATA_PATH + f\"raw/adjustments/{ticker}.csv\", parse_dates=True, index_col=0)\n",
    "        adjustments.index = pd.to_datetime(adjustments.index).date\n",
    "        adjustments = adjustments[(adjustments.index > trading_dates_ticker[0]) & \\\n",
    "                                    (adjustments.index <= trading_dates_ticker[-1])]\n",
    "        split_adjusted_dividends = adjustments[adjustments.type == \"DIV\"].copy()\n",
    "        all_adjusted_bars = split_adjusted_bars.copy()\n",
    "\n",
    "        if not split_adjusted_dividends.empty:\n",
    "            # Get cum div date\n",
    "            split_adjusted_dividends['cum_div_date'] = split_adjusted_dividends.index.map(\\\n",
    "                lambda day : max(d for d in trading_dates_ticker if d < day))\n",
    "            \n",
    "            split_adjusted_dividends = split_adjusted_dividends[['amount', 'cum_div_date']]\n",
    "            split_adjusted_dividends.index.names = ['ex_div_date']\n",
    "\n",
    "            # We need to get the ex-dividend closing price. Most days this is on 16:00 ET. Some days have early closes.\n",
    "            market_hours = get_market_calendar('datetime')\n",
    "            market_hours = market_hours[['regular_close']]\n",
    "\n",
    "            split_adjusted_dividends.set_index(split_adjusted_dividends['cum_div_date'], inplace=True)\n",
    "            split_adjusted_dividends['cum_div_datetime'] = market_hours.loc[split_adjusted_dividends.index, 'regular_close']\n",
    "\n",
    "            # Sometimes the latest trade of the day is NOT the 15:59 bar exactly. \n",
    "            # So we need to get the latest available price at or before the close.\n",
    "            split_adjusted_dividends['cum_div_datetime'] = split_adjusted_dividends['cum_div_datetime'].apply(\\\n",
    "                lambda dt : (split_adjusted_bars[split_adjusted_bars.index <= dt].index).max())\n",
    "            split_adjusted_dividends.set_index(split_adjusted_dividends['cum_div_datetime'], inplace=True)\n",
    "            split_adjusted_dividends['cum_div_close'] = split_adjusted_bars.loc[split_adjusted_dividends['cum_div_datetime'], 'close']\n",
    "\n",
    "            # Calculate adjustments\n",
    "            split_adjusted_dividends['adjustment'] = 1 - (split_adjusted_dividends['amount'] / split_adjusted_dividends['cum_div_close'])\n",
    "            split_adjusted_dividends['cumulative_adjustment'] = split_adjusted_dividends['adjustment'][::-1].cumprod()\n",
    "\n",
    "            split_adjusted_dividends.set_index(split_adjusted_dividends['cum_div_date'], inplace=True, drop=True)\n",
    "            dividend_adjustments = split_adjusted_dividends[['cumulative_adjustment']]\n",
    "\n",
    "            dividend_adjustments = dividend_adjustments.reindex(trading_dates_ticker) # Reindex using stock data \n",
    "            dividend_adjustments['cumulative_adjustment'] = dividend_adjustments['cumulative_adjustment'].\\\n",
    "                fillna(method='bfill').fillna(value=1) # Backward fill and fill ones\n",
    "\n",
    "            # Same procedure as with split adjustments\n",
    "            all_adjusted_bars['date'] = all_adjusted_bars.index.date\n",
    "            all_adjusted_bars = all_adjusted_bars.merge(dividend_adjustments, left_on='date', right_index=True, how='left')\n",
    "            all_adjusted_bars[['open', 'high', 'low', 'close']] = all_adjusted_bars[['open', 'high', 'low', 'close']].\\\n",
    "                multiply(all_adjusted_bars[\"cumulative_adjustment\"], axis=\"index\")\n",
    "\n",
    "            all_adjusted_bars.drop(columns=['cumulative_adjustment', 'date'], inplace=True)\n",
    "    else:\n",
    "        all_adjusted_bars = split_adjusted_bars.copy()\n",
    "    # Round to 4 decimals\n",
    "    return round(all_adjusted_bars, 4)"
   ]
  },
  {
   "cell_type": "markdown",
   "metadata": {},
   "source": [
    "# 7.4 Reindexing and NA values"
   ]
  },
  {
   "cell_type": "markdown",
   "metadata": {},
   "source": [
    "When reindexing we need to get a list of all minutes. Since we will also have to do this in the backtester (which loops over the minutes), we will store it and create a function to retrieve it."
   ]
  },
  {
   "cell_type": "code",
   "execution_count": 30,
   "metadata": {},
   "outputs": [],
   "source": [
    "###\n",
    "market_hours = get_market_calendar()\n",
    "\n",
    "# Get all minutes from trading days\n",
    "trading_datetimes = pd.date_range(start=market_hours.index[0], \\\n",
    "                                  end=datetime.combine(market_hours.index[-1], time(23, 59)), freq='min', name='datetime')\n",
    "trading_datetimes[(trading_datetimes.time >= time(4, 0)) & (trading_datetimes.time <= time(19, 59))]\n",
    "\n",
    "# Filter to all trading minutes in trading days\n",
    "trading_datetimes = trading_datetimes[trading_datetimes.to_series().dt.date.isin(market_hours.index)]\n",
    "trading_datetimes = trading_datetimes[(trading_datetimes.time >= time(4)) & (trading_datetimes.time <= time(19, 59))] \n",
    "\n",
    "# Remove the minutes in early closes (from 17:00 to 19:59 there is no post-market on early close days)\n",
    "early_closes = market_hours[market_hours['postmarket_close'] != time(19, 59)]\n",
    "for day, early_close in early_closes.iterrows():\n",
    "    postmarket_close = early_close['postmarket_close']\n",
    "    trading_datetimes = trading_datetimes[~((trading_datetimes > datetime.combine(day, early_close['postmarket_close'])) \\\n",
    "                                            & (trading_datetimes <= datetime.combine(day, time(19, 59)) ) )] \n",
    "\n",
    "pd.DataFrame(index=trading_datetimes).to_parquet(DATA_PATH + 'market/trading_minutes.parquet')"
   ]
  },
  {
   "cell_type": "code",
   "execution_count": 5,
   "metadata": {},
   "outputs": [],
   "source": [
    "from functools import lru_cache\n",
    "\n",
    "# This decorator ensures that when we call a function the output is stored for future calls.\n",
    "# This is useful if executing the function is expensive and gets called a lot.\n",
    "@lru_cache\n",
    "def get_market_minutes():\n",
    "    trading_datetimes = pd.read_parquet(DATA_PATH + 'market/trading_minutes.parquet')\n",
    "    return pd.to_datetime(trading_datetimes.index)"
   ]
  },
  {
   "cell_type": "code",
   "execution_count": 6,
   "metadata": {},
   "outputs": [],
   "source": [
    "def reindex_and_fill(bars):\n",
    "    # Get the days the ticker is trading\n",
    "    ticker_days = sorted(list(set(bars.index.date)))\n",
    "    market_datetimes = get_market_minutes()\n",
    "    ticker_datetimes = market_datetimes[(market_datetimes.date >= ticker_days[0]) & (market_datetimes.date <= ticker_days[-1])]\n",
    "\n",
    "    # Reindex\n",
    "    bars = bars.reindex(ticker_datetimes)\n",
    "\n",
    "    # Fill NA values\n",
    "    bars['tradeable'] = ~bars['turnover'].isna()\n",
    "    bars['turnover'] = bars['turnover'].fillna(value=0) \n",
    "\n",
    "    bars[\"close\"] = bars[\"close\"].fillna(method=\"ffill\")\n",
    "    bars[\"close_original\"] = bars[\"close_original\"].fillna(method=\"ffill\")\n",
    "    bars[\"open\"] = bars[\"open\"].fillna(bars[\"close\"])\n",
    "    bars[\"low\"] = bars[\"low\"].fillna(bars[\"close\"])\n",
    "    bars[\"high\"] = bars[\"high\"].fillna(bars[\"close\"])\n",
    "\n",
    "    # Only affects the very start. Else backfill shouldn't be used because of look-ahead bias.\n",
    "    bars[\"open\"] = bars[\"open\"].fillna(method=\"bfill\")\n",
    "    \n",
    "    bars[\"close\"] = bars[\"close\"].fillna(bars[\"open\"])\n",
    "    bars[\"close_original\"] = bars[\"close_original\"].fillna(method='bfill') # Technically we should get the open_original, but I am not going to bother with the untradeable bars at the start that will never be used.\n",
    "    bars[\"low\"] = bars[\"low\"].fillna(bars[\"open\"])\n",
    "    bars[\"high\"] = bars[\"high\"].fillna(bars[\"open\"])\n",
    "    \n",
    "    return bars"
   ]
  },
  {
   "cell_type": "code",
   "execution_count": 35,
   "metadata": {},
   "outputs": [
    {
     "data": {
      "text/html": [
       "<div>\n",
       "<style scoped>\n",
       "    .dataframe tbody tr th:only-of-type {\n",
       "        vertical-align: middle;\n",
       "    }\n",
       "\n",
       "    .dataframe tbody tr th {\n",
       "        vertical-align: top;\n",
       "    }\n",
       "\n",
       "    .dataframe thead th {\n",
       "        text-align: right;\n",
       "    }\n",
       "</style>\n",
       "<table border=\"1\" class=\"dataframe\">\n",
       "  <thead>\n",
       "    <tr style=\"text-align: right;\">\n",
       "      <th></th>\n",
       "      <th>open</th>\n",
       "      <th>high</th>\n",
       "      <th>low</th>\n",
       "      <th>close</th>\n",
       "      <th>close_original</th>\n",
       "      <th>turnover</th>\n",
       "      <th>tradeable</th>\n",
       "    </tr>\n",
       "    <tr>\n",
       "      <th>datetime</th>\n",
       "      <th></th>\n",
       "      <th></th>\n",
       "      <th></th>\n",
       "      <th></th>\n",
       "      <th></th>\n",
       "      <th></th>\n",
       "      <th></th>\n",
       "    </tr>\n",
       "  </thead>\n",
       "  <tbody>\n",
       "    <tr>\n",
       "      <th>2007-05-30 04:00:00</th>\n",
       "      <td>79.8984</td>\n",
       "      <td>79.8984</td>\n",
       "      <td>79.8984</td>\n",
       "      <td>79.8984</td>\n",
       "      <td>45.79</td>\n",
       "      <td>0.0</td>\n",
       "      <td>False</td>\n",
       "    </tr>\n",
       "    <tr>\n",
       "      <th>2007-05-30 04:01:00</th>\n",
       "      <td>79.8984</td>\n",
       "      <td>79.8984</td>\n",
       "      <td>79.8984</td>\n",
       "      <td>79.8984</td>\n",
       "      <td>45.79</td>\n",
       "      <td>0.0</td>\n",
       "      <td>False</td>\n",
       "    </tr>\n",
       "    <tr>\n",
       "      <th>2007-05-30 04:02:00</th>\n",
       "      <td>79.8984</td>\n",
       "      <td>79.8984</td>\n",
       "      <td>79.8984</td>\n",
       "      <td>79.8984</td>\n",
       "      <td>45.79</td>\n",
       "      <td>0.0</td>\n",
       "      <td>False</td>\n",
       "    </tr>\n",
       "  </tbody>\n",
       "</table>\n",
       "</div>"
      ],
      "text/plain": [
       "                        open     high      low    close  close_original  \\\n",
       "datetime                                                                  \n",
       "2007-05-30 04:00:00  79.8984  79.8984  79.8984  79.8984           45.79   \n",
       "2007-05-30 04:01:00  79.8984  79.8984  79.8984  79.8984           45.79   \n",
       "2007-05-30 04:02:00  79.8984  79.8984  79.8984  79.8984           45.79   \n",
       "\n",
       "                     turnover  tradeable  \n",
       "datetime                                  \n",
       "2007-05-30 04:00:00       0.0      False  \n",
       "2007-05-30 04:01:00       0.0      False  \n",
       "2007-05-30 04:02:00       0.0      False  "
      ]
     },
     "execution_count": 35,
     "metadata": {},
     "output_type": "execute_result"
    }
   ],
   "source": [
    "bars = pd.read_parquet(f\"{DATA_PATH}raw/m1/BIL.parquet\")\n",
    "split_adjusted_bars = split_adjust(bars, \"BIL\")\n",
    "all_adjusted_bars = div_adjust(split_adjusted_bars, \"BIL\")\n",
    "reindex_and_fill(all_adjusted_bars).head(3)"
   ]
  },
  {
   "cell_type": "markdown",
   "metadata": {},
   "source": [
    "# 7.5 Putting it all in a loop\n",
    "Later on, I got an error which was caused by stock prices being negative. This is caused by some special events (with a dividend type of 'SC'), where Polygon has already adjusted for it... We avoid this problem by manually deleting the dividend/split in the adjustment:\n",
    "* GEN: 2020-02-03\n",
    "* LIAN: 2024-02-26\n",
    "* BBVA: 2014-12-17 (split)\n",
    "* IRSA: the dividends are NOT split adjusted. Split adjust manually.\n",
    "* KELYB: remove the 2015-05-14 dividend and add it to the dividend before. This ticker has almost no data. Same with 2018-05-21.\n",
    "* KGC: remove the 2004-12-05 and 2004-12-06 split.\n",
    "* SFE: remove the 2024-01-16 split. Apparently sometimes companies do a 100-to-1 and 1-to-100 at the same time to weed out shareholders that have less than 100 shares in some rare scenarios. When one of the two misses, we may get very incorrect prices.\n",
    "* SPC: I have no idea what happened here. The stock price from 2005-2008 went from 40 to 0. No stock splits found. The ticker went delisted and then came back as SPB. However when looking at the TradingView charts, the price didn't seem to move much. I also couldn't find any dividends in the period 2005-2008 online. I will simply delete the dividend file.\n"
   ]
  },
  {
   "cell_type": "code",
   "execution_count": 10,
   "metadata": {},
   "outputs": [],
   "source": [
    "tickers_v3 = get_tickers(v=3)\n",
    "for index, row in tickers_v3.iterrows():\n",
    "    id = row['ID']\n",
    "    ticker = row[\"ticker\"]\n",
    "    start_date = row['start_date']\n",
    "    end_date = row['end_date']\n",
    "\n",
    "    try:\n",
    "        dataset = pq.ParquetDataset(\n",
    "            DATA_PATH + f\"raw/m1/{ticker}.parquet\",\n",
    "            filters=[\n",
    "                (\"datetime\", \">=\", datetime.combine(start_date, time(4))),\n",
    "                (\"datetime\", \"<=\", datetime.combine(end_date, time(20))),\n",
    "            ],\n",
    "        )\n",
    "    except FileNotFoundError:\n",
    "        #print(f\"There is no data for {id}\")\n",
    "        continue\n",
    "\n",
    "    bars = dataset.read().to_pandas()\n",
    "    if bars.empty:\n",
    "        #print(f\"There is no data for {id}\")\n",
    "        continue\n",
    "\n",
    "    # ADJUSTING\n",
    "    split_adjusted_bars = split_adjust(bars, ticker)\n",
    "    all_adjusted = div_adjust(split_adjusted_bars, ticker)\n",
    "\n",
    "    # FORWARD FILLING\n",
    "    all_adjusted = reindex_and_fill(all_adjusted)\n",
    "\n",
    "    # ROUNDING: TO 4 DECIMALS, TURNOVER TO INT\n",
    "    all_adjusted = round(all_adjusted, 4)\n",
    "    all_adjusted['turnover'] = all_adjusted['turnover'].astype(int)\n",
    "\n",
    "    if (all_adjusted['close'] < 0).any():\n",
    "        print(f'{id} has negative prices!')\n",
    "        #raise Exception(f'{id} has negative prices!')\n",
    "    \n",
    "    all_adjusted.to_parquet(DATA_PATH + f\"processed/m1/{id}.parquet\", engine=\"fastparquet\", row_group_offsets=25000)"
   ]
  },
  {
   "cell_type": "markdown",
   "metadata": {},
   "source": [
    "# 7.6 Updating the ticker list\n",
    "Now that we have the data, we can add two columns <code>start_data</code> and <code>end_data</code>."
   ]
  },
  {
   "cell_type": "code",
   "execution_count": 3,
   "metadata": {},
   "outputs": [],
   "source": [
    "import pyarrow.parquet as pq\n",
    "\n",
    "tickers_v3 = get_tickers(v=3)\n",
    "tickers_v3[\"start_data\"] = np.nan\n",
    "tickers_v3[\"end_data\"] = np.nan\n",
    "\n",
    "for index, row in tickers_v3.iterrows():\n",
    "    id = row['ID']\n",
    "    try:\n",
    "        dataset = pq.ParquetFile(DATA_PATH + f\"processed/m1/{id}.parquet\")\n",
    "    except FileNotFoundError:\n",
    "        #print(f\"There is no data for {id}\")\n",
    "        continue\n",
    "\n",
    "    # Reading metadata (statistics) of first and last row group. This avoids reading the entire file.\n",
    "    # Reading everything from the datetime column and getting first/last row took 8 minutes. This took less than 50 sec.\n",
    "    metadata_first_row_group = dataset.metadata.row_group(0)\n",
    "    metadata_last_row_group = dataset.metadata.row_group(dataset.num_row_groups-1)\n",
    "    # Retrieve statistics\n",
    "    min_date = metadata_first_row_group.column(0).statistics.min\n",
    "    max_date = metadata_last_row_group.column(0).statistics.max\n",
    "    # Convert to date\n",
    "    start_data = min_date.to_pydatetime().date()\n",
    "    end_data = max_date.to_pydatetime().date()\n",
    "    \n",
    "    tickers_v3.loc[tickers_v3['ID'] == id, [\"start_data\", \"end_data\"] ] = [start_data, end_data]\n",
    "    \n",
    "tickers_v3.reset_index(inplace=True)\n",
    "tickers_v3[[\"ID\", \"ticker\", \"name\", \"active\", \"start_date\", \"end_date\", \"start_data\", \"end_data\", \"type\", \"cik\", \"composite_figi\"]].to_csv(\"../data/tickers_v4.csv\")"
   ]
  },
  {
   "cell_type": "code",
   "execution_count": 4,
   "metadata": {},
   "outputs": [
    {
     "data": {
      "text/html": [
       "<div>\n",
       "<style scoped>\n",
       "    .dataframe tbody tr th:only-of-type {\n",
       "        vertical-align: middle;\n",
       "    }\n",
       "\n",
       "    .dataframe tbody tr th {\n",
       "        vertical-align: top;\n",
       "    }\n",
       "\n",
       "    .dataframe thead th {\n",
       "        text-align: right;\n",
       "    }\n",
       "</style>\n",
       "<table border=\"1\" class=\"dataframe\">\n",
       "  <thead>\n",
       "    <tr style=\"text-align: right;\">\n",
       "      <th></th>\n",
       "      <th>ID</th>\n",
       "      <th>ticker</th>\n",
       "      <th>name</th>\n",
       "      <th>active</th>\n",
       "      <th>start_date</th>\n",
       "      <th>end_date</th>\n",
       "      <th>start_data</th>\n",
       "      <th>end_data</th>\n",
       "      <th>type</th>\n",
       "    </tr>\n",
       "  </thead>\n",
       "  <tbody>\n",
       "    <tr>\n",
       "      <th>0</th>\n",
       "      <td>A-2003-09-10</td>\n",
       "      <td>A</td>\n",
       "      <td>AGILENT TECHNOLOGIES, INC</td>\n",
       "      <td>False</td>\n",
       "      <td>2003-09-10</td>\n",
       "      <td>2005-11-22</td>\n",
       "      <td>2003-09-10</td>\n",
       "      <td>2005-11-22</td>\n",
       "      <td>CS</td>\n",
       "    </tr>\n",
       "    <tr>\n",
       "      <th>1</th>\n",
       "      <td>A-2005-12-14</td>\n",
       "      <td>A</td>\n",
       "      <td>Agilent Technologies Inc.</td>\n",
       "      <td>True</td>\n",
       "      <td>2005-12-14</td>\n",
       "      <td>2024-04-19</td>\n",
       "      <td>2005-12-14</td>\n",
       "      <td>2024-04-19</td>\n",
       "      <td>CS</td>\n",
       "    </tr>\n",
       "    <tr>\n",
       "      <th>2</th>\n",
       "      <td>AA-2003-09-10</td>\n",
       "      <td>AA</td>\n",
       "      <td>Alcoa Corporation</td>\n",
       "      <td>True</td>\n",
       "      <td>2003-09-10</td>\n",
       "      <td>2024-04-19</td>\n",
       "      <td>2003-09-10</td>\n",
       "      <td>2024-04-19</td>\n",
       "      <td>CS</td>\n",
       "    </tr>\n",
       "  </tbody>\n",
       "</table>\n",
       "</div>"
      ],
      "text/plain": [
       "              ID ticker                       name  active  start_date  \\\n",
       "0   A-2003-09-10      A  AGILENT TECHNOLOGIES, INC   False  2003-09-10   \n",
       "1   A-2005-12-14      A  Agilent Technologies Inc.    True  2005-12-14   \n",
       "2  AA-2003-09-10     AA          Alcoa Corporation    True  2003-09-10   \n",
       "\n",
       "     end_date  start_data    end_data type  \n",
       "0  2005-11-22  2003-09-10  2005-11-22   CS  \n",
       "1  2024-04-19  2005-12-14  2024-04-19   CS  \n",
       "2  2024-04-19  2003-09-10  2024-04-19   CS  "
      ]
     },
     "execution_count": 4,
     "metadata": {},
     "output_type": "execute_result"
    }
   ],
   "source": [
    "tickers_v4 = get_tickers(v=4)\n",
    "tickers_v4['start_data'] = pd.to_datetime(tickers_v4['start_data']).dt.date\n",
    "tickers_v4['end_data'] = pd.to_datetime(tickers_v4['end_data']).dt.date\n",
    "tickers_v4.iloc[:3, :9].head(3)"
   ]
  },
  {
   "cell_type": "markdown",
   "metadata": {},
   "source": [
    "Some stocks have zero data. There are the tickers with only ghost days. We can safely remove those."
   ]
  },
  {
   "cell_type": "code",
   "execution_count": 5,
   "metadata": {},
   "outputs": [
    {
     "name": "stdout",
     "output_type": "stream",
     "text": [
      "282\n"
     ]
    },
    {
     "data": {
      "text/html": [
       "<div>\n",
       "<style scoped>\n",
       "    .dataframe tbody tr th:only-of-type {\n",
       "        vertical-align: middle;\n",
       "    }\n",
       "\n",
       "    .dataframe tbody tr th {\n",
       "        vertical-align: top;\n",
       "    }\n",
       "\n",
       "    .dataframe thead th {\n",
       "        text-align: right;\n",
       "    }\n",
       "</style>\n",
       "<table border=\"1\" class=\"dataframe\">\n",
       "  <thead>\n",
       "    <tr style=\"text-align: right;\">\n",
       "      <th></th>\n",
       "      <th>ID</th>\n",
       "      <th>ticker</th>\n",
       "      <th>name</th>\n",
       "      <th>active</th>\n",
       "      <th>start_date</th>\n",
       "      <th>end_date</th>\n",
       "      <th>start_data</th>\n",
       "      <th>end_data</th>\n",
       "      <th>type</th>\n",
       "    </tr>\n",
       "  </thead>\n",
       "  <tbody>\n",
       "    <tr>\n",
       "      <th>4</th>\n",
       "      <td>AAAA-2007-10-31</td>\n",
       "      <td>AAAA</td>\n",
       "      <td>ALTAS INDUSRIES HOLDINGS LLC COM</td>\n",
       "      <td>False</td>\n",
       "      <td>2007-10-31</td>\n",
       "      <td>2007-11-29</td>\n",
       "      <td>NaT</td>\n",
       "      <td>NaT</td>\n",
       "      <td>CS</td>\n",
       "    </tr>\n",
       "    <tr>\n",
       "      <th>5</th>\n",
       "      <td>AAAP-2015-02-04</td>\n",
       "      <td>AAAP</td>\n",
       "      <td>ADVANCED ACCELERATOR APPLICATIONS S A SPONSORE...</td>\n",
       "      <td>False</td>\n",
       "      <td>2015-02-04</td>\n",
       "      <td>2015-02-05</td>\n",
       "      <td>NaT</td>\n",
       "      <td>NaT</td>\n",
       "      <td>ADRC</td>\n",
       "    </tr>\n",
       "    <tr>\n",
       "      <th>113</th>\n",
       "      <td>ABPI-2005-07-01</td>\n",
       "      <td>ABPI</td>\n",
       "      <td>ACCENTIA BIOPHARMACEUTICALS, INC.</td>\n",
       "      <td>False</td>\n",
       "      <td>2005-07-01</td>\n",
       "      <td>2005-07-22</td>\n",
       "      <td>NaT</td>\n",
       "      <td>NaT</td>\n",
       "      <td>CS</td>\n",
       "    </tr>\n",
       "  </tbody>\n",
       "</table>\n",
       "</div>"
      ],
      "text/plain": [
       "                  ID ticker  \\\n",
       "4    AAAA-2007-10-31   AAAA   \n",
       "5    AAAP-2015-02-04   AAAP   \n",
       "113  ABPI-2005-07-01   ABPI   \n",
       "\n",
       "                                                  name  active  start_date  \\\n",
       "4                     ALTAS INDUSRIES HOLDINGS LLC COM   False  2007-10-31   \n",
       "5    ADVANCED ACCELERATOR APPLICATIONS S A SPONSORE...   False  2015-02-04   \n",
       "113                  ACCENTIA BIOPHARMACEUTICALS, INC.   False  2005-07-01   \n",
       "\n",
       "       end_date start_data end_data  type  \n",
       "4    2007-11-29        NaT      NaT    CS  \n",
       "5    2015-02-05        NaT      NaT  ADRC  \n",
       "113  2005-07-22        NaT      NaT    CS  "
      ]
     },
     "execution_count": 5,
     "metadata": {},
     "output_type": "execute_result"
    }
   ],
   "source": [
    "zero_data = tickers_v4[tickers_v4['start_data'].isna()]\n",
    "print(len(zero_data))\n",
    "zero_data.iloc[:3, :9].head(3)"
   ]
  },
  {
   "cell_type": "code",
   "execution_count": 6,
   "metadata": {},
   "outputs": [],
   "source": [
    "tickers_v4 = tickers_v4[~(tickers_v4['start_data'].isna() & (tickers_v4['type'] != \"INDEX\"))]\n",
    "tickers_v4.reset_index(inplace=True, drop=True)\n",
    "tickers_v4.to_csv(\"../data/tickers_v4.csv\")"
   ]
  },
  {
   "cell_type": "markdown",
   "metadata": {},
   "source": [
    "# 7.7 Updates\n",
    "- Load the functions\n",
    "- Update trading_minutes\n",
    "- Put everything in m1_renamed to m1, to reverse renamings.\n",
    "- Run below cells.\n",
    "- Run 7.6\n",
    "\n",
    "Loop through v3:\n",
    "- If the ID is in the (old) <code>tickers_v4</code> and <code>end_date</code>(v3) is larger than the old_END_DATE (v4), then we know this is a ticker that kept its listing. Do the processing on the new part only. However we must not forget that adjustments carry over to the old data. If in the new data there is a 100:1 split, all old data has to be multiplied with 100x. (Adjustments are really annoying. Dividends and splits should just be banned. Brokers should just quote in 10e-6 for stocks that dilute to infinity. Dividends can be perfectly replaced with share buybacks.)\n",
    "- If the ID is not in <code>tickers_v4</code> AND start_date (v3) is larger than old_END_DATE, it's a new listing. Do the processing on the entire file."
   ]
  },
  {
   "cell_type": "code",
   "execution_count": 7,
   "metadata": {},
   "outputs": [],
   "source": [
    "from times import first_trading_date_after\n",
    "from fastparquet import write\n",
    "import pyarrow.parquet as pq"
   ]
  },
  {
   "cell_type": "code",
   "execution_count": 8,
   "metadata": {},
   "outputs": [],
   "source": [
    "old_tickers_v4 = pd.read_csv(\"../data/tickers_v4_OLD.csv\", index_col=0)\n",
    "old_tickers_v4 = old_tickers_v4[old_tickers_v4['type'].isin(['CS', 'ADRC', 'ETN', 'ETV', 'ETF'])]\n",
    "old_END_DATE = date.fromisoformat(old_tickers_v4['end_date'].max())\n",
    "old_IDs = list(old_tickers_v4['ID'])\n",
    "\n",
    "process_from_dt = datetime.combine(first_trading_date_after(old_END_DATE), time(4))"
   ]
  },
  {
   "cell_type": "code",
   "execution_count": 12,
   "metadata": {},
   "outputs": [],
   "source": [
    "tickers_v3 = get_tickers(v=3, types=[\"CS\", \"ADRC\", \"ETF\", \"ETN\", \"ETV\"])\n",
    "\n",
    "for index, row in tickers_v3.iterrows():\n",
    "    id = row[\"ID\"]\n",
    "    ticker = row[\"ticker\"]\n",
    "    start_date = row[\"start_date\"]\n",
    "    end_date = row[\"end_date\"]\n",
    "\n",
    "    if id in old_IDs and end_date > old_END_DATE:\n",
    "        try:\n",
    "            dataset = pq.ParquetDataset(\n",
    "            DATA_PATH + f\"raw/m1/{id}.parquet\", filters=[(\"datetime\", \">=\", process_from_dt)])\n",
    "        except FileNotFoundError:\n",
    "            print(f\"There is no data for {id}\")\n",
    "            continue\n",
    "\n",
    "        bars = dataset.read().to_pandas()\n",
    "\n",
    "        if bars.empty:\n",
    "            continue\n",
    "\n",
    "        # ADJUSTING\n",
    "        split_adjusted_bars = split_adjust(bars, ticker)\n",
    "        all_adjusted = div_adjust(split_adjusted_bars, ticker)\n",
    "\n",
    "        # FORWARD FILLING\n",
    "        all_adjusted = reindex_and_fill(all_adjusted)\n",
    "\n",
    "        # ROUNDING: TO 4 DECIMALS, TURNOVER TO INT\n",
    "        all_adjusted = round(all_adjusted, 4)\n",
    "        all_adjusted['turnover'] = all_adjusted['turnover'].astype(int)\n",
    "\n",
    "        if (all_adjusted['close'] < 0).any():\n",
    "            raise Exception(f'{id} has negative prices!')\n",
    "\n",
    "        # Of course, an adjustment can take place on exactly the boundary.\n",
    "        has_adjustments = False\n",
    "        if os.path.isfile(DATA_PATH + f\"raw/adjustments/{ticker}.csv\"):\n",
    "            adjustments = pd.read_csv(DATA_PATH + f\"raw/adjustments/{ticker}.csv\", parse_dates=True, index_col=0)\n",
    "            adjustments.index = pd.to_datetime(adjustments.index).date\n",
    "            adjustments = adjustments[(adjustments.index == first_trading_date_after(old_END_DATE))]\n",
    "            has_adjustments = True\n",
    "\n",
    "        # Adjustment need to carry over, however we first process the adjustments on the boundary.\n",
    "        new_bars_first_bar = all_adjusted.iloc[0]\n",
    "        adjustment_factor = new_bars_first_bar['close'] / new_bars_first_bar['close_original']\n",
    "        if has_adjustments or adjustment_factor != 1:\n",
    "            old_bars = pd.read_parquet(DATA_PATH + f\"processed/m1/{id}.parquet\")\n",
    "\n",
    "        if has_adjustments:\n",
    "            # SPLIT ADJUSTMENT\n",
    "            split = adjustments[adjustments.type == 'SPLIT']\n",
    "            if len(split) > 0:\n",
    "                split_amount = split['amount'][0]\n",
    "                old_bars[['open', 'high', 'low', 'close']] = old_bars[['open', 'high', 'low', 'close']].multiply(split_amount)\n",
    "\n",
    "            # DIVIDEND ADJUSTMENT - REUN is the only case, not clear what happened there, likely a 'special dividend'\n",
    "            dividend = adjustments[adjustments.type == 'DIV']\n",
    "            if len(dividend) > 0:\n",
    "                market_hours = get_market_calendar()\n",
    "                market_hours = market_hours[['regular_close']]\n",
    "\n",
    "                cum_div_date = old_END_DATE\n",
    "                cum_div_time = market_hours.loc[cum_div_date][0]\n",
    "                cum_div_datetime = datetime.combine(cum_div_date, cum_div_time)\n",
    "                cum_div_datetime = (old_bars[old_bars.index <= cum_div_datetime].index).max()\n",
    "                cum_div_close = old_bars.loc[cum_div_datetime, 'close']\n",
    "                dividend_amount = dividend['amount'][0]\n",
    "                    \n",
    "                adjustment_factor = 1 - dividend_amount/cum_div_close\n",
    "\n",
    "                old_bars[['open', 'high', 'low', 'close']] = old_bars[['open', 'high', 'low', 'close']].multiply(adjustment_factor)\n",
    "\n",
    "            # ROUNDING\n",
    "            if len(split) > 0 or len(dividend) > 0:\n",
    "                old_bars = round(old_bars, 4)\n",
    "                old_bars['turnover'] = old_bars['turnover'].astype(int)\n",
    "\n",
    "        # New adjustments carry over to old data...\n",
    "        new_bars_first_bar = all_adjusted.iloc[0]\n",
    "        adjustment_factor = new_bars_first_bar['close'] / new_bars_first_bar['close_original']\n",
    "\n",
    "        if adjustment_factor != 1:\n",
    "            old_bars[['open', 'high', 'low', 'close']] = old_bars[['open', 'high', 'low', 'close']].multiply(adjustment_factor)\n",
    "            old_bars = round(old_bars, 4)\n",
    "        \n",
    "        if has_adjustments or adjustment_factor != 1:\n",
    "            all_bars = pd.concat([old_bars, all_adjusted])\n",
    "            # Because not all stocks trade on all days, there may be a gap between the old and new bars. We have to refill them.\n",
    "            reindex_and_fill(all_bars).to_parquet(DATA_PATH + f\"processed/m1/{id}.parquet\", engine=\"fastparquet\", row_group_offsets=25000)\n",
    "        else:\n",
    "            write(DATA_PATH + f\"processed/m1/{id}.parquet\", all_adjusted, append=True)\n",
    "\n",
    "    elif id not in old_IDs and start_date > old_END_DATE:\n",
    "        try:\n",
    "            bars = pd.read_parquet(f\"{DATA_PATH}raw/m1/{id}.parquet\")\n",
    "        except FileNotFoundError:\n",
    "            print(f\"There is no data for {id}\")\n",
    "            continue\n",
    "\n",
    "        # ADJUSTING\n",
    "        split_adjusted_bars = split_adjust(bars, ticker)\n",
    "        all_adjusted = div_adjust(split_adjusted_bars, ticker)\n",
    "\n",
    "        # FORWARD FILLING\n",
    "        all_adjusted = reindex_and_fill(all_adjusted)\n",
    "\n",
    "        # ROUNDING: TO 4 DECIMALS, TURNOVER TO INT\n",
    "        all_adjusted = round(all_adjusted, 4)\n",
    "        all_adjusted['turnover'] = all_adjusted['turnover'].astype(int)\n",
    "\n",
    "        if (all_adjusted['close'] < 0).any():\n",
    "            raise Exception(f'{id} has negative prices!')\n",
    "        \n",
    "        all_adjusted.to_parquet(DATA_PATH + f\"processed/m1/{id}.parquet\", engine=\"fastparquet\", row_group_offsets=25000)\n"
   ]
  },
  {
   "cell_type": "code",
   "execution_count": null,
   "metadata": {},
   "outputs": [],
   "source": [
    "# all_files = os.listdir(DATA_PATH + f'raw/adjustments/')\n",
    "# for index, file in enumerate(all_files):\n",
    "#     adjustments = pd.read_csv(DATA_PATH + f'raw/adjustments/{file}')\n",
    "#     if not adjustments[adjustments['type'] == 'DIV'].empty:\n",
    "#         dividends = adjustments[adjustments['type'] == 'DIV']\n",
    "#         indices_to_remove = dividends[dividends[['date', 'type']].duplicated(keep='last')].index\n",
    "#         adjustments = adjustments.drop(index=indices_to_remove)\n",
    "#     if not adjustments[adjustments['type'] == 'SPLIT'].empty:\n",
    "#         splits = adjustments[adjustments['type'] == 'SPLIT']\n",
    "#         indices_to_remove = splits[splits[['date', 'type']].duplicated(keep='last')].index\n",
    "#         adjustments = adjustments.drop(index=indices_to_remove)\n",
    "#     adjustments.to_csv(DATA_PATH + f'raw/adjustments/{file}', index=False)"
   ]
  },
  {
   "cell_type": "markdown",
   "metadata": {},
   "source": []
  }
 ],
 "metadata": {
  "kernelspec": {
   "display_name": "algotrading",
   "language": "python",
   "name": "python3"
  },
  "language_info": {
   "codemirror_mode": {
    "name": "ipython",
    "version": 3
   },
   "file_extension": ".py",
   "mimetype": "text/x-python",
   "name": "python",
   "nbconvert_exporter": "python",
   "pygments_lexer": "ipython3",
   "version": "3.11.4"
  }
 },
 "nbformat": 4,
 "nbformat_minor": 2
}
