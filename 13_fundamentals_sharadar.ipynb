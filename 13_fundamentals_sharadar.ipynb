{
 "cells": [
  {
   "cell_type": "markdown",
   "metadata": {},
   "source": [
    "# Fundamentals using Sharadar\n",
    "Sharadar does have recycled tickers (although not all, see AAC)."
   ]
  },
  {
   "cell_type": "code",
   "execution_count": 1,
   "metadata": {},
   "outputs": [],
   "source": [
    "from datetime import datetime, date, time, timedelta\n",
    "from times import get_market_dates, get_market_calendar, last_trading_date_before\n",
    "from data import get_data\n",
    "from tickers import get_tickers\n",
    "from polygon.rest import RESTClient\n",
    "import json\n",
    "import numpy as np\n",
    "import ast\n",
    "import pandas as pd"
   ]
  },
  {
   "cell_type": "code",
   "execution_count": 34,
   "metadata": {},
   "outputs": [],
   "source": [
    "fundamentals = pd.read_parquet('../data/other/sharadar_SF1.parquet')\n",
    "fundamentals['datekey'] = pd.to_datetime(fundamentals['datekey']).dt.date\n"
   ]
  },
  {
   "cell_type": "markdown",
   "metadata": {},
   "source": [
    "Create ticker mapping based on cik"
   ]
  },
  {
   "cell_type": "code",
   "execution_count": 35,
   "metadata": {},
   "outputs": [
    {
     "data": {
      "text/html": [
       "<div>\n",
       "<style scoped>\n",
       "    .dataframe tbody tr th:only-of-type {\n",
       "        vertical-align: middle;\n",
       "    }\n",
       "\n",
       "    .dataframe tbody tr th {\n",
       "        vertical-align: top;\n",
       "    }\n",
       "\n",
       "    .dataframe thead th {\n",
       "        text-align: right;\n",
       "    }\n",
       "</style>\n",
       "<table border=\"1\" class=\"dataframe\">\n",
       "  <thead>\n",
       "    <tr style=\"text-align: right;\">\n",
       "      <th></th>\n",
       "      <th>ticker</th>\n",
       "      <th>cik</th>\n",
       "    </tr>\n",
       "    <tr>\n",
       "      <th>None</th>\n",
       "      <th></th>\n",
       "      <th></th>\n",
       "    </tr>\n",
       "  </thead>\n",
       "  <tbody>\n",
       "    <tr>\n",
       "      <th>0</th>\n",
       "      <td>PODC</td>\n",
       "      <td>1940177</td>\n",
       "    </tr>\n",
       "    <tr>\n",
       "      <th>1</th>\n",
       "      <td>SWIN</td>\n",
       "      <td>1959224</td>\n",
       "    </tr>\n",
       "    <tr>\n",
       "      <th>2</th>\n",
       "      <td>IVP</td>\n",
       "      <td>1939365</td>\n",
       "    </tr>\n",
       "  </tbody>\n",
       "</table>\n",
       "</div>"
      ],
      "text/plain": [
       "     ticker      cik\n",
       "None                \n",
       "0      PODC  1940177\n",
       "1      SWIN  1959224\n",
       "2       IVP  1939365"
      ]
     },
     "execution_count": 35,
     "metadata": {},
     "output_type": "execute_result"
    }
   ],
   "source": [
    "sharadar_tickers = pd.read_csv('../data/other/sharadar_tickers.csv', index_col=0)\n",
    "ticker_cik_map = sharadar_tickers[['ticker', 'cik']]\n",
    "ticker_cik_map.head(3)"
   ]
  },
  {
   "cell_type": "code",
   "execution_count": 36,
   "metadata": {},
   "outputs": [],
   "source": [
    "fundamentals = fundamentals.merge(ticker_cik_map, how='left', left_on='ticker', right_on='ticker')\n",
    "fundamentals = fundamentals[~fundamentals['cik'].isna()]\n",
    "fundamentals['cik'] = fundamentals['cik'].astype(int)\n",
    "fundamentals = fundamentals.set_index('cik')\n",
    "fundamentals = fundamentals[['datekey', 'ticker', 'marketcap']]"
   ]
  },
  {
   "cell_type": "code",
   "execution_count": 37,
   "metadata": {},
   "outputs": [
    {
     "data": {
      "text/plain": [
       "2886167"
      ]
     },
     "execution_count": 37,
     "metadata": {},
     "output_type": "execute_result"
    }
   ],
   "source": [
    "len(fundamentals)"
   ]
  },
  {
   "cell_type": "code",
   "execution_count": 38,
   "metadata": {},
   "outputs": [
    {
     "data": {
      "text/plain": [
       "276333"
      ]
     },
     "execution_count": 38,
     "metadata": {},
     "output_type": "execute_result"
    }
   ],
   "source": [
    "len(fundamentals[fundamentals['marketcap'].isna()])"
   ]
  },
  {
   "cell_type": "code",
   "execution_count": 39,
   "metadata": {},
   "outputs": [
    {
     "data": {
      "text/html": [
       "<div>\n",
       "<style scoped>\n",
       "    .dataframe tbody tr th:only-of-type {\n",
       "        vertical-align: middle;\n",
       "    }\n",
       "\n",
       "    .dataframe tbody tr th {\n",
       "        vertical-align: top;\n",
       "    }\n",
       "\n",
       "    .dataframe thead th {\n",
       "        text-align: right;\n",
       "    }\n",
       "</style>\n",
       "<table border=\"1\" class=\"dataframe\">\n",
       "  <thead>\n",
       "    <tr style=\"text-align: right;\">\n",
       "      <th></th>\n",
       "      <th>datekey</th>\n",
       "      <th>ticker</th>\n",
       "      <th>marketcap</th>\n",
       "    </tr>\n",
       "    <tr>\n",
       "      <th>cik</th>\n",
       "      <th></th>\n",
       "      <th></th>\n",
       "      <th></th>\n",
       "    </tr>\n",
       "  </thead>\n",
       "  <tbody>\n",
       "    <tr>\n",
       "      <th>1090872</th>\n",
       "      <td>2000-01-25</td>\n",
       "      <td>A</td>\n",
       "      <td>3.059588e+10</td>\n",
       "    </tr>\n",
       "    <tr>\n",
       "      <th>1090872</th>\n",
       "      <td>2000-01-31</td>\n",
       "      <td>A</td>\n",
       "      <td>2.991788e+10</td>\n",
       "    </tr>\n",
       "    <tr>\n",
       "      <th>1090872</th>\n",
       "      <td>2000-03-15</td>\n",
       "      <td>A</td>\n",
       "      <td>5.166360e+10</td>\n",
       "    </tr>\n",
       "  </tbody>\n",
       "</table>\n",
       "</div>"
      ],
      "text/plain": [
       "            datekey ticker     marketcap\n",
       "cik                                     \n",
       "1090872  2000-01-25      A  3.059588e+10\n",
       "1090872  2000-01-31      A  2.991788e+10\n",
       "1090872  2000-03-15      A  5.166360e+10"
      ]
     },
     "execution_count": 39,
     "metadata": {},
     "output_type": "execute_result"
    }
   ],
   "source": [
    "fundamentals = fundamentals[~fundamentals['marketcap'].isna()]\n",
    "fundamentals = fundamentals.sort_values(by=['ticker', 'datekey']).drop_duplicates()\n",
    "fundamentals['marketcap_M'] = fundamentals['marketcap'] / 1_000_000\n",
    "fundamentals.head(3)"
   ]
  },
  {
   "cell_type": "code",
   "execution_count": null,
   "metadata": {},
   "outputs": [],
   "source": [
    "rows = [] # List of dataframes\n",
    "tickers = get_tickers(4, types=['CS', 'ADRC'])\n",
    "for index, row in tickers.iterrows():\n",
    "    id = row['ID']\n",
    "    ticker = id[:-11]\n",
    "\n",
    "    country = row['country']\n",
    "    cik = row['cik']\n",
    "    sic = row['sic']\n",
    "    start_data = row['start_data']\n",
    "    end_data = row['end_data']\n",
    "\n",
    "    if pd.isna(cik):\n",
    "        continue\n",
    "\n",
    "    try:\n",
    "        stock_fundamentals = fundamentals.loc[cik]\n",
    "    except KeyError:\n",
    "        continue\n",
    "    if isinstance(stock_fundamentals, pd.Series):\n",
    "        stock_fundamentals = fundamentals.loc[[cik]]\n",
    "\n",
    "    stock_fundamentals = stock_fundamentals[(stock_fundamentals.datekey >= start_data) & \\\n",
    "        (stock_fundamentals.datekey <= end_data)]\n",
    "        \n",
    "    stock_fundamentals = stock_fundamentals[['datekey', 'marketcap_M']]\n",
    "    stock_fundamentals = stock_fundamentals.rename(columns={'datekey': 'date'})\n",
    "    stock_fundamentals.index = [id] * len(stock_fundamentals)\n",
    "\n",
    "    stock_fundamentals['country'] = country\n",
    "    stock_fundamentals['sic'] = sic\n",
    "            \n",
    "    rows.append(stock_fundamentals)\n",
    "    print(index)\n",
    "\n",
    "market_cap_df = pd.concat(rows)\n",
    "market_cap_df.index.names = ['ID']\n",
    "market_cap_df.to_csv('../data/other/sharadar_processed.csv')"
   ]
  },
  {
   "cell_type": "code",
   "execution_count": 4,
   "metadata": {},
   "outputs": [],
   "source": [
    "tickers = get_tickers(4, types=['CS', 'ADRC'])"
   ]
  },
  {
   "cell_type": "code",
   "execution_count": 5,
   "metadata": {},
   "outputs": [
    {
     "name": "stdout",
     "output_type": "stream",
     "text": [
      "Amount of tickers: 17638\n",
      "Amount of stocks with marketcap: 14334\n"
     ]
    }
   ],
   "source": [
    "fundamentals = pd.read_csv('../data/other/sharadar_processed.csv')\n",
    "grouped_by_marketcap = fundamentals.groupby('ID').agg({'marketcap_M': 'last'}).dropna()\n",
    "\n",
    "print(f'Amount of tickers: {len(tickers)}')\n",
    "print(f\"Amount of stocks with marketcap: {len(grouped_by_marketcap)}\")"
   ]
  },
  {
   "cell_type": "code",
   "execution_count": 6,
   "metadata": {},
   "outputs": [],
   "source": [
    "no_market_cap_tickers = []\n",
    "for index, row in get_tickers(4, types=['CS', 'ADRC']).iterrows():\n",
    "    id = row['ID']\n",
    "    if id not in grouped_by_marketcap.index:\n",
    "        no_market_cap_tickers.append(id)\n",
    "\n",
    "no_market_cap = tickers[tickers['ID'].isin(no_market_cap_tickers)]\\\n",
    "    [['ID', 'name', 'start_data', 'end_data', 'type', 'cik', 'composite_figi']]\n",
    "no_market_cap.to_csv('../data/other/SHARADAR_no_marketcap.csv')"
   ]
  },
  {
   "cell_type": "markdown",
   "metadata": {},
   "source": [
    "The tickers that we could not match with CIK should be matched with ticker (taking into account ticker changes) or name."
   ]
  },
  {
   "cell_type": "markdown",
   "metadata": {},
   "source": []
  }
 ],
 "metadata": {
  "kernelspec": {
   "display_name": "algotrading",
   "language": "python",
   "name": "python3"
  },
  "language_info": {
   "codemirror_mode": {
    "name": "ipython",
    "version": 3
   },
   "file_extension": ".py",
   "mimetype": "text/x-python",
   "name": "python",
   "nbconvert_exporter": "python",
   "pygments_lexer": "ipython3",
   "version": "3.11.4"
  }
 },
 "nbformat": 4,
 "nbformat_minor": 2
}
