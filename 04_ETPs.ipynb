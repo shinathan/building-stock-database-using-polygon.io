{
 "cells": [
  {
   "cell_type": "markdown",
   "metadata": {},
   "source": [
    "# Adding ETPs\n",
    "We now only have a list of stocks. But we might also want to trade SPY, TLT or VXX. I am only interested in a selection of ETPs and indices; these were found by taking the most liquid ETF in its category at [etfdb.com](etfdb.com).\n",
    "\n",
    "* Size ETFs: \"SPY\", \"IJH\", \"IJR\", \n",
    "    * Large-cap, Mid-cap, Small-cap, \n",
    "* Bond ETFs: \"BIL\", \"SHY\", \"IEF\", \"TLT\", \"JPST\", \"VCSH\", \"VCIT\", \"VCLT\" \n",
    "    * risk-free (1-3M, 1-3Y, 7-10Y, 20+Y), corporate (Overnight, 1-5Y, 5-10Y, 10-25Y)\n",
    "* Regions: \"EEM\", \"IXUS\", + SPY\n",
    "* Region/Larger countries ETFs: \"FXI\", \"EEM\", \"VGK\", \"EWY\", \"EWZ\", \"EWJ\", \"INDA\", \"EWW\" + SPY\n",
    "    * Based on the Finviz map the largest region ETFs.\n",
    "* Country ETFs: 'EWA', 'EWO', 'EWK', 'EWC', 'EWQ', 'EWG', 'EWH', 'EWI', 'EWJ', 'EWM', 'EWW', 'EWN', 'EWS', 'EWP', 'EWD', 'EWL', 'EWU' + SPY\n",
    "    * The iShares ETFs that were released before 2000 and thus have a very long history of data. Often the most liquid.\n",
    "* Sector ETFs: \"XLE\", \"XLU\", \"XLK\", \"XLB\", \"XLP\", \"XLY\", \"XLC\", \"XLV\", \"XLF\", \"XLRE\"\n",
    "    * The sectors that Finviz also uses.\n",
    "* Commodity ETFs \"GLD\", \"SLV\"\n",
    "    * Gold, silver\n",
    "* Volatility ETPs: \"VXX\", \"UVIX\", \"SVIX\", \"SVXY\"\n",
    "    * Long, Long 2X, Short 1x, Short 0.5x (1x before and including 2018-02-27)\n",
    "\n",
    "*Note: ETPs is an umbrella term for ETFs, ETVs and ETNs. However most investors just refer to them as 'ETFs'.*"
   ]
  },
  {
   "cell_type": "code",
   "execution_count": null,
   "metadata": {},
   "outputs": [],
   "source": [
    "#####\n",
    "from polygon.rest import RESTClient\n",
    "from datetime import date\n",
    "from tickers import get_tickers\n",
    "from times import first_trading_date_after_equal, last_trading_date_before_equal\n",
    "import pandas as pd\n",
    "import numpy as np\n",
    "\n",
    "POLYGON_DATA_PATH = \"../data/polygon/\"\n",
    "START_DATE = first_trading_date_after_equal(date(2003, 9, 10))\n",
    "END_DATE = last_trading_date_before_equal(date(2024, 4, 19))\n",
    "\n",
    "with open(POLYGON_DATA_PATH + \"secret.txt\") as f:\n",
    "    KEY = next(f).strip()\n",
    "\n",
    "client = RESTClient(api_key=KEY)"
   ]
  },
  {
   "cell_type": "markdown",
   "metadata": {},
   "source": [
    "The ETFs can be added here manually."
   ]
  },
  {
   "cell_type": "code",
   "execution_count": 2,
   "metadata": {},
   "outputs": [],
   "source": [
    "size_ETFs = [\"SPY\", \"IJH\", \"IJR\"]\n",
    "bond_ETFs = [\"BIL\", \"SHY\", \"IEF\", \"TLT\", \"JPST\", \"VCSH\", \"VCIT\", \"VCLT\" ]\n",
    "sector_ETFs = [\"XLE\", \"XLU\", \"XLK\", \"XLB\", \"XLP\", \"XLY\", \"XLC\", \"XLV\", \"XLF\", \"XLRE\"]\n",
    "region_ETFs = [\"EEM\", \"IXUS\"]\n",
    "\n",
    "subregion_ETFs = [\"FXI\", \"EEM\", \"VGK\", \"EWY\", \"EWZ\", \"EWJ\", \"INDA\", \"EWW\"]\n",
    "country_ETFs = ['EWA', 'EWO', 'EWK', 'EWC', 'EWQ', 'EWG', 'EWH', 'EWI', 'EWJ', \\\n",
    "    'EWM', 'EWW', 'EWN', 'EWS', 'EWP', 'EWD', 'EWL', 'EWU']\n",
    "commodity_ETFs = [\"GLD\", \"SLV\"]\n",
    "volatility_ETFs = [\"VXX\", \"UVIX\", \"SVIX\", \"SVXY\"]\n",
    "\n",
    "all_ETFs = list(set(size_ETFs + bond_ETFs + sector_ETFs + region_ETFs + \\\n",
    "    country_ETFs + subregion_ETFs + commodity_ETFs + volatility_ETFs))"
   ]
  },
  {
   "cell_type": "code",
   "execution_count": 3,
   "metadata": {},
   "outputs": [
    {
     "data": {
      "text/html": [
       "<div>\n",
       "<style scoped>\n",
       "    .dataframe tbody tr th:only-of-type {\n",
       "        vertical-align: middle;\n",
       "    }\n",
       "\n",
       "    .dataframe tbody tr th {\n",
       "        vertical-align: top;\n",
       "    }\n",
       "\n",
       "    .dataframe thead th {\n",
       "        text-align: right;\n",
       "    }\n",
       "</style>\n",
       "<table border=\"1\" class=\"dataframe\">\n",
       "  <thead>\n",
       "    <tr style=\"text-align: right;\">\n",
       "      <th></th>\n",
       "      <th>ID</th>\n",
       "      <th>ticker</th>\n",
       "      <th>name</th>\n",
       "      <th>active</th>\n",
       "      <th>start_date</th>\n",
       "      <th>end_date</th>\n",
       "      <th>type</th>\n",
       "      <th>cik</th>\n",
       "      <th>composite_figi</th>\n",
       "    </tr>\n",
       "  </thead>\n",
       "  <tbody>\n",
       "    <tr>\n",
       "      <th>0</th>\n",
       "      <td>NaN</td>\n",
       "      <td>BIL</td>\n",
       "      <td>SPDR Bloomberg 1-3 Month T-Bill ETF</td>\n",
       "      <td>True</td>\n",
       "      <td>NaN</td>\n",
       "      <td>NaN</td>\n",
       "      <td>ETF</td>\n",
       "      <td>0001064642</td>\n",
       "      <td>BBG000RFQSH8</td>\n",
       "    </tr>\n",
       "    <tr>\n",
       "      <th>1</th>\n",
       "      <td>NaN</td>\n",
       "      <td>EEM</td>\n",
       "      <td>iShares MSCI Emerging Markets ETF</td>\n",
       "      <td>True</td>\n",
       "      <td>NaN</td>\n",
       "      <td>NaN</td>\n",
       "      <td>ETF</td>\n",
       "      <td>0000930667</td>\n",
       "      <td>BBG000M0P5L2</td>\n",
       "    </tr>\n",
       "    <tr>\n",
       "      <th>2</th>\n",
       "      <td>NaN</td>\n",
       "      <td>EWA</td>\n",
       "      <td>iShares MSCI Australia ETF</td>\n",
       "      <td>True</td>\n",
       "      <td>NaN</td>\n",
       "      <td>NaN</td>\n",
       "      <td>ETF</td>\n",
       "      <td>0000930667</td>\n",
       "      <td>BBG000BDNJ29</td>\n",
       "    </tr>\n",
       "  </tbody>\n",
       "</table>\n",
       "</div>"
      ],
      "text/plain": [
       "   ID ticker                                 name  active  start_date  \\\n",
       "0 NaN    BIL  SPDR Bloomberg 1-3 Month T-Bill ETF    True         NaN   \n",
       "1 NaN    EEM    iShares MSCI Emerging Markets ETF    True         NaN   \n",
       "2 NaN    EWA           iShares MSCI Australia ETF    True         NaN   \n",
       "\n",
       "   end_date type         cik composite_figi  \n",
       "0       NaN  ETF  0001064642   BBG000RFQSH8  \n",
       "1       NaN  ETF  0000930667   BBG000M0P5L2  \n",
       "2       NaN  ETF  0000930667   BBG000BDNJ29  "
      ]
     },
     "execution_count": 3,
     "metadata": {},
     "output_type": "execute_result"
    }
   ],
   "source": [
    "ticker_list_ETF = client.list_tickers(type=\"ETF\", date=END_DATE.isoformat(), active=True, market='stocks', limit=1000)\n",
    "ticker_list_ETN = client.list_tickers(type=\"ETN\", date=END_DATE.isoformat(), active=True, market='stocks', limit=1000)\n",
    "ticker_list_ETV = client.list_tickers(type=\"ETV\", date=END_DATE.isoformat(), active=True, market='stocks', limit=1000)\n",
    "\n",
    "ticker_list_ETF = pd.DataFrame(ticker_list_ETF)\n",
    "ticker_list_ETN = pd.DataFrame(ticker_list_ETN)\n",
    "ticker_list_ETV = pd.DataFrame(ticker_list_ETV)\n",
    "\n",
    "tickers_ETP = pd.concat([ticker_list_ETF, ticker_list_ETN, ticker_list_ETV]).reset_index()\n",
    "tickers_ETP = tickers_ETP[['ticker', 'name', 'active', 'cik', 'composite_figi', 'type']]\n",
    "tickers_ETP = tickers_ETP[tickers_ETP[\"ticker\"].isin(all_ETFs)]\n",
    "tickers_ETP = tickers_ETP.reindex(columns = [\"ID\", \"ticker\", \"name\", \"active\", \"start_date\", \"end_date\", \"type\", \"cik\", \"composite_figi\"]) \n",
    "tickers_ETP = tickers_ETP[~tickers_ETP['ticker'].duplicated()]\n",
    "\n",
    "tickers_ETP.reset_index(drop=True, inplace=True)\n",
    "\n",
    "tickers_ETP.head(3)"
   ]
  },
  {
   "cell_type": "markdown",
   "metadata": {},
   "source": [
    "Here we fill in the blanks using the <code>get_tickers_events</code> function. We need the start date from the ticker, which may not always be equal to START_DATE. I assume no delistings."
   ]
  },
  {
   "cell_type": "code",
   "execution_count": null,
   "metadata": {},
   "outputs": [],
   "source": [
    "for index, row in tickers_ETP.copy().iterrows():\n",
    "    if row[\"type\"] == \"ETF\" or row[\"type\"] == \"ETN\" or row[\"type\"] == \"ETV\":\n",
    "        try:\n",
    "            tickers_ETP.iloc[index, tickers_ETP.columns.get_loc(\"start_date\")] = max(date.fromisoformat(client.get_ticker_events(row[\"ticker\"]).events[-1]['date']), START_DATE)\n",
    "        except Exception as e:\n",
    "            tickers_ETP.iloc[index, tickers_ETP.columns.get_loc(\"start_date\")] = START_DATE\n",
    "            print(row[\"ticker\"])\n",
    "            print(repr(e))\n",
    "\n",
    "# Set remaining columns\n",
    "tickers_ETP[\"end_date\"].fillna(END_DATE, inplace=True)\n",
    "tickers_ETP[\"ID\"] = tickers_ETP[\"ticker\"] + '-' + tickers_ETP[\"start_date\"].astype(str)"
   ]
  },
  {
   "cell_type": "markdown",
   "metadata": {},
   "source": [
    "We need to manually change VXX and UVIX start date. The <code>get_ticker_events</code> is incorrect."
   ]
  },
  {
   "cell_type": "code",
   "execution_count": 5,
   "metadata": {},
   "outputs": [],
   "source": [
    "tickers_ETP.loc[tickers_ETP['ticker'] == 'VXX', \"start_date\"] = max(date(2009, 1, 29), START_DATE)\n",
    "tickers_ETP.loc[tickers_ETP['ticker'] == 'UVIX', \"start_date\"] = max(date(2022, 3, 30), START_DATE)"
   ]
  },
  {
   "cell_type": "markdown",
   "metadata": {},
   "source": [
    "I will call everything an 'ETF' for simplicity."
   ]
  },
  {
   "cell_type": "code",
   "execution_count": 6,
   "metadata": {},
   "outputs": [],
   "source": [
    "tickers_ETP['type'] = 'ETF'"
   ]
  },
  {
   "cell_type": "code",
   "execution_count": 7,
   "metadata": {},
   "outputs": [
    {
     "data": {
      "text/html": [
       "<div>\n",
       "<style scoped>\n",
       "    .dataframe tbody tr th:only-of-type {\n",
       "        vertical-align: middle;\n",
       "    }\n",
       "\n",
       "    .dataframe tbody tr th {\n",
       "        vertical-align: top;\n",
       "    }\n",
       "\n",
       "    .dataframe thead th {\n",
       "        text-align: right;\n",
       "    }\n",
       "</style>\n",
       "<table border=\"1\" class=\"dataframe\">\n",
       "  <thead>\n",
       "    <tr style=\"text-align: right;\">\n",
       "      <th></th>\n",
       "      <th>ID</th>\n",
       "      <th>ticker</th>\n",
       "      <th>name</th>\n",
       "      <th>active</th>\n",
       "      <th>start_date</th>\n",
       "      <th>end_date</th>\n",
       "      <th>type</th>\n",
       "      <th>cik</th>\n",
       "      <th>composite_figi</th>\n",
       "    </tr>\n",
       "  </thead>\n",
       "  <tbody>\n",
       "    <tr>\n",
       "      <th>18445</th>\n",
       "      <td>XLY-2003-09-10</td>\n",
       "      <td>XLY</td>\n",
       "      <td>Consumer Discretionary Select Sector SPDR Fund</td>\n",
       "      <td>True</td>\n",
       "      <td>2003-09-10</td>\n",
       "      <td>2024-04-19</td>\n",
       "      <td>ETF</td>\n",
       "      <td>0001064641</td>\n",
       "      <td>BBG000BJ1MF9</td>\n",
       "    </tr>\n",
       "    <tr>\n",
       "      <th>18446</th>\n",
       "      <td>GLD-2008-05-22</td>\n",
       "      <td>GLD</td>\n",
       "      <td>SPDR Gold Trust, SPDR Gold Shares</td>\n",
       "      <td>True</td>\n",
       "      <td>2008-05-22</td>\n",
       "      <td>2024-04-19</td>\n",
       "      <td>ETF</td>\n",
       "      <td>0001222333</td>\n",
       "      <td>BBG000CRF6Q8</td>\n",
       "    </tr>\n",
       "    <tr>\n",
       "      <th>18447</th>\n",
       "      <td>SLV-2006-04-28</td>\n",
       "      <td>SLV</td>\n",
       "      <td>iShares Silver Trust</td>\n",
       "      <td>True</td>\n",
       "      <td>2006-04-28</td>\n",
       "      <td>2024-04-19</td>\n",
       "      <td>ETF</td>\n",
       "      <td>0001330568</td>\n",
       "      <td>BBG000NDCRW7</td>\n",
       "    </tr>\n",
       "  </tbody>\n",
       "</table>\n",
       "</div>"
      ],
      "text/plain": [
       "                   ID ticker                                            name  \\\n",
       "18445  XLY-2003-09-10    XLY  Consumer Discretionary Select Sector SPDR Fund   \n",
       "18446  GLD-2008-05-22    GLD               SPDR Gold Trust, SPDR Gold Shares   \n",
       "18447  SLV-2006-04-28    SLV                            iShares Silver Trust   \n",
       "\n",
       "       active  start_date    end_date type         cik composite_figi  \n",
       "18445    True  2003-09-10  2024-04-19  ETF  0001064641   BBG000BJ1MF9  \n",
       "18446    True  2008-05-22  2024-04-19  ETF  0001222333   BBG000CRF6Q8  \n",
       "18447    True  2006-04-28  2024-04-19  ETF  0001330568   BBG000NDCRW7  "
      ]
     },
     "execution_count": 7,
     "metadata": {},
     "output_type": "execute_result"
    }
   ],
   "source": [
    "# Merge tickers_v2 and ETFs to get tickers_v3\n",
    "tickers_v2 = get_tickers(v=2)\n",
    "tickers_v3 = pd.concat([tickers_v2, tickers_ETP])\n",
    "tickers_v3.reset_index(drop=True, inplace=True)\n",
    "tickers_v3.to_csv(\"../data/tickers_v3.csv\") \n",
    "tickers_v3.tail(3)"
   ]
  },
  {
   "cell_type": "markdown",
   "metadata": {},
   "source": [
    "# 4.2 Updates\n",
    "We simply copy/paste the ETPs from the old to the new ticker_v3."
   ]
  },
  {
   "cell_type": "code",
   "execution_count": 8,
   "metadata": {},
   "outputs": [],
   "source": [
    "old_tickers_v3 = get_tickers(3)\n",
    "ETPs = tickers_v3[tickers_v3['type'] == 'ETF']\n",
    "ETPs.loc[:, 'end_date'] = END_DATE # I assume that no ETFs got delisted/renamed.\n",
    "pd.concat([get_tickers(2), ETPs]).reset_index(drop=True).to_csv(\"../data/tickers_v3.csv\")"
   ]
  },
  {
   "cell_type": "markdown",
   "metadata": {},
   "source": []
  }
 ],
 "metadata": {
  "kernelspec": {
   "display_name": "algotrading",
   "language": "python",
   "name": "python3"
  },
  "language_info": {
   "codemirror_mode": {
    "name": "ipython",
    "version": 3
   },
   "file_extension": ".py",
   "mimetype": "text/x-python",
   "name": "python",
   "nbconvert_exporter": "python",
   "pygments_lexer": "ipython3",
   "version": "3.11.4"
  }
 },
 "nbformat": 4,
 "nbformat_minor": 2
}
