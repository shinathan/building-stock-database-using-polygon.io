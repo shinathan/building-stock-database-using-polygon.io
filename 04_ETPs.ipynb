{
 "cells": [
  {
   "cell_type": "markdown",
   "metadata": {},
   "source": [
    "# 4.1 Adding ETPs\n",
    "We now only have a list of stocks. But we might also want to trade SPY, TLT or VXX. This section will append the <code>tickers_v2.csv</code> with a selection of ETPs to create <code>tickers_v3.csv</code>. Indices such as the VIX may also be of interest although Polygon does not have it. For these special cases, we will manually append them. We will add a prefix to non-tradeable tickers, so VIX and SPX become $VIX and $SPX. I am only interested in a selection of ETPs and indices; these were found by taking the most liquid ETF in its category at [etfdb.com](etfdb.com).\n",
    "\n",
    "* Size ETFs: \"SPY\", \"IJH\", \"IJR\", \n",
    "    * Large-cap, Mid-cap, Small-cap, \n",
    "* Bond ETFs: \"BIL\", \"SHY\", \"IEF\", \"TLT\", \"JPST\", \"VCSH\", \"VCIT\", \"VCLT\" \n",
    "    * risk-free (1-3M, 1-3Y, 7-10Y, 20+Y), corporate (Overnight, 1-5Y, 5-10Y, 10-25Y)\n",
    "* Sector ETFs: \"XLE\", \"XLU\", \"XLK\", \"XLB\", \"XLP\", \"XLY\", \"XLC\", \"XLV\", \"XLF\", \"XLRE\"\n",
    "    * The sectors that Finviz also uses.\n",
    "* Commodity ETFs \"GLD\", \"SLV\"\n",
    "    * Gold, silver\n",
    "* Volatility ETPs: \"VXX\", \"UVIX\", \"SVIX\", \"SVXY\"\n",
    "    * Long, Long 2X, Short 1x, Short 0.5x (1x before and including 2018-02-27)\n",
    "\n",
    "The only non-ETP index that I am interested in is the VIX. I will manually download daily VIX data from Yahoo and name it $VIX and set the type to INDEX. I could not find free 1-minute data. For simplicity I will just put this in the Polygon folder and not in a seperate Yahoo folder.\n",
    "\n",
    "*Note: ETPs is an umbrella term for ETFs, ETVs and ETNs. However most investors just refer to them as 'ETFs'.*"
   ]
  },
  {
   "cell_type": "code",
   "execution_count": 1,
   "metadata": {},
   "outputs": [],
   "source": [
    "#####\n",
    "from polygon.rest import RESTClient\n",
    "from datetime import date\n",
    "from utils import get_tickers\n",
    "import pandas as pd\n",
    "import numpy as np\n",
    "\n",
    "POLYGON_DATA_PATH = \"../data/polygon/\"\n",
    "\n",
    "START_DATE = date(2019, 1, 1)\n",
    "END_DATE = date(2023, 9, 1)\n",
    "\n",
    "with open(POLYGON_DATA_PATH + \"secret.txt\") as f:\n",
    "    KEY = next(f).strip()\n",
    "\n",
    "client = RESTClient(api_key=KEY)"
   ]
  },
  {
   "cell_type": "markdown",
   "metadata": {},
   "source": [
    "The ETFs can be added here manually."
   ]
  },
  {
   "cell_type": "code",
   "execution_count": 2,
   "metadata": {},
   "outputs": [],
   "source": [
    "###\n",
    "size_ETFs = [\"SPY\", \"IJH\", \"IJR\"]\n",
    "bond_ETFs = [\"BIL\", \"SHY\", \"IEF\", \"TLT\", \"JPST\", \"VCSH\", \"VCIT\", \"VCLT\" ]\n",
    "sector_ETFs = [\"XLE\", \"XLU\", \"XLK\", \"XLB\", \"XLP\", \"XLY\", \"XLC\", \"XLV\", \"XLF\", \"XLRE\"]\n",
    "commodity_ETFs = [\"GLD\", \"SLV\"]\n",
    "volatility_ETFs = [\"VXX\", \"UVIX\", \"SVIX\", \"SVXY\"]\n",
    "all_ETFs = size_ETFs + bond_ETFs + sector_ETFs + commodity_ETFs + volatility_ETFs"
   ]
  },
  {
   "cell_type": "code",
   "execution_count": 3,
   "metadata": {},
   "outputs": [
    {
     "data": {
      "text/html": [
       "<div>\n",
       "<style scoped>\n",
       "    .dataframe tbody tr th:only-of-type {\n",
       "        vertical-align: middle;\n",
       "    }\n",
       "\n",
       "    .dataframe tbody tr th {\n",
       "        vertical-align: top;\n",
       "    }\n",
       "\n",
       "    .dataframe thead th {\n",
       "        text-align: right;\n",
       "    }\n",
       "</style>\n",
       "<table border=\"1\" class=\"dataframe\">\n",
       "  <thead>\n",
       "    <tr style=\"text-align: right;\">\n",
       "      <th></th>\n",
       "      <th>ID</th>\n",
       "      <th>ticker</th>\n",
       "      <th>name</th>\n",
       "      <th>active</th>\n",
       "      <th>start_date</th>\n",
       "      <th>end_date</th>\n",
       "      <th>type</th>\n",
       "      <th>cik</th>\n",
       "      <th>composite_figi</th>\n",
       "    </tr>\n",
       "  </thead>\n",
       "  <tbody>\n",
       "    <tr>\n",
       "      <th>0</th>\n",
       "      <td>NaN</td>\n",
       "      <td>BIL</td>\n",
       "      <td>SPDR Bloomberg 1-3 Month T-Bill ETF</td>\n",
       "      <td>True</td>\n",
       "      <td>NaN</td>\n",
       "      <td>NaN</td>\n",
       "      <td>ETF</td>\n",
       "      <td>0001064642</td>\n",
       "      <td>BBG000RFQSH8</td>\n",
       "    </tr>\n",
       "    <tr>\n",
       "      <th>1</th>\n",
       "      <td>NaN</td>\n",
       "      <td>IEF</td>\n",
       "      <td>iShares 7-10 Year Treasury Bond ETF</td>\n",
       "      <td>True</td>\n",
       "      <td>NaN</td>\n",
       "      <td>NaN</td>\n",
       "      <td>ETF</td>\n",
       "      <td>0001100663</td>\n",
       "      <td>BBG000BHR296</td>\n",
       "    </tr>\n",
       "    <tr>\n",
       "      <th>2</th>\n",
       "      <td>NaN</td>\n",
       "      <td>IJH</td>\n",
       "      <td>iShares Core S&amp;P Mid-Cap ETF</td>\n",
       "      <td>True</td>\n",
       "      <td>NaN</td>\n",
       "      <td>NaN</td>\n",
       "      <td>ETF</td>\n",
       "      <td>0001100663</td>\n",
       "      <td>BBG000BWC7P0</td>\n",
       "    </tr>\n",
       "  </tbody>\n",
       "</table>\n",
       "</div>"
      ],
      "text/plain": [
       "   ID ticker                                 name  active  start_date  \\\n",
       "0 NaN    BIL  SPDR Bloomberg 1-3 Month T-Bill ETF    True         NaN   \n",
       "1 NaN    IEF  iShares 7-10 Year Treasury Bond ETF    True         NaN   \n",
       "2 NaN    IJH         iShares Core S&P Mid-Cap ETF    True         NaN   \n",
       "\n",
       "   end_date type         cik composite_figi  \n",
       "0       NaN  ETF  0001064642   BBG000RFQSH8  \n",
       "1       NaN  ETF  0001100663   BBG000BHR296  \n",
       "2       NaN  ETF  0001100663   BBG000BWC7P0  "
      ]
     },
     "execution_count": 3,
     "metadata": {},
     "output_type": "execute_result"
    }
   ],
   "source": [
    "###\n",
    "ticker_list_ETF = client.list_tickers(type=\"ETF\", date=END_DATE.isoformat(), active=True, market='stocks', limit=1000)\n",
    "ticker_list_ETN = client.list_tickers(type=\"ETN\", date=END_DATE.isoformat(), active=True, market='stocks', limit=1000)\n",
    "ticker_list_ETV = client.list_tickers(type=\"ETV\", date=END_DATE.isoformat(), active=True, market='stocks', limit=1000)\n",
    "\n",
    "ticker_list_ETF = pd.DataFrame(ticker_list_ETF)\n",
    "ticker_list_ETN = pd.DataFrame(ticker_list_ETN)\n",
    "ticker_list_ETV = pd.DataFrame(ticker_list_ETV)\n",
    "\n",
    "tickers_ETP = pd.concat([ticker_list_ETF, ticker_list_ETN, ticker_list_ETV]).reset_index()\n",
    "tickers_ETP = tickers_ETP[['ticker', 'name', 'active', 'cik', 'composite_figi', 'type']]\n",
    "tickers_ETP = tickers_ETP[tickers_ETP[\"ticker\"].isin(all_ETFs)]\n",
    "tickers_ETP = tickers_ETP.reindex(columns = [\"ID\", \"ticker\", \"name\", \"active\", \"start_date\", \"end_date\", \"type\", \"cik\", \"composite_figi\"]) \n",
    "tickers_ETP.reset_index(drop=True, inplace=True)\n",
    "\n",
    "tickers_ETP.head(3)"
   ]
  },
  {
   "cell_type": "markdown",
   "metadata": {},
   "source": [
    "Here we will in the blanks using the <code>get_tickers_events</code> function. We need the start date from the ticker, which may not always be equal to START_DATE. I assume no delistings."
   ]
  },
  {
   "cell_type": "code",
   "execution_count": 4,
   "metadata": {},
   "outputs": [],
   "source": [
    "###\n",
    "for index, row in tickers_ETP.copy().iterrows():\n",
    "    if row[\"type\"] == \"ETF\" or row[\"type\"] == \"ETN\" or row[\"type\"] == \"ETV\":\n",
    "        try:\n",
    "            tickers_ETP.iloc[index, tickers_ETP.columns.get_loc(\"start_date\")] = max(date.fromisoformat(client.get_ticker_events(row[\"ticker\"]).events[-1]['date']), START_DATE)\n",
    "        except Exception as e:\n",
    "            tickers_ETP.iloc[index, tickers_ETP.columns.get_loc(\"start_date\")] = START_DATE\n",
    "            print(row[\"ticker\"])\n",
    "            print(repr(e))\n",
    "\n",
    "# Set remaining columns\n",
    "tickers_ETP[\"end_date\"].fillna(END_DATE, inplace=True)\n",
    "tickers_ETP[\"ID\"] = tickers_ETP[\"ticker\"] + '-' + tickers_ETP[\"start_date\"].astype(str)"
   ]
  },
  {
   "cell_type": "markdown",
   "metadata": {},
   "source": [
    "Finally, manually add a ^VIX."
   ]
  },
  {
   "cell_type": "code",
   "execution_count": 5,
   "metadata": {},
   "outputs": [],
   "source": [
    "###\n",
    "tickers_ETP.loc[len(tickers_ETP)] = f'$VIX-{START_DATE.isoformat()}', '$VIX', 'VIX Index', True, START_DATE, END_DATE, 'INDEX', np.NaN, np.NaN"
   ]
  },
  {
   "cell_type": "markdown",
   "metadata": {},
   "source": [
    "We then add the ETPs to <code>tickers_v2</code> to get <code>tickers_v3</code>."
   ]
  },
  {
   "cell_type": "code",
   "execution_count": 7,
   "metadata": {},
   "outputs": [
    {
     "data": {
      "text/html": [
       "<div>\n",
       "<style scoped>\n",
       "    .dataframe tbody tr th:only-of-type {\n",
       "        vertical-align: middle;\n",
       "    }\n",
       "\n",
       "    .dataframe tbody tr th {\n",
       "        vertical-align: top;\n",
       "    }\n",
       "\n",
       "    .dataframe thead th {\n",
       "        text-align: right;\n",
       "    }\n",
       "</style>\n",
       "<table border=\"1\" class=\"dataframe\">\n",
       "  <thead>\n",
       "    <tr style=\"text-align: right;\">\n",
       "      <th></th>\n",
       "      <th>ID</th>\n",
       "      <th>ticker</th>\n",
       "      <th>name</th>\n",
       "      <th>active</th>\n",
       "      <th>start_date</th>\n",
       "      <th>end_date</th>\n",
       "      <th>type</th>\n",
       "      <th>cik</th>\n",
       "      <th>composite_figi</th>\n",
       "    </tr>\n",
       "  </thead>\n",
       "  <tbody>\n",
       "    <tr>\n",
       "      <th>8188</th>\n",
       "      <td>GLD-2019-01-01</td>\n",
       "      <td>GLD</td>\n",
       "      <td>SPDR Gold Trust, SPDR Gold Shares</td>\n",
       "      <td>True</td>\n",
       "      <td>2019-01-01</td>\n",
       "      <td>2023-09-01</td>\n",
       "      <td>ETV</td>\n",
       "      <td>0001222333</td>\n",
       "      <td>BBG000CRF6Q8</td>\n",
       "    </tr>\n",
       "    <tr>\n",
       "      <th>8189</th>\n",
       "      <td>SLV-2019-01-01</td>\n",
       "      <td>SLV</td>\n",
       "      <td>iShares Silver Trust</td>\n",
       "      <td>True</td>\n",
       "      <td>2019-01-01</td>\n",
       "      <td>2023-09-01</td>\n",
       "      <td>ETV</td>\n",
       "      <td>0001330568</td>\n",
       "      <td>BBG000NDCRW7</td>\n",
       "    </tr>\n",
       "    <tr>\n",
       "      <th>8190</th>\n",
       "      <td>$VIX-2019-01-01</td>\n",
       "      <td>$VIX</td>\n",
       "      <td>VIX Index</td>\n",
       "      <td>True</td>\n",
       "      <td>2019-01-01</td>\n",
       "      <td>2023-09-01</td>\n",
       "      <td>INDEX</td>\n",
       "      <td>NaN</td>\n",
       "      <td>NaN</td>\n",
       "    </tr>\n",
       "  </tbody>\n",
       "</table>\n",
       "</div>"
      ],
      "text/plain": [
       "                   ID ticker                               name  active  \\\n",
       "8188   GLD-2019-01-01    GLD  SPDR Gold Trust, SPDR Gold Shares    True   \n",
       "8189   SLV-2019-01-01    SLV               iShares Silver Trust    True   \n",
       "8190  $VIX-2019-01-01   $VIX                          VIX Index    True   \n",
       "\n",
       "      start_date    end_date   type         cik composite_figi  \n",
       "8188  2019-01-01  2023-09-01    ETV  0001222333   BBG000CRF6Q8  \n",
       "8189  2019-01-01  2023-09-01    ETV  0001330568   BBG000NDCRW7  \n",
       "8190  2019-01-01  2023-09-01  INDEX         NaN            NaN  "
      ]
     },
     "execution_count": 7,
     "metadata": {},
     "output_type": "execute_result"
    }
   ],
   "source": [
    "###\n",
    "# Merge tickers_v2 and ETFs to get tickers_v3\n",
    "tickers_v2 = get_tickers(v=2)\n",
    "tickers_v3 = pd.concat([tickers_v2, tickers_ETP])\n",
    "tickers_v3.reset_index(drop=True, inplace=True)\n",
    "tickers_v3.to_csv(\"../data/tickers_v3.csv\") \n",
    "tickers_v3.tail(3)"
   ]
  }
 ],
 "metadata": {
  "kernelspec": {
   "display_name": "algotrading",
   "language": "python",
   "name": "python3"
  },
  "language_info": {
   "codemirror_mode": {
    "name": "ipython",
    "version": 3
   },
   "file_extension": ".py",
   "mimetype": "text/x-python",
   "name": "python",
   "nbconvert_exporter": "python",
   "pygments_lexer": "ipython3",
   "version": "3.11.4"
  }
 },
 "nbformat": 4,
 "nbformat_minor": 2
}
