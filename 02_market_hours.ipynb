{
 "cells": [
  {
   "cell_type": "markdown",
   "metadata": {},
   "source": [
    "## 2.1 Trading dates and hours\n",
    "The goal is to create a csv with dates and the start times of pre-market and regular hours and end times of post-market."
   ]
  },
  {
   "cell_type": "code",
   "execution_count": 1,
   "metadata": {},
   "outputs": [],
   "source": [
    "###\n",
    "from polygon.rest import RESTClient\n",
    "from datetime import datetime, date, time, timedelta\n",
    "from pytz import timezone\n",
    "from functools import lru_cache\n",
    "import os\n",
    "import pytz\n",
    "import pandas as pd\n",
    "import numpy as np\n",
    "import plotly.graph_objects as go\n",
    "import mplfinance as mpf\n",
    "\n",
    "POLYGON_DATA_PATH = \"../data/polygon/\"\n",
    "\n",
    "START_DATE = date(2019, 1, 1)\n",
    "END_DATE = date(2023, 9, 7)\n",
    "\n",
    "with open(POLYGON_DATA_PATH + \"secret.txt\") as f:\n",
    "    KEY = next(f).strip()\n",
    "\n",
    "client = RESTClient(api_key=KEY)"
   ]
  },
  {
   "cell_type": "markdown",
   "metadata": {},
   "source": [
    "By the way: the earliest date where Polygon has data is 2003-09-10."
   ]
  },
  {
   "cell_type": "code",
   "execution_count": 2,
   "metadata": {},
   "outputs": [
    {
     "data": {
      "text/plain": [
       "8204"
      ]
     },
     "execution_count": 2,
     "metadata": {},
     "output_type": "execute_result"
    }
   ],
   "source": [
    "ticker_list_iterator = client.list_tickers(date=\"2003-09-10\", active=True, market='stocks', limit=1000)\n",
    "df = pd.DataFrame(ticker_list_iterator)\n",
    "len(df)"
   ]
  },
  {
   "cell_type": "markdown",
   "metadata": {},
   "source": [
    "To get the market hours, we can infer it from daily SPY ETF data. But this does not include information about early closes. Luckily the early closes are listed on [QuantConnect](https://www.quantconnect.com/docs/v2/writing-algorithms/securities/asset-classes/us-equity/market-hours). I have copied them below.\n",
    "\n",
    "So we will first get a list of all trading dates using SPY data. The regular hours always start at 9:30 ET. The start of premarket is 4:00 ET. To test if it is always 4:00 ET we will compare it to the 1-minute SPY data. According to QuantConnect there are no early or late opens. To get the close we will use 16:00 ET or 13:00 ET if it is an early close. The post-market ends 4 hours after close. We will also test this on the SPY minute data."
   ]
  },
  {
   "cell_type": "code",
   "execution_count": 2,
   "metadata": {},
   "outputs": [],
   "source": [
    "###\n",
    "early_closes = ['1999-11-26','2000-07-03','2000-11-24','2001-07-03','2001-11-23',\n",
    "'2001-12-24','2002-07-05','2002-11-29','2002-12-24','2003-07-03','2003-11-28',\n",
    "'2003-12-24','2003-12-26','2004-11-26','2005-11-25','2006-07-03','2006-11-24',\n",
    "'2007-07-03','2007-11-23','2007-12-24','2008-07-03','2008-11-28','2008-12-24',\n",
    "'2009-11-27','2009-12-24','2010-11-26','2011-11-25','2012-07-03','2012-11-23',\n",
    "'2012-12-24','2013-07-03','2013-11-29','2013-12-24','2014-07-03','2014-11-28',\n",
    "'2014-12-24','2015-11-27','2015-12-24','2016-11-25','2017-07-03','2017-11-24',\n",
    "'2017-12-24','2018-07-03','2018-11-23','2018-12-24','2019-07-03','2019-11-29',\n",
    "'2019-12-24','2020-11-27','2020-12-24','2021-11-26','2022-11-25','2023-07-03',\n",
    "'2023-11-24','2024-07-03',]\n",
    "early_closes = [datetime.strptime(date, \"%Y-%m-%d\").date() for date in early_closes]"
   ]
  },
  {
   "cell_type": "code",
   "execution_count": 3,
   "metadata": {},
   "outputs": [],
   "source": [
    "###\n",
    "path = POLYGON_DATA_PATH + \"../market/market_calendar.csv\"\n",
    "\n",
    "# Get list of trading dates\n",
    "if not os.path.isfile(path):\n",
    "    SPY_d1 = pd.DataFrame(client.get_aggs(ticker = \"SPY\", multiplier = 1, timespan = \"day\", from_ = START_DATE, to = END_DATE, limit=50000))\n",
    "    SPY_d1[\"timestamp\"] = pd.to_datetime(SPY_d1[\"timestamp\"], unit=\"ms\").dt.date\n",
    "    SPY_d1.rename(columns = {\"timestamp\": \"date\"}, inplace=True)\n",
    "    trading_days = SPY_d1[[\"date\"]]\n",
    "else:\n",
    "    # If we already have it we just need to update\n",
    "    old_market_hours = pd.read_csv(\n",
    "            path,\n",
    "            parse_dates=True,\n",
    "        )\n",
    "    old_market_hours[\"date\"] = pd.to_datetime(old_market_hours[\"date\"]).dt.date\n",
    "    old_trading_days = old_market_hours[[\"date\"]]\n",
    "    last_day_old = old_trading_days['date'].values[-1]\n",
    "\n",
    "    SPY_d1 = pd.DataFrame(client.get_aggs(ticker = \"SPY\", multiplier = 1, timespan = \"day\", from_ = (last_day_old + timedelta(days=1)).isoformat(), to = END_DATE, limit=50000))\n",
    "    SPY_d1[\"timestamp\"] = pd.to_datetime(SPY_d1[\"timestamp\"], unit=\"ms\").dt.date\n",
    "    SPY_d1.rename(columns = {\"timestamp\": \"date\"}, inplace=True)\n",
    "    new_trading_days = SPY_d1[[\"date\"]]\n",
    "\n",
    "    trading_days = pd.concat([old_trading_days, new_trading_days])\n",
    "    trading_days.drop_duplicates(inplace=True)\n",
    "    trading_days.sort_values(by='date', inplace=True)\n",
    "\n",
    "# Fill with pre-market/regular session\n",
    "trading_hours = trading_days.copy()\n",
    "trading_hours[\"premarket_open\"] = time(4)\n",
    "trading_hours[\"regular_open\"] = time(9, 30)\n",
    "\n",
    "trading_hours[\"regular_close\"] = trading_hours[\"date\"].isin(early_closes)\n",
    "trading_hours[\"regular_close\"] = trading_hours[\"regular_close\"].apply(lambda boolean: time(12, 59) if boolean else time(15, 59))\n",
    "\n",
    "trading_hours[\"postmarket_close\"] = pd.to_datetime(trading_hours['date'].astype(str) + \" \" + trading_hours[\"regular_close\"].astype(str)) + timedelta(hours=4)\n",
    "trading_hours[\"postmarket_close\"] = trading_hours[\"postmarket_close\"].dt.time\n",
    "\n",
    "trading_hours.set_index(\"date\", inplace=True)\n",
    "trading_hours.to_csv(path)"
   ]
  },
  {
   "cell_type": "code",
   "execution_count": 34,
   "metadata": {},
   "outputs": [
    {
     "data": {
      "text/html": [
       "<div>\n",
       "<style scoped>\n",
       "    .dataframe tbody tr th:only-of-type {\n",
       "        vertical-align: middle;\n",
       "    }\n",
       "\n",
       "    .dataframe tbody tr th {\n",
       "        vertical-align: top;\n",
       "    }\n",
       "\n",
       "    .dataframe thead th {\n",
       "        text-align: right;\n",
       "    }\n",
       "</style>\n",
       "<table border=\"1\" class=\"dataframe\">\n",
       "  <thead>\n",
       "    <tr style=\"text-align: right;\">\n",
       "      <th></th>\n",
       "      <th>premarket_open</th>\n",
       "      <th>regular_open</th>\n",
       "      <th>regular_close</th>\n",
       "      <th>postmarket_close</th>\n",
       "    </tr>\n",
       "    <tr>\n",
       "      <th>date</th>\n",
       "      <th></th>\n",
       "      <th></th>\n",
       "      <th></th>\n",
       "      <th></th>\n",
       "    </tr>\n",
       "  </thead>\n",
       "  <tbody>\n",
       "    <tr>\n",
       "      <th>2023-07-03</th>\n",
       "      <td>04:00:00</td>\n",
       "      <td>09:30:00</td>\n",
       "      <td>12:59:00</td>\n",
       "      <td>16:59:00</td>\n",
       "    </tr>\n",
       "  </tbody>\n",
       "</table>\n",
       "</div>"
      ],
      "text/plain": [
       "           premarket_open regular_open regular_close postmarket_close\n",
       "date                                                                 \n",
       "2023-07-03       04:00:00     09:30:00      12:59:00         16:59:00"
      ]
     },
     "execution_count": 34,
     "metadata": {},
     "output_type": "execute_result"
    }
   ],
   "source": [
    "# 2023-07-03 was an early close day\n",
    "trading_hours[trading_hours.index == date(2023, 7, 3)]"
   ]
  },
  {
   "cell_type": "markdown",
   "metadata": {},
   "source": [
    "We will also create some handy functions for handling and getting trading dates. These are also in the <code>utils.py</code> script so other notebooks can access them."
   ]
  },
  {
   "cell_type": "code",
   "execution_count": 4,
   "metadata": {},
   "outputs": [],
   "source": [
    "# Some handy functions\n",
    "def datetime_to_unix(dt):\n",
    "    \"\"\"Converts a ET-naive datetime object to msec timestamp\n",
    "\n",
    "    Args:\n",
    "        dt (datetime): datetime to convert\n",
    "\n",
    "    Returns:\n",
    "        int: Unix millisecond timestamp\n",
    "    \"\"\"\n",
    "\n",
    "    if isinstance(dt, datetime):\n",
    "        time_ET = timezone(\"US/Eastern\").localize(dt)\n",
    "        return int(time_ET.timestamp() * 1000)\n",
    "    else:\n",
    "        raise Exception(\"No datetime object specified.\")\n",
    "\n",
    "def download_m1_raw_data(ticker, from_, to, client, columns=['open', 'high', 'low', 'close', 'volume']):\n",
    "    \"\"\"Downloads raw 1-minute data from Polygon and converts to ET-time\n",
    "\n",
    "    Args:\n",
    "        ticker (str): _description_\n",
    "        from_ (date/datetime): the starting date(time)\n",
    "        to (date/datetime): end ending date(time)\n",
    "        client (RESTClient): the client object\n",
    "        columns (list): list of column names to keep\n",
    "\n",
    "    Returns:\n",
    "        DataFrame: the result\n",
    "    \"\"\"\n",
    "    \n",
    "    # If no time specified, fill in the start of premarket/end of postmarket\n",
    "    if all(isinstance(value, date) for value in (from_, to)):\n",
    "        start_unix = datetime_to_unix(dt=datetime.combine(from_, time(4)))\n",
    "        end_unix = datetime_to_unix(dt=datetime.combine(to, time(20)))\n",
    "    elif all(isinstance(value, datetime) for value in (from_, to)):\n",
    "        start_unix = datetime_to_unix(from_)\n",
    "        end_unix = datetime_to_unix(to)\n",
    "    else:\n",
    "        raise Exception(\"No datetime or date object specified.\")\n",
    "    \n",
    "    try:\n",
    "        m1 = pd.DataFrame(\n",
    "            client.list_aggs(\n",
    "                ticker=ticker,\n",
    "                multiplier=1,\n",
    "                timespan=\"minute\",\n",
    "                from_=start_unix,\n",
    "                to=end_unix,\n",
    "                limit=50000,\n",
    "                adjusted=False,\n",
    "            )\n",
    "        )\n",
    "    except Exception as e:\n",
    "        print(ticker)\n",
    "        print(e)\n",
    "        return\n",
    "\n",
    "    if not m1.empty:\n",
    "        m1[\"timestamp\"] = pd.to_datetime(\n",
    "            m1[\"timestamp\"], unit=\"ms\"\n",
    "        )  # Convert timestamp to UTC\n",
    "        m1.rename(columns={\"timestamp\": \"datetime\"}, inplace=True)\n",
    "        m1[\"datetime\"] = m1[\"datetime\"].dt.tz_localize(\n",
    "            pytz.UTC\n",
    "        )  # Make UTC aware (in order to convert)\n",
    "        m1[\"datetime\"] = m1[\"datetime\"].dt.tz_convert(\"US/Eastern\")  # Convert UTC to ET\n",
    "        m1[\"datetime\"] = m1[\"datetime\"].dt.tz_localize(None)  # Make timezone naive\n",
    "        m1.set_index(\"datetime\", inplace=True)\n",
    "        m1 = m1[columns]\n",
    "\n",
    "        return m1\n",
    "\n",
    "    else:\n",
    "        print(\n",
    "            f\"There is no data for {ticker} from {from_.isoformat()} to {to.isoformat()}\"\n",
    "        )\n",
    "\n",
    "@lru_cache\n",
    "def get_market_calendar():\n",
    "    \"\"\"Retrieves the market hours\n",
    "\n",
    "    Returns:\n",
    "        DataFrame: the index contains Date objects and the columns Time objects.\n",
    "    \"\"\"\n",
    "    market_hours = pd.read_csv(\n",
    "        POLYGON_DATA_PATH + \"../market/market_calendar.csv\", index_col=0\n",
    "    )\n",
    "    market_hours.index = pd.to_datetime(market_hours.index).date\n",
    "    market_hours.premarket_open = pd.to_datetime(\n",
    "        market_hours.premarket_open, format=\"%H:%M:%S\"\n",
    "    ).dt.time\n",
    "    market_hours.regular_open = pd.to_datetime(\n",
    "        market_hours.regular_open, format=\"%H:%M:%S\"\n",
    "    ).dt.time\n",
    "    market_hours.regular_close = pd.to_datetime(\n",
    "        market_hours.regular_close, format=\"%H:%M:%S\"\n",
    "    ).dt.time\n",
    "    market_hours.postmarket_close = pd.to_datetime(\n",
    "        market_hours.postmarket_close, format=\"%H:%M:%S\"\n",
    "    ).dt.time\n",
    "    return market_hours\n",
    "\n",
    "def get_market_dates():\n",
    "    \"\"\"Get a list of market days from the market calendar\n",
    "\n",
    "    Returns:\n",
    "        list: list of Date objects\n",
    "    \"\"\"\n",
    "    market_hours = get_market_calendar()\n",
    "    return list(market_hours.index)\n",
    "\n",
    "def first_trading_date_after_equal(dt):\n",
    "    \"\"\"Gets first trading day after or equal to input date. Return the input if out of range.\n",
    "\n",
    "    Args:\n",
    "        dt (Date): Date object to compare. Can be a non-trading date.\n",
    "\n",
    "    Returns:\n",
    "        Date: the trading date\n",
    "    \"\"\"\n",
    "    trading_days = get_market_dates()\n",
    "    if dt < trading_days[0] or dt >= trading_days[-1]:\n",
    "        print(\"Out of range! Returning input.\")\n",
    "        return dt\n",
    "    while dt not in trading_days:\n",
    "        dt = dt + timedelta(days=1)\n",
    "    return dt\n",
    "\n",
    "def last_trading_date_before_equal(dt):\n",
    "    \"\"\"Gets last trading day before or equal to input date. Return the input if out of range.\n",
    "\n",
    "    Args:\n",
    "        dt (Date): Date object to compare. Can be a non-trading date.\n",
    "\n",
    "    Returns:\n",
    "        Date: the trading date\n",
    "    \"\"\"\n",
    "    trading_days = get_market_dates()\n",
    "    if dt <= trading_days[0] or dt > trading_days[-1]:\n",
    "        print(\"Out of range! Returning input.\")\n",
    "        return dt\n",
    "    while dt not in trading_days:\n",
    "        dt = dt - timedelta(days=1)\n",
    "    return dt\n",
    "\n",
    "def first_trading_date_after(day):\n",
    "    \"\"\"Gets first trading date after the specified trading date.\n",
    "\n",
    "    Args:\n",
    "        day (date): MUST be a trading date\n",
    "    \n",
    "    Returns:\n",
    "        date: the next trading date\n",
    "    \"\"\"\n",
    "    trading_days = get_market_dates()\n",
    "    return trading_days[trading_days.index(day) + 1]\n",
    "\n",
    "\n",
    "def last_trading_date_before(day):\n",
    "    \"\"\"Gets last trading date before the specified trading date.\n",
    "\n",
    "    Args:\n",
    "        day (date): MUST be a trading date\n",
    "    \n",
    "    Returns:\n",
    "        date: the previous trading date\n",
    "    \"\"\"\n",
    "    trading_days = get_market_dates()\n",
    "    return trading_days[trading_days.index(day) - 1]\n",
    "    "
   ]
  },
  {
   "cell_type": "code",
   "execution_count": 33,
   "metadata": {},
   "outputs": [
    {
     "data": {
      "text/html": [
       "<div>\n",
       "<style scoped>\n",
       "    .dataframe tbody tr th:only-of-type {\n",
       "        vertical-align: middle;\n",
       "    }\n",
       "\n",
       "    .dataframe tbody tr th {\n",
       "        vertical-align: top;\n",
       "    }\n",
       "\n",
       "    .dataframe thead th {\n",
       "        text-align: right;\n",
       "    }\n",
       "</style>\n",
       "<table border=\"1\" class=\"dataframe\">\n",
       "  <thead>\n",
       "    <tr style=\"text-align: right;\">\n",
       "      <th></th>\n",
       "      <th>premarket_open</th>\n",
       "      <th>regular_open</th>\n",
       "      <th>regular_close</th>\n",
       "      <th>postmarket_close</th>\n",
       "    </tr>\n",
       "  </thead>\n",
       "  <tbody>\n",
       "    <tr>\n",
       "      <th>2023-08-28</th>\n",
       "      <td>04:00:00</td>\n",
       "      <td>09:30:00</td>\n",
       "      <td>15:59:00</td>\n",
       "      <td>19:59:00</td>\n",
       "    </tr>\n",
       "    <tr>\n",
       "      <th>2023-08-29</th>\n",
       "      <td>04:00:00</td>\n",
       "      <td>09:30:00</td>\n",
       "      <td>15:59:00</td>\n",
       "      <td>19:59:00</td>\n",
       "    </tr>\n",
       "    <tr>\n",
       "      <th>2023-08-30</th>\n",
       "      <td>04:00:00</td>\n",
       "      <td>09:30:00</td>\n",
       "      <td>15:59:00</td>\n",
       "      <td>19:59:00</td>\n",
       "    </tr>\n",
       "    <tr>\n",
       "      <th>2023-08-31</th>\n",
       "      <td>04:00:00</td>\n",
       "      <td>09:30:00</td>\n",
       "      <td>15:59:00</td>\n",
       "      <td>19:59:00</td>\n",
       "    </tr>\n",
       "    <tr>\n",
       "      <th>2023-09-01</th>\n",
       "      <td>04:00:00</td>\n",
       "      <td>09:30:00</td>\n",
       "      <td>15:59:00</td>\n",
       "      <td>19:59:00</td>\n",
       "    </tr>\n",
       "  </tbody>\n",
       "</table>\n",
       "</div>"
      ],
      "text/plain": [
       "           premarket_open regular_open regular_close postmarket_close\n",
       "2023-08-28       04:00:00     09:30:00      15:59:00         19:59:00\n",
       "2023-08-29       04:00:00     09:30:00      15:59:00         19:59:00\n",
       "2023-08-30       04:00:00     09:30:00      15:59:00         19:59:00\n",
       "2023-08-31       04:00:00     09:30:00      15:59:00         19:59:00\n",
       "2023-09-01       04:00:00     09:30:00      15:59:00         19:59:00"
      ]
     },
     "execution_count": 33,
     "metadata": {},
     "output_type": "execute_result"
    }
   ],
   "source": [
    "get_market_calendar().tail(5)"
   ]
  },
  {
   "cell_type": "markdown",
   "metadata": {},
   "source": [
    "# 2.2 Testing\n",
    "According to [Schwab](https://www.schwab.com/public/schwab/nn/qq/about_extended_hours_trading.html) there are no extended hours on trading days with early closes. I could not find confirmation for this so I will test this claim."
   ]
  },
  {
   "cell_type": "code",
   "execution_count": 13,
   "metadata": {},
   "outputs": [],
   "source": [
    "data = download_m1_raw_data(\"SPY\", from_ = date(2019, 1, 2), to = date(2023, 8, 18), client=client)\n",
    "data.to_parquet(POLYGON_DATA_PATH + \"../market/SPY.csv\", engine=\"fastparquet\", compression=\"snappy\", row_group_offsets=25000)"
   ]
  },
  {
   "cell_type": "code",
   "execution_count": 21,
   "metadata": {},
   "outputs": [
    {
     "name": "stdout",
     "output_type": "stream",
     "text": [
      "False\n",
      "True\n"
     ]
    }
   ],
   "source": [
    "SPY_m1 = pd.read_csv(\n",
    "        POLYGON_DATA_PATH + \"../market/SPY.csv\",\n",
    "        parse_dates=True,\n",
    "        index_col=\"datetime\",\n",
    "        usecols=[\"datetime\"]\n",
    "    )\n",
    "\n",
    "market_calendar = get_market_calendar()\n",
    "market_dates = get_market_dates()\n",
    "\n",
    "# Test for duplicated days in daily data, should be False\n",
    "print(all(market_calendar.duplicated()))\n",
    "\n",
    "SPY_open_dates = set(SPY_m1.index.date)\n",
    "\n",
    "# Test if SPY dates are contained in the market days\n",
    "print(SPY_open_dates.issubset(set(market_dates)))"
   ]
  },
  {
   "cell_type": "markdown",
   "metadata": {},
   "source": [
    "Test if first minute of the day is always at 4:00 ET. As there are not always trades in the first exact minute, we will only look at the hour."
   ]
  },
  {
   "cell_type": "code",
   "execution_count": 22,
   "metadata": {},
   "outputs": [],
   "source": [
    "SPY_m1[\"date\"] = SPY_m1.index.date\n",
    "SPY_m1[\"hour\"] = SPY_m1.index.hour"
   ]
  },
  {
   "cell_type": "code",
   "execution_count": 23,
   "metadata": {},
   "outputs": [
    {
     "data": {
      "text/html": [
       "<div>\n",
       "<style scoped>\n",
       "    .dataframe tbody tr th:only-of-type {\n",
       "        vertical-align: middle;\n",
       "    }\n",
       "\n",
       "    .dataframe tbody tr th {\n",
       "        vertical-align: top;\n",
       "    }\n",
       "\n",
       "    .dataframe thead th {\n",
       "        text-align: right;\n",
       "    }\n",
       "</style>\n",
       "<table border=\"1\" class=\"dataframe\">\n",
       "  <thead>\n",
       "    <tr style=\"text-align: right;\">\n",
       "      <th></th>\n",
       "      <th>date</th>\n",
       "      <th>hour</th>\n",
       "    </tr>\n",
       "    <tr>\n",
       "      <th>datetime</th>\n",
       "      <th></th>\n",
       "      <th></th>\n",
       "    </tr>\n",
       "  </thead>\n",
       "  <tbody>\n",
       "  </tbody>\n",
       "</table>\n",
       "</div>"
      ],
      "text/plain": [
       "Empty DataFrame\n",
       "Columns: [date, hour]\n",
       "Index: []"
      ]
     },
     "execution_count": 23,
     "metadata": {},
     "output_type": "execute_result"
    }
   ],
   "source": [
    "SPY_open = SPY_m1[~SPY_m1[\"date\"].duplicated()] # By removing duplicates we get the first 1-minute bar of each day.\n",
    "SPY_open[SPY_open[\"hour\"] != 4]"
   ]
  },
  {
   "cell_type": "markdown",
   "metadata": {},
   "source": [
    "Test if the post-market closed 4 hours after an early close day (2023-07-03)."
   ]
  },
  {
   "cell_type": "code",
   "execution_count": 26,
   "metadata": {},
   "outputs": [
    {
     "data": {
      "text/html": [
       "<div>\n",
       "<style scoped>\n",
       "    .dataframe tbody tr th:only-of-type {\n",
       "        vertical-align: middle;\n",
       "    }\n",
       "\n",
       "    .dataframe tbody tr th {\n",
       "        vertical-align: top;\n",
       "    }\n",
       "\n",
       "    .dataframe thead th {\n",
       "        text-align: right;\n",
       "    }\n",
       "</style>\n",
       "<table border=\"1\" class=\"dataframe\">\n",
       "  <thead>\n",
       "    <tr style=\"text-align: right;\">\n",
       "      <th></th>\n",
       "      <th>date</th>\n",
       "      <th>hour</th>\n",
       "    </tr>\n",
       "    <tr>\n",
       "      <th>datetime</th>\n",
       "      <th></th>\n",
       "      <th></th>\n",
       "    </tr>\n",
       "  </thead>\n",
       "  <tbody>\n",
       "    <tr>\n",
       "      <th>2023-07-03 16:59:00</th>\n",
       "      <td>2023-07-03</td>\n",
       "      <td>16</td>\n",
       "    </tr>\n",
       "  </tbody>\n",
       "</table>\n",
       "</div>"
      ],
      "text/plain": [
       "                           date  hour\n",
       "datetime                             \n",
       "2023-07-03 16:59:00  2023-07-03    16"
      ]
     },
     "execution_count": 26,
     "metadata": {},
     "output_type": "execute_result"
    }
   ],
   "source": [
    "SPY_m1[SPY_m1['date'] == date(2023, 7, 3)].tail(1)"
   ]
  },
  {
   "cell_type": "markdown",
   "metadata": {},
   "source": [
    "Test if this is always the case for early closes."
   ]
  },
  {
   "cell_type": "code",
   "execution_count": 30,
   "metadata": {},
   "outputs": [
    {
     "data": {
      "text/html": [
       "<div>\n",
       "<style scoped>\n",
       "    .dataframe tbody tr th:only-of-type {\n",
       "        vertical-align: middle;\n",
       "    }\n",
       "\n",
       "    .dataframe tbody tr th {\n",
       "        vertical-align: top;\n",
       "    }\n",
       "\n",
       "    .dataframe thead th {\n",
       "        text-align: right;\n",
       "    }\n",
       "</style>\n",
       "<table border=\"1\" class=\"dataframe\">\n",
       "  <thead>\n",
       "    <tr style=\"text-align: right;\">\n",
       "      <th></th>\n",
       "      <th>date</th>\n",
       "      <th>hour</th>\n",
       "    </tr>\n",
       "    <tr>\n",
       "      <th>datetime</th>\n",
       "      <th></th>\n",
       "      <th></th>\n",
       "    </tr>\n",
       "  </thead>\n",
       "  <tbody>\n",
       "    <tr>\n",
       "      <th>2019-07-03 16:59:00</th>\n",
       "      <td>2019-07-03</td>\n",
       "      <td>16</td>\n",
       "    </tr>\n",
       "    <tr>\n",
       "      <th>2019-11-29 16:59:00</th>\n",
       "      <td>2019-11-29</td>\n",
       "      <td>16</td>\n",
       "    </tr>\n",
       "    <tr>\n",
       "      <th>2019-12-24 16:59:00</th>\n",
       "      <td>2019-12-24</td>\n",
       "      <td>16</td>\n",
       "    </tr>\n",
       "    <tr>\n",
       "      <th>2020-11-27 16:59:00</th>\n",
       "      <td>2020-11-27</td>\n",
       "      <td>16</td>\n",
       "    </tr>\n",
       "    <tr>\n",
       "      <th>2020-12-24 16:59:00</th>\n",
       "      <td>2020-12-24</td>\n",
       "      <td>16</td>\n",
       "    </tr>\n",
       "    <tr>\n",
       "      <th>2021-11-26 16:59:00</th>\n",
       "      <td>2021-11-26</td>\n",
       "      <td>16</td>\n",
       "    </tr>\n",
       "    <tr>\n",
       "      <th>2022-11-25 16:59:00</th>\n",
       "      <td>2022-11-25</td>\n",
       "      <td>16</td>\n",
       "    </tr>\n",
       "    <tr>\n",
       "      <th>2023-07-03 16:59:00</th>\n",
       "      <td>2023-07-03</td>\n",
       "      <td>16</td>\n",
       "    </tr>\n",
       "  </tbody>\n",
       "</table>\n",
       "</div>"
      ],
      "text/plain": [
       "                           date  hour\n",
       "datetime                             \n",
       "2019-07-03 16:59:00  2019-07-03    16\n",
       "2019-11-29 16:59:00  2019-11-29    16\n",
       "2019-12-24 16:59:00  2019-12-24    16\n",
       "2020-11-27 16:59:00  2020-11-27    16\n",
       "2020-12-24 16:59:00  2020-12-24    16\n",
       "2021-11-26 16:59:00  2021-11-26    16\n",
       "2022-11-25 16:59:00  2022-11-25    16\n",
       "2023-07-03 16:59:00  2023-07-03    16"
      ]
     },
     "execution_count": 30,
     "metadata": {},
     "output_type": "execute_result"
    }
   ],
   "source": [
    "SPY_close = SPY_m1[~SPY_m1[\"date\"].duplicated(keep=\"last\")]\n",
    "SPY_early_close = SPY_close[SPY_close[\"hour\"] < 19] # Remove regular closes\n",
    "SPY_early_close"
   ]
  },
  {
   "cell_type": "markdown",
   "metadata": {},
   "source": [
    "This matches the QuantConnect list.\n",
    "\n",
    "So to summarize: pre-market always starts at 4:00. The market always opens at 9:30. The market closes at 16:00, except on early closes where the close is 13:00. The post-market always closes 4 hours after the regular close.\n",
    "\n",
    "So far, we have learned some quirks of the Polygon API and established the market hours. We now will loop through all trading dates and get a list of all tickers."
   ]
  },
  {
   "cell_type": "markdown",
   "metadata": {},
   "source": [
    "# 2.3 Updates\n",
    "1. Update END_DATE.\n",
    "2. Update the list of <code>early_closes</code>.\n",
    "3. Run the 3 ### cells in 2.1."
   ]
  },
  {
   "cell_type": "markdown",
   "metadata": {},
   "source": []
  }
 ],
 "metadata": {
  "kernelspec": {
   "display_name": "algotrading",
   "language": "python",
   "name": "python3"
  },
  "language_info": {
   "codemirror_mode": {
    "name": "ipython",
    "version": 3
   },
   "file_extension": ".py",
   "mimetype": "text/x-python",
   "name": "python",
   "nbconvert_exporter": "python",
   "pygments_lexer": "ipython3",
   "version": "3.11.4"
  }
 },
 "nbformat": 4,
 "nbformat_minor": 2
}
