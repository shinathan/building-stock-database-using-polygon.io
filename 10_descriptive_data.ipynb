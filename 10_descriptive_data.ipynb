{
 "cells": [
  {
   "cell_type": "markdown",
   "metadata": {},
   "source": [
    "# Adding countries to our ticker list\n",
    "The polygon ticker details always gives the 'US' as address, so it's useless. I want to know whether stocks are headquartered in the US or not. An ADR is NOT a good method to find this, because foreign companies can be 'normally' listed.\n",
    "\n",
    "Recycled tickers: country data and SIC is available."
   ]
  },
  {
   "cell_type": "code",
   "execution_count": 3,
   "metadata": {},
   "outputs": [],
   "source": [
    "from tickers import get_tickers\n",
    "from sec_edgar_api import EdgarClient\n",
    "import numpy as np\n",
    "import pandas as pd\n",
    "\n",
    "edgar = EdgarClient(user_agent=\"shinathan python project\")"
   ]
  },
  {
   "cell_type": "code",
   "execution_count": null,
   "metadata": {},
   "outputs": [],
   "source": [
    "tickers = get_tickers(4)\n",
    "tickers['country'] = pd.Series(dtype='str')\n",
    "tickers['sic'] = pd.Series(dtype='str')\n",
    "\n",
    "for index, row in tickers.iterrows():\n",
    "    cik = row['cik']\n",
    "    if np.isnan(cik):\n",
    "        continue\n",
    "    submission = edgar.get_submissions(int(cik))\n",
    "    tickers.loc[index, 'country'] = submission['addresses']['business']['stateOrCountry']\n",
    "    tickers.loc[index, 'sic'] = submission['sic']\n",
    "     \n",
    "    if index % 100 == 0:\n",
    "        print(index)"
   ]
  },
  {
   "cell_type": "markdown",
   "metadata": {},
   "source": [
    "# Converting country codes to country.\n",
    "\n",
    "There are also some codes that do not match the code-country mapping, these are 'E6', 'E7', 'I8', 'L4', 'L5', 'U2', 'US', 'a0', 'a1', 'ct', 'ny',\n",
    "'pa', 'ut', 'wa'. Looking at the [SEC](https://www.sec.gov/edgar/searchedgar/edgarcompstate.htm), we will assign:\n",
    "* E6, E7, a0, a1: CANADA\n",
    "* I8: GERMANY\n",
    "* L4, L5: ISRAEL\n",
    "* U2: RUSSIAN FEDERATION\n",
    "* ct, ny, pa, ut, wa: we must make sure to capitalize the country code string.\n",
    "\n",
    "We will also change 'CANADA (federal level)' to 'CANADA'."
   ]
  },
  {
   "cell_type": "code",
   "execution_count": 5,
   "metadata": {},
   "outputs": [],
   "source": [
    "# https://www.sec.gov/edgar/searchedgar/edgarstatecodes\n",
    "states_in_US = [\"AL\", \"AK\", \"AZ\", \"AR\", \"CA\", \"CO\", \"CT\", \"DE\", \"DC\", \"FL\", \"GA\", \"HI\", \"ID\", \"IL\", \"IN\", \"IA\", \"KS\", \"KY\", \"LA\", \"ME\", \"MD\", \"MA\", \"MI\", \"MN\", \"MS\", \"MO\", \"MT\", \"NE\", \"NV\", \"NH\", \"NJ\", \"NM\", \"NY\", \"NC\", \"ND\", \"OH\", \"OK\", \"OR\", \"PA\", \"RI\", \"SC\", \"SD\", \"TN\", \"TX\", \"X1\", \"UT\", \"VT\", \"VA\", \"WA\", \"WV\", \"WI\", \"WY\"]\n",
    "states_in_CN = [\"A0\", \"A1\", \"A2\", \"A3\", \"A4\", \"A5\", \"A6\", \"A7\", \"A8\", \"A9\", \"B0\", \"Z4\"]\n",
    "countries_map = pd.read_excel('../data/other/SEC countries.xlsx', index_col=0)"
   ]
  },
  {
   "cell_type": "code",
   "execution_count": 6,
   "metadata": {},
   "outputs": [],
   "source": [
    "for index, row in tickers.iterrows():\n",
    "    country_code = str(row['country'])\n",
    "    country_code = country_code.upper()\n",
    "    if country_code == 'NAN' or country_code == '':\n",
    "        continue\n",
    "\n",
    "    if country_code in states_in_US:\n",
    "        tickers.loc[index, 'country'] = 'US'\n",
    "    elif country_code in states_in_CN:\n",
    "        tickers.loc[index, 'country'] = 'CANADA'\n",
    "    else:\n",
    "        tickers.loc[index, 'country'] = countries_map.loc[country_code, 'Country']\n"
   ]
  },
  {
   "cell_type": "code",
   "execution_count": 7,
   "metadata": {},
   "outputs": [
    {
     "data": {
      "text/html": [
       "<div>\n",
       "<style scoped>\n",
       "    .dataframe tbody tr th:only-of-type {\n",
       "        vertical-align: middle;\n",
       "    }\n",
       "\n",
       "    .dataframe tbody tr th {\n",
       "        vertical-align: top;\n",
       "    }\n",
       "\n",
       "    .dataframe thead th {\n",
       "        text-align: right;\n",
       "    }\n",
       "</style>\n",
       "<table border=\"1\" class=\"dataframe\">\n",
       "  <thead>\n",
       "    <tr style=\"text-align: right;\">\n",
       "      <th></th>\n",
       "      <th>ID</th>\n",
       "      <th>ticker</th>\n",
       "      <th>name</th>\n",
       "      <th>cik</th>\n",
       "      <th>sic</th>\n",
       "      <th>country</th>\n",
       "    </tr>\n",
       "  </thead>\n",
       "  <tbody>\n",
       "    <tr>\n",
       "      <th>0</th>\n",
       "      <td>A-2003-09-10</td>\n",
       "      <td>A</td>\n",
       "      <td>AGILENT TECHNOLOGIES, INC</td>\n",
       "      <td>1090872.0</td>\n",
       "      <td>3826</td>\n",
       "      <td>US</td>\n",
       "    </tr>\n",
       "    <tr>\n",
       "      <th>1</th>\n",
       "      <td>A-2005-12-14</td>\n",
       "      <td>A</td>\n",
       "      <td>Agilent Technologies Inc.</td>\n",
       "      <td>1090872.0</td>\n",
       "      <td>3826</td>\n",
       "      <td>US</td>\n",
       "    </tr>\n",
       "    <tr>\n",
       "      <th>2</th>\n",
       "      <td>AA-2003-09-10</td>\n",
       "      <td>AA</td>\n",
       "      <td>Alcoa Corporation</td>\n",
       "      <td>1675149.0</td>\n",
       "      <td>3334</td>\n",
       "      <td>US</td>\n",
       "    </tr>\n",
       "    <tr>\n",
       "      <th>3</th>\n",
       "      <td>AAA-2003-09-10</td>\n",
       "      <td>AAA</td>\n",
       "      <td>ALTANA AKTIENGESELLSCHAFT SPON ADR</td>\n",
       "      <td>NaN</td>\n",
       "      <td>NaN</td>\n",
       "      <td>NaN</td>\n",
       "    </tr>\n",
       "    <tr>\n",
       "      <th>4</th>\n",
       "      <td>AAAP-2015-11-11</td>\n",
       "      <td>AAAP</td>\n",
       "      <td>Advanced Accelerator Applications S.A. America...</td>\n",
       "      <td>1611787.0</td>\n",
       "      <td>2834</td>\n",
       "      <td>FRANCE</td>\n",
       "    </tr>\n",
       "  </tbody>\n",
       "</table>\n",
       "</div>"
      ],
      "text/plain": [
       "                ID ticker                                               name  \\\n",
       "0     A-2003-09-10      A                          AGILENT TECHNOLOGIES, INC   \n",
       "1     A-2005-12-14      A                          Agilent Technologies Inc.   \n",
       "2    AA-2003-09-10     AA                                  Alcoa Corporation   \n",
       "3   AAA-2003-09-10    AAA                 ALTANA AKTIENGESELLSCHAFT SPON ADR   \n",
       "4  AAAP-2015-11-11   AAAP  Advanced Accelerator Applications S.A. America...   \n",
       "\n",
       "         cik   sic country  \n",
       "0  1090872.0  3826      US  \n",
       "1  1090872.0  3826      US  \n",
       "2  1675149.0  3334      US  \n",
       "3        NaN   NaN     NaN  \n",
       "4  1611787.0  2834  FRANCE  "
      ]
     },
     "execution_count": 7,
     "metadata": {},
     "output_type": "execute_result"
    }
   ],
   "source": [
    "tickers.head(5)[['ID', 'ticker', 'name', 'cik', 'sic', 'country']]"
   ]
  },
  {
   "cell_type": "code",
   "execution_count": 8,
   "metadata": {},
   "outputs": [],
   "source": [
    "tickers.to_csv('../data/tickers_v4.csv')"
   ]
  }
 ],
 "metadata": {
  "kernelspec": {
   "display_name": "algotrading",
   "language": "python",
   "name": "python3"
  },
  "language_info": {
   "codemirror_mode": {
    "name": "ipython",
    "version": 3
   },
   "file_extension": ".py",
   "mimetype": "text/x-python",
   "name": "python",
   "nbconvert_exporter": "python",
   "pygments_lexer": "ipython3",
   "version": "3.11.4"
  }
 },
 "nbformat": 4,
 "nbformat_minor": 2
}
