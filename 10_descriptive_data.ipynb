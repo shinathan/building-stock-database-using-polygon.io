{
 "cells": [
  {
   "cell_type": "markdown",
   "metadata": {},
   "source": [
    "# Adding countries to our ticker list\n",
    "The polygon ticker details always gives the 'US' as address, so it's useless. I want to know whether stocks are headquartered in the US or not. An ADR is NOT a good method to find this, because foreign companies can be 'normally' listed."
   ]
  },
  {
   "cell_type": "code",
   "execution_count": 1,
   "metadata": {},
   "outputs": [],
   "source": [
    "from tickers import get_tickers\n",
    "from sec_edgar_api import EdgarClient\n",
    "import numpy as np\n",
    "import pandas as pd\n",
    "\n",
    "edgar = EdgarClient(user_agent=\"shinathan python project\")"
   ]
  },
  {
   "cell_type": "code",
   "execution_count": 3,
   "metadata": {},
   "outputs": [
    {
     "name": "stdout",
     "output_type": "stream",
     "text": [
      "0\n",
      "100\n",
      "200\n",
      "300\n",
      "400\n",
      "500\n",
      "600\n",
      "700\n",
      "800\n",
      "900\n",
      "1000\n",
      "1100\n",
      "1200\n",
      "1300\n",
      "1400\n",
      "1500\n",
      "1600\n",
      "1700\n",
      "1800\n",
      "1900\n",
      "2000\n",
      "2100\n",
      "2200\n",
      "2300\n",
      "2400\n",
      "2500\n",
      "2600\n",
      "2700\n",
      "2800\n",
      "2900\n",
      "3100\n",
      "3200\n",
      "3300\n",
      "3400\n"
     ]
    }
   ],
   "source": [
    "tickers = get_tickers(5)\n",
    "tickers['country'] = pd.Series(dtype='str')\n",
    "tickers['sic'] = pd.Series(dtype='str')\n",
    "\n",
    "for index, row in tickers.iterrows():\n",
    "    cik = row['cik']\n",
    "    if np.isnan(cik):\n",
    "        continue\n",
    "    submission = edgar.get_submissions(int(cik))\n",
    "    tickers.loc[index, 'country'] = submission['addresses']['business']['stateOrCountry']\n",
    "    tickers.loc[index, 'sic'] = submission['sic']\n",
    "    \n",
    "    if index % 100 == 0:\n",
    "        print(index)"
   ]
  },
  {
   "cell_type": "markdown",
   "metadata": {},
   "source": [
    "# Converting country codes to country.\n",
    "\n",
    "There are also some old codes, these are 'E6', 'E7', 'I8', 'L4', 'L5', 'U2', 'US', 'a0', 'a1', 'ct', 'ny',\n",
    "'pa', 'ut', 'wa'. Looking at the [SEC](https://www.sec.gov/edgar/searchedgar/edgarcompstate.htm), we will assign:\n",
    "* E6, E7, a0, a1: CANADA\n",
    "* I8: GERMANY\n",
    "* L4, L5: ISRAEL\n",
    "* U2: RUSSIAN FEDERATION\n",
    "* ct, ny, pa, ut, wa: we must make sure to capitalize the country code string.\n",
    "\n",
    "We will also change 'CANADA (federal level)' to 'CANADA'."
   ]
  },
  {
   "cell_type": "code",
   "execution_count": null,
   "metadata": {},
   "outputs": [],
   "source": [
    "# https://www.sec.gov/edgar/searchedgar/edgarstatecodes\n",
    "states_in_US = [\"AL\", \"AK\", \"AZ\", \"AR\", \"CA\", \"CO\", \"CT\", \"DE\", \"DC\", \"FL\", \"GA\", \"HI\", \"ID\", \"IL\", \"IN\", \"IA\", \"KS\", \"KY\", \"LA\", \"ME\", \"MD\", \"MA\", \"MI\", \"MN\", \"MS\", \"MO\", \"MT\", \"NE\", \"NV\", \"NH\", \"NJ\", \"NM\", \"NY\", \"NC\", \"ND\", \"OH\", \"OK\", \"OR\", \"PA\", \"RI\", \"SC\", \"SD\", \"TN\", \"TX\", \"X1\", \"UT\", \"VT\", \"VA\", \"WA\", \"WV\", \"WI\", \"WY\"]\n",
    "stats_in_CN = [\"A0\", \"A1\", \"A2\", \"A3\", \"A4\", \"A5\", \"A6\", \"A7\", \"A8\", \"A9\", \"B0\", \"Z4\"]\n",
    "countries_map = pd.read_excel('../data/other/SEC countries.xlsx', index_col=0)"
   ]
  },
  {
   "cell_type": "code",
   "execution_count": null,
   "metadata": {},
   "outputs": [],
   "source": [
    "for index, row in tickers.iterrows():\n",
    "    country_code = str(row['country'])\n",
    "    country_code = country_code.upper()\n",
    "    if country_code == 'NAN':\n",
    "        continue\n",
    "\n",
    "    if country_code in states_in_US:\n",
    "        tickers.loc[index, 'country'] = 'US'\n",
    "    elif country_code in stats_in_CN:\n",
    "        tickers.loc[index, 'country'] = 'CANADA'\n",
    "    else:\n",
    "        tickers.loc[index, 'country'] = countries_map.loc[country_code, 'Country']\n"
   ]
  },
  {
   "cell_type": "code",
   "execution_count": null,
   "metadata": {},
   "outputs": [],
   "source": [
    "tickers.head(5)[['ID', 'ticker', 'name', 'cik', 'sic', 'country']]"
   ]
  },
  {
   "cell_type": "code",
   "execution_count": null,
   "metadata": {},
   "outputs": [],
   "source": [
    "tickers.to_csv('../data/tickers_v5.csv')"
   ]
  }
 ],
 "metadata": {
  "kernelspec": {
   "display_name": "algotrading",
   "language": "python",
   "name": "python3"
  },
  "language_info": {
   "codemirror_mode": {
    "name": "ipython",
    "version": 3
   },
   "file_extension": ".py",
   "mimetype": "text/x-python",
   "name": "python",
   "nbconvert_exporter": "python",
   "pygments_lexer": "ipython3",
   "version": "3.11.4"
  }
 },
 "nbformat": 4,
 "nbformat_minor": 2
}
