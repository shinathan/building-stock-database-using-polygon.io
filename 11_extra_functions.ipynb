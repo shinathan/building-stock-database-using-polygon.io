{
 "cells": [
  {
   "cell_type": "markdown",
   "metadata": {},
   "source": [
    "# Extra functions"
   ]
  },
  {
   "cell_type": "code",
   "execution_count": 1,
   "metadata": {},
   "outputs": [],
   "source": [
    "from utils import remove_extended_hours\n",
    "from datetime import datetime, date, timedelta\n",
    "import mplfinance as mpf\n",
    "import pandas as pd\n",
    "import numpy as np\n",
    "import os\n",
    "import pyarrow as pa\n",
    "import pyarrow.parquet as pq\n",
    "DATA_PATH = \"../data/polygon/\""
   ]
  },
  {
   "cell_type": "code",
   "execution_count": 2,
   "metadata": {},
   "outputs": [],
   "source": [
    "def get_id(ticker, timeframe=\"daily\"):\n",
    "    \"\"\"Get the most recent ID corresponding to the ticker\n",
    "\n",
    "    Args:\n",
    "        timeframe (int or str): 1 for 1-minute, 5 for 5-minute, else daily\n",
    "        ticker (str): _description_\n",
    "\n",
    "    Returns:\n",
    "        string: the ID\n",
    "    \"\"\"\n",
    "    if timeframe in [1, 5]:\n",
    "        all_files = os.listdir(DATA_PATH + f'processed/m{timeframe}/')\n",
    "\n",
    "    else:\n",
    "        all_files = os.listdir(DATA_PATH + f'processed/d1/')\n",
    "            \n",
    "    all_IDs = [file[:-8] for file in all_files]\n",
    "    IDs = [id for id in all_IDs if id[:-11] == ticker]\n",
    "    return sorted(IDs)[-1]"
   ]
  },
  {
   "cell_type": "code",
   "execution_count": 3,
   "metadata": {},
   "outputs": [],
   "source": [
    "def get_data(ticker_or_id, start=date(2000, 1, 1), end=date(2100, 1, 1), timeframe=\"daily\", regular_hours_only=False, location='processed'):\n",
    "    \"\"\"Retrieves the data from our database\n",
    "\n",
    "    Args:\n",
    "        ticker_or_id (str): the ticker or ID\n",
    "        start (datetime/date, optional): the start date(time) (inclusive). Defaults to no bounds.\n",
    "        end (datetime/date, optional): the end date(time) (inclusive). Defaults to no bounds.\n",
    "        timeframe (str, optional): 1 for 1-minute, 5 for 5-minute. Defaults to daily bars.\n",
    "        regular_hours_only (bool, optional): Whether we need to remove extended hours. Defaults to False.\n",
    "        location (str): 'processed' or 'raw'. Defaults to 'processed'.\n",
    "\n",
    "    Returns:\n",
    "        DataFrame: the output\n",
    "    \"\"\"\n",
    "\n",
    "    # Determine if is ID or ticker\n",
    "    if ticker_or_id[-1].isnumeric():\n",
    "        id = ticker_or_id\n",
    "    else:\n",
    "        id = get_id(ticker_or_id, timeframe)\n",
    "        \n",
    "    # Read data\n",
    "    if timeframe in [1, 5]:\n",
    "        dataset = pq.ParquetDataset(DATA_PATH + f'{location}/m{timeframe}/{id}.parquet', filters=[(\"datetime\", \">=\", start), (\"datetime\", \"<=\", end)] )\n",
    "    else:\n",
    "        dataset = pq.ParquetDataset(DATA_PATH + f'{location}/d1/{id}.parquet', filters=[(\"datetime\", \">=\", start), (\"datetime\", \"<\", end + timedelta(days=1))] )\n",
    "    df = dataset.read().to_pandas()\n",
    "    \n",
    "    # Remove extended hours if necessary\n",
    "    if regular_hours_only and (timeframe in [1, 5]):\n",
    "        return remove_extended_hours(df)\n",
    "    else:\n",
    "        return df "
   ]
  },
  {
   "cell_type": "code",
   "execution_count": 4,
   "metadata": {},
   "outputs": [
    {
     "data": {
      "text/plain": [
       "'A-2019-01-01'"
      ]
     },
     "execution_count": 4,
     "metadata": {},
     "output_type": "execute_result"
    }
   ],
   "source": [
    "get_id(\"A\")"
   ]
  },
  {
   "cell_type": "code",
   "execution_count": 5,
   "metadata": {},
   "outputs": [
    {
     "data": {
      "text/html": [
       "<div>\n",
       "<style scoped>\n",
       "    .dataframe tbody tr th:only-of-type {\n",
       "        vertical-align: middle;\n",
       "    }\n",
       "\n",
       "    .dataframe tbody tr th {\n",
       "        vertical-align: top;\n",
       "    }\n",
       "\n",
       "    .dataframe thead th {\n",
       "        text-align: right;\n",
       "    }\n",
       "</style>\n",
       "<table border=\"1\" class=\"dataframe\">\n",
       "  <thead>\n",
       "    <tr style=\"text-align: right;\">\n",
       "      <th></th>\n",
       "      <th>open</th>\n",
       "      <th>high</th>\n",
       "      <th>low</th>\n",
       "      <th>close</th>\n",
       "      <th>volume</th>\n",
       "      <th>tradeable</th>\n",
       "      <th>halted</th>\n",
       "    </tr>\n",
       "    <tr>\n",
       "      <th>datetime</th>\n",
       "      <th></th>\n",
       "      <th></th>\n",
       "      <th></th>\n",
       "      <th></th>\n",
       "      <th></th>\n",
       "      <th></th>\n",
       "      <th></th>\n",
       "    </tr>\n",
       "  </thead>\n",
       "  <tbody>\n",
       "    <tr>\n",
       "      <th>2020-01-02</th>\n",
       "      <td>21.692657</td>\n",
       "      <td>21.812395</td>\n",
       "      <td>21.268582</td>\n",
       "      <td>21.378343</td>\n",
       "      <td>2.720044e+06</td>\n",
       "      <td>True</td>\n",
       "      <td>False</td>\n",
       "    </tr>\n",
       "    <tr>\n",
       "      <th>2020-01-03</th>\n",
       "      <td>21.203724</td>\n",
       "      <td>21.562940</td>\n",
       "      <td>21.103942</td>\n",
       "      <td>21.443201</td>\n",
       "      <td>2.696646e+06</td>\n",
       "      <td>True</td>\n",
       "      <td>False</td>\n",
       "    </tr>\n",
       "  </tbody>\n",
       "</table>\n",
       "</div>"
      ],
      "text/plain": [
       "                 open       high        low      close        volume  \\\n",
       "datetime                                                               \n",
       "2020-01-02  21.692657  21.812395  21.268582  21.378343  2.720044e+06   \n",
       "2020-01-03  21.203724  21.562940  21.103942  21.443201  2.696646e+06   \n",
       "\n",
       "            tradeable  halted  \n",
       "datetime                       \n",
       "2020-01-02       True   False  \n",
       "2020-01-03       True   False  "
      ]
     },
     "execution_count": 5,
     "metadata": {},
     "output_type": "execute_result"
    }
   ],
   "source": [
    "get_data(\"AA\", date(2020, 1, 1), date(2020, 1, 5), timeframe = 'd')"
   ]
  },
  {
   "cell_type": "code",
   "execution_count": 6,
   "metadata": {},
   "outputs": [
    {
     "data": {
      "image/png": "[encoded data removed]",
      "text/plain": [
       "<Figure size 800x575 with 2 Axes>"
      ]
     },
     "metadata": {},
     "output_type": "display_data"
    }
   ],
   "source": [
    "mpf.plot(get_data(\"AA\", date(2022, 2, 1), date(2022, 3, 1)), type='candle', style='yahoo', title='AA')"
   ]
  }
 ],
 "metadata": {
  "kernelspec": {
   "display_name": "algotrading",
   "language": "python",
   "name": "python3"
  },
  "language_info": {
   "codemirror_mode": {
    "name": "ipython",
    "version": 3
   },
   "file_extension": ".py",
   "mimetype": "text/x-python",
   "name": "python",
   "nbconvert_exporter": "python",
   "pygments_lexer": "ipython3",
   "version": "3.11.4"
  }
 },
 "nbformat": 4,
 "nbformat_minor": 2
}
