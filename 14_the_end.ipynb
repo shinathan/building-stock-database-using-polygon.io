{
 "cells": [
  {
   "cell_type": "markdown",
   "metadata": {},
   "source": [
    "# 14. The End\n",
    "Congratulations on making it all the way through the end. After a lot of work, I have decided:\n",
    "* To stop developing the event-driven backtester in my other repository. The reason is that it is becoming very cumbersome to implement everything correctly. For example trade delays, parameter optimization, dynamic universes etc. I am just a novice Python programmer and it's not fun anymore. I will now just switch to QuantConnect or use my simple loop-based backtester which is much easier to debug and understand.\n",
    "* The reason that I didn't start with QuantConnect in the first place was that I was mainly interested in shorting strategies, which mean that you would have to screen all 3000+ stocks on minute frequency. That was simply impossible on QuantConnect. However now that I finally have the data myself, I can create a 'historical screener' (e.g. a gap up) for each day and feed the tickers back into QuantConnect. Then it's just maybe 5-10 tickers every day.\n",
    "* Secondly, even if I could develop the backtester with my noob python skills, the data is utterly shitty. There are so many 'late reported trades' which just destroy the data quality. Cleaning that would imply reconstructing all bars (thus downloading all tick data). Even if I manage to do that, the trade execution would not be realistic as I would have no bid/ask prices. So I also need ALL quote data which is even more than all tick data. Although Polygon does have it, it's just not worth the hassle. QuantConnect has them all."
   ]
  },
  {
   "cell_type": "code",
   "execution_count": null,
   "metadata": {},
   "outputs": [],
   "source": []
  }
 ],
 "metadata": {
  "language_info": {
   "name": "python"
  }
 },
 "nbformat": 4,
 "nbformat_minor": 2
}
