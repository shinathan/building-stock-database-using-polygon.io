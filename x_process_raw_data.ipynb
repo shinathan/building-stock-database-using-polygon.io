{
 "cells": [
  {
   "cell_type": "markdown",
   "metadata": {},
   "source": [
    "# 5.1 Processing raw data\n",
    "This section combines the raw data, the adjustments and cleaned bars to get processed 1-minute data. After processing we also detect the halts to create a <code>halted</code> flag. There are no gaps for processed data. All stocks that are active on a certain day have minute bars for every minute, from pre to post market, even if no trades took place. Empty bars are forward filled. Only for the first day, backwards filling may be done.\n",
    "\n",
    "The steps:\n",
    "1. The bars are cleaned first, because the cleaned data is derived from raw tick data.\n",
    "2. Then the cleaned bars are split and dividend adjusted. (Split adjustment is done first for bars and dividends, then the split-adjusted bars are dividend-adjusted using the split-adjusted dividends.)\n",
    "3. After this, the data is forward filled. If there are still NA values, the data is backward filled. Forward/backward filled bars are flagged by setting <code>tradeable</code> to False.\n",
    "4. Lastly, halts are detected to create the <code>halted</code> flag.\n",
    "5. The true start/end dates are determined for each stock.\n",
    "\n",
    "To make the loop more readable, we will first build the functions <code>split_adjust</code>, <code>dividend_adjust</code> and <code>detect_halts</code>."
   ]
  },
  {
   "cell_type": "code",
   "execution_count": 1,
   "metadata": {},
   "outputs": [],
   "source": [
    "from utils import get_tickers, get_market_hours\n",
    "from datetime import datetime, date, time\n",
    "import mplfinance as mpf\n",
    "import pandas as pd\n",
    "import numpy as np\n",
    "import os\n",
    "DATA_PATH = \"../../../data/polygon/\""
   ]
  },
  {
   "cell_type": "markdown",
   "metadata": {},
   "source": [
    "## 5.1 Split adjustment"
   ]
  },
  {
   "cell_type": "code",
   "execution_count": 2,
   "metadata": {},
   "outputs": [],
   "source": [
    "adjustments = pd.read_csv(DATA_PATH + f\"raw/adjustments/TSLA.csv\", parse_dates=True, index_col=0)\n",
    "bars = pd.read_parquet(DATA_PATH + f\"raw/m1/TSLA-2019-01-01.parquet\")\n",
    "\n",
    "adjustments.index = pd.to_datetime(adjustments.index).date\n",
    "splits = adjustments[adjustments.type == \"SPLIT\"].copy()"
   ]
  },
  {
   "cell_type": "code",
   "execution_count": 3,
   "metadata": {},
   "outputs": [
    {
     "data": {
      "text/html": [
       "<div>\n",
       "<style scoped>\n",
       "    .dataframe tbody tr th:only-of-type {\n",
       "        vertical-align: middle;\n",
       "    }\n",
       "\n",
       "    .dataframe tbody tr th {\n",
       "        vertical-align: top;\n",
       "    }\n",
       "\n",
       "    .dataframe thead th {\n",
       "        text-align: right;\n",
       "    }\n",
       "</style>\n",
       "<table border=\"1\" class=\"dataframe\">\n",
       "  <thead>\n",
       "    <tr style=\"text-align: right;\">\n",
       "      <th></th>\n",
       "      <th>type</th>\n",
       "      <th>subtype</th>\n",
       "      <th>amount</th>\n",
       "    </tr>\n",
       "  </thead>\n",
       "  <tbody>\n",
       "    <tr>\n",
       "      <th>2020-08-31</th>\n",
       "      <td>SPLIT</td>\n",
       "      <td>N</td>\n",
       "      <td>0.200000</td>\n",
       "    </tr>\n",
       "    <tr>\n",
       "      <th>2022-08-25</th>\n",
       "      <td>SPLIT</td>\n",
       "      <td>N</td>\n",
       "      <td>0.333333</td>\n",
       "    </tr>\n",
       "  </tbody>\n",
       "</table>\n",
       "</div>"
      ],
      "text/plain": [
       "             type subtype    amount\n",
       "2020-08-31  SPLIT       N  0.200000\n",
       "2022-08-25  SPLIT       N  0.333333"
      ]
     },
     "execution_count": 3,
     "metadata": {},
     "output_type": "execute_result"
    }
   ],
   "source": [
    "splits"
   ]
  },
  {
   "cell_type": "code",
   "execution_count": 4,
   "metadata": {},
   "outputs": [
    {
     "data": {
      "text/html": [
       "<div>\n",
       "<style scoped>\n",
       "    .dataframe tbody tr th:only-of-type {\n",
       "        vertical-align: middle;\n",
       "    }\n",
       "\n",
       "    .dataframe tbody tr th {\n",
       "        vertical-align: top;\n",
       "    }\n",
       "\n",
       "    .dataframe thead th {\n",
       "        text-align: right;\n",
       "    }\n",
       "</style>\n",
       "<table border=\"1\" class=\"dataframe\">\n",
       "  <thead>\n",
       "    <tr style=\"text-align: right;\">\n",
       "      <th></th>\n",
       "      <th>cumulative_adjustment</th>\n",
       "    </tr>\n",
       "  </thead>\n",
       "  <tbody>\n",
       "    <tr>\n",
       "      <th>2020-08-31</th>\n",
       "      <td>0.066667</td>\n",
       "    </tr>\n",
       "    <tr>\n",
       "      <th>2022-08-25</th>\n",
       "      <td>0.333333</td>\n",
       "    </tr>\n",
       "  </tbody>\n",
       "</table>\n",
       "</div>"
      ],
      "text/plain": [
       "            cumulative_adjustment\n",
       "2020-08-31               0.066667\n",
       "2022-08-25               0.333333"
      ]
     },
     "execution_count": 4,
     "metadata": {},
     "output_type": "execute_result"
    }
   ],
   "source": [
    "trading_dates_ticker = np.unique(bars.index.date)\n",
    "\n",
    "# The original dates of 'split' are the dates of the split. But adjustments are for all dates before the split.\n",
    "splits['cumulative_adjustment'] = splits['amount'][::-1].cumprod()\n",
    "splits = splits.drop(columns=['type', 'subtype', 'amount'])\n",
    "splits"
   ]
  },
  {
   "cell_type": "code",
   "execution_count": 5,
   "metadata": {},
   "outputs": [],
   "source": [
    "splits.index = splits.index.to_series().apply(lambda date_ : max(d for d in trading_dates_ticker if d < date_)) # Shift dates 1 day back (the reason we cannot just use timedelta(days=1) is because that might not be a trading date.\n",
    "splits = splits.reindex(trading_dates_ticker) # Reindex using stock data \n",
    "splits.cumulative_adjustment = splits.cumulative_adjustment.fillna(method='bfill').fillna(value=1) # Backward fill and fill ones"
   ]
  },
  {
   "cell_type": "code",
   "execution_count": 6,
   "metadata": {},
   "outputs": [
    {
     "data": {
      "text/html": [
       "<div>\n",
       "<style scoped>\n",
       "    .dataframe tbody tr th:only-of-type {\n",
       "        vertical-align: middle;\n",
       "    }\n",
       "\n",
       "    .dataframe tbody tr th {\n",
       "        vertical-align: top;\n",
       "    }\n",
       "\n",
       "    .dataframe thead th {\n",
       "        text-align: right;\n",
       "    }\n",
       "</style>\n",
       "<table border=\"1\" class=\"dataframe\">\n",
       "  <thead>\n",
       "    <tr style=\"text-align: right;\">\n",
       "      <th></th>\n",
       "      <th>cumulative_adjustment</th>\n",
       "    </tr>\n",
       "  </thead>\n",
       "  <tbody>\n",
       "    <tr>\n",
       "      <th>2019-03-27</th>\n",
       "      <td>0.066667</td>\n",
       "    </tr>\n",
       "    <tr>\n",
       "      <th>2019-03-28</th>\n",
       "      <td>0.066667</td>\n",
       "    </tr>\n",
       "    <tr>\n",
       "      <th>2019-03-29</th>\n",
       "      <td>0.066667</td>\n",
       "    </tr>\n",
       "    <tr>\n",
       "      <th>2019-04-01</th>\n",
       "      <td>0.066667</td>\n",
       "    </tr>\n",
       "    <tr>\n",
       "      <th>2019-04-02</th>\n",
       "      <td>0.066667</td>\n",
       "    </tr>\n",
       "  </tbody>\n",
       "</table>\n",
       "</div>"
      ],
      "text/plain": [
       "            cumulative_adjustment\n",
       "2019-03-27               0.066667\n",
       "2019-03-28               0.066667\n",
       "2019-03-29               0.066667\n",
       "2019-04-01               0.066667\n",
       "2019-04-02               0.066667"
      ]
     },
     "execution_count": 6,
     "metadata": {},
     "output_type": "execute_result"
    }
   ],
   "source": [
    "splits[splits.index > date(2019, 3, 26)][:5]"
   ]
  },
  {
   "cell_type": "code",
   "execution_count": 7,
   "metadata": {},
   "outputs": [
    {
     "data": {
      "image/png": "[encoded data removed]",
      "text/plain": [
       "<Figure size 800x575 with 2 Axes>"
      ]
     },
     "metadata": {},
     "output_type": "display_data"
    }
   ],
   "source": [
    "daily = bars.resample('1D').agg({'open': 'first', \n",
    "                                 'high': 'max', \n",
    "                                 'low': 'min', \n",
    "                                 'close': 'last'})\n",
    "mpf.plot(daily, type='ohlc', show_nontrading=False, warn_too_much_data=1000000)"
   ]
  },
  {
   "cell_type": "code",
   "execution_count": 8,
   "metadata": {},
   "outputs": [],
   "source": [
    "bars['date'] = bars.index.date\n",
    "bars = bars.merge(splits, left_on='date', right_index=True, how='left')\n",
    "bars[['open', 'high', 'low', 'close']] = bars[['open', 'high', 'low', 'close']].multiply(bars[\"cumulative_adjustment\"], axis=\"index\")\n",
    "bars['volume'] = bars['volume'].divide(bars[\"cumulative_adjustment\"], axis=\"index\")"
   ]
  },
  {
   "cell_type": "code",
   "execution_count": 9,
   "metadata": {},
   "outputs": [
    {
     "data": {
      "image/png": "[encoded data removed]",
      "text/plain": [
       "<Figure size 800x575 with 2 Axes>"
      ]
     },
     "metadata": {},
     "output_type": "display_data"
    }
   ],
   "source": [
    "daily = bars.resample('1D').agg({'open': 'first', \n",
    "                                 'high': 'max', \n",
    "                                 'low': 'min', \n",
    "                                 'close': 'last'})\n",
    "mpf.plot(daily, type='ohlc', show_nontrading=False, warn_too_much_data=1000000)"
   ]
  },
  {
   "cell_type": "markdown",
   "metadata": {},
   "source": [
    "We also have to split-adjust the dividends, if there are splits. (Try to use the ticker BBD. Tesla has no dividends.)"
   ]
  },
  {
   "cell_type": "code",
   "execution_count": 10,
   "metadata": {},
   "outputs": [
    {
     "data": {
      "text/html": [
       "<div>\n",
       "<style scoped>\n",
       "    .dataframe tbody tr th:only-of-type {\n",
       "        vertical-align: middle;\n",
       "    }\n",
       "\n",
       "    .dataframe tbody tr th {\n",
       "        vertical-align: top;\n",
       "    }\n",
       "\n",
       "    .dataframe thead th {\n",
       "        text-align: right;\n",
       "    }\n",
       "</style>\n",
       "<table border=\"1\" class=\"dataframe\">\n",
       "  <thead>\n",
       "    <tr style=\"text-align: right;\">\n",
       "      <th></th>\n",
       "      <th>type</th>\n",
       "      <th>subtype</th>\n",
       "      <th>amount</th>\n",
       "    </tr>\n",
       "  </thead>\n",
       "  <tbody>\n",
       "  </tbody>\n",
       "</table>\n",
       "</div>"
      ],
      "text/plain": [
       "Empty DataFrame\n",
       "Columns: [type, subtype, amount]\n",
       "Index: []"
      ]
     },
     "execution_count": 10,
     "metadata": {},
     "output_type": "execute_result"
    }
   ],
   "source": [
    "dividends = adjustments[adjustments.type == \"DIV\"].copy()\n",
    "dividends.head(3)"
   ]
  },
  {
   "cell_type": "code",
   "execution_count": 11,
   "metadata": {},
   "outputs": [],
   "source": [
    "dividends['cum_div_date'] = dividends.index.to_series().apply(lambda date_ : max(d for d in trading_dates_ticker if d < date_)) # Shift dates 1 day back. We want the cum-dividend date, not ex-dividend.\n",
    "dividends.index.names = ['ex_div_date']\n",
    "dividends = dividends[['cum_div_date', 'amount']]\n",
    "dividends = dividends.merge(splits, left_on='cum_div_date', right_index=True, how='left')\n",
    "dividends['amount'] = dividends['amount'].multiply(dividends[\"cumulative_adjustment\"], axis=\"index\")\n",
    "dividends.drop(columns=['cumulative_adjustment'], inplace=True)"
   ]
  },
  {
   "cell_type": "code",
   "execution_count": 12,
   "metadata": {},
   "outputs": [
    {
     "data": {
      "text/html": [
       "<div>\n",
       "<style scoped>\n",
       "    .dataframe tbody tr th:only-of-type {\n",
       "        vertical-align: middle;\n",
       "    }\n",
       "\n",
       "    .dataframe tbody tr th {\n",
       "        vertical-align: top;\n",
       "    }\n",
       "\n",
       "    .dataframe thead th {\n",
       "        text-align: right;\n",
       "    }\n",
       "</style>\n",
       "<table border=\"1\" class=\"dataframe\">\n",
       "  <thead>\n",
       "    <tr style=\"text-align: right;\">\n",
       "      <th></th>\n",
       "      <th>cum_div_date</th>\n",
       "      <th>amount</th>\n",
       "    </tr>\n",
       "    <tr>\n",
       "      <th>ex_div_date</th>\n",
       "      <th></th>\n",
       "      <th></th>\n",
       "    </tr>\n",
       "  </thead>\n",
       "  <tbody>\n",
       "  </tbody>\n",
       "</table>\n",
       "</div>"
      ],
      "text/plain": [
       "Empty DataFrame\n",
       "Columns: [cum_div_date, amount]\n",
       "Index: []"
      ]
     },
     "execution_count": 12,
     "metadata": {},
     "output_type": "execute_result"
    }
   ],
   "source": [
    "dividends.head(3)"
   ]
  },
  {
   "cell_type": "markdown",
   "metadata": {},
   "source": [
    "Putting it all together in a function yields:"
   ]
  },
  {
   "cell_type": "code",
   "execution_count": 13,
   "metadata": {},
   "outputs": [],
   "source": [
    "def split_adjust(bars, ticker):\n",
    "    \"\"\"\n",
    "    Returns the split-adjusted bars AND dividends.\n",
    "    If there is no split-data, the original bars are returned.\n",
    "    If there is no dividend-data, None is returned. Else we return the split-adjusted dividends with a new column \"cum_div_date\".\n",
    "    \"\"\"\n",
    "\n",
    "    if os.path.isfile(DATA_PATH + f\"raw/adjustments/{ticker}.csv\"):\n",
    "        adjustments = pd.read_csv(DATA_PATH + f\"raw/adjustments/{ticker}.csv\", parse_dates=True, index_col=0)\n",
    "\n",
    "        adjustments.index = pd.to_datetime(adjustments.index).date\n",
    "\n",
    "        trading_dates_ticker = np.unique(bars.index.date)\n",
    "\n",
    "        adjustments = adjustments[(adjustments.index > trading_dates_ticker[0]) & (adjustments.index <= trading_dates_ticker[-1])]\n",
    "\n",
    "        splits = adjustments[adjustments.type == \"SPLIT\"].copy()\n",
    "        dividends = adjustments[adjustments.type == \"DIV\"].copy()\n",
    "\n",
    "        # Adjust for splits\n",
    "        if not splits.empty:\n",
    "            splits['cumulative_adjustment'] = splits['amount'][::-1].cumprod()\n",
    "            splits = splits.drop(columns=['type', 'subtype', 'amount'])\n",
    "\n",
    "            \n",
    "            # In rare cases, the dividend data exists outside of the price data. This leads to a ValueError because the max() function receives nothing. Then we just need to skip.\n",
    "            # NOTE: this is not the case anymore due to filtering 'adjustments', but I will keep it here anyways just in case.\n",
    "            try:\n",
    "                # The original dates of 'split' are the dates of the split. But adjustments are for all dates before the split.\n",
    "                splits.index = splits.index.to_series().apply(lambda date_ : max(d for d in trading_dates_ticker if d < date_)) # Shift dates 1 day back (the reason we cannot just use timedelta(days=1) is because that might not be a trading date.\n",
    "            except ValueError:\n",
    "                return bars, None\n",
    "            \n",
    "            splits = splits.reindex(trading_dates_ticker) # Reindex using stock data \n",
    "            splits.cumulative_adjustment = splits.cumulative_adjustment.fillna(method='bfill').fillna(value=1) # Backward fill and forward fill ones\n",
    "\n",
    "            # Merge adjustments with the bars and adjust\n",
    "            bars['date'] = bars.index.date\n",
    "            bars = bars.merge(splits, left_on='date', right_index=True, how='left')\n",
    "            bars[['open', 'high', 'low', 'close']] = bars[['open', 'high', 'low', 'close']].multiply(bars[\"cumulative_adjustment\"], axis=\"index\")\n",
    "            bars['volume'] = bars['volume'].divide(bars[\"cumulative_adjustment\"], axis=\"index\")\n",
    "\n",
    "            bars.drop(columns=['cumulative_adjustment', 'date'], inplace=True)\n",
    "        \n",
    "        # Adjust dividends for splits, if any\n",
    "        if not dividends.empty:\n",
    "            try:\n",
    "                dividends['cum_div_date'] = dividends.index.to_series().apply(lambda date_ : max(d for d in trading_dates_ticker if d < date_) ) # Shift dates 1 day back. We want the cum-dividend date, not ex-dividend.\n",
    "            except ValueError:\n",
    "                return bars, None\n",
    "            \n",
    "            if not splits.empty:\n",
    "                dividends = dividends.merge(splits, left_on='cum_div_date', right_index=True, how='left')\n",
    "                dividends['amount'] = dividends['amount'].multiply(dividends[\"cumulative_adjustment\"], axis=\"index\")\n",
    "\n",
    "            dividends = dividends[['amount', 'cum_div_date']]\n",
    "            dividends.index.names = ['ex_div_date']\n",
    "\n",
    "            return bars, dividends\n",
    "    \n",
    "    return bars, None"
   ]
  },
  {
   "cell_type": "code",
   "execution_count": 14,
   "metadata": {},
   "outputs": [],
   "source": [
    "bars = pd.read_parquet(DATA_PATH + f\"raw/m1/BBD-2019-01-01.parquet\")\n",
    "split_adjusted_bars, split_adjusted_dividends = split_adjust(bars, \"BBD\")"
   ]
  },
  {
   "cell_type": "code",
   "execution_count": 15,
   "metadata": {},
   "outputs": [
    {
     "data": {
      "text/html": [
       "<div>\n",
       "<style scoped>\n",
       "    .dataframe tbody tr th:only-of-type {\n",
       "        vertical-align: middle;\n",
       "    }\n",
       "\n",
       "    .dataframe tbody tr th {\n",
       "        vertical-align: top;\n",
       "    }\n",
       "\n",
       "    .dataframe thead th {\n",
       "        text-align: right;\n",
       "    }\n",
       "</style>\n",
       "<table border=\"1\" class=\"dataframe\">\n",
       "  <thead>\n",
       "    <tr style=\"text-align: right;\">\n",
       "      <th></th>\n",
       "      <th>amount</th>\n",
       "      <th>cum_div_date</th>\n",
       "    </tr>\n",
       "    <tr>\n",
       "      <th>ex_div_date</th>\n",
       "      <th></th>\n",
       "      <th></th>\n",
       "    </tr>\n",
       "  </thead>\n",
       "  <tbody>\n",
       "    <tr>\n",
       "      <th>2019-01-03</th>\n",
       "      <td>0.002002</td>\n",
       "      <td>2019-01-02</td>\n",
       "    </tr>\n",
       "    <tr>\n",
       "      <th>2019-02-04</th>\n",
       "      <td>0.001976</td>\n",
       "      <td>2019-02-01</td>\n",
       "    </tr>\n",
       "    <tr>\n",
       "      <th>2019-03-06</th>\n",
       "      <td>0.001990</td>\n",
       "      <td>2019-03-05</td>\n",
       "    </tr>\n",
       "  </tbody>\n",
       "</table>\n",
       "</div>"
      ],
      "text/plain": [
       "               amount cum_div_date\n",
       "ex_div_date                       \n",
       "2019-01-03   0.002002   2019-01-02\n",
       "2019-02-04   0.001976   2019-02-01\n",
       "2019-03-06   0.001990   2019-03-05"
      ]
     },
     "execution_count": 15,
     "metadata": {},
     "output_type": "execute_result"
    }
   ],
   "source": [
    "split_adjusted_dividends.head(3)"
   ]
  },
  {
   "cell_type": "markdown",
   "metadata": {},
   "source": [
    "# 5.2 Dividend adjustment\n",
    "There is no single way to adjust for dividends. We use the [stockcharts](https://support.stockcharts.com/doku.php?id=policies:historical_price_data_is_adjusted_for_splits_dividends_and_distributions#:~:text=Dividend%20Adjustment%20Calculation%20Details%3A,then%20multiplied%20by%20this%20factor) or [Yahoo](https://help.yahoo.com/kb/SLN28256.html) method, which mimics dividend reinvesting at the close of cum-dividend date. If at cum-dividend the price is 60, and at ex-dividend is 50 after a 10/share dividend, then all prices from cum-dividend and before are adjusted by the factor *1 - (dividend/cumdividend close)*. So the adjusted cum-dividend close will be 50. \n",
    "\n",
    "Note: Even though the close (which can differ on early close days) is used to calculate the adjustment factor, the post-market prices also have to be adjusted. "
   ]
  },
  {
   "cell_type": "code",
   "execution_count": 16,
   "metadata": {},
   "outputs": [
    {
     "data": {
      "text/html": [
       "<div>\n",
       "<style scoped>\n",
       "    .dataframe tbody tr th:only-of-type {\n",
       "        vertical-align: middle;\n",
       "    }\n",
       "\n",
       "    .dataframe tbody tr th {\n",
       "        vertical-align: top;\n",
       "    }\n",
       "\n",
       "    .dataframe thead th {\n",
       "        text-align: right;\n",
       "    }\n",
       "</style>\n",
       "<table border=\"1\" class=\"dataframe\">\n",
       "  <thead>\n",
       "    <tr style=\"text-align: right;\">\n",
       "      <th></th>\n",
       "      <th>amount</th>\n",
       "      <th>cum_div_date</th>\n",
       "    </tr>\n",
       "    <tr>\n",
       "      <th>ex_div_date</th>\n",
       "      <th></th>\n",
       "      <th></th>\n",
       "    </tr>\n",
       "  </thead>\n",
       "  <tbody>\n",
       "    <tr>\n",
       "      <th>2019-01-03</th>\n",
       "      <td>0.002002</td>\n",
       "      <td>2019-01-02</td>\n",
       "    </tr>\n",
       "    <tr>\n",
       "      <th>2019-02-04</th>\n",
       "      <td>0.001976</td>\n",
       "      <td>2019-02-01</td>\n",
       "    </tr>\n",
       "    <tr>\n",
       "      <th>2019-03-06</th>\n",
       "      <td>0.001990</td>\n",
       "      <td>2019-03-05</td>\n",
       "    </tr>\n",
       "  </tbody>\n",
       "</table>\n",
       "</div>"
      ],
      "text/plain": [
       "               amount cum_div_date\n",
       "ex_div_date                       \n",
       "2019-01-03   0.002002   2019-01-02\n",
       "2019-02-04   0.001976   2019-02-01\n",
       "2019-03-06   0.001990   2019-03-05"
      ]
     },
     "execution_count": 16,
     "metadata": {},
     "output_type": "execute_result"
    }
   ],
   "source": [
    "split_adjusted_dividends.head(3)"
   ]
  },
  {
   "cell_type": "code",
   "execution_count": 17,
   "metadata": {},
   "outputs": [],
   "source": [
    "# We need to get the ex-dividend closing price. Most days this is on 16:00 ET. Some days have early closes.\n",
    "market_hours = get_market_hours()\n",
    "market_hours = market_hours[['regular_close']]"
   ]
  },
  {
   "cell_type": "code",
   "execution_count": 18,
   "metadata": {},
   "outputs": [],
   "source": [
    "split_adjusted_dividends.set_index(split_adjusted_dividends['cum_div_date'], inplace=True)\n",
    "split_adjusted_dividends['cum_div_time'] = market_hours.loc[split_adjusted_dividends.index, 'regular_close']\n",
    "split_adjusted_dividends['cum_div_datetime'] = pd.to_datetime(split_adjusted_dividends['cum_div_date'].astype(str) +' '+ split_adjusted_dividends['cum_div_time'].astype(str))\n",
    "\n",
    "# Sometimes the latest trade of the day is NOT the 15:59 bar exactly. So we need to get the latest available price at or before the close. If we don't do this, we will encounter bugs later.\n",
    "split_adjusted_dividends['cum_div_datetime'] = split_adjusted_dividends['cum_div_datetime'].apply(lambda datetime_ : (bars[bars.index <= datetime_].index).max())\n",
    "split_adjusted_dividends.set_index(split_adjusted_dividends['cum_div_datetime'], inplace=True)\n",
    "split_adjusted_dividends['cum_div_close'] = bars.loc[split_adjusted_dividends['cum_div_datetime'], 'close']"
   ]
  },
  {
   "cell_type": "code",
   "execution_count": 19,
   "metadata": {},
   "outputs": [
    {
     "data": {
      "text/html": [
       "<div>\n",
       "<style scoped>\n",
       "    .dataframe tbody tr th:only-of-type {\n",
       "        vertical-align: middle;\n",
       "    }\n",
       "\n",
       "    .dataframe tbody tr th {\n",
       "        vertical-align: top;\n",
       "    }\n",
       "\n",
       "    .dataframe thead th {\n",
       "        text-align: right;\n",
       "    }\n",
       "</style>\n",
       "<table border=\"1\" class=\"dataframe\">\n",
       "  <thead>\n",
       "    <tr style=\"text-align: right;\">\n",
       "      <th></th>\n",
       "      <th>amount</th>\n",
       "      <th>cum_div_date</th>\n",
       "      <th>cum_div_time</th>\n",
       "      <th>cum_div_datetime</th>\n",
       "      <th>cum_div_close</th>\n",
       "    </tr>\n",
       "    <tr>\n",
       "      <th>cum_div_datetime</th>\n",
       "      <th></th>\n",
       "      <th></th>\n",
       "      <th></th>\n",
       "      <th></th>\n",
       "      <th></th>\n",
       "    </tr>\n",
       "  </thead>\n",
       "  <tbody>\n",
       "    <tr>\n",
       "      <th>2019-01-02 15:59:00</th>\n",
       "      <td>0.002002</td>\n",
       "      <td>2019-01-02</td>\n",
       "      <td>15:59:00</td>\n",
       "      <td>2019-01-02 15:59:00</td>\n",
       "      <td>10.62</td>\n",
       "    </tr>\n",
       "    <tr>\n",
       "      <th>2019-02-01 15:59:00</th>\n",
       "      <td>0.001976</td>\n",
       "      <td>2019-02-01</td>\n",
       "      <td>15:59:00</td>\n",
       "      <td>2019-02-01 15:59:00</td>\n",
       "      <td>12.22</td>\n",
       "    </tr>\n",
       "    <tr>\n",
       "      <th>2019-03-05 15:59:00</th>\n",
       "      <td>0.001990</td>\n",
       "      <td>2019-03-05</td>\n",
       "      <td>15:59:00</td>\n",
       "      <td>2019-03-05 15:59:00</td>\n",
       "      <td>11.32</td>\n",
       "    </tr>\n",
       "  </tbody>\n",
       "</table>\n",
       "</div>"
      ],
      "text/plain": [
       "                       amount cum_div_date cum_div_time    cum_div_datetime  \\\n",
       "cum_div_datetime                                                              \n",
       "2019-01-02 15:59:00  0.002002   2019-01-02     15:59:00 2019-01-02 15:59:00   \n",
       "2019-02-01 15:59:00  0.001976   2019-02-01     15:59:00 2019-02-01 15:59:00   \n",
       "2019-03-05 15:59:00  0.001990   2019-03-05     15:59:00 2019-03-05 15:59:00   \n",
       "\n",
       "                     cum_div_close  \n",
       "cum_div_datetime                    \n",
       "2019-01-02 15:59:00          10.62  \n",
       "2019-02-01 15:59:00          12.22  \n",
       "2019-03-05 15:59:00          11.32  "
      ]
     },
     "execution_count": 19,
     "metadata": {},
     "output_type": "execute_result"
    }
   ],
   "source": [
    "split_adjusted_dividends.head(3)"
   ]
  },
  {
   "cell_type": "code",
   "execution_count": 20,
   "metadata": {},
   "outputs": [],
   "source": [
    "split_adjusted_dividends['adjustment'] = 1 - (split_adjusted_dividends['amount'] / split_adjusted_dividends['cum_div_close'])\n",
    "split_adjusted_dividends['cumulative_adjustment'] = split_adjusted_dividends['adjustment'][::-1].cumprod()"
   ]
  },
  {
   "cell_type": "code",
   "execution_count": 21,
   "metadata": {},
   "outputs": [
    {
     "data": {
      "text/html": [
       "<div>\n",
       "<style scoped>\n",
       "    .dataframe tbody tr th:only-of-type {\n",
       "        vertical-align: middle;\n",
       "    }\n",
       "\n",
       "    .dataframe tbody tr th {\n",
       "        vertical-align: top;\n",
       "    }\n",
       "\n",
       "    .dataframe thead th {\n",
       "        text-align: right;\n",
       "    }\n",
       "</style>\n",
       "<table border=\"1\" class=\"dataframe\">\n",
       "  <thead>\n",
       "    <tr style=\"text-align: right;\">\n",
       "      <th></th>\n",
       "      <th>amount</th>\n",
       "      <th>cum_div_date</th>\n",
       "      <th>cum_div_time</th>\n",
       "      <th>cum_div_datetime</th>\n",
       "      <th>cum_div_close</th>\n",
       "      <th>adjustment</th>\n",
       "      <th>cumulative_adjustment</th>\n",
       "    </tr>\n",
       "    <tr>\n",
       "      <th>cum_div_datetime</th>\n",
       "      <th></th>\n",
       "      <th></th>\n",
       "      <th></th>\n",
       "      <th></th>\n",
       "      <th></th>\n",
       "      <th></th>\n",
       "      <th></th>\n",
       "    </tr>\n",
       "  </thead>\n",
       "  <tbody>\n",
       "    <tr>\n",
       "      <th>2019-01-02 15:59:00</th>\n",
       "      <td>0.002002</td>\n",
       "      <td>2019-01-02</td>\n",
       "      <td>15:59:00</td>\n",
       "      <td>2019-01-02 15:59:00</td>\n",
       "      <td>10.62</td>\n",
       "      <td>0.999811</td>\n",
       "      <td>0.844322</td>\n",
       "    </tr>\n",
       "    <tr>\n",
       "      <th>2019-02-01 15:59:00</th>\n",
       "      <td>0.001976</td>\n",
       "      <td>2019-02-01</td>\n",
       "      <td>15:59:00</td>\n",
       "      <td>2019-02-01 15:59:00</td>\n",
       "      <td>12.22</td>\n",
       "      <td>0.999838</td>\n",
       "      <td>0.844481</td>\n",
       "    </tr>\n",
       "    <tr>\n",
       "      <th>2019-03-05 15:59:00</th>\n",
       "      <td>0.001990</td>\n",
       "      <td>2019-03-05</td>\n",
       "      <td>15:59:00</td>\n",
       "      <td>2019-03-05 15:59:00</td>\n",
       "      <td>11.32</td>\n",
       "      <td>0.999824</td>\n",
       "      <td>0.844617</td>\n",
       "    </tr>\n",
       "  </tbody>\n",
       "</table>\n",
       "</div>"
      ],
      "text/plain": [
       "                       amount cum_div_date cum_div_time    cum_div_datetime  \\\n",
       "cum_div_datetime                                                              \n",
       "2019-01-02 15:59:00  0.002002   2019-01-02     15:59:00 2019-01-02 15:59:00   \n",
       "2019-02-01 15:59:00  0.001976   2019-02-01     15:59:00 2019-02-01 15:59:00   \n",
       "2019-03-05 15:59:00  0.001990   2019-03-05     15:59:00 2019-03-05 15:59:00   \n",
       "\n",
       "                     cum_div_close  adjustment  cumulative_adjustment  \n",
       "cum_div_datetime                                                       \n",
       "2019-01-02 15:59:00          10.62    0.999811               0.844322  \n",
       "2019-02-01 15:59:00          12.22    0.999838               0.844481  \n",
       "2019-03-05 15:59:00          11.32    0.999824               0.844617  "
      ]
     },
     "execution_count": 21,
     "metadata": {},
     "output_type": "execute_result"
    }
   ],
   "source": [
    "split_adjusted_dividends.head(3)"
   ]
  },
  {
   "cell_type": "code",
   "execution_count": 22,
   "metadata": {},
   "outputs": [],
   "source": [
    "split_adjusted_dividends.set_index(split_adjusted_dividends['cum_div_date'], inplace=True, drop=True)\n",
    "dividend_adjustments = split_adjusted_dividends[['cumulative_adjustment']]\n",
    "\n",
    "# Get dividend adjustments for every trading day\n",
    "trading_dates_ticker = np.unique(bars.index.date)\n",
    "dividend_adjustments = dividend_adjustments.reindex(trading_dates_ticker) # Reindex using stock data \n",
    "dividend_adjustments['cumulative_adjustment'] = dividend_adjustments['cumulative_adjustment'].fillna(method='bfill').fillna(value=1) # Backward fill and fill ones"
   ]
  },
  {
   "cell_type": "code",
   "execution_count": 23,
   "metadata": {},
   "outputs": [
    {
     "data": {
      "text/html": [
       "<div>\n",
       "<style scoped>\n",
       "    .dataframe tbody tr th:only-of-type {\n",
       "        vertical-align: middle;\n",
       "    }\n",
       "\n",
       "    .dataframe tbody tr th {\n",
       "        vertical-align: top;\n",
       "    }\n",
       "\n",
       "    .dataframe thead th {\n",
       "        text-align: right;\n",
       "    }\n",
       "</style>\n",
       "<table border=\"1\" class=\"dataframe\">\n",
       "  <thead>\n",
       "    <tr style=\"text-align: right;\">\n",
       "      <th></th>\n",
       "      <th>cumulative_adjustment</th>\n",
       "    </tr>\n",
       "    <tr>\n",
       "      <th>cum_div_date</th>\n",
       "      <th></th>\n",
       "    </tr>\n",
       "  </thead>\n",
       "  <tbody>\n",
       "    <tr>\n",
       "      <th>2019-01-02</th>\n",
       "      <td>0.844322</td>\n",
       "    </tr>\n",
       "    <tr>\n",
       "      <th>2019-01-03</th>\n",
       "      <td>0.844481</td>\n",
       "    </tr>\n",
       "    <tr>\n",
       "      <th>2019-01-04</th>\n",
       "      <td>0.844481</td>\n",
       "    </tr>\n",
       "  </tbody>\n",
       "</table>\n",
       "</div>"
      ],
      "text/plain": [
       "              cumulative_adjustment\n",
       "cum_div_date                       \n",
       "2019-01-02                 0.844322\n",
       "2019-01-03                 0.844481\n",
       "2019-01-04                 0.844481"
      ]
     },
     "execution_count": 23,
     "metadata": {},
     "output_type": "execute_result"
    }
   ],
   "source": [
    "dividend_adjustments.head(3)"
   ]
  },
  {
   "cell_type": "code",
   "execution_count": 24,
   "metadata": {},
   "outputs": [],
   "source": [
    "# Same procedure as with split adjustments\n",
    "all_adjusted_bars = split_adjusted_bars.copy()\n",
    "all_adjusted_bars['date'] = all_adjusted_bars.index.date\n",
    "all_adjusted_bars = all_adjusted_bars.merge(dividend_adjustments, left_on='date', right_index=True, how='left')\n",
    "all_adjusted_bars[['open', 'high', 'low', 'close']] = all_adjusted_bars[['open', 'high', 'low', 'close']].multiply(all_adjusted_bars[\"cumulative_adjustment\"], axis=\"index\")\n",
    "all_adjusted_bars['volume'] = all_adjusted_bars['volume'].divide(all_adjusted_bars[\"cumulative_adjustment\"], axis=\"index\")\n",
    "\n",
    "all_adjusted_bars.drop(columns=['cumulative_adjustment', 'date'], inplace=True)\n",
    "\n",
    "# Round to 4 decimals\n",
    "all_adjusted_bars = round(all_adjusted_bars, 4)"
   ]
  },
  {
   "cell_type": "markdown",
   "metadata": {},
   "source": [
    "Putting it all in a function yields:"
   ]
  },
  {
   "cell_type": "code",
   "execution_count": 25,
   "metadata": {},
   "outputs": [],
   "source": [
    "def div_adjust(split_adjusted_bars, split_adjusted_dividends):\n",
    "    \"\"\"\n",
    "    Dividend-adjust the 1-minute bars.\n",
    "    \"\"\"\n",
    "    if split_adjusted_dividends is not None:\n",
    "        # We need to get the ex-dividend closing price. Most days this is on 16:00 ET. Some days have early closes.\n",
    "        market_hours = get_market_hours()\n",
    "        market_hours = market_hours[['regular_close']]\n",
    "\n",
    "        split_adjusted_dividends.set_index(split_adjusted_dividends['cum_div_date'], inplace=True)\n",
    "        split_adjusted_dividends['cum_div_time'] = market_hours.loc[split_adjusted_dividends.index, 'regular_close']\n",
    "        split_adjusted_dividends['cum_div_datetime'] = pd.to_datetime(split_adjusted_dividends['cum_div_date'].astype(str) +' '+ split_adjusted_dividends['cum_div_time'].astype(str))\n",
    "\n",
    "        # Sometimes the latest trade of the day is NOT the 15:59 bar exactly. So we need to get the latest available price at or before the close. If we don't do this, we will encounter bugs later.\n",
    "        split_adjusted_dividends['cum_div_datetime'] = split_adjusted_dividends['cum_div_datetime'].apply(lambda datetime_ : (bars[bars.index <= datetime_].index).max())\n",
    "        # \n",
    "        split_adjusted_dividends.set_index(split_adjusted_dividends['cum_div_datetime'], inplace=True)\n",
    "        split_adjusted_dividends['cum_div_close'] = bars.loc[split_adjusted_dividends['cum_div_datetime'], 'close']\n",
    "\n",
    "        # Get adjustment factors\n",
    "        split_adjusted_dividends['adjustment'] = 1 - (split_adjusted_dividends['amount'] / split_adjusted_dividends['cum_div_close'])\n",
    "        split_adjusted_dividends['cumulative_adjustment'] = split_adjusted_dividends['adjustment'][::-1].cumprod()\n",
    "        split_adjusted_dividends.set_index(split_adjusted_dividends['cum_div_date'], inplace=True, drop=True)\n",
    "        dividend_adjustments = split_adjusted_dividends[['cumulative_adjustment']]\n",
    "\n",
    "        # Get dividend adjustments for every trading day\n",
    "        trading_dates_ticker = np.unique(bars.index.date)\n",
    "        dividend_adjustments = dividend_adjustments.reindex(trading_dates_ticker) # Reindex using stock data \n",
    "        dividend_adjustments['cumulative_adjustment'] = dividend_adjustments['cumulative_adjustment'].fillna(method='bfill').fillna(value=1) # Backward fill and fill ones\n",
    "\n",
    "        # Adjust for dividends\n",
    "        all_adjusted_bars = split_adjusted_bars.copy()\n",
    "        all_adjusted_bars['date'] = all_adjusted_bars.index.date\n",
    "        all_adjusted_bars = all_adjusted_bars.merge(dividend_adjustments, left_on='date', right_index=True, how='left')\n",
    "        all_adjusted_bars[['open', 'high', 'low', 'close']] = all_adjusted_bars[['open', 'high', 'low', 'close']].multiply(all_adjusted_bars[\"cumulative_adjustment\"], axis=\"index\")\n",
    "        all_adjusted_bars['volume'] = all_adjusted_bars['volume'].divide(all_adjusted_bars[\"cumulative_adjustment\"], axis=\"index\")\n",
    "\n",
    "        all_adjusted_bars.drop(columns=['cumulative_adjustment', 'date'], inplace=True)\n",
    "\n",
    "        return all_adjusted_bars\n",
    "\n",
    "    return split_adjusted_bars"
   ]
  },
  {
   "cell_type": "markdown",
   "metadata": {},
   "source": [
    "Testing it on the BIL ETF:"
   ]
  },
  {
   "cell_type": "code",
   "execution_count": 26,
   "metadata": {},
   "outputs": [],
   "source": [
    "bars = pd.read_parquet(DATA_PATH + f\"raw/m1/BIL-2019-01-01.parquet\")\n",
    "split_adjusted_bars, split_adjusted_dividends = split_adjust(bars, \"BIL\")"
   ]
  },
  {
   "cell_type": "code",
   "execution_count": 27,
   "metadata": {},
   "outputs": [
    {
     "data": {
      "image/png": "[encoded data removed]",
      "text/plain": [
       "<Figure size 800x575 with 2 Axes>"
      ]
     },
     "metadata": {},
     "output_type": "display_data"
    }
   ],
   "source": [
    "daily = bars.resample('1D').agg({'open': 'first', \n",
    "                                 'high': 'max', \n",
    "                                 'low': 'min', \n",
    "                                 'close': 'last'})\n",
    "daily.dropna(inplace=True)\n",
    "mpf.plot(daily, type='ohlc', show_nontrading=False, warn_too_much_data=1000000)"
   ]
  },
  {
   "cell_type": "code",
   "execution_count": 28,
   "metadata": {},
   "outputs": [],
   "source": [
    "all_adjusted = div_adjust(bars, split_adjusted_dividends)"
   ]
  },
  {
   "cell_type": "code",
   "execution_count": 29,
   "metadata": {},
   "outputs": [
    {
     "data": {
      "image/png": "[encoded data removed]",
      "text/plain": [
       "<Figure size 800x575 with 2 Axes>"
      ]
     },
     "metadata": {},
     "output_type": "display_data"
    }
   ],
   "source": [
    "daily = all_adjusted.resample('1D').agg({'open': 'first', \n",
    "                                 'high': 'max', \n",
    "                                 'low': 'min', \n",
    "                                 'close': 'last'})\n",
    "daily.dropna(inplace=True)\n",
    "mpf.plot(daily, type='ohlc', show_nontrading=False, warn_too_much_data=1000000)"
   ]
  },
  {
   "cell_type": "markdown",
   "metadata": {},
   "source": [
    "# 5.3 Reindexing and NA values"
   ]
  },
  {
   "cell_type": "markdown",
   "metadata": {},
   "source": [
    "When reindexing we need to get a list of all minutes. Since we will also have to do this in the backtester (which loops over the minutes), we will store it and create a function to retrieve it."
   ]
  },
  {
   "cell_type": "code",
   "execution_count": 30,
   "metadata": {},
   "outputs": [],
   "source": [
    "market_hours = get_market_hours()\n",
    "\n",
    "# Get all minutes from trading days\n",
    "trading_datetimes = pd.date_range(start=market_hours.index[0], end=datetime.combine(market_hours.index[-1], time(23, 59)), freq='min', name='datetime')\n",
    "\n",
    "# Remove non-trading days\n",
    "trading_datetimes = pd.DataFrame(index = trading_datetimes)\n",
    "trading_datetimes['date'] = trading_datetimes.index.date\n",
    "trading_datetimes = trading_datetimes[trading_datetimes['date'].isin(market_hours.index)]\n",
    "trading_datetimes = trading_datetimes.index\n",
    "\n",
    "# Get early closes\n",
    "early_closes = market_hours[market_hours['postmarket_close'] != time(19, 59)]\n",
    "\n",
    "# Filter to all trading minutes in trading days\n",
    "trading_datetimes = trading_datetimes[(trading_datetimes.time >= time(4)) & (trading_datetimes.time <= time(19, 59))] \n",
    "\n",
    "# Remove the minutes in early closes (from 17:00 to 19:59 there is no post-market on early close days)\n",
    "for date_, early_close in early_closes.iterrows():\n",
    "    postmarket_close = early_close['postmarket_close']\n",
    "    trading_datetimes = trading_datetimes[~((trading_datetimes > datetime.combine(date_, early_close['postmarket_close'])) & (trading_datetimes <= datetime.combine(date_, time(19, 59)) ) )] \n",
    "\n",
    "trading_datetimes.to_series().to_csv(DATA_PATH + '../other/trading_minutes.csv', index=False)"
   ]
  },
  {
   "cell_type": "code",
   "execution_count": 31,
   "metadata": {},
   "outputs": [],
   "source": [
    "from functools import lru_cache\n",
    "\n",
    "# This decorator ensures that when we call a function the output is stored for future calls.\n",
    "# This is useful is executing the function is expensive and gets called a lot.\n",
    "@lru_cache\n",
    "def get_market_minutes():\n",
    "    trading_datetimes = pd.read_csv(DATA_PATH + '../other/trading_minutes.csv')\n",
    "    return pd.to_datetime(trading_datetimes['datetime'])"
   ]
  },
  {
   "cell_type": "code",
   "execution_count": 32,
   "metadata": {},
   "outputs": [],
   "source": [
    "def reindex_and_fill(bars):\n",
    "    # Get the days the ticker is trading\n",
    "    ticker_days = np.unique(bars.index.date)\n",
    "    market_datetimes = get_market_minutes()\n",
    "    ticker_datetimes = market_datetimes[(market_datetimes.dt.date >= ticker_days[0]) & (market_datetimes.dt.date <= ticker_days[-1])]\n",
    "\n",
    "    # Reindex\n",
    "    bars = bars.reindex(ticker_datetimes)\n",
    "\n",
    "    # Fill NA values\n",
    "    bars['tradeable'] = ~bars['volume'].isna()\n",
    "    bars['volume'] = bars['volume'].fillna(value=0) \n",
    "\n",
    "    bars[\"close\"] = bars[\"close\"].fillna(method=\"ffill\")\n",
    "    bars[\"open\"] = bars[\"open\"].fillna(bars[\"close\"])\n",
    "    bars[\"low\"] = bars[\"low\"].fillna(bars[\"close\"])\n",
    "    bars[\"high\"] = bars[\"high\"].fillna(bars[\"close\"])\n",
    "\n",
    "    # Only affects the very start. Else backfill shouldn't be used because of look-ahead bias.\n",
    "    bars[\"open\"] = bars[\"open\"].fillna(method=\"bfill\")\n",
    "    bars[\"close\"] = bars[\"close\"].fillna(bars[\"open\"])\n",
    "    bars[\"low\"] = bars[\"low\"].fillna(bars[\"open\"])\n",
    "    bars[\"high\"] = bars[\"high\"].fillna(bars[\"open\"])\n",
    "    \n",
    "    return bars"
   ]
  },
  {
   "cell_type": "code",
   "execution_count": 33,
   "metadata": {},
   "outputs": [],
   "source": [
    "bars = pd.read_parquet(f\"{DATA_PATH}raw/m1/BIL-2019-01-01.parquet\")\n",
    "# bars = reindex_and_fill(bars)"
   ]
  },
  {
   "cell_type": "code",
   "execution_count": 34,
   "metadata": {},
   "outputs": [
    {
     "data": {
      "text/html": [
       "<div>\n",
       "<style scoped>\n",
       "    .dataframe tbody tr th:only-of-type {\n",
       "        vertical-align: middle;\n",
       "    }\n",
       "\n",
       "    .dataframe tbody tr th {\n",
       "        vertical-align: top;\n",
       "    }\n",
       "\n",
       "    .dataframe thead th {\n",
       "        text-align: right;\n",
       "    }\n",
       "</style>\n",
       "<table border=\"1\" class=\"dataframe\">\n",
       "  <thead>\n",
       "    <tr style=\"text-align: right;\">\n",
       "      <th></th>\n",
       "      <th>open</th>\n",
       "      <th>high</th>\n",
       "      <th>low</th>\n",
       "      <th>close</th>\n",
       "      <th>volume</th>\n",
       "    </tr>\n",
       "    <tr>\n",
       "      <th>datetime</th>\n",
       "      <th></th>\n",
       "      <th></th>\n",
       "      <th></th>\n",
       "      <th></th>\n",
       "      <th></th>\n",
       "    </tr>\n",
       "  </thead>\n",
       "  <tbody>\n",
       "    <tr>\n",
       "      <th>2023-09-01 19:42:00</th>\n",
       "      <td>91.51</td>\n",
       "      <td>91.51</td>\n",
       "      <td>91.50</td>\n",
       "      <td>91.50</td>\n",
       "      <td>399.0</td>\n",
       "    </tr>\n",
       "    <tr>\n",
       "      <th>2023-09-01 19:46:00</th>\n",
       "      <td>91.51</td>\n",
       "      <td>91.51</td>\n",
       "      <td>91.50</td>\n",
       "      <td>91.50</td>\n",
       "      <td>464.0</td>\n",
       "    </tr>\n",
       "    <tr>\n",
       "      <th>2023-09-01 19:59:00</th>\n",
       "      <td>91.51</td>\n",
       "      <td>91.51</td>\n",
       "      <td>91.51</td>\n",
       "      <td>91.51</td>\n",
       "      <td>514.0</td>\n",
       "    </tr>\n",
       "  </tbody>\n",
       "</table>\n",
       "</div>"
      ],
      "text/plain": [
       "                      open   high    low  close  volume\n",
       "datetime                                               \n",
       "2023-09-01 19:42:00  91.51  91.51  91.50  91.50   399.0\n",
       "2023-09-01 19:46:00  91.51  91.51  91.50  91.50   464.0\n",
       "2023-09-01 19:59:00  91.51  91.51  91.51  91.51   514.0"
      ]
     },
     "execution_count": 34,
     "metadata": {},
     "output_type": "execute_result"
    }
   ],
   "source": [
    "bars.tail(3)"
   ]
  },
  {
   "cell_type": "markdown",
   "metadata": {},
   "source": [
    "# 5.4 Halt detection\n",
    "We cannot detect all halts without tick data. However we are not interested in pre- and post-market halts anyways. We care about the liquid stocks that are halted intraday and have decent volume. Halts take a minimum of 5 minutes. This means at least 4 OHLC 1-minutes bars with no data, because a halt can start *during* the OHLC bar.\n",
    "\n",
    "For each stock where the turnover is more than 2.5 million dollars we will check whether there are 4 empty bars during regular hours. Illiquid stocks do not trade all minutes and may be incorrectly flagged. This happens quite often making the 'halted' flag useless. Currently 'halted' only means 'suspicious'.\n",
    "\n",
    "The best way to do this is to flag all 'suspicious' empty periods and check with tick data if the quotes dissapear. However I do not yet have access to tick data. When we have tick data, we can just loop over the minutes with a 'halted' flag True and check if there exist quotes. "
   ]
  },
  {
   "cell_type": "code",
   "execution_count": 35,
   "metadata": {},
   "outputs": [],
   "source": [
    "# bars = pd.read_parquet(DATA_PATH + f\"processed/m1/TOP-2022-06-01.parquet\")\n",
    "# dump = bars[(bars.index >= datetime(2023, 5, 4, hour=10, minute=45)) & (bars.index <= datetime(2023, 5, 4, hour=11, minute=8))].copy()\n",
    "# dump = dump.drop(columns=['halted'])\n",
    "\n",
    "# mpf.plot(dump, type='candle', style='yahoo', show_nontrading=False, title=\"TOP intraday halts on 2023-05-04\")"
   ]
  },
  {
   "cell_type": "markdown",
   "metadata": {},
   "source": [
    "It is handy to first create a function to remove the non-regular market hours from the minute bars."
   ]
  },
  {
   "cell_type": "code",
   "execution_count": 36,
   "metadata": {},
   "outputs": [],
   "source": [
    "def remove_extended_hours(bars):\n",
    "    \"\"\"\n",
    "    Remove extended hours.\n",
    "    \"\"\"\n",
    "    # Remove non-regular trading minutes. Only the post-market hours of early closes remain.\n",
    "    bars = bars[['close', 'volume', 'tradeable']].copy()\n",
    "    bars = bars.between_time('9:30', '15:59')\n",
    "\n",
    "    # Remove early close post-market bars\n",
    "    market_hours = get_market_hours()\n",
    "    early_closes = market_hours[market_hours['regular_close'] != time(15, 59)]\n",
    "    for date_, early_close in early_closes.iterrows():\n",
    "        bars = bars[~((bars.index > datetime.combine(date_, early_close['regular_close'])) & (bars.index <= datetime.combine(date_, time(19, 59)) ) )] \n",
    "        \n",
    "    return bars"
   ]
  },
  {
   "cell_type": "code",
   "execution_count": 37,
   "metadata": {},
   "outputs": [],
   "source": [
    "def flag_halts(bars):\n",
    "    \"\"\"\n",
    "    Only flags intraday halts for stocks >2.5M turnover. May get false-positive if there is low volume.\n",
    "    \"\"\"\n",
    "    bars_halted = remove_extended_hours(bars)\n",
    "    bars_halted = bars_halted[[\"close\", \"volume\", \"tradeable\"]]\n",
    "    \n",
    "    # Filter for volume\n",
    "    # To reduce false-positives, also filter for stocks that had at least 240 minutes of trading during regular hours.\n",
    "    daily = bars_halted[['volume', 'close', 'tradeable']].resample('D').agg({'volume': 'sum', 'close': 'last', 'tradeable': 'sum'})\n",
    "    daily['turnover'] = daily['volume'] * daily['close']\n",
    "    daily = daily[(daily['turnover'] > 2_500_000) & (daily['tradeable'] > 240)]\n",
    "    has_volume = daily.index.date\n",
    "\n",
    "    bars_halted['date'] = bars_halted.index.date\n",
    "    bars_halted = bars_halted[bars_halted['date'].isin(has_volume)]\n",
    "\n",
    "    # Flag if 4x untradeable one after another. Only the 4-th (and lager) occasion is flagged.\n",
    "    bars_halted['halted_for_4+'] = (~bars_halted[\"tradeable\"]).rolling(4).sum() >= 4\n",
    "    # Also flag the 1st, 2nd and 3rd occasion.\n",
    "    bars_halted['halted'] = bars_halted['halted_for_4+'].replace(to_replace=False, method='bfill', limit=3)\n",
    "\n",
    "    bars = bars.merge(bars_halted['halted'], how='left', left_index=True, right_index=True)\n",
    "    bars['halted'] = bars['halted'].fillna(False)\n",
    "    return bars"
   ]
  },
  {
   "cell_type": "code",
   "execution_count": 38,
   "metadata": {},
   "outputs": [],
   "source": [
    "# flag_halts(dump).tail(10)"
   ]
  },
  {
   "cell_type": "markdown",
   "metadata": {},
   "source": [
    "# 5.5 Putting it all in a loop\n",
    "It took me 8 hours to run. The files take up 35GB for data from 2019-01-01 to 2023-09-01.\n",
    "\n",
    "**Manually fixed errors in adjustments**\n",
    "\n",
    "* In the files RETO had a 10-to-1 split on 2023-05-12 and 2023-05-15. The 2023-05-15 one is a duplicate and is removed manually. "
   ]
  },
  {
   "cell_type": "code",
   "execution_count": 39,
   "metadata": {},
   "outputs": [],
   "source": [
    "# # https://mattgosden.medium.com/rounding-to-significant-figures-in-python-2415661b94c3\n",
    "# from math import floor, log10\n",
    "\n",
    "# def sig_figs(x: float, precision: int):\n",
    "#     \"\"\"\n",
    "#     Rounds a number to number of significant figures\n",
    "#     Parameters:\n",
    "#     - x - the number to be rounded\n",
    "#     - precision (integer) - the number of significant figures\n",
    "#     Returns:\n",
    "#     - float\n",
    "#     \"\"\"\n",
    "#     if x == 0.0:\n",
    "#         return x\n",
    "    \n",
    "#     x = float(x)\n",
    "#     precision = int(precision)\n",
    "\n",
    "#     return round(x, -int(floor(log10(abs(x)))) + (precision - 1))"
   ]
  },
  {
   "cell_type": "code",
   "execution_count": null,
   "metadata": {},
   "outputs": [],
   "source": [
    "all_files = os.listdir(f'{DATA_PATH}raw/m1/')\n",
    "for index, file in enumerate(all_files):\n",
    "    ticker = file[:-19] # Remove date and parquet extension\n",
    "\n",
    "    bars = pd.read_parquet(f\"{DATA_PATH}raw/m1/{file}\")\n",
    "    \n",
    "    # CLEANING\n",
    "    # I do not have tick data yet. However this is how you would do it if you got a csv of the cleaned bars only.\n",
    "    # if os.path.isfile(DATA_PATH + f\"raw/cleaned/{ticker}.csv\"):\n",
    "    #     clean_bars = pd.read_csv(DATA_PATH + f\"raw/cleaned/{ticker}.csv\", parse_dates=True, index_col=0)\n",
    "    #     bars.update(clean_bars)\n",
    "\n",
    "    # ADJUSTING\n",
    "    split_adjusted_bars, split_adjusted_dividends = split_adjust(bars, ticker)\n",
    "    all_adjusted = div_adjust(split_adjusted_bars, split_adjusted_dividends)\n",
    "\n",
    "    # FORWARD FILLING\n",
    "    all_adjusted = reindex_and_fill(all_adjusted)\n",
    "    \n",
    "    # HALT DETECTION\n",
    "    all_adjusted = flag_halts(all_adjusted)\n",
    "\n",
    "    # # ROUNDING: TO 6 SIGNIFICANT FIGURES (slow)\n",
    "    # all_adjusted_bars['open'] = all_adjusted_bars['open'].apply(lambda x: sig_figs(x, 6))\n",
    "    # all_adjusted_bars['high'] = all_adjusted_bars['high'].apply(lambda x: sig_figs(x, 6))\n",
    "    # all_adjusted_bars['low'] = all_adjusted_bars['low'].apply(lambda x: sig_figs(x, 6))\n",
    "    # all_adjusted_bars['close'] = all_adjusted_bars['close'].apply(lambda x: sig_figs(x, 6))\n",
    "    # all_adjusted_bars['volume'] = all_adjusted_bars['volume'].apply(lambda x: sig_figs(x, 6))\n",
    "\n",
    "    # ROUNDING: TO 4 DECIMALS, VOLUME TO INT\n",
    "    all_adjusted_bars = round(all_adjusted_bars, 4)\n",
    "    all_adjusted_bars['volume'] = all_adjusted_bars['volume'].astype(int)\n",
    "    \n",
    "    all_adjusted.to_parquet(DATA_PATH + f\"processed/m1/{file}\", engine=\"pyarrow\", compression = 'brotli')\n",
    "    \n",
    "    print(ticker)"
   ]
  },
  {
   "cell_type": "code",
   "execution_count": 41,
   "metadata": {},
   "outputs": [],
   "source": [
    "# For timing\n",
    "for i in range(100):\n",
    "    bars = pd.read_parquet(DATA_PATH + f\"processed/m1/AAPL-2019-01-01.parquet\")"
   ]
  },
  {
   "cell_type": "markdown",
   "metadata": {},
   "source": [
    "# 5.6 Updating the ticker list\n",
    "Now that we have the data, we can add two columns <code>start_data</code> and <code>end_data</code>."
   ]
  },
  {
   "cell_type": "code",
   "execution_count": null,
   "metadata": {},
   "outputs": [],
   "source": [
    "all_files = os.listdir(DATA_PATH + f'raw/m1/')\n",
    "tickers_v3 = get_tickers(v=3)\n",
    "tickers_v3[\"start_data\"] = np.nan\n",
    "tickers_v3[\"end_data\"] = np.nan\n",
    "tickers_v3.set_index(tickers_v3['ID'], inplace=True)\n",
    "tickers_v3.drop(columns=\"ID\", inplace=True)\n",
    "\n",
    "for index, file in enumerate(all_files):\n",
    "    bars = pd.read_parquet(DATA_PATH + f\"processed/m1/{file}\", columns=['datetime'])\n",
    "    id = file[:-8] # Remove parquet extension\n",
    "\n",
    "    first_date = bars.iloc[0].name.date()\n",
    "    last_date = bars.iloc[-1].name.date()\n",
    "    tickers_v3.loc[id, [\"start_data\", \"end_data\"] ] = [first_date, last_date]\n",
    "\n",
    "    print(index)\n",
    "\n",
    "tickers_v3.reset_index(inplace=True)\n",
    "tickers_v3[[\"ID\", \"ticker\", \"name\", \"active\", \"start_date\", \"end_date\", \"start_data\", \"end_data\", \"type\", \"cik\", \"composite_figi\"]].to_csv(\"../../../data/tickers_v4.csv\")"
   ]
  },
  {
   "cell_type": "code",
   "execution_count": 43,
   "metadata": {},
   "outputs": [
    {
     "data": {
      "text/html": [
       "<div>\n",
       "<style scoped>\n",
       "    .dataframe tbody tr th:only-of-type {\n",
       "        vertical-align: middle;\n",
       "    }\n",
       "\n",
       "    .dataframe tbody tr th {\n",
       "        vertical-align: top;\n",
       "    }\n",
       "\n",
       "    .dataframe thead th {\n",
       "        text-align: right;\n",
       "    }\n",
       "</style>\n",
       "<table border=\"1\" class=\"dataframe\">\n",
       "  <thead>\n",
       "    <tr style=\"text-align: right;\">\n",
       "      <th></th>\n",
       "      <th>ID</th>\n",
       "      <th>ticker</th>\n",
       "      <th>name</th>\n",
       "      <th>active</th>\n",
       "      <th>start_date</th>\n",
       "      <th>end_date</th>\n",
       "      <th>start_data</th>\n",
       "      <th>end_data</th>\n",
       "      <th>type</th>\n",
       "      <th>cik</th>\n",
       "      <th>composite_figi</th>\n",
       "    </tr>\n",
       "  </thead>\n",
       "  <tbody>\n",
       "    <tr>\n",
       "      <th>7590</th>\n",
       "      <td>GLD-2019-01-01</td>\n",
       "      <td>GLD</td>\n",
       "      <td>SPDR Gold Trust, SPDR Gold Shares</td>\n",
       "      <td>True</td>\n",
       "      <td>2019-01-01</td>\n",
       "      <td>2023-09-01</td>\n",
       "      <td>2019-01-02</td>\n",
       "      <td>2023-09-01</td>\n",
       "      <td>ETV</td>\n",
       "      <td>1222333.0</td>\n",
       "      <td>BBG000CRF6Q8</td>\n",
       "    </tr>\n",
       "    <tr>\n",
       "      <th>7591</th>\n",
       "      <td>SLV-2019-01-01</td>\n",
       "      <td>SLV</td>\n",
       "      <td>iShares Silver Trust</td>\n",
       "      <td>True</td>\n",
       "      <td>2019-01-01</td>\n",
       "      <td>2023-09-01</td>\n",
       "      <td>2019-01-02</td>\n",
       "      <td>2023-09-01</td>\n",
       "      <td>ETV</td>\n",
       "      <td>1330568.0</td>\n",
       "      <td>BBG000NDCRW7</td>\n",
       "    </tr>\n",
       "    <tr>\n",
       "      <th>7592</th>\n",
       "      <td>$VIX-2019-01-01</td>\n",
       "      <td>$VIX</td>\n",
       "      <td>VIX Index</td>\n",
       "      <td>True</td>\n",
       "      <td>2019-01-01</td>\n",
       "      <td>2023-09-01</td>\n",
       "      <td>NaT</td>\n",
       "      <td>NaT</td>\n",
       "      <td>INDEX</td>\n",
       "      <td>NaN</td>\n",
       "      <td></td>\n",
       "    </tr>\n",
       "  </tbody>\n",
       "</table>\n",
       "</div>"
      ],
      "text/plain": [
       "                   ID ticker                               name  active  \\\n",
       "7590   GLD-2019-01-01    GLD  SPDR Gold Trust, SPDR Gold Shares    True   \n",
       "7591   SLV-2019-01-01    SLV               iShares Silver Trust    True   \n",
       "7592  $VIX-2019-01-01   $VIX                          VIX Index    True   \n",
       "\n",
       "      start_date    end_date  start_data    end_data   type        cik  \\\n",
       "7590  2019-01-01  2023-09-01  2019-01-02  2023-09-01    ETV  1222333.0   \n",
       "7591  2019-01-01  2023-09-01  2019-01-02  2023-09-01    ETV  1330568.0   \n",
       "7592  2019-01-01  2023-09-01         NaT         NaT  INDEX        NaN   \n",
       "\n",
       "     composite_figi  \n",
       "7590   BBG000CRF6Q8  \n",
       "7591   BBG000NDCRW7  \n",
       "7592                 "
      ]
     },
     "execution_count": 43,
     "metadata": {},
     "output_type": "execute_result"
    }
   ],
   "source": [
    "tickers_v4 = get_tickers(v=4)\n",
    "tickers_v4['start_data'] = pd.to_datetime(tickers_v4['start_data']).dt.date\n",
    "tickers_v4['end_data'] = pd.to_datetime(tickers_v4['end_data']).dt.date\n",
    "tickers_v4.tail(3)"
   ]
  },
  {
   "cell_type": "markdown",
   "metadata": {},
   "source": [
    "Some stocks have zero data. These are that exists only a few days in the Polygon ticker lists. We can safely remove those."
   ]
  },
  {
   "cell_type": "code",
   "execution_count": 44,
   "metadata": {},
   "outputs": [
    {
     "name": "stdout",
     "output_type": "stream",
     "text": [
      "23\n"
     ]
    },
    {
     "data": {
      "text/html": [
       "<div>\n",
       "<style scoped>\n",
       "    .dataframe tbody tr th:only-of-type {\n",
       "        vertical-align: middle;\n",
       "    }\n",
       "\n",
       "    .dataframe tbody tr th {\n",
       "        vertical-align: top;\n",
       "    }\n",
       "\n",
       "    .dataframe thead th {\n",
       "        text-align: right;\n",
       "    }\n",
       "</style>\n",
       "<table border=\"1\" class=\"dataframe\">\n",
       "  <thead>\n",
       "    <tr style=\"text-align: right;\">\n",
       "      <th></th>\n",
       "      <th>ID</th>\n",
       "      <th>ticker</th>\n",
       "      <th>name</th>\n",
       "      <th>active</th>\n",
       "      <th>start_date</th>\n",
       "      <th>end_date</th>\n",
       "      <th>start_data</th>\n",
       "      <th>end_data</th>\n",
       "      <th>type</th>\n",
       "      <th>cik</th>\n",
       "      <th>composite_figi</th>\n",
       "    </tr>\n",
       "  </thead>\n",
       "  <tbody>\n",
       "    <tr>\n",
       "      <th>99</th>\n",
       "      <td>ACRV-2022-11-10</td>\n",
       "      <td>ACRV</td>\n",
       "      <td>Acrivon Therapeutics, Inc. Common Stock</td>\n",
       "      <td>False</td>\n",
       "      <td>2022-11-10</td>\n",
       "      <td>2022-11-11</td>\n",
       "      <td>NaT</td>\n",
       "      <td>NaT</td>\n",
       "      <td>CS</td>\n",
       "      <td>1781174.0</td>\n",
       "      <td>BBG011RWR2Q4</td>\n",
       "    </tr>\n",
       "    <tr>\n",
       "      <th>167</th>\n",
       "      <td>AEON-2021-10-08</td>\n",
       "      <td>AEON</td>\n",
       "      <td>AEON Biopharma, Inc. Common Stock</td>\n",
       "      <td>False</td>\n",
       "      <td>2021-10-08</td>\n",
       "      <td>2021-10-13</td>\n",
       "      <td>NaT</td>\n",
       "      <td>NaT</td>\n",
       "      <td>CS</td>\n",
       "      <td>NaN</td>\n",
       "      <td>BBG006WXCY82</td>\n",
       "    </tr>\n",
       "    <tr>\n",
       "      <th>186</th>\n",
       "      <td>AFCG-2021-02-11</td>\n",
       "      <td>AFCG</td>\n",
       "      <td>AFC Gamma, Inc. Common Stock</td>\n",
       "      <td>False</td>\n",
       "      <td>2021-02-11</td>\n",
       "      <td>2021-02-18</td>\n",
       "      <td>NaT</td>\n",
       "      <td>NaT</td>\n",
       "      <td>CS</td>\n",
       "      <td>1822523.0</td>\n",
       "      <td>BBG00YPSX4X5</td>\n",
       "    </tr>\n",
       "  </tbody>\n",
       "</table>\n",
       "</div>"
      ],
      "text/plain": [
       "                  ID ticker                                     name  active  \\\n",
       "99   ACRV-2022-11-10   ACRV  Acrivon Therapeutics, Inc. Common Stock   False   \n",
       "167  AEON-2021-10-08   AEON        AEON Biopharma, Inc. Common Stock   False   \n",
       "186  AFCG-2021-02-11   AFCG             AFC Gamma, Inc. Common Stock   False   \n",
       "\n",
       "     start_date    end_date start_data end_data type        cik composite_figi  \n",
       "99   2022-11-10  2022-11-11        NaT      NaT   CS  1781174.0   BBG011RWR2Q4  \n",
       "167  2021-10-08  2021-10-13        NaT      NaT   CS        NaN   BBG006WXCY82  \n",
       "186  2021-02-11  2021-02-18        NaT      NaT   CS  1822523.0   BBG00YPSX4X5  "
      ]
     },
     "execution_count": 44,
     "metadata": {},
     "output_type": "execute_result"
    }
   ],
   "source": [
    "zero_data = tickers_v4[(tickers_v4['start_data'].isna() & (tickers_v4['type'] != \"INDEX\"))]\n",
    "print(len(zero_data))\n",
    "zero_data.head(3)"
   ]
  },
  {
   "cell_type": "code",
   "execution_count": 45,
   "metadata": {},
   "outputs": [],
   "source": [
    "tickers_v4 = tickers_v4[~(tickers_v4['start_data'].isna() & (tickers_v4['type'] != \"INDEX\"))]\n",
    "tickers_v4.reset_index(inplace=True, drop=True)\n",
    "tickers_v4.to_csv(\"../../../data/tickers_v4.csv\")"
   ]
  },
  {
   "cell_type": "markdown",
   "metadata": {},
   "source": [
    "# Updates\n",
    "Not implemented. However, we should only process the tickers that had splits/divs in the update period. The rest only has to be reindex/filled+flagged. Then appended."
   ]
  },
  {
   "cell_type": "markdown",
   "metadata": {},
   "source": []
  }
 ],
 "metadata": {
  "kernelspec": {
   "display_name": "algotrading",
   "language": "python",
   "name": "python3"
  },
  "language_info": {
   "codemirror_mode": {
    "name": "ipython",
    "version": 3
   },
   "file_extension": ".py",
   "mimetype": "text/x-python",
   "name": "python",
   "nbconvert_exporter": "python",
   "pygments_lexer": "ipython3",
   "version": "3.11.4"
  }
 },
 "nbformat": 4,
 "nbformat_minor": 2
}
