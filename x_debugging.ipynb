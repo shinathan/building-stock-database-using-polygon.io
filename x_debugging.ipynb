{
 "cells": [
  {
   "cell_type": "markdown",
   "metadata": {},
   "source": [
    "**Can be ignored.**\n"
   ]
  },
  {
   "cell_type": "code",
   "execution_count": null,
   "metadata": {},
   "outputs": [],
   "source": [
    "from utils import get_tickers, download_m1_raw_data\n",
    "from datetime import date\n",
    "from polygon.rest import RESTClient\n",
    "import pandas as pd\n",
    "import os\n",
    "import pyarrow.parquet as pq\n",
    "\n",
    "DATA_PATH = \"../data/polygon/\"\n",
    "\n",
    "with open(DATA_PATH + \"secret.txt\") as f:\n",
    "    KEY = next(f).strip()\n",
    "\n",
    "client = RESTClient(api_key=KEY)"
   ]
  },
  {
   "cell_type": "markdown",
   "metadata": {},
   "source": [
    "Some fastparquet files were corrupt for unknown reasons. So I download them again."
   ]
  },
  {
   "cell_type": "code",
   "execution_count": null,
   "metadata": {},
   "outputs": [],
   "source": [
    "tickers = get_tickers(3)\n",
    "\n",
    "corrupt = []\n",
    "files = os.listdir(DATA_PATH + f\"raw/m1/\")\n",
    "for file in files:\n",
    "    try:\n",
    "        pd.read_parquet(DATA_PATH + f\"raw/m1/{file}\")\n",
    "    except:\n",
    "        corrupt.append(file)\n",
    "        print(file)"
   ]
  },
  {
   "cell_type": "code",
   "execution_count": null,
   "metadata": {},
   "outputs": [],
   "source": [
    "for file in corrupt:\n",
    "    id = file[:-8]\n",
    "    ticker = id[:-11]\n",
    "    start = tickers.loc[tickers['ID'] == id, 'start_date'].values[0]\n",
    "    end = tickers.loc[tickers['ID'] == id, 'end_date'].values[0]    \n",
    "    m1 = download_m1_raw_data(ticker = ticker, from_ = start, to = end, columns = [\"open\", \"high\", \"low\", \"close\", \"volume\"], client=client)\n",
    "    m1.to_parquet(DATA_PATH + f\"raw/m1/{id}.parquet\", engine=\"fastparquet\", compression=\"snappy\", row_group_offsets=25000)\n",
    "    print(id)"
   ]
  },
  {
   "cell_type": "code",
   "execution_count": null,
   "metadata": {},
   "outputs": [],
   "source": [
    "fig, axs = plt.subplot_mosaic([['upper left', 'right'],\n",
    "                               ['upper left', 'right'],\n",
    "                               ['mid left', 'right'],\n",
    "                               ['lower left', 'right']],\n",
    "                              figsize=(7, 5), layout=\"constrained\", gridspec_kw={'width_ratios': [1.6, 1]})\n",
    "axs['upper left'].plot(daily.index, daily[\"cumulative_return\"]*100, color=\"midnightblue\", linewidth=1)\n",
    "axs['upper left'].yaxis.set_major_formatter(mtick.PercentFormatter(decimals=0))\n",
    "axs['upper left'].set_title('Total return', fontsize=10, fontweight='bold')\n",
    "\n",
    "# Drawdown\n",
    "axs['mid left'].plot(drawdowns.index, drawdowns*100, color=\"firebrick\", linewidth=1)\n",
    "axs['mid left'].yaxis.set_major_formatter(mtick.PercentFormatter(decimals=0))\n",
    "axs['mid left'].set_title('Drawdown', fontsize=10, fontweight='bold')\n",
    "\n",
    "# Monthly returns\n",
    "monthly_return = daily['return'].resample('1M').sum()\n",
    "colors = ['firebrick' if ret < 0 else 'g' for ret in monthly_return]\n",
    "monthly_return_index = monthly_return.index.values\n",
    "monthly_return_index[0] = daily.index[0] # To make the x-axis align\n",
    "monthly_return_index[-1] = daily.index[-1] # To make the x-axis align\n",
    "\n",
    "axs['lower left'].bar(monthly_return.index, monthly_return.values*100, width=15, color=colors)\n",
    "axs['lower left'].yaxis.set_major_formatter(mtick.PercentFormatter(decimals=0))\n",
    "axs['lower left'].set_title('Monthly returns', fontsize=10, fontweight='bold')\n",
    "\n",
    "# Statistics\n",
    "rows = ['Annual return', 'Sharpe', 'Sortina', 'Alpha', 'Beta', 'Average profit/trade']\n",
    "data = ['1', '2', '3', '4', '5', '6']\n",
    "axs['right'].table(cellText=data, rowLabels=rows, loc='upper center', edges='open', colWidths=[1])\n",
    "#axs['right'].set_title('Statistics', fontsize=10, fontweight='bold')\n",
    "axs['right'].axis(\"off\")"
   ]
  }
 ],
 "metadata": {
  "language_info": {
   "name": "python"
  }
 },
 "nbformat": 4,
 "nbformat_minor": 2
}
