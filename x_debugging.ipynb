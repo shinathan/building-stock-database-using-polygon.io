{
 "cells": [
  {
   "cell_type": "markdown",
   "metadata": {},
   "source": [
    "**Can be ignored.**\n"
   ]
  },
  {
   "cell_type": "code",
   "execution_count": null,
   "metadata": {},
   "outputs": [],
   "source": [
    "from utils import get_tickers, download_m1_raw_data\n",
    "from datetime import date\n",
    "from polygon.rest import RESTClient\n",
    "import pandas as pd\n",
    "import os\n",
    "import pyarrow.parquet as pq\n",
    "\n",
    "DATA_PATH = \"../data/polygon/\"\n",
    "\n",
    "with open(DATA_PATH + \"secret.txt\") as f:\n",
    "    KEY = next(f).strip()\n",
    "\n",
    "client = RESTClient(api_key=KEY)"
   ]
  },
  {
   "cell_type": "markdown",
   "metadata": {},
   "source": [
    "Some fastparquet files were corrupt for unknown reasons. So I download them again."
   ]
  },
  {
   "cell_type": "code",
   "execution_count": null,
   "metadata": {},
   "outputs": [],
   "source": [
    "tickers = get_tickers(3)\n",
    "\n",
    "corrupt = []\n",
    "files = os.listdir(DATA_PATH + f\"raw/m1/\")\n",
    "for file in files:\n",
    "    try:\n",
    "        pd.read_parquet(DATA_PATH + f\"raw/m1/{file}\")\n",
    "    except:\n",
    "        corrupt.append(file)\n",
    "        print(file)"
   ]
  },
  {
   "cell_type": "code",
   "execution_count": null,
   "metadata": {},
   "outputs": [],
   "source": [
    "for file in corrupt:\n",
    "    id = file[:-8]\n",
    "    ticker = id[:-11]\n",
    "    start = tickers.loc[tickers['ID'] == id, 'start_date'].values[0]\n",
    "    end = tickers.loc[tickers['ID'] == id, 'end_date'].values[0]    \n",
    "    m1 = download_m1_raw_data(ticker = ticker, from_ = start, to = end, columns = [\"open\", \"high\", \"low\", \"close\", \"volume\"], client=client)\n",
    "    m1.to_parquet(DATA_PATH + f\"raw/m1/{id}.parquet\", engine=\"fastparquet\", compression=\"snappy\", row_group_offsets=25000)\n",
    "    print(id)"
   ]
  }
 ],
 "metadata": {
  "language_info": {
   "name": "python"
  }
 },
 "nbformat": 4,
 "nbformat_minor": 2
}
