{
 "cells": [
  {
   "cell_type": "markdown",
   "metadata": {},
   "source": [
    "# 13. Loop-based backtesting"
   ]
  },
  {
   "cell_type": "code",
   "execution_count": null,
   "metadata": {},
   "outputs": [],
   "source": [
    "# Spikeet clone is for research and testing\n",
    "# Backtester is for realistic testing (stoploss, ranking)"
   ]
  },
  {
   "cell_type": "code",
   "execution_count": null,
   "metadata": {},
   "outputs": [],
   "source": [
    "# INTRADAY BACKTESTER\n",
    "\n",
    "# Loop through all days\n",
    "    # Load the data for the day using the historical scanner\n",
    "    # Loop through all minutes\n",
    "        # Check for trading signal\n",
    "            # Append trade log, research log, portfolio log, order log\n",
    "    # Record portfolio value"
   ]
  },
  {
   "cell_type": "markdown",
   "metadata": {},
   "source": [
    "I am going to show the flexibility and will backtest the following systems:\n",
    "* Pre-market gap short with 10% stoploss and hold to EOD\n",
    "* IBS strategy on SPY, with realistic entries (that is, not exactly at market close but 1 minute before)\n",
    "* Every week, buy the 5 stocks in the T500 that have the largest distance to the moving average"
   ]
  },
  {
   "cell_type": "markdown",
   "metadata": {},
   "source": []
  }
 ],
 "metadata": {
  "language_info": {
   "name": "python"
  }
 },
 "nbformat": 4,
 "nbformat_minor": 2
}
