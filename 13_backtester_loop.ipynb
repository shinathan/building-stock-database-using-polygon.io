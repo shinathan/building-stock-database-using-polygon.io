{
 "cells": [
  {
   "cell_type": "markdown",
   "metadata": {},
   "source": [
    "# 13. Loop-based backtesting\n",
    "Advantages:\n",
    "* The trading logic is straightforward to code.\n",
    "* You can do way more custom stuff more easily, such as stoplosses and takeprofits. I would have no idea how to implement these in vectorized backtesting.\n",
    "* It resembles live trading.\n",
    "\n",
    "Disadvantages:\n",
    "* Slow\n",
    "* Possible to introduce look-ahead bias. To avoid this, you should be very careful with which data you access. If a backtest looks very good, cross-check the entry/exits.\n",
    "\n",
    "I want to make this backtester as simple as possible. In my other repo QS_Extended, almost everything was OOP. However I find that this makes things a bit more complicated. So here I will avoid OOP unless it is absolutely necessary. For the Portfolio that is the case. I would have no idea how you would code something that simulates a portfolio with multi-asset, internal logs etc. without encasing it in an object.\n",
    "\n",
    "All objects and helper functions are in the 'backtester' folder."
   ]
  },
  {
   "cell_type": "code",
   "execution_count": 10,
   "metadata": {},
   "outputs": [],
   "source": [
    "from datetime import datetime, date, time\n",
    "from times import get_market_dates, get_market_calendar, last_trading_date_before\n",
    "from data import get_data\n",
    "from tickers import get_tickers\n",
    "from backtester.portfolio import Portfolio\n",
    "import json\n",
    "import pandas as pd\n",
    "\n",
    "DATA_PATH = \"../data/polygon/\"\n",
    "START_DATE = date(2019, 6, 1)\n",
    "END_DATE = date(2024, 3, 1)"
   ]
  },
  {
   "cell_type": "markdown",
   "metadata": {},
   "source": [
    "### 13.1 The Portfolio object and performance module\n",
    "\n",
    "This simulates a portfolio. The portfolio has certain attributes such as the amount of cash and holdings. And several functions such as what it should do when an order gets filled. It also keeps an internal log, which we can update as often as we want (we do this every end of the day). The logs are of the portfolio itself and the fills that the portfolio got."
   ]
  },
  {
   "cell_type": "code",
   "execution_count": 17,
   "metadata": {},
   "outputs": [],
   "source": [
    "# TODO"
   ]
  },
  {
   "cell_type": "markdown",
   "metadata": {},
   "source": [
    "### 13.2 Backtesting gap up shorts"
   ]
  },
  {
   "cell_type": "code",
   "execution_count": 11,
   "metadata": {},
   "outputs": [],
   "source": [
    "# Initialize historical scanner, portfolio and calendar\n",
    "with open(\"../output/screens/GAP_30PCT.json\", \"r\") as f:\n",
    "    G30 = json.load(f)\n",
    "\n",
    "data = {}\n",
    "portfolio = Portfolio(START_DATE, data, initial_capital=10000)\n",
    "calendar = get_market_calendar(\"datetime\")\n",
    "stats = []\n",
    "\n",
    "# LOOP THROUGH ALL DAYS\n",
    "for day in get_market_dates(START_DATE, END_DATE):\n",
    "    # Scan for gappers\n",
    "    gappers_today = G30[day.isoformat()]\n",
    "    if not gappers_today:\n",
    "        continue\n",
    "\n",
    "    # AT MARKET OPEN, calculate gaps and enter positions\n",
    "    # Get data\n",
    "    \"\"\"\n",
    "    The reason we don't use data = {}: We want the data and portfolio.data to refer to the same\n",
    "    dictionary. When we use data = {}, this creates a NEW dictionary. Thus data will refer to\n",
    "    this new dictionary and not the old. Then portfolio.data refers to the old. \n",
    "    When we do data.clear(), it empties the dictionary but does not create a new one.\n",
    "    \"\"\"\n",
    "    data.clear() \n",
    "    previous_close_dt = calendar.loc[last_trading_date_before(day), \"regular_close\"]\n",
    "    market_open_dt = calendar.loc[day, \"regular_open\"]\n",
    "    market_close_dt = calendar.loc[day, \"regular_close\"]\n",
    "    for gapper in gappers_today:\n",
    "        data[gapper] = get_data(\n",
    "            gapper,\n",
    "            previous_close_dt,\n",
    "            market_close_dt,\n",
    "            1,\n",
    "            columns=[\"open\", \"high\", \"close\", \"tradeable\", \"close_original\"],\n",
    "        )\n",
    "\n",
    "    # Calculate gaps\n",
    "    gap = {}\n",
    "    for gapper in gappers_today:\n",
    "        previous_close = data[gapper].loc[previous_close_dt, \"close\"]\n",
    "        current_open = data[gapper].loc[market_open_dt, \"open\"]\n",
    "        gap[gapper] = current_open / previous_close\n",
    "\n",
    "    # Get the top gappers\n",
    "    sorted_gap = dict(sorted(gap.items(), key=lambda x: x[1], reverse=True))\n",
    "\n",
    "    # Market order with 20% of cash\n",
    "    size = portfolio.current_cash * 0.2\n",
    "    for trade_no, gapper in enumerate(sorted_gap.keys()):\n",
    "        current_open = data[gapper].loc[market_open_dt, \"open\"]\n",
    "        quantity = int(size / current_open)\n",
    "        portfolio.update_from_fill(\n",
    "            dt=market_open_dt,\n",
    "            side=\"SELL\",\n",
    "            symbol=gapper,\n",
    "            fill_quantity=quantity,\n",
    "            fill_price=current_open,\n",
    "            fees=current_open*0.01*abs(quantity),\n",
    "        )\n",
    "        if trade_no + 1 == 5:\n",
    "            break\n",
    "\n",
    "    # TODO: Implement stoploss\n",
    "\n",
    "    # AT MARKET CLOSE: close all positions, update portfolio\n",
    "    for symbol, quantity in portfolio.current_positions.items():\n",
    "        if quantity != 0:\n",
    "            close_price = data[symbol].loc[market_close_dt, \"close\"]\n",
    "            action = \"SELL\" if quantity > 0 else \"BUY\"\n",
    "            portfolio.update_from_fill(\n",
    "                dt=market_close_dt,\n",
    "                side=action,\n",
    "                symbol=symbol,\n",
    "                fill_quantity=abs(quantity),\n",
    "                fill_price=close_price,\n",
    "                fees=close_price*0.01*abs(quantity),\n",
    "            )\n",
    "    \n",
    "    # LOG STATISTICS: SPIKEET STYLE\n",
    "    for gapper in gappers_today:\n",
    "        stats.append({'day': day,\n",
    "                    'ticker': gapper,\n",
    "                    'prev_close': data[gapper].loc[previous_close_dt, \"close\"],\n",
    "                    'open': data[gapper].loc[market_open_dt, \"open\"],\n",
    "                    'open_original': data[gapper].loc[market_open_dt, \"close_original\"], # not exactly correct\n",
    "                    'high': data[gapper].loc[market_open_dt:market_close_dt, 'high'].max(),\n",
    "                    'close': data[gapper].loc[market_close_dt, \"close\"],\n",
    "                    })\n",
    "               \n",
    "    portfolio.append_portfolio_log(market_close_dt)\n",
    "\n",
    "# END OF BACKTEST\n",
    "stats = pd.DataFrame(stats)\n",
    "stats.set_index(\"day\", inplace=True)\n",
    "stats.to_excel(\"../output/gappers.xlsx\")"
   ]
  },
  {
   "cell_type": "markdown",
   "metadata": {},
   "source": []
  },
  {
   "cell_type": "code",
   "execution_count": 12,
   "metadata": {},
   "outputs": [],
   "source": [
    "from backtester.performance import fills_to_trades\n",
    "portfolio_log = portfolio.get_df_from_holdings_log()\n",
    "fills_log = portfolio.get_df_from_fills_log()\n",
    "trade_log = fills_to_trades(fills_log) # Need to make this faster\n",
    "trade_log = trade_log.drop(columns=['remaining_qty', 'net P/L $', 'fees'])"
   ]
  },
  {
   "cell_type": "code",
   "execution_count": 13,
   "metadata": {},
   "outputs": [
    {
     "data": {
      "text/html": [
       "<div>\n",
       "<style scoped>\n",
       "    .dataframe tbody tr th:only-of-type {\n",
       "        vertical-align: middle;\n",
       "    }\n",
       "\n",
       "    .dataframe tbody tr th {\n",
       "        vertical-align: top;\n",
       "    }\n",
       "\n",
       "    .dataframe thead th {\n",
       "        text-align: right;\n",
       "    }\n",
       "</style>\n",
       "<table border=\"1\" class=\"dataframe\">\n",
       "  <thead>\n",
       "    <tr style=\"text-align: right;\">\n",
       "      <th></th>\n",
       "      <th>symbol</th>\n",
       "      <th>side</th>\n",
       "      <th>quantity</th>\n",
       "      <th>fill_price</th>\n",
       "      <th>fees</th>\n",
       "    </tr>\n",
       "    <tr>\n",
       "      <th>datetime</th>\n",
       "      <th></th>\n",
       "      <th></th>\n",
       "      <th></th>\n",
       "      <th></th>\n",
       "      <th></th>\n",
       "    </tr>\n",
       "  </thead>\n",
       "  <tbody>\n",
       "    <tr>\n",
       "      <th>2024-03-01 15:59:00</th>\n",
       "      <td>NXU-2023-05-15</td>\n",
       "      <td>BUY</td>\n",
       "      <td>3084767</td>\n",
       "      <td>0.9896</td>\n",
       "      <td>30526.854232</td>\n",
       "    </tr>\n",
       "    <tr>\n",
       "      <th>2024-03-01 15:59:00</th>\n",
       "      <td>MINM-2021-07-07</td>\n",
       "      <td>BUY</td>\n",
       "      <td>646635</td>\n",
       "      <td>5.8200</td>\n",
       "      <td>37634.157000</td>\n",
       "    </tr>\n",
       "    <tr>\n",
       "      <th>2024-03-01 15:59:00</th>\n",
       "      <td>DELL-2019-06-03</td>\n",
       "      <td>BUY</td>\n",
       "      <td>30187</td>\n",
       "      <td>124.5400</td>\n",
       "      <td>37594.889800</td>\n",
       "    </tr>\n",
       "  </tbody>\n",
       "</table>\n",
       "</div>"
      ],
      "text/plain": [
       "                              symbol side  quantity  fill_price          fees\n",
       "datetime                                                                     \n",
       "2024-03-01 15:59:00   NXU-2023-05-15  BUY   3084767      0.9896  30526.854232\n",
       "2024-03-01 15:59:00  MINM-2021-07-07  BUY    646635      5.8200  37634.157000\n",
       "2024-03-01 15:59:00  DELL-2019-06-03  BUY     30187    124.5400  37594.889800"
      ]
     },
     "execution_count": 13,
     "metadata": {},
     "output_type": "execute_result"
    }
   ],
   "source": [
    "fills_log.tail(3)"
   ]
  },
  {
   "cell_type": "code",
   "execution_count": 14,
   "metadata": {},
   "outputs": [
    {
     "data": {
      "text/plain": [
       "2931"
      ]
     },
     "execution_count": 14,
     "metadata": {},
     "output_type": "execute_result"
    }
   ],
   "source": [
    "len(trade_log)"
   ]
  },
  {
   "cell_type": "code",
   "execution_count": 15,
   "metadata": {},
   "outputs": [
    {
     "data": {
      "text/html": [
       "<div>\n",
       "<style scoped>\n",
       "    .dataframe tbody tr th:only-of-type {\n",
       "        vertical-align: middle;\n",
       "    }\n",
       "\n",
       "    .dataframe tbody tr th {\n",
       "        vertical-align: top;\n",
       "    }\n",
       "\n",
       "    .dataframe thead th {\n",
       "        text-align: right;\n",
       "    }\n",
       "</style>\n",
       "<table border=\"1\" class=\"dataframe\">\n",
       "  <thead>\n",
       "    <tr style=\"text-align: right;\">\n",
       "      <th></th>\n",
       "      <th>datetime_in</th>\n",
       "      <th>symbol</th>\n",
       "      <th>side</th>\n",
       "      <th>quantity</th>\n",
       "      <th>entry</th>\n",
       "      <th>exit</th>\n",
       "      <th>datetime_out</th>\n",
       "      <th>net P/L %</th>\n",
       "    </tr>\n",
       "  </thead>\n",
       "  <tbody>\n",
       "    <tr>\n",
       "      <th>2858</th>\n",
       "      <td>2024-02-07 09:30:00</td>\n",
       "      <td>HOLO-2022-09-19</td>\n",
       "      <td>SELL</td>\n",
       "      <td>2150005</td>\n",
       "      <td>3.76</td>\n",
       "      <td>18.64</td>\n",
       "      <td>2024-02-07 15:59:00</td>\n",
       "      <td>-401.70</td>\n",
       "    </tr>\n",
       "    <tr>\n",
       "      <th>2663</th>\n",
       "      <td>2023-10-11 09:30:00</td>\n",
       "      <td>TPST-2021-06-28</td>\n",
       "      <td>SELL</td>\n",
       "      <td>8936519</td>\n",
       "      <td>2.13</td>\n",
       "      <td>9.27</td>\n",
       "      <td>2023-10-11 15:59:00</td>\n",
       "      <td>-340.56</td>\n",
       "    </tr>\n",
       "    <tr>\n",
       "      <th>2130</th>\n",
       "      <td>2022-12-09 09:30:00</td>\n",
       "      <td>AMAM-2021-06-17</td>\n",
       "      <td>SELL</td>\n",
       "      <td>21609181</td>\n",
       "      <td>1.17</td>\n",
       "      <td>4.54</td>\n",
       "      <td>2022-12-09 15:59:00</td>\n",
       "      <td>-292.91</td>\n",
       "    </tr>\n",
       "    <tr>\n",
       "      <th>774</th>\n",
       "      <td>2020-09-23 09:30:00</td>\n",
       "      <td>SPI-2019-06-03</td>\n",
       "      <td>SELL</td>\n",
       "      <td>479501</td>\n",
       "      <td>3.54</td>\n",
       "      <td>13.61</td>\n",
       "      <td>2020-09-23 15:59:00</td>\n",
       "      <td>-289.31</td>\n",
       "    </tr>\n",
       "    <tr>\n",
       "      <th>1122</th>\n",
       "      <td>2021-02-04 09:30:00</td>\n",
       "      <td>AACG-2019-10-17</td>\n",
       "      <td>SELL</td>\n",
       "      <td>411724</td>\n",
       "      <td>3.67</td>\n",
       "      <td>14.00</td>\n",
       "      <td>2021-02-04 15:59:00</td>\n",
       "      <td>-286.29</td>\n",
       "    </tr>\n",
       "  </tbody>\n",
       "</table>\n",
       "</div>"
      ],
      "text/plain": [
       "             datetime_in           symbol  side  quantity  entry   exit  \\\n",
       "2858 2024-02-07 09:30:00  HOLO-2022-09-19  SELL   2150005   3.76  18.64   \n",
       "2663 2023-10-11 09:30:00  TPST-2021-06-28  SELL   8936519   2.13   9.27   \n",
       "2130 2022-12-09 09:30:00  AMAM-2021-06-17  SELL  21609181   1.17   4.54   \n",
       "774  2020-09-23 09:30:00   SPI-2019-06-03  SELL    479501   3.54  13.61   \n",
       "1122 2021-02-04 09:30:00  AACG-2019-10-17  SELL    411724   3.67  14.00   \n",
       "\n",
       "            datetime_out  net P/L %  \n",
       "2858 2024-02-07 15:59:00    -401.70  \n",
       "2663 2023-10-11 15:59:00    -340.56  \n",
       "2130 2022-12-09 15:59:00    -292.91  \n",
       "774  2020-09-23 15:59:00    -289.31  \n",
       "1122 2021-02-04 15:59:00    -286.29  "
      ]
     },
     "execution_count": 15,
     "metadata": {},
     "output_type": "execute_result"
    }
   ],
   "source": [
    "trade_log[trade_log['net P/L %'] < -100].sort_values(by=['net P/L %']).head()"
   ]
  },
  {
   "cell_type": "markdown",
   "metadata": {},
   "source": []
  },
  {
   "cell_type": "code",
   "execution_count": 16,
   "metadata": {},
   "outputs": [
    {
     "data": {
      "image/png": "[encoded data removed]",
      "text/plain": [
       "<Figure size 640x480 with 1 Axes>"
      ]
     },
     "metadata": {},
     "output_type": "display_data"
    }
   ],
   "source": [
    "from matplotlib import pyplot as plt\n",
    "plt.plot(portfolio_log.index, portfolio_log.equity)\n",
    "plt.yscale(\"log\")\n",
    "plt.ylabel('USD')\n",
    "plt.title('Shorting liquid 30% gappers\\n20% per position (max 5, rank on gap %); 2% round-trip costs; EOD close; >=$1.00; no SL/TP')\n",
    "plt.show()"
   ]
  },
  {
   "cell_type": "markdown",
   "metadata": {},
   "source": [
    "### 13.2 Backtesting intraday droppers"
   ]
  },
  {
   "cell_type": "markdown",
   "metadata": {},
   "source": [
    "### 13.3 Backtesting IBS on SPY, TLT, GLD"
   ]
  },
  {
   "cell_type": "markdown",
   "metadata": {},
   "source": [
    "### 13.4 Backtesting S&P500 mean-reversion"
   ]
  },
  {
   "cell_type": "markdown",
   "metadata": {},
   "source": []
  }
 ],
 "metadata": {
  "kernelspec": {
   "display_name": "algotrading",
   "language": "python",
   "name": "python3"
  },
  "language_info": {
   "codemirror_mode": {
    "name": "ipython",
    "version": 3
   },
   "file_extension": ".py",
   "mimetype": "text/x-python",
   "name": "python",
   "nbconvert_exporter": "python",
   "pygments_lexer": "ipython3",
   "version": "3.11.4"
  }
 },
 "nbformat": 4,
 "nbformat_minor": 2
}
