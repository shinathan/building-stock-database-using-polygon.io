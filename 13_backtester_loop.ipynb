{
 "cells": [
  {
   "cell_type": "markdown",
   "metadata": {},
   "source": [
    "# 13. Loop-based backtesting"
   ]
  },
  {
   "cell_type": "code",
   "execution_count": null,
   "metadata": {},
   "outputs": [],
   "source": [
    "# Spikeet clone is for research and testing\n",
    "# Backtester is for realistic testing (stoploss, ranking)"
   ]
  },
  {
   "cell_type": "code",
   "execution_count": null,
   "metadata": {},
   "outputs": [],
   "source": [
    "# INTRADAY BACKTESTER\n",
    "\n",
    "# Loop through all days\n",
    "    # Load the data for the day using the historical scanner\n",
    "    # Loop through all minutes\n",
    "        # Check for trading signal\n",
    "            # Append trade log, research log, portfolio log, order log\n",
    "    # Record portfolio value"
   ]
  }
 ],
 "metadata": {
  "language_info": {
   "name": "python"
  }
 },
 "nbformat": 4,
 "nbformat_minor": 2
}
