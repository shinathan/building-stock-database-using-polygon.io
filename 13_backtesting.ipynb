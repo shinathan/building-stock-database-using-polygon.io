{
 "cells": [
  {
   "cell_type": "markdown",
   "metadata": {},
   "source": [
    "# 13.1 Backtesting\n",
    "I will try out a popular strategy using the IBS indicator. I want to see if I can match the results on [here](https://www.quantifiedstrategies.com/internal-bar-strength-ibs-indicator-strategy/). I will also use pure pandas.\n",
    "\n",
    "* Universe: SPY ETF\n",
    "* Entry: IBS < 0.2\n",
    "* Exit: IBS > 0.8\n",
    "* Trading on close prices."
   ]
  },
  {
   "cell_type": "code",
   "execution_count": 29,
   "metadata": {},
   "outputs": [],
   "source": [
    "from utils import get_data, get_id\n",
    "from scipy import stats\n",
    "from datetime import datetime, date\n",
    "import numpy as np\n",
    "import pandas as pd\n",
    "import matplotlib as mpl\n",
    "import matplotlib.pyplot as plt\n",
    "import matplotlib.ticker as mtick"
   ]
  },
  {
   "cell_type": "code",
   "execution_count": 30,
   "metadata": {},
   "outputs": [],
   "source": [
    "daily = get_data(get_id(\"SPY\"), columns=['open', 'high', 'low', 'close'])\n",
    "\n",
    "# Calculate indicator and signals\n",
    "daily['IBS'] = (daily.close - daily.low) / (daily.high - daily.low)\n",
    "conditions = [daily['IBS'] <= 0.2, daily['IBS'] >= 0.8]\n",
    "choices = [1, 0]\n",
    "daily['signal_eod'] = np.select(conditions, choices, default=np.nan)\n",
    "daily['signal_eod'] = daily['signal_eod'].ffill()\n",
    "\n",
    "# Calculate strategy results\n",
    "daily['return'] = daily.close.pct_change()\n",
    "daily['strategy_return'] = daily['signal_eod'].shift(1) * daily['return']\n",
    "daily['strategy_cumulative_return'] = (1 + daily['strategy_return']).cumprod() - 1\n",
    "daily['strategy_capital'] = (daily['strategy_cumulative_return'] + 1)*10000"
   ]
  },
  {
   "cell_type": "code",
   "execution_count": 31,
   "metadata": {},
   "outputs": [
    {
     "data": {
      "text/html": [
       "<div>\n",
       "<style scoped>\n",
       "    .dataframe tbody tr th:only-of-type {\n",
       "        vertical-align: middle;\n",
       "    }\n",
       "\n",
       "    .dataframe tbody tr th {\n",
       "        vertical-align: top;\n",
       "    }\n",
       "\n",
       "    .dataframe thead th {\n",
       "        text-align: right;\n",
       "    }\n",
       "</style>\n",
       "<table border=\"1\" class=\"dataframe\">\n",
       "  <thead>\n",
       "    <tr style=\"text-align: right;\">\n",
       "      <th></th>\n",
       "      <th>close</th>\n",
       "      <th>IBS</th>\n",
       "      <th>signal_eod</th>\n",
       "      <th>return</th>\n",
       "      <th>strategy_return</th>\n",
       "      <th>strategy_cumulative_return</th>\n",
       "      <th>strategy_capital</th>\n",
       "    </tr>\n",
       "    <tr>\n",
       "      <th>datetime</th>\n",
       "      <th></th>\n",
       "      <th></th>\n",
       "      <th></th>\n",
       "      <th></th>\n",
       "      <th></th>\n",
       "      <th></th>\n",
       "      <th></th>\n",
       "    </tr>\n",
       "  </thead>\n",
       "  <tbody>\n",
       "    <tr>\n",
       "      <th>2019-01-02</th>\n",
       "      <td>232.385259</td>\n",
       "      <td>0.819392</td>\n",
       "      <td>0.0</td>\n",
       "      <td>NaN</td>\n",
       "      <td>NaN</td>\n",
       "      <td>NaN</td>\n",
       "      <td>NaN</td>\n",
       "    </tr>\n",
       "    <tr>\n",
       "      <th>2019-01-03</th>\n",
       "      <td>226.693092</td>\n",
       "      <td>0.093878</td>\n",
       "      <td>1.0</td>\n",
       "      <td>-0.024495</td>\n",
       "      <td>-0.000000</td>\n",
       "      <td>0.000000</td>\n",
       "      <td>10000.000000</td>\n",
       "    </tr>\n",
       "    <tr>\n",
       "      <th>2019-01-04</th>\n",
       "      <td>234.437410</td>\n",
       "      <td>0.892256</td>\n",
       "      <td>0.0</td>\n",
       "      <td>0.034162</td>\n",
       "      <td>0.034162</td>\n",
       "      <td>0.034162</td>\n",
       "      <td>10341.621267</td>\n",
       "    </tr>\n",
       "  </tbody>\n",
       "</table>\n",
       "</div>"
      ],
      "text/plain": [
       "                 close       IBS  signal_eod    return  strategy_return  \\\n",
       "datetime                                                                  \n",
       "2019-01-02  232.385259  0.819392         0.0       NaN              NaN   \n",
       "2019-01-03  226.693092  0.093878         1.0 -0.024495        -0.000000   \n",
       "2019-01-04  234.437410  0.892256         0.0  0.034162         0.034162   \n",
       "\n",
       "            strategy_cumulative_return  strategy_capital  \n",
       "datetime                                                  \n",
       "2019-01-02                         NaN               NaN  \n",
       "2019-01-03                    0.000000      10000.000000  \n",
       "2019-01-04                    0.034162      10341.621267  "
      ]
     },
     "execution_count": 31,
     "metadata": {},
     "output_type": "execute_result"
    }
   ],
   "source": [
    "daily.drop(columns=['open', 'high', 'low']).head(3)"
   ]
  },
  {
   "cell_type": "code",
   "execution_count": 32,
   "metadata": {},
   "outputs": [
    {
     "data": {
      "text/html": [
       "<div>\n",
       "<style scoped>\n",
       "    .dataframe tbody tr th:only-of-type {\n",
       "        vertical-align: middle;\n",
       "    }\n",
       "\n",
       "    .dataframe tbody tr th {\n",
       "        vertical-align: top;\n",
       "    }\n",
       "\n",
       "    .dataframe thead th {\n",
       "        text-align: right;\n",
       "    }\n",
       "</style>\n",
       "<table border=\"1\" class=\"dataframe\">\n",
       "  <thead>\n",
       "    <tr style=\"text-align: right;\">\n",
       "      <th></th>\n",
       "      <th>close</th>\n",
       "      <th>IBS</th>\n",
       "      <th>signal_eod</th>\n",
       "      <th>return</th>\n",
       "      <th>strategy_return</th>\n",
       "      <th>strategy_cumulative_return</th>\n",
       "      <th>strategy_capital</th>\n",
       "    </tr>\n",
       "    <tr>\n",
       "      <th>datetime</th>\n",
       "      <th></th>\n",
       "      <th></th>\n",
       "      <th></th>\n",
       "      <th></th>\n",
       "      <th></th>\n",
       "      <th></th>\n",
       "      <th></th>\n",
       "    </tr>\n",
       "  </thead>\n",
       "  <tbody>\n",
       "    <tr>\n",
       "      <th>2023-09-05</th>\n",
       "      <td>449.25</td>\n",
       "      <td>0.042328</td>\n",
       "      <td>1.0</td>\n",
       "      <td>-0.004344</td>\n",
       "      <td>-0.004344</td>\n",
       "      <td>1.811365</td>\n",
       "      <td>28113.646265</td>\n",
       "    </tr>\n",
       "    <tr>\n",
       "      <th>2023-09-06</th>\n",
       "      <td>446.19</td>\n",
       "      <td>0.506383</td>\n",
       "      <td>1.0</td>\n",
       "      <td>-0.006811</td>\n",
       "      <td>-0.006811</td>\n",
       "      <td>1.792215</td>\n",
       "      <td>27922.154317</td>\n",
       "    </tr>\n",
       "    <tr>\n",
       "      <th>2023-09-07</th>\n",
       "      <td>444.84</td>\n",
       "      <td>0.746429</td>\n",
       "      <td>1.0</td>\n",
       "      <td>-0.003026</td>\n",
       "      <td>-0.003026</td>\n",
       "      <td>1.783767</td>\n",
       "      <td>27837.672575</td>\n",
       "    </tr>\n",
       "  </tbody>\n",
       "</table>\n",
       "</div>"
      ],
      "text/plain": [
       "             close       IBS  signal_eod    return  strategy_return  \\\n",
       "datetime                                                              \n",
       "2023-09-05  449.25  0.042328         1.0 -0.004344        -0.004344   \n",
       "2023-09-06  446.19  0.506383         1.0 -0.006811        -0.006811   \n",
       "2023-09-07  444.84  0.746429         1.0 -0.003026        -0.003026   \n",
       "\n",
       "            strategy_cumulative_return  strategy_capital  \n",
       "datetime                                                  \n",
       "2023-09-05                    1.811365      28113.646265  \n",
       "2023-09-06                    1.792215      27922.154317  \n",
       "2023-09-07                    1.783767      27837.672575  "
      ]
     },
     "execution_count": 32,
     "metadata": {},
     "output_type": "execute_result"
    }
   ],
   "source": [
    "daily.drop(columns=['open', 'high', 'low']).tail(3)"
   ]
  },
  {
   "cell_type": "code",
   "execution_count": 33,
   "metadata": {},
   "outputs": [
    {
     "data": {
      "text/plain": [
       "Text(0.5, 1.0, 'IBS strategy')"
      ]
     },
     "execution_count": 33,
     "metadata": {},
     "output_type": "execute_result"
    },
    {
     "data": {
      "image/png": "[encoded data removed]",
      "text/plain": [
       "<Figure size 640x480 with 1 Axes>"
      ]
     },
     "metadata": {},
     "output_type": "display_data"
    }
   ],
   "source": [
    "# Plot performance\n",
    "plt.style.use('bmh')\n",
    "fig, ax = plt.subplots()\n",
    "ax.plot(daily.index, ((1 + daily['return']).cumprod() - 1)*100, label='Benchmark')\n",
    "ax.plot(daily.index, daily.strategy_cumulative_return * 100, label='Strategy')\n",
    "ax.legend()\n",
    "ax.set_ylabel('Return %')\n",
    "ax.set_title('IBS strategy')"
   ]
  },
  {
   "cell_type": "markdown",
   "metadata": {},
   "source": [
    "**Strategy analysis**\n",
    "\n",
    "Now that we have the results, we want more statistics. The calculate them we either need a return series or a trade log. To get the trade log, we infer it from the DataFrames above. However in an event-driven backtester the trade log is built trade-by-trade just as in 'real life'. Now a list of statistics of interest follow. There are more, but they can either be derived from the core statistics or are of less importance.\n",
    "\n",
    "**Strategy statistics**\n",
    "\n",
    "Total statistics\n",
    "\n",
    "* Annual return\n",
    "* Sharpe\n",
    "* Sortina\n",
    "* Alpha\n",
    "* Beta\n",
    "* Time in market\n",
    "* Transaction costs/year\n",
    "\n",
    "Trade statistics\n",
    "* Average profit/trade\n",
    "* Average duration\n",
    "* Profit factor\n",
    "* Win rate\n",
    "* Trades/month\n",
    "\n",
    "**Charts**\n",
    "* Returns\n",
    "* Drawdown\n",
    "* (Bar chart) return per month"
   ]
  },
  {
   "cell_type": "markdown",
   "metadata": {},
   "source": [
    "**Statistics calculated using returns only**\n",
    "\n",
    "All inputs are cumulative returns."
   ]
  },
  {
   "cell_type": "code",
   "execution_count": 34,
   "metadata": {},
   "outputs": [],
   "source": [
    "daily['cumulative_return'] = (daily['return'] + 1).cumprod() - 1"
   ]
  },
  {
   "cell_type": "code",
   "execution_count": 35,
   "metadata": {},
   "outputs": [],
   "source": [
    "def calculate_sortina(returns, risk_free = 0):\n",
    "    annual_mean = returns.mean()*252 - risk_free\n",
    "    annual_downward_std = returns[returns < 0].std()*np.sqrt(252)\n",
    "    return round(annual_mean/annual_downward_std, 2)"
   ]
  },
  {
   "cell_type": "code",
   "execution_count": 36,
   "metadata": {},
   "outputs": [],
   "source": [
    "def calculate_sharpe(returns, risk_free = 0):\n",
    "    annual_mean = returns.mean()*252 - risk_free\n",
    "    annual_downward_std = returns.std()*np.sqrt(252)\n",
    "    return round(annual_mean/annual_downward_std, 2)"
   ]
  },
  {
   "cell_type": "code",
   "execution_count": 37,
   "metadata": {},
   "outputs": [
    {
     "name": "stdout",
     "output_type": "stream",
     "text": [
      "1.57\n",
      "0.91\n",
      "\n",
      "1.63\n",
      "0.75\n"
     ]
    }
   ],
   "source": [
    "print(calculate_sortina(daily['strategy_return']))\n",
    "print(calculate_sortina(daily['return']))\n",
    "print()\n",
    "print(calculate_sharpe(daily['strategy_return']))\n",
    "print(calculate_sharpe(daily['return']))"
   ]
  },
  {
   "cell_type": "code",
   "execution_count": 38,
   "metadata": {},
   "outputs": [],
   "source": [
    "def calculate_alpha_beta(returns, returns_benchmark, risk_free = 0):\n",
    "    returns = returns - risk_free/252\n",
    "    returns_benchmark = returns_benchmark - risk_free/252\n",
    "    beta, alpha = stats.linregress(returns_benchmark.dropna().values,\n",
    "                returns.dropna().values)[0:2]\n",
    "    return round(alpha, 2), round(beta, 2)"
   ]
  },
  {
   "cell_type": "code",
   "execution_count": 39,
   "metadata": {},
   "outputs": [],
   "source": [
    "def calculate_alpha_beta_weekly(returns, returns_benchmark, risk_free = 0):\n",
    "    returns = returns - risk_free/52\n",
    "    returns = returns.resample('1W').last()\n",
    "\n",
    "    returns_benchmark = returns_benchmark - risk_free/52\n",
    "    returns_benchmark = returns_benchmark.resample('1W').last()\n",
    "\n",
    "    beta, alpha = stats.linregress(returns_benchmark.dropna().values,\n",
    "                returns.dropna().values)[0:2]\n",
    "    return round(alpha, 2), round(beta, 2)"
   ]
  },
  {
   "cell_type": "code",
   "execution_count": 40,
   "metadata": {},
   "outputs": [
    {
     "data": {
      "text/plain": [
       "(0.0, 0.42)"
      ]
     },
     "execution_count": 40,
     "metadata": {},
     "output_type": "execute_result"
    }
   ],
   "source": [
    "calculate_alpha_beta(daily['strategy_return'], daily['return'])"
   ]
  },
  {
   "cell_type": "code",
   "execution_count": 41,
   "metadata": {},
   "outputs": [
    {
     "data": {
      "text/plain": [
       "(0.0, 0.48)"
      ]
     },
     "execution_count": 41,
     "metadata": {},
     "output_type": "execute_result"
    }
   ],
   "source": [
    "# The alpha/beta can be misleading! The reason there is no alpha is because the strategy either is 100% invested in the benchmark of zero. Even if a strategy only picks the positive days, the alpha will be zero, because the beta will simply be scaled by a fraction that depends on the amount of positive days. On days where the strategy is in the index, the beta is 1. Else it is 0. Aggregating to higher timeframes does not solve this problem apparently.\n",
    "daily['perfect_strategy_returns'] = np.where(daily['return'] > 0, daily['return'], 0)\n",
    "daily['perfect_strategy_returns_cumulative'] = (daily['perfect_strategy_returns'] + 1).cumprod() - 1\n",
    "calculate_alpha_beta(daily['perfect_strategy_returns'][2:], daily['return'][2:])"
   ]
  },
  {
   "cell_type": "code",
   "execution_count": 42,
   "metadata": {},
   "outputs": [],
   "source": [
    "def calculate_drawdowns(returns):\n",
    "    \"\"\"\n",
    "    Get drawdown Series, maximum DD and maximum duration\n",
    "    cum_returns - Returns of strategy from the beginning\n",
    "    \"\"\"\n",
    "    cum_returns = (returns + 1).cumprod() - 1\n",
    "    cum_returns_gross= cum_returns + 1\n",
    "    maximum_gross_return = cum_returns_gross.cummax()\n",
    "    drawdown = (1-cum_returns_gross/maximum_gross_return)\n",
    "\n",
    "    ATH_series = drawdown[drawdown == 0]\n",
    "    durations = (\n",
    "        ATH_series.index[1:].to_pydatetime() - ATH_series.index[:-1].to_pydatetime()\n",
    "    )\n",
    "\n",
    "    return -drawdown, round(-drawdown.max(), 3), durations.max()"
   ]
  },
  {
   "cell_type": "code",
   "execution_count": 43,
   "metadata": {},
   "outputs": [
    {
     "name": "stdout",
     "output_type": "stream",
     "text": [
      "-0.338\n",
      "173 days, 0:00:00\n"
     ]
    }
   ],
   "source": [
    "drawdowns, max_dd, max_dd_duration = calculate_drawdowns(daily['return'])\n",
    "print(max_dd)\n",
    "print(max_dd_duration)"
   ]
  },
  {
   "cell_type": "markdown",
   "metadata": {},
   "source": [
    "**Inferring the trade log**\n",
    "\n",
    "A \"trade\" is a \"fill\". This is different from an order, which is not guaranteed to be filled. A fill will have the following properties: datetime, symbol, quantity, price. This does not contain the 'exit price', which has to be inferred. The exit may even be partial. I will create two logs: a fill log and a trade log. The fill log is simply the list of fills. The trade log uses the fill log to determine what the entry/exit prices of a round-trip trade would have been. A trade log can always be inferred from a list of fills. "
   ]
  },
  {
   "cell_type": "code",
   "execution_count": 44,
   "metadata": {},
   "outputs": [],
   "source": [
    "fill_log = daily[['close', 'signal_eod']].copy()\n",
    "fill_log['buy_or_sell'] = fill_log['signal_eod'].diff()\n",
    "fill_log = fill_log[fill_log['buy_or_sell'] != 0].dropna()\n",
    "fill_log = fill_log.drop(columns=['signal_eod'])"
   ]
  },
  {
   "cell_type": "code",
   "execution_count": 45,
   "metadata": {},
   "outputs": [
    {
     "data": {
      "text/html": [
       "<div>\n",
       "<style scoped>\n",
       "    .dataframe tbody tr th:only-of-type {\n",
       "        vertical-align: middle;\n",
       "    }\n",
       "\n",
       "    .dataframe tbody tr th {\n",
       "        vertical-align: top;\n",
       "    }\n",
       "\n",
       "    .dataframe thead th {\n",
       "        text-align: right;\n",
       "    }\n",
       "</style>\n",
       "<table border=\"1\" class=\"dataframe\">\n",
       "  <thead>\n",
       "    <tr style=\"text-align: right;\">\n",
       "      <th></th>\n",
       "      <th>close</th>\n",
       "      <th>buy_or_sell</th>\n",
       "    </tr>\n",
       "    <tr>\n",
       "      <th>datetime</th>\n",
       "      <th></th>\n",
       "      <th></th>\n",
       "    </tr>\n",
       "  </thead>\n",
       "  <tbody>\n",
       "    <tr>\n",
       "      <th>2019-01-03</th>\n",
       "      <td>226.693092</td>\n",
       "      <td>1.0</td>\n",
       "    </tr>\n",
       "    <tr>\n",
       "      <th>2019-01-04</th>\n",
       "      <td>234.437410</td>\n",
       "      <td>-1.0</td>\n",
       "    </tr>\n",
       "    <tr>\n",
       "      <th>2019-02-25</th>\n",
       "      <td>259.601801</td>\n",
       "      <td>1.0</td>\n",
       "    </tr>\n",
       "    <tr>\n",
       "      <th>2019-02-27</th>\n",
       "      <td>259.286086</td>\n",
       "      <td>-1.0</td>\n",
       "    </tr>\n",
       "    <tr>\n",
       "      <th>2019-02-28</th>\n",
       "      <td>258.645369</td>\n",
       "      <td>1.0</td>\n",
       "    </tr>\n",
       "  </tbody>\n",
       "</table>\n",
       "</div>"
      ],
      "text/plain": [
       "                 close  buy_or_sell\n",
       "datetime                           \n",
       "2019-01-03  226.693092          1.0\n",
       "2019-01-04  234.437410         -1.0\n",
       "2019-02-25  259.601801          1.0\n",
       "2019-02-27  259.286086         -1.0\n",
       "2019-02-28  258.645369          1.0"
      ]
     },
     "execution_count": 45,
     "metadata": {},
     "output_type": "execute_result"
    }
   ],
   "source": [
    "# A 1 on 'signal_eod_diff' means a buy. A -1 a sell. The price at which the buy/sell occurs is the close price. We do not need to shift down here.\n",
    "fill_log.head(5)"
   ]
  },
  {
   "cell_type": "code",
   "execution_count": 46,
   "metadata": {},
   "outputs": [],
   "source": [
    "# Let's assume that we just always buy only 1 unit for simplicity. In the 'real backtester' I would calculate the positions by dividing the portfolio balance by the price.\n",
    "trades = {} # {date_in: [qty_in, price_in, date_out, qty_out, price_out, profit], ...}\n",
    "for day, trade in fill_log.iterrows():\n",
    "    datestring = day.to_pydatetime().date().isoformat()\n",
    "    price = round(trade['close'], 2)\n",
    "    direction = trade['buy_or_sell']\n",
    "    quantity = abs(trade['buy_or_sell'])\n",
    "    if direction == 1:\n",
    "        trades[datestring] = [quantity, price, np.nan, np.nan, np.nan, np.nan]\n",
    "    elif direction == -1:\n",
    "        # The correct way would be to search for the first trade with the same symbol that has not yet been closed. But then a dictionary won't work. And partial fills will increase the complexity even more...\n",
    "        # Here we just take the last trade.\n",
    "        trades[list(trades.keys())[-1]][2] = datestring\n",
    "        trades[list(trades.keys())[-1]][3] = quantity\n",
    "        trades[list(trades.keys())[-1]][4] = price"
   ]
  },
  {
   "cell_type": "code",
   "execution_count": 47,
   "metadata": {},
   "outputs": [
    {
     "data": {
      "text/plain": [
       "[('2019-01-03', [1.0, 226.69, '2019-01-04', 1.0, 234.44, nan]),\n",
       " ('2019-02-25', [1.0, 259.6, '2019-02-27', 1.0, 259.29, nan]),\n",
       " ('2019-02-28', [1.0, 258.65, '2019-03-01', 1.0, 260.46, nan]),\n",
       " ('2019-03-06', [1.0, 257.49, '2019-03-08', 1.0, 254.92, nan]),\n",
       " ('2019-03-22', [1.0, 260.45, '2019-03-29', 1.0, 263.59, nan])]"
      ]
     },
     "execution_count": 47,
     "metadata": {},
     "output_type": "execute_result"
    }
   ],
   "source": [
    "list(trades.items())[:5]"
   ]
  },
  {
   "cell_type": "code",
   "execution_count": 48,
   "metadata": {},
   "outputs": [],
   "source": [
    "trade_log = pd.DataFrame.from_dict(trades, orient='index', columns=['qty_in', 'price_in', 'date_out', 'qty_out', 'price_out', 'profit'])\n",
    "trade_log['profit'] = trade_log['qty_out']*trade_log['price_out'] - trade_log['qty_in']*trade_log['price_in']\n",
    "trade_log.dropna(inplace=True)"
   ]
  },
  {
   "cell_type": "code",
   "execution_count": 49,
   "metadata": {},
   "outputs": [
    {
     "data": {
      "text/html": [
       "<div>\n",
       "<style scoped>\n",
       "    .dataframe tbody tr th:only-of-type {\n",
       "        vertical-align: middle;\n",
       "    }\n",
       "\n",
       "    .dataframe tbody tr th {\n",
       "        vertical-align: top;\n",
       "    }\n",
       "\n",
       "    .dataframe thead th {\n",
       "        text-align: right;\n",
       "    }\n",
       "</style>\n",
       "<table border=\"1\" class=\"dataframe\">\n",
       "  <thead>\n",
       "    <tr style=\"text-align: right;\">\n",
       "      <th></th>\n",
       "      <th>qty_in</th>\n",
       "      <th>price_in</th>\n",
       "      <th>date_out</th>\n",
       "      <th>qty_out</th>\n",
       "      <th>price_out</th>\n",
       "      <th>profit</th>\n",
       "    </tr>\n",
       "  </thead>\n",
       "  <tbody>\n",
       "    <tr>\n",
       "      <th>2019-01-03</th>\n",
       "      <td>1.0</td>\n",
       "      <td>226.69</td>\n",
       "      <td>2019-01-04</td>\n",
       "      <td>1.0</td>\n",
       "      <td>234.44</td>\n",
       "      <td>7.75</td>\n",
       "    </tr>\n",
       "    <tr>\n",
       "      <th>2019-02-25</th>\n",
       "      <td>1.0</td>\n",
       "      <td>259.60</td>\n",
       "      <td>2019-02-27</td>\n",
       "      <td>1.0</td>\n",
       "      <td>259.29</td>\n",
       "      <td>-0.31</td>\n",
       "    </tr>\n",
       "    <tr>\n",
       "      <th>2019-02-28</th>\n",
       "      <td>1.0</td>\n",
       "      <td>258.65</td>\n",
       "      <td>2019-03-01</td>\n",
       "      <td>1.0</td>\n",
       "      <td>260.46</td>\n",
       "      <td>1.81</td>\n",
       "    </tr>\n",
       "    <tr>\n",
       "      <th>2019-03-06</th>\n",
       "      <td>1.0</td>\n",
       "      <td>257.49</td>\n",
       "      <td>2019-03-08</td>\n",
       "      <td>1.0</td>\n",
       "      <td>254.92</td>\n",
       "      <td>-2.57</td>\n",
       "    </tr>\n",
       "    <tr>\n",
       "      <th>2019-03-22</th>\n",
       "      <td>1.0</td>\n",
       "      <td>260.45</td>\n",
       "      <td>2019-03-29</td>\n",
       "      <td>1.0</td>\n",
       "      <td>263.59</td>\n",
       "      <td>3.14</td>\n",
       "    </tr>\n",
       "  </tbody>\n",
       "</table>\n",
       "</div>"
      ],
      "text/plain": [
       "            qty_in  price_in    date_out  qty_out  price_out  profit\n",
       "2019-01-03     1.0    226.69  2019-01-04      1.0     234.44    7.75\n",
       "2019-02-25     1.0    259.60  2019-02-27      1.0     259.29   -0.31\n",
       "2019-02-28     1.0    258.65  2019-03-01      1.0     260.46    1.81\n",
       "2019-03-06     1.0    257.49  2019-03-08      1.0     254.92   -2.57\n",
       "2019-03-22     1.0    260.45  2019-03-29      1.0     263.59    3.14"
      ]
     },
     "execution_count": 49,
     "metadata": {},
     "output_type": "execute_result"
    }
   ],
   "source": [
    "trade_log.head(5)"
   ]
  },
  {
   "cell_type": "markdown",
   "metadata": {},
   "source": [
    "**Statistics calculated using the fill or trade log**"
   ]
  },
  {
   "cell_type": "code",
   "execution_count": 50,
   "metadata": {},
   "outputs": [
    {
     "data": {
      "text/plain": [
       "Timedelta('584 days 00:00:00')"
      ]
     },
     "execution_count": 50,
     "metadata": {},
     "output_type": "execute_result"
    }
   ],
   "source": [
    "trade_log['time_in_market'] = pd.to_datetime(trade_log['date_out']) - pd.to_datetime(trade_log.index)\n",
    "time_in_market = trade_log['time_in_market'].sum() # Technically incorrect because it also counts non-trading days\n",
    "time_in_market"
   ]
  },
  {
   "cell_type": "code",
   "execution_count": 51,
   "metadata": {},
   "outputs": [
    {
     "data": {
      "text/plain": [
       "108.02"
      ]
     },
     "execution_count": 51,
     "metadata": {},
     "output_type": "execute_result"
    }
   ],
   "source": [
    "fill_log['transaction_costs'] = fill_log['buy_or_sell'].abs()*fill_log['close']*0.001\n",
    "total_transaction_costs = fill_log['transaction_costs'].sum()\n",
    "round(total_transaction_costs, 2)"
   ]
  },
  {
   "cell_type": "code",
   "execution_count": 52,
   "metadata": {},
   "outputs": [
    {
     "data": {
      "text/plain": [
       "2.29"
      ]
     },
     "execution_count": 52,
     "metadata": {},
     "output_type": "execute_result"
    }
   ],
   "source": [
    "average_profit_per_trade = trade_log['profit'].mean()\n",
    "round(average_profit_per_trade, 2)"
   ]
  },
  {
   "cell_type": "code",
   "execution_count": 53,
   "metadata": {},
   "outputs": [
    {
     "data": {
      "text/plain": [
       "297"
      ]
     },
     "execution_count": 53,
     "metadata": {},
     "output_type": "execute_result"
    }
   ],
   "source": [
    "amount_of_trades = len(fill_log)\n",
    "amount_of_trades"
   ]
  },
  {
   "cell_type": "code",
   "execution_count": 54,
   "metadata": {},
   "outputs": [
    {
     "data": {
      "text/plain": [
       "1.02"
      ]
     },
     "execution_count": 54,
     "metadata": {},
     "output_type": "execute_result"
    }
   ],
   "source": [
    "average_profit = trade_log[trade_log['profit'] > 0]['profit'].mean()\n",
    "average_loss = abs(trade_log[trade_log['profit'] < 0]['profit'].mean())\n",
    "profit_factor = average_profit/average_loss\n",
    "round(profit_factor, 2)"
   ]
  },
  {
   "cell_type": "code",
   "execution_count": 55,
   "metadata": {},
   "outputs": [
    {
     "data": {
      "text/plain": [
       "0.7"
      ]
     },
     "execution_count": 55,
     "metadata": {},
     "output_type": "execute_result"
    }
   ],
   "source": [
    "number_of_profits = trade_log[trade_log['profit'] > 0]['profit'].count()\n",
    "win_rate = number_of_profits/len(trade_log)\n",
    "round(win_rate, 2)"
   ]
  },
  {
   "cell_type": "markdown",
   "metadata": {},
   "source": [
    "**Plots**"
   ]
  },
  {
   "cell_type": "code",
   "execution_count": 63,
   "metadata": {},
   "outputs": [
    {
     "data": {
      "image/png": "[encoded data removed]",
      "text/plain": [
       "<Figure size 640x480 with 3 Axes>"
      ]
     },
     "metadata": {},
     "output_type": "display_data"
    }
   ],
   "source": [
    "fig, (ax1, ax2, ax3) = plt.subplots(nrows=3, gridspec_kw={'height_ratios': [2, 1, 1]})\n",
    "fig.suptitle('IBS',fontsize=16)\n",
    "fig.tight_layout(pad=1.5)\n",
    "\n",
    "# Returns\n",
    "ax1.plot(daily.index, daily[\"cumulative_return\"]*100, color=\"midnightblue\", linewidth=1)\n",
    "ax1.yaxis.set_major_formatter(mtick.PercentFormatter(decimals=0))\n",
    "ax1.set_title('Total return', fontsize=10, fontweight='bold')\n",
    "\n",
    "# Drawdown\n",
    "ax2.plot(drawdowns.index, drawdowns*100, color=\"firebrick\", linewidth=1)\n",
    "ax2.yaxis.set_major_formatter(mtick.PercentFormatter(decimals=0))\n",
    "ax2.set_title('Drawdown', fontsize=10, fontweight='bold')\n",
    "\n",
    "# Monthly returns\n",
    "monthly_return = daily['return'].resample('1M').sum()\n",
    "colors = ['firebrick' if ret < 0 else 'g' for ret in monthly_return]\n",
    "monthly_return_index = monthly_return.index.values\n",
    "monthly_return_index[0] = daily.index[0] # To make the x-axis align\n",
    "monthly_return_index[-1] = daily.index[-1] # To make the x-axis align\n",
    "\n",
    "ax3.bar(monthly_return.index, monthly_return.values*100, width=15, color=colors)\n",
    "ax3.yaxis.set_major_formatter(mtick.PercentFormatter(decimals=0))\n",
    "ax3.set_title('Monthly returns', fontsize=10, fontweight='bold')\n",
    "\n",
    "plt.show()"
   ]
  },
  {
   "cell_type": "code",
   "execution_count": null,
   "metadata": {},
   "outputs": [],
   "source": []
  }
 ],
 "metadata": {
  "kernelspec": {
   "display_name": "algotrading",
   "language": "python",
   "name": "python3"
  },
  "language_info": {
   "codemirror_mode": {
    "name": "ipython",
    "version": 3
   },
   "file_extension": ".py",
   "mimetype": "text/x-python",
   "name": "python",
   "nbconvert_exporter": "python",
   "pygments_lexer": "ipython3",
   "version": "3.11.4"
  }
 },
 "nbformat": 4,
 "nbformat_minor": 2
}
