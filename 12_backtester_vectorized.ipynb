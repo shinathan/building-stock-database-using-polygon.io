{
 "cells": [
  {
   "cell_type": "markdown",
   "metadata": {},
   "source": [
    "# 12.1 Vectorized backtesting\n",
    "I will try out a popular strategy using the IBS indicator. I want to see if I can match the results on [here](https://www.quantifiedstrategies.com/internal-bar-strength-ibs-indicator-strategy/). I will also use pure pandas.\n",
    "\n",
    "* Universe: SPY ETF\n",
    "* Entry: IBS < 0.2\n",
    "* Exit: IBS > 0.8\n",
    "* Trading on close prices."
   ]
  },
  {
   "cell_type": "code",
   "execution_count": 1,
   "metadata": {},
   "outputs": [
    {
     "name": "stderr",
     "output_type": "stream",
     "text": [
      "c:\\Users\\Nathan\\miniconda3\\envs\\algotrading\\Lib\\site-packages\\pandas\\core\\arrays\\masked.py:60: UserWarning: Pandas requires version '1.3.6' or newer of 'bottleneck' (version '1.3.5' currently installed).\n",
      "  from pandas.core import (\n"
     ]
    }
   ],
   "source": [
    "from data import get_data\n",
    "from tickers import get_id\n",
    "from times import last_trading_date_before_equal, get_market_dates, first_trading_date_after\n",
    "from scipy import stats\n",
    "from datetime import datetime, date\n",
    "\n",
    "import numpy as np\n",
    "import pandas as pd\n",
    "import matplotlib as mpl\n",
    "import matplotlib.pyplot as plt\n",
    "import matplotlib.ticker as mtick"
   ]
  },
  {
   "cell_type": "code",
   "execution_count": 2,
   "metadata": {},
   "outputs": [],
   "source": [
    "daily = get_data(get_id(\"SPY\"), columns=['open', 'high', 'low', 'close'])\n",
    "\n",
    "# Calculate indicator and signals\n",
    "daily['IBS'] = (daily.close - daily.low) / (daily.high - daily.low)\n",
    "conditions = [daily['IBS'] <= 0.2, daily['IBS'] >= 0.8]\n",
    "choices = [1, 0]\n",
    "daily['signal_eod'] = np.select(conditions, choices, default=np.nan)\n",
    "daily['signal_eod'] = daily['signal_eod'].ffill()\n",
    "\n",
    "# Calculate strategy results\n",
    "daily['return'] = daily.close.pct_change()\n",
    "daily['strategy_return'] = daily['signal_eod'].shift(1) * daily['return']\n",
    "daily['strategy_cumulative_return'] = (1 + daily['strategy_return']).cumprod() - 1\n",
    "daily['strategy_capital'] = (daily['strategy_cumulative_return'] + 1)*10000"
   ]
  },
  {
   "cell_type": "code",
   "execution_count": 3,
   "metadata": {},
   "outputs": [
    {
     "data": {
      "text/html": [
       "<div>\n",
       "<style scoped>\n",
       "    .dataframe tbody tr th:only-of-type {\n",
       "        vertical-align: middle;\n",
       "    }\n",
       "\n",
       "    .dataframe tbody tr th {\n",
       "        vertical-align: top;\n",
       "    }\n",
       "\n",
       "    .dataframe thead th {\n",
       "        text-align: right;\n",
       "    }\n",
       "</style>\n",
       "<table border=\"1\" class=\"dataframe\">\n",
       "  <thead>\n",
       "    <tr style=\"text-align: right;\">\n",
       "      <th></th>\n",
       "      <th>close</th>\n",
       "      <th>IBS</th>\n",
       "      <th>signal_eod</th>\n",
       "      <th>return</th>\n",
       "      <th>strategy_return</th>\n",
       "      <th>strategy_cumulative_return</th>\n",
       "      <th>strategy_capital</th>\n",
       "    </tr>\n",
       "    <tr>\n",
       "      <th>datetime</th>\n",
       "      <th></th>\n",
       "      <th></th>\n",
       "      <th></th>\n",
       "      <th></th>\n",
       "      <th></th>\n",
       "      <th></th>\n",
       "      <th></th>\n",
       "    </tr>\n",
       "  </thead>\n",
       "  <tbody>\n",
       "    <tr>\n",
       "      <th>2003-09-10</th>\n",
       "      <td>73.4176</td>\n",
       "      <td>0.120013</td>\n",
       "      <td>1.0</td>\n",
       "      <td>NaN</td>\n",
       "      <td>NaN</td>\n",
       "      <td>NaN</td>\n",
       "      <td>NaN</td>\n",
       "    </tr>\n",
       "    <tr>\n",
       "      <th>2003-09-11</th>\n",
       "      <td>73.8363</td>\n",
       "      <td>0.478320</td>\n",
       "      <td>1.0</td>\n",
       "      <td>0.005703</td>\n",
       "      <td>0.005703</td>\n",
       "      <td>0.005703</td>\n",
       "      <td>10057.029922</td>\n",
       "    </tr>\n",
       "    <tr>\n",
       "      <th>2003-09-12</th>\n",
       "      <td>74.0095</td>\n",
       "      <td>0.906904</td>\n",
       "      <td>0.0</td>\n",
       "      <td>0.002346</td>\n",
       "      <td>0.002346</td>\n",
       "      <td>0.008062</td>\n",
       "      <td>10080.620996</td>\n",
       "    </tr>\n",
       "  </tbody>\n",
       "</table>\n",
       "</div>"
      ],
      "text/plain": [
       "              close       IBS  signal_eod    return  strategy_return  \\\n",
       "datetime                                                               \n",
       "2003-09-10  73.4176  0.120013         1.0       NaN              NaN   \n",
       "2003-09-11  73.8363  0.478320         1.0  0.005703         0.005703   \n",
       "2003-09-12  74.0095  0.906904         0.0  0.002346         0.002346   \n",
       "\n",
       "            strategy_cumulative_return  strategy_capital  \n",
       "datetime                                                  \n",
       "2003-09-10                         NaN               NaN  \n",
       "2003-09-11                    0.005703      10057.029922  \n",
       "2003-09-12                    0.008062      10080.620996  "
      ]
     },
     "execution_count": 3,
     "metadata": {},
     "output_type": "execute_result"
    }
   ],
   "source": [
    "daily.drop(columns=['open', 'high', 'low']).head(3)"
   ]
  },
  {
   "cell_type": "code",
   "execution_count": 4,
   "metadata": {},
   "outputs": [
    {
     "data": {
      "text/html": [
       "<div>\n",
       "<style scoped>\n",
       "    .dataframe tbody tr th:only-of-type {\n",
       "        vertical-align: middle;\n",
       "    }\n",
       "\n",
       "    .dataframe tbody tr th {\n",
       "        vertical-align: top;\n",
       "    }\n",
       "\n",
       "    .dataframe thead th {\n",
       "        text-align: right;\n",
       "    }\n",
       "</style>\n",
       "<table border=\"1\" class=\"dataframe\">\n",
       "  <thead>\n",
       "    <tr style=\"text-align: right;\">\n",
       "      <th></th>\n",
       "      <th>close</th>\n",
       "      <th>IBS</th>\n",
       "      <th>signal_eod</th>\n",
       "      <th>return</th>\n",
       "      <th>strategy_return</th>\n",
       "      <th>strategy_cumulative_return</th>\n",
       "      <th>strategy_capital</th>\n",
       "    </tr>\n",
       "    <tr>\n",
       "      <th>datetime</th>\n",
       "      <th></th>\n",
       "      <th></th>\n",
       "      <th></th>\n",
       "      <th></th>\n",
       "      <th></th>\n",
       "      <th></th>\n",
       "      <th></th>\n",
       "    </tr>\n",
       "  </thead>\n",
       "  <tbody>\n",
       "    <tr>\n",
       "      <th>2024-04-17</th>\n",
       "      <td>500.50</td>\n",
       "      <td>0.194366</td>\n",
       "      <td>1.0</td>\n",
       "      <td>-0.005939</td>\n",
       "      <td>-0.005939</td>\n",
       "      <td>13.455508</td>\n",
       "      <td>144555.080894</td>\n",
       "    </tr>\n",
       "    <tr>\n",
       "      <th>2024-04-18</th>\n",
       "      <td>499.48</td>\n",
       "      <td>0.165171</td>\n",
       "      <td>1.0</td>\n",
       "      <td>-0.002038</td>\n",
       "      <td>-0.002038</td>\n",
       "      <td>13.426048</td>\n",
       "      <td>144260.483127</td>\n",
       "    </tr>\n",
       "    <tr>\n",
       "      <th>2024-04-19</th>\n",
       "      <td>495.10</td>\n",
       "      <td>0.188021</td>\n",
       "      <td>1.0</td>\n",
       "      <td>-0.008769</td>\n",
       "      <td>-0.008769</td>\n",
       "      <td>13.299545</td>\n",
       "      <td>142995.445655</td>\n",
       "    </tr>\n",
       "  </tbody>\n",
       "</table>\n",
       "</div>"
      ],
      "text/plain": [
       "             close       IBS  signal_eod    return  strategy_return  \\\n",
       "datetime                                                              \n",
       "2024-04-17  500.50  0.194366         1.0 -0.005939        -0.005939   \n",
       "2024-04-18  499.48  0.165171         1.0 -0.002038        -0.002038   \n",
       "2024-04-19  495.10  0.188021         1.0 -0.008769        -0.008769   \n",
       "\n",
       "            strategy_cumulative_return  strategy_capital  \n",
       "datetime                                                  \n",
       "2024-04-17                   13.455508     144555.080894  \n",
       "2024-04-18                   13.426048     144260.483127  \n",
       "2024-04-19                   13.299545     142995.445655  "
      ]
     },
     "execution_count": 4,
     "metadata": {},
     "output_type": "execute_result"
    }
   ],
   "source": [
    "daily.drop(columns=['open', 'high', 'low']).tail(3)"
   ]
  },
  {
   "cell_type": "code",
   "execution_count": 5,
   "metadata": {},
   "outputs": [
    {
     "data": {
      "text/plain": [
       "Text(0.5, 1.0, 'IBS strategy')"
      ]
     },
     "execution_count": 5,
     "metadata": {},
     "output_type": "execute_result"
    },
    {
     "data": {
      "image/png": "[encoded data removed]",
      "text/plain": [
       "<Figure size 640x480 with 1 Axes>"
      ]
     },
     "metadata": {},
     "output_type": "display_data"
    }
   ],
   "source": [
    "# Plot performance\n",
    "plt.style.use('bmh')\n",
    "fig, ax = plt.subplots()\n",
    "ax.plot(daily.index, ((1 + daily['return']).cumprod() - 1)*100, label='Benchmark')\n",
    "ax.plot(daily.index, daily.strategy_cumulative_return * 100, label='Strategy')\n",
    "ax.legend()\n",
    "ax.set_ylabel('Return %')\n",
    "ax.set_title('IBS strategy')"
   ]
  },
  {
   "cell_type": "markdown",
   "metadata": {},
   "source": [
    "**Strategy analysis**\n",
    "\n",
    "Now that we have the results, we want more statistics. The calculate them we either need a return series or a trade log. To get the trade log, we infer it from the DataFrames above. However in an event-driven backtester the trade log is built trade-by-trade just as in 'real life'. Now a list of statistics of interest follow. \n",
    "\n",
    "* Annual return\n",
    "* Sharpe\n",
    "* Sortina\n",
    "* Alpha\n",
    "* Beta\n",
    "* Winning months\n",
    "* Time in market\n",
    "* Transaction costs/year\n",
    "* Average profit/trade\n",
    "* Average duration\n",
    "* Profit factor\n",
    "* Win rate\n",
    "* Trades/month\n",
    "\n",
    "**Charts**\n",
    "* Returns\n",
    "* Drawdown\n",
    "* (Bar chart) return per month\n",
    "\n",
    "I would trade a strategy if:\n",
    "* It has a zero-leverage annual return above 10%\n",
    "* Has a average-per-trade profit of higher than 0.3%. A too low average profit means high sensitivity to trading fees and I don't like that.\n",
    "* Trades frequently. More than 5x/month is acceptable.\n",
    "* Max drawdown lower than 25%. \n",
    "\n",
    "Bonus points if:\n",
    "* Negative correlation with other strategies, especially the stock index. A 'crisis-alpha' strategy is worth a lot, if in normal times the return is higher than the risk-free rate.\n",
    "* Easily leverageable. This is the case with e.g. SPY, but not so much with small-caps.\n",
    "* Low exposure. This means that the remaining capital can be invested in other strategies or even the risk-free rate.\n",
    "\n",
    "I don't care at all about (unless it is in the extremes):\n",
    "* Win rate\n",
    "* Profit factor"
   ]
  },
  {
   "cell_type": "markdown",
   "metadata": {},
   "source": [
    "**Statistics calculated using returns only**\n",
    "\n",
    "All inputs are cumulative returns."
   ]
  },
  {
   "cell_type": "code",
   "execution_count": 6,
   "metadata": {},
   "outputs": [],
   "source": [
    "daily['cumulative_return'] = (daily['return'] + 1).cumprod() - 1"
   ]
  },
  {
   "cell_type": "code",
   "execution_count": 7,
   "metadata": {},
   "outputs": [],
   "source": [
    "def calculate_annual_return(returns):\n",
    "    cum_returns_gross = (returns + 1).cumprod() - 1\n",
    "    total_length = returns.index[-1] - returns.index[0]\n",
    "    annual_return = (cum_returns_gross[-1])**(1/(total_length.days/365)) - 1\n",
    "    return round(annual_return, 3)"
   ]
  },
  {
   "cell_type": "code",
   "execution_count": 8,
   "metadata": {},
   "outputs": [
    {
     "name": "stdout",
     "output_type": "stream",
     "text": [
      "0.134\n"
     ]
    },
    {
     "name": "stderr",
     "output_type": "stream",
     "text": [
      "C:\\Users\\Nathan\\AppData\\Local\\Temp\\ipykernel_5348\\730911267.py:4: FutureWarning: Series.__getitem__ treating keys as positions is deprecated. In a future version, integer keys will always be treated as labels (consistent with DataFrame behavior). To access a value by position, use `ser.iloc[pos]`\n",
      "  annual_return = (cum_returns_gross[-1])**(1/(total_length.days/365)) - 1\n"
     ]
    }
   ],
   "source": [
    "annual_return = calculate_annual_return(daily['strategy_return'])\n",
    "print(annual_return)"
   ]
  },
  {
   "cell_type": "code",
   "execution_count": 9,
   "metadata": {},
   "outputs": [],
   "source": [
    "def calculate_sortina(returns, risk_free = 0):\n",
    "    annual_mean = returns.mean()*252 - risk_free\n",
    "    annual_downward_std = returns[returns < 0].std()*np.sqrt(252)\n",
    "    return round(annual_mean/annual_downward_std, 2)"
   ]
  },
  {
   "cell_type": "code",
   "execution_count": 10,
   "metadata": {},
   "outputs": [],
   "source": [
    "def calculate_sharpe(returns, risk_free = 0):\n",
    "    annual_mean = returns.mean()*252 - risk_free\n",
    "    annual_downward_std = returns.std()*np.sqrt(252)\n",
    "    return round(annual_mean/annual_downward_std, 2)"
   ]
  },
  {
   "cell_type": "code",
   "execution_count": 11,
   "metadata": {},
   "outputs": [
    {
     "name": "stdout",
     "output_type": "stream",
     "text": [
      "0.93\n",
      "0.72\n",
      "\n",
      "1.07\n",
      "0.59\n"
     ]
    }
   ],
   "source": [
    "sortina = calculate_sortina(daily['strategy_return'])\n",
    "sharpe = calculate_sharpe(daily['strategy_return'])\n",
    "print(calculate_sortina(daily['strategy_return']))\n",
    "print(calculate_sortina(daily['return']))\n",
    "print()\n",
    "print(calculate_sharpe(daily['strategy_return']))\n",
    "print(calculate_sharpe(daily['return']))"
   ]
  },
  {
   "cell_type": "code",
   "execution_count": 12,
   "metadata": {},
   "outputs": [],
   "source": [
    "def calculate_alpha_beta(returns, returns_benchmark, risk_free = 0):\n",
    "    returns = returns - risk_free/252\n",
    "    returns_benchmark = returns_benchmark - risk_free/252\n",
    "    beta, alpha = stats.linregress(returns_benchmark.dropna().values,\n",
    "                returns.dropna().values)[0:2]\n",
    "    return round(alpha, 2), round(beta, 2)"
   ]
  },
  {
   "cell_type": "code",
   "execution_count": 13,
   "metadata": {},
   "outputs": [],
   "source": [
    "def calculate_alpha_beta_weekly(returns, returns_benchmark, risk_free = 0):\n",
    "    returns = returns - risk_free/52\n",
    "    returns = returns.resample('1W').last()\n",
    "\n",
    "    returns_benchmark = returns_benchmark - risk_free/52\n",
    "    returns_benchmark = returns_benchmark.resample('1W').last()\n",
    "\n",
    "    beta, alpha = stats.linregress(returns_benchmark.dropna().values,\n",
    "                returns.dropna().values)[0:2]\n",
    "    return round(alpha, 2), round(beta, 2)"
   ]
  },
  {
   "cell_type": "code",
   "execution_count": 14,
   "metadata": {},
   "outputs": [
    {
     "name": "stdout",
     "output_type": "stream",
     "text": [
      "0.0\n",
      "0.47\n"
     ]
    }
   ],
   "source": [
    "alpha, beta = calculate_alpha_beta(daily['strategy_return'], daily['return'])\n",
    "print(alpha)\n",
    "print(beta)"
   ]
  },
  {
   "cell_type": "code",
   "execution_count": 15,
   "metadata": {},
   "outputs": [
    {
     "data": {
      "text/plain": [
       "(0.0, 0.48)"
      ]
     },
     "execution_count": 15,
     "metadata": {},
     "output_type": "execute_result"
    }
   ],
   "source": [
    "# The alpha/beta can be misleading! The reason there is no alpha is because the strategy either is 100% invested in the benchmark of zero. Even if a strategy only picks the positive days, the alpha will be zero, because the beta will simply be scaled by a fraction that depends on the amount of positive days. On days where the strategy is in the index, the beta is 1. Else it is 0. Aggregating to higher timeframes does not solve this problem apparently.\n",
    "daily['perfect_strategy_returns'] = np.where(daily['return'] > 0, daily['return'], 0)\n",
    "daily['perfect_strategy_returns_cumulative'] = (daily['perfect_strategy_returns'] + 1).cumprod() - 1\n",
    "calculate_alpha_beta(daily['perfect_strategy_returns'][2:], daily['return'][2:])"
   ]
  },
  {
   "cell_type": "code",
   "execution_count": 16,
   "metadata": {},
   "outputs": [],
   "source": [
    "def calculate_drawdowns(returns):\n",
    "    \"\"\"\n",
    "    Get drawdown Series, maximum DD and maximum duration\n",
    "    cum_returns - Returns of strategy from the beginning\n",
    "    \"\"\"\n",
    "    cum_returns = (returns + 1).cumprod() - 1\n",
    "    cum_returns_gross= cum_returns + 1\n",
    "    maximum_gross_return = cum_returns_gross.cummax()\n",
    "    drawdown = (1-cum_returns_gross/maximum_gross_return)\n",
    "\n",
    "    ATH_series = drawdown[drawdown == 0]\n",
    "    durations = (\n",
    "        ATH_series.index[1:].to_pydatetime() - ATH_series.index[:-1].to_pydatetime()\n",
    "    )\n",
    "\n",
    "    return -drawdown, round(-drawdown.max(), 3), durations.max()"
   ]
  },
  {
   "cell_type": "code",
   "execution_count": 17,
   "metadata": {},
   "outputs": [
    {
     "name": "stdout",
     "output_type": "stream",
     "text": [
      "-0.219\n",
      "774 days, 0:00:00\n"
     ]
    }
   ],
   "source": [
    "drawdowns, max_dd, max_dd_duration = calculate_drawdowns(daily['strategy_return'])\n",
    "print(max_dd)\n",
    "print(max_dd_duration)"
   ]
  },
  {
   "cell_type": "markdown",
   "metadata": {},
   "source": [
    "**Inferring the trade log**\n",
    "\n",
    "A \"trade\" is a \"fill\". This is different from an order, which is not guaranteed to be filled. A fill will have the following properties: datetime, symbol, quantity, price. This does not contain the 'exit price', which has to be inferred. The exit may even be partial. I will create two logs: a fill log and a trade log. The fill log is simply the list of fills. The trade log uses the fill log to determine what the entry/exit prices of a round-trip trade would have been. A trade log can always be inferred from a list of fills. "
   ]
  },
  {
   "cell_type": "code",
   "execution_count": 18,
   "metadata": {},
   "outputs": [],
   "source": [
    "fill_log = daily[['close', 'signal_eod']].copy()\n",
    "fill_log['buy_or_sell'] = fill_log['signal_eod'].diff()\n",
    "fill_log = fill_log[fill_log['buy_or_sell'] != 0].dropna()\n",
    "fill_log = fill_log.drop(columns=['signal_eod'])"
   ]
  },
  {
   "cell_type": "code",
   "execution_count": 19,
   "metadata": {},
   "outputs": [
    {
     "data": {
      "text/html": [
       "<div>\n",
       "<style scoped>\n",
       "    .dataframe tbody tr th:only-of-type {\n",
       "        vertical-align: middle;\n",
       "    }\n",
       "\n",
       "    .dataframe tbody tr th {\n",
       "        vertical-align: top;\n",
       "    }\n",
       "\n",
       "    .dataframe thead th {\n",
       "        text-align: right;\n",
       "    }\n",
       "</style>\n",
       "<table border=\"1\" class=\"dataframe\">\n",
       "  <thead>\n",
       "    <tr style=\"text-align: right;\">\n",
       "      <th></th>\n",
       "      <th>close</th>\n",
       "      <th>buy_or_sell</th>\n",
       "    </tr>\n",
       "    <tr>\n",
       "      <th>datetime</th>\n",
       "      <th></th>\n",
       "      <th></th>\n",
       "    </tr>\n",
       "  </thead>\n",
       "  <tbody>\n",
       "    <tr>\n",
       "      <th>2003-09-12</th>\n",
       "      <td>74.0095</td>\n",
       "      <td>-1.0</td>\n",
       "    </tr>\n",
       "    <tr>\n",
       "      <th>2003-09-24</th>\n",
       "      <td>73.0566</td>\n",
       "      <td>1.0</td>\n",
       "    </tr>\n",
       "    <tr>\n",
       "      <th>2003-09-29</th>\n",
       "      <td>72.8184</td>\n",
       "      <td>-1.0</td>\n",
       "    </tr>\n",
       "    <tr>\n",
       "      <th>2003-10-03</th>\n",
       "      <td>74.5437</td>\n",
       "      <td>1.0</td>\n",
       "    </tr>\n",
       "    <tr>\n",
       "      <th>2003-10-07</th>\n",
       "      <td>75.2151</td>\n",
       "      <td>-1.0</td>\n",
       "    </tr>\n",
       "  </tbody>\n",
       "</table>\n",
       "</div>"
      ],
      "text/plain": [
       "              close  buy_or_sell\n",
       "datetime                        \n",
       "2003-09-12  74.0095         -1.0\n",
       "2003-09-24  73.0566          1.0\n",
       "2003-09-29  72.8184         -1.0\n",
       "2003-10-03  74.5437          1.0\n",
       "2003-10-07  75.2151         -1.0"
      ]
     },
     "execution_count": 19,
     "metadata": {},
     "output_type": "execute_result"
    }
   ],
   "source": [
    "# A 1 on 'signal_eod_diff' means a buy. A -1 a sell. The price at which the buy/sell occurs is the close price. We do not need to shift down here.\n",
    "fill_log.head(5)"
   ]
  },
  {
   "cell_type": "code",
   "execution_count": 20,
   "metadata": {},
   "outputs": [
    {
     "ename": "IndexError",
     "evalue": "list index out of range",
     "output_type": "error",
     "traceback": [
      "\u001b[1;31m---------------------------------------------------------------------------\u001b[0m",
      "\u001b[1;31mIndexError\u001b[0m                                Traceback (most recent call last)",
      "Cell \u001b[1;32mIn[20], line 13\u001b[0m\n\u001b[0;32m      9\u001b[0m     trades[datestring] \u001b[38;5;241m=\u001b[39m [quantity, price, np\u001b[38;5;241m.\u001b[39mnan, np\u001b[38;5;241m.\u001b[39mnan, np\u001b[38;5;241m.\u001b[39mnan, np\u001b[38;5;241m.\u001b[39mnan]\n\u001b[0;32m     10\u001b[0m \u001b[38;5;28;01melif\u001b[39;00m direction \u001b[38;5;241m==\u001b[39m \u001b[38;5;241m-\u001b[39m\u001b[38;5;241m1\u001b[39m:\n\u001b[0;32m     11\u001b[0m     \u001b[38;5;66;03m# The correct way would be to search for the first trade with the same symbol that has not yet been closed. But then a dictionary won't work. And partial fills will increase the complexity even more...\u001b[39;00m\n\u001b[0;32m     12\u001b[0m     \u001b[38;5;66;03m# Here we just take the last trade.\u001b[39;00m\n\u001b[1;32m---> 13\u001b[0m     trades[\u001b[38;5;28;43mlist\u001b[39;49m\u001b[43m(\u001b[49m\u001b[43mtrades\u001b[49m\u001b[38;5;241;43m.\u001b[39;49m\u001b[43mkeys\u001b[49m\u001b[43m(\u001b[49m\u001b[43m)\u001b[49m\u001b[43m)\u001b[49m\u001b[43m[\u001b[49m\u001b[38;5;241;43m-\u001b[39;49m\u001b[38;5;241;43m1\u001b[39;49m\u001b[43m]\u001b[49m][\u001b[38;5;241m2\u001b[39m] \u001b[38;5;241m=\u001b[39m datestring\n\u001b[0;32m     14\u001b[0m     trades[\u001b[38;5;28mlist\u001b[39m(trades\u001b[38;5;241m.\u001b[39mkeys())[\u001b[38;5;241m-\u001b[39m\u001b[38;5;241m1\u001b[39m]][\u001b[38;5;241m3\u001b[39m] \u001b[38;5;241m=\u001b[39m quantity\n\u001b[0;32m     15\u001b[0m     trades[\u001b[38;5;28mlist\u001b[39m(trades\u001b[38;5;241m.\u001b[39mkeys())[\u001b[38;5;241m-\u001b[39m\u001b[38;5;241m1\u001b[39m]][\u001b[38;5;241m4\u001b[39m] \u001b[38;5;241m=\u001b[39m price\n",
      "\u001b[1;31mIndexError\u001b[0m: list index out of range"
     ]
    }
   ],
   "source": [
    "# Let's assume that we just always buy only 1 unit for simplicity. In the 'real backtester' I would calculate the positions by dividing the portfolio balance by the price. \n",
    "trades = {} # {date_in: [qty_in, price_in, date_out, qty_out, price_out, profit], ...}\n",
    "for day, trade in fill_log.iterrows():\n",
    "    datestring = day.to_pydatetime().date().isoformat()\n",
    "    price = round(trade['close'], 2)\n",
    "    direction = trade['buy_or_sell']\n",
    "    quantity = abs(trade['buy_or_sell'])\n",
    "    if direction == 1:\n",
    "        trades[datestring] = [quantity, price, np.nan, np.nan, np.nan, np.nan]\n",
    "    elif direction == -1:\n",
    "        # The correct way would be to search for the first trade with the same symbol that has not yet been closed. But then a dictionary won't work. And partial fills will increase the complexity even more...\n",
    "        # Here we just take the last trade.\n",
    "        trades[list(trades.keys())[-1]][2] = datestring\n",
    "        trades[list(trades.keys())[-1]][3] = quantity\n",
    "        trades[list(trades.keys())[-1]][4] = price"
   ]
  },
  {
   "cell_type": "code",
   "execution_count": null,
   "metadata": {},
   "outputs": [
    {
     "data": {
      "text/plain": [
       "[('2019-01-03', [1.0, 226.69, '2019-01-04', 1.0, 234.44, nan]),\n",
       " ('2019-02-25', [1.0, 259.6, '2019-02-27', 1.0, 259.29, nan]),\n",
       " ('2019-02-28', [1.0, 258.65, '2019-03-01', 1.0, 260.46, nan]),\n",
       " ('2019-03-06', [1.0, 257.49, '2019-03-08', 1.0, 254.92, nan]),\n",
       " ('2019-03-22', [1.0, 260.45, '2019-03-29', 1.0, 263.59, nan])]"
      ]
     },
     "execution_count": 21,
     "metadata": {},
     "output_type": "execute_result"
    }
   ],
   "source": [
    "list(trades.items())[:5]"
   ]
  },
  {
   "cell_type": "code",
   "execution_count": null,
   "metadata": {},
   "outputs": [],
   "source": [
    "trade_log = pd.DataFrame.from_dict(trades, orient='index', columns=['qty_in', 'price_in', 'date_out', 'qty_out', 'price_out', 'profit'])\n",
    "trade_log['profit'] = trade_log['qty_out']*trade_log['price_out'] - trade_log['qty_in']*trade_log['price_in']\n",
    "trade_log.dropna(inplace=True)"
   ]
  },
  {
   "cell_type": "code",
   "execution_count": null,
   "metadata": {},
   "outputs": [
    {
     "data": {
      "text/html": [
       "<div>\n",
       "<style scoped>\n",
       "    .dataframe tbody tr th:only-of-type {\n",
       "        vertical-align: middle;\n",
       "    }\n",
       "\n",
       "    .dataframe tbody tr th {\n",
       "        vertical-align: top;\n",
       "    }\n",
       "\n",
       "    .dataframe thead th {\n",
       "        text-align: right;\n",
       "    }\n",
       "</style>\n",
       "<table border=\"1\" class=\"dataframe\">\n",
       "  <thead>\n",
       "    <tr style=\"text-align: right;\">\n",
       "      <th></th>\n",
       "      <th>qty_in</th>\n",
       "      <th>price_in</th>\n",
       "      <th>date_out</th>\n",
       "      <th>qty_out</th>\n",
       "      <th>price_out</th>\n",
       "      <th>profit</th>\n",
       "    </tr>\n",
       "  </thead>\n",
       "  <tbody>\n",
       "    <tr>\n",
       "      <th>2019-01-03</th>\n",
       "      <td>1.0</td>\n",
       "      <td>226.69</td>\n",
       "      <td>2019-01-04</td>\n",
       "      <td>1.0</td>\n",
       "      <td>234.44</td>\n",
       "      <td>7.75</td>\n",
       "    </tr>\n",
       "    <tr>\n",
       "      <th>2019-02-25</th>\n",
       "      <td>1.0</td>\n",
       "      <td>259.60</td>\n",
       "      <td>2019-02-27</td>\n",
       "      <td>1.0</td>\n",
       "      <td>259.29</td>\n",
       "      <td>-0.31</td>\n",
       "    </tr>\n",
       "    <tr>\n",
       "      <th>2019-02-28</th>\n",
       "      <td>1.0</td>\n",
       "      <td>258.65</td>\n",
       "      <td>2019-03-01</td>\n",
       "      <td>1.0</td>\n",
       "      <td>260.46</td>\n",
       "      <td>1.81</td>\n",
       "    </tr>\n",
       "    <tr>\n",
       "      <th>2019-03-06</th>\n",
       "      <td>1.0</td>\n",
       "      <td>257.49</td>\n",
       "      <td>2019-03-08</td>\n",
       "      <td>1.0</td>\n",
       "      <td>254.92</td>\n",
       "      <td>-2.57</td>\n",
       "    </tr>\n",
       "    <tr>\n",
       "      <th>2019-03-22</th>\n",
       "      <td>1.0</td>\n",
       "      <td>260.45</td>\n",
       "      <td>2019-03-29</td>\n",
       "      <td>1.0</td>\n",
       "      <td>263.59</td>\n",
       "      <td>3.14</td>\n",
       "    </tr>\n",
       "  </tbody>\n",
       "</table>\n",
       "</div>"
      ],
      "text/plain": [
       "            qty_in  price_in    date_out  qty_out  price_out  profit\n",
       "2019-01-03     1.0    226.69  2019-01-04      1.0     234.44    7.75\n",
       "2019-02-25     1.0    259.60  2019-02-27      1.0     259.29   -0.31\n",
       "2019-02-28     1.0    258.65  2019-03-01      1.0     260.46    1.81\n",
       "2019-03-06     1.0    257.49  2019-03-08      1.0     254.92   -2.57\n",
       "2019-03-22     1.0    260.45  2019-03-29      1.0     263.59    3.14"
      ]
     },
     "execution_count": 23,
     "metadata": {},
     "output_type": "execute_result"
    }
   ],
   "source": [
    "trade_log.head(5)"
   ]
  },
  {
   "cell_type": "markdown",
   "metadata": {},
   "source": [
    "**Statistics calculated using the fill or trade log**"
   ]
  },
  {
   "cell_type": "code",
   "execution_count": 21,
   "metadata": {},
   "outputs": [
    {
     "ename": "NameError",
     "evalue": "name 'trade_log' is not defined",
     "output_type": "error",
     "traceback": [
      "\u001b[1;31m---------------------------------------------------------------------------\u001b[0m",
      "\u001b[1;31mNameError\u001b[0m                                 Traceback (most recent call last)",
      "Cell \u001b[1;32mIn[21], line 1\u001b[0m\n\u001b[1;32m----> 1\u001b[0m trade_log[\u001b[38;5;124m'\u001b[39m\u001b[38;5;124mtime_in_market\u001b[39m\u001b[38;5;124m'\u001b[39m] \u001b[38;5;241m=\u001b[39m pd\u001b[38;5;241m.\u001b[39mto_datetime(\u001b[43mtrade_log\u001b[49m[\u001b[38;5;124m'\u001b[39m\u001b[38;5;124mdate_out\u001b[39m\u001b[38;5;124m'\u001b[39m]) \u001b[38;5;241m-\u001b[39m pd\u001b[38;5;241m.\u001b[39mto_datetime(trade_log\u001b[38;5;241m.\u001b[39mindex)\n\u001b[0;32m      2\u001b[0m time_in_market \u001b[38;5;241m=\u001b[39m trade_log[\u001b[38;5;124m'\u001b[39m\u001b[38;5;124mtime_in_market\u001b[39m\u001b[38;5;124m'\u001b[39m]\u001b[38;5;241m.\u001b[39msum()\u001b[38;5;241m.\u001b[39mdays \u001b[38;5;66;03m# Technically incorrect because it also counts non-trading days\u001b[39;00m\n\u001b[0;32m      3\u001b[0m time_in_market\n",
      "\u001b[1;31mNameError\u001b[0m: name 'trade_log' is not defined"
     ]
    }
   ],
   "source": [
    "trade_log['time_in_market'] = pd.to_datetime(trade_log['date_out']) - pd.to_datetime(trade_log.index)\n",
    "time_in_market = trade_log['time_in_market'].sum().days # Technically incorrect because it also counts non-trading days\n",
    "time_in_market"
   ]
  },
  {
   "cell_type": "code",
   "execution_count": 22,
   "metadata": {},
   "outputs": [
    {
     "ename": "NameError",
     "evalue": "name 'time_in_market' is not defined",
     "output_type": "error",
     "traceback": [
      "\u001b[1;31m---------------------------------------------------------------------------\u001b[0m",
      "\u001b[1;31mNameError\u001b[0m                                 Traceback (most recent call last)",
      "Cell \u001b[1;32mIn[22], line 1\u001b[0m\n\u001b[1;32m----> 1\u001b[0m average_time_in_trade \u001b[38;5;241m=\u001b[39m \u001b[38;5;28mround\u001b[39m(\u001b[43mtime_in_market\u001b[49m\u001b[38;5;241m/\u001b[39m\u001b[38;5;28mlen\u001b[39m(trade_log), \u001b[38;5;241m1\u001b[39m)\n\u001b[0;32m      2\u001b[0m average_time_in_trade\n",
      "\u001b[1;31mNameError\u001b[0m: name 'time_in_market' is not defined"
     ]
    }
   ],
   "source": [
    "average_time_in_trade = round(time_in_market/len(trade_log), 1)\n",
    "average_time_in_trade"
   ]
  },
  {
   "cell_type": "code",
   "execution_count": 23,
   "metadata": {},
   "outputs": [
    {
     "data": {
      "text/plain": [
       "235.32"
      ]
     },
     "execution_count": 23,
     "metadata": {},
     "output_type": "execute_result"
    }
   ],
   "source": [
    "fill_log['transaction_costs'] = fill_log['buy_or_sell'].abs()*fill_log['close']*0.001\n",
    "total_transaction_costs = fill_log['transaction_costs'].sum()\n",
    "round(total_transaction_costs, 2)"
   ]
  },
  {
   "cell_type": "code",
   "execution_count": 24,
   "metadata": {},
   "outputs": [],
   "source": [
    "# To get it per year, you have to calculate the transaction costs per year and then divide it by the ending capital. For that I need to keep track of the capital, which I have skipped."
   ]
  },
  {
   "cell_type": "code",
   "execution_count": 25,
   "metadata": {},
   "outputs": [
    {
     "ename": "NameError",
     "evalue": "name 'trade_log' is not defined",
     "output_type": "error",
     "traceback": [
      "\u001b[1;31m---------------------------------------------------------------------------\u001b[0m",
      "\u001b[1;31mNameError\u001b[0m                                 Traceback (most recent call last)",
      "Cell \u001b[1;32mIn[25], line 1\u001b[0m\n\u001b[1;32m----> 1\u001b[0m average_profit_per_trade \u001b[38;5;241m=\u001b[39m \u001b[38;5;28mround\u001b[39m(\u001b[43mtrade_log\u001b[49m[\u001b[38;5;124m'\u001b[39m\u001b[38;5;124mprofit\u001b[39m\u001b[38;5;124m'\u001b[39m]\u001b[38;5;241m.\u001b[39mmean(), \u001b[38;5;241m2\u001b[39m)\n\u001b[0;32m      2\u001b[0m average_profit_per_trade\n",
      "\u001b[1;31mNameError\u001b[0m: name 'trade_log' is not defined"
     ]
    }
   ],
   "source": [
    "average_profit_per_trade = round(trade_log['profit'].mean(), 2)\n",
    "average_profit_per_trade"
   ]
  },
  {
   "cell_type": "code",
   "execution_count": 26,
   "metadata": {},
   "outputs": [
    {
     "data": {
      "text/plain": [
       "1230"
      ]
     },
     "execution_count": 26,
     "metadata": {},
     "output_type": "execute_result"
    }
   ],
   "source": [
    "amount_of_trades = len(fill_log)\n",
    "amount_of_trades"
   ]
  },
  {
   "cell_type": "code",
   "execution_count": 27,
   "metadata": {},
   "outputs": [
    {
     "data": {
      "text/plain": [
       "4.9"
      ]
     },
     "execution_count": 27,
     "metadata": {},
     "output_type": "execute_result"
    }
   ],
   "source": [
    "months = (daily.index[-1] - daily.index[0]).days/30\n",
    "trades_per_month = round(amount_of_trades/months, 1)\n",
    "trades_per_month"
   ]
  },
  {
   "cell_type": "code",
   "execution_count": 28,
   "metadata": {},
   "outputs": [
    {
     "ename": "NameError",
     "evalue": "name 'trade_log' is not defined",
     "output_type": "error",
     "traceback": [
      "\u001b[1;31m---------------------------------------------------------------------------\u001b[0m",
      "\u001b[1;31mNameError\u001b[0m                                 Traceback (most recent call last)",
      "Cell \u001b[1;32mIn[28], line 1\u001b[0m\n\u001b[1;32m----> 1\u001b[0m average_profit \u001b[38;5;241m=\u001b[39m \u001b[43mtrade_log\u001b[49m[trade_log[\u001b[38;5;124m'\u001b[39m\u001b[38;5;124mprofit\u001b[39m\u001b[38;5;124m'\u001b[39m] \u001b[38;5;241m>\u001b[39m \u001b[38;5;241m0\u001b[39m][\u001b[38;5;124m'\u001b[39m\u001b[38;5;124mprofit\u001b[39m\u001b[38;5;124m'\u001b[39m]\u001b[38;5;241m.\u001b[39mmean()\n\u001b[0;32m      2\u001b[0m average_loss \u001b[38;5;241m=\u001b[39m \u001b[38;5;28mabs\u001b[39m(trade_log[trade_log[\u001b[38;5;124m'\u001b[39m\u001b[38;5;124mprofit\u001b[39m\u001b[38;5;124m'\u001b[39m] \u001b[38;5;241m<\u001b[39m \u001b[38;5;241m0\u001b[39m][\u001b[38;5;124m'\u001b[39m\u001b[38;5;124mprofit\u001b[39m\u001b[38;5;124m'\u001b[39m]\u001b[38;5;241m.\u001b[39mmean())\n\u001b[0;32m      3\u001b[0m profit_factor \u001b[38;5;241m=\u001b[39m \u001b[38;5;28mround\u001b[39m(average_profit\u001b[38;5;241m/\u001b[39maverage_loss, \u001b[38;5;241m2\u001b[39m)\n",
      "\u001b[1;31mNameError\u001b[0m: name 'trade_log' is not defined"
     ]
    }
   ],
   "source": [
    "average_profit = trade_log[trade_log['profit'] > 0]['profit'].mean()\n",
    "average_loss = abs(trade_log[trade_log['profit'] < 0]['profit'].mean())\n",
    "profit_factor = round(average_profit/average_loss, 2)\n",
    "profit_factor"
   ]
  },
  {
   "cell_type": "code",
   "execution_count": 29,
   "metadata": {},
   "outputs": [
    {
     "ename": "NameError",
     "evalue": "name 'trade_log' is not defined",
     "output_type": "error",
     "traceback": [
      "\u001b[1;31m---------------------------------------------------------------------------\u001b[0m",
      "\u001b[1;31mNameError\u001b[0m                                 Traceback (most recent call last)",
      "Cell \u001b[1;32mIn[29], line 1\u001b[0m\n\u001b[1;32m----> 1\u001b[0m number_of_profits \u001b[38;5;241m=\u001b[39m \u001b[43mtrade_log\u001b[49m[trade_log[\u001b[38;5;124m'\u001b[39m\u001b[38;5;124mprofit\u001b[39m\u001b[38;5;124m'\u001b[39m] \u001b[38;5;241m>\u001b[39m \u001b[38;5;241m0\u001b[39m][\u001b[38;5;124m'\u001b[39m\u001b[38;5;124mprofit\u001b[39m\u001b[38;5;124m'\u001b[39m]\u001b[38;5;241m.\u001b[39mcount()\n\u001b[0;32m      2\u001b[0m win_rate \u001b[38;5;241m=\u001b[39m \u001b[38;5;28mround\u001b[39m(number_of_profits\u001b[38;5;241m/\u001b[39m\u001b[38;5;28mlen\u001b[39m(trade_log), \u001b[38;5;241m2\u001b[39m)\n\u001b[0;32m      3\u001b[0m win_rate\n",
      "\u001b[1;31mNameError\u001b[0m: name 'trade_log' is not defined"
     ]
    }
   ],
   "source": [
    "number_of_profits = trade_log[trade_log['profit'] > 0]['profit'].count()\n",
    "win_rate = round(number_of_profits/len(trade_log), 2)\n",
    "win_rate"
   ]
  },
  {
   "cell_type": "code",
   "execution_count": 30,
   "metadata": {},
   "outputs": [
    {
     "name": "stderr",
     "output_type": "stream",
     "text": [
      "C:\\Users\\Nathan\\AppData\\Local\\Temp\\ipykernel_5348\\1527628740.py:1: FutureWarning: 'M' is deprecated and will be removed in a future version, please use 'ME' instead.\n",
      "  monthly_return = daily['strategy_return'].resample('1M').sum()\n"
     ]
    },
    {
     "data": {
      "text/plain": [
       "0.7"
      ]
     },
     "execution_count": 30,
     "metadata": {},
     "output_type": "execute_result"
    }
   ],
   "source": [
    "monthly_return = daily['strategy_return'].resample('1M').sum()\n",
    "winning_months = round(monthly_return[monthly_return > 0].count() / len(monthly_return), 1)\n",
    "winning_months"
   ]
  },
  {
   "cell_type": "markdown",
   "metadata": {},
   "source": [
    "**All stats**"
   ]
  },
  {
   "cell_type": "code",
   "execution_count": 31,
   "metadata": {},
   "outputs": [
    {
     "ename": "NameError",
     "evalue": "name 'time_in_market' is not defined",
     "output_type": "error",
     "traceback": [
      "\u001b[1;31m---------------------------------------------------------------------------\u001b[0m",
      "\u001b[1;31mNameError\u001b[0m                                 Traceback (most recent call last)",
      "Cell \u001b[1;32mIn[31], line 7\u001b[0m\n\u001b[0;32m      1\u001b[0m statistics \u001b[38;5;241m=\u001b[39m {\u001b[38;5;124m'\u001b[39m\u001b[38;5;124mAnnual return\u001b[39m\u001b[38;5;124m'\u001b[39m: annual_return,\n\u001b[0;32m      2\u001b[0m               \u001b[38;5;124m'\u001b[39m\u001b[38;5;124mSharpe\u001b[39m\u001b[38;5;124m'\u001b[39m: sharpe,\n\u001b[0;32m      3\u001b[0m               \u001b[38;5;124m'\u001b[39m\u001b[38;5;124mSortina\u001b[39m\u001b[38;5;124m'\u001b[39m: sortina,\n\u001b[0;32m      4\u001b[0m               \u001b[38;5;124m'\u001b[39m\u001b[38;5;124mAlpha\u001b[39m\u001b[38;5;124m'\u001b[39m: alpha,\n\u001b[0;32m      5\u001b[0m               \u001b[38;5;124m'\u001b[39m\u001b[38;5;124mBeta\u001b[39m\u001b[38;5;124m'\u001b[39m: beta,\n\u001b[0;32m      6\u001b[0m               \u001b[38;5;124m'\u001b[39m\u001b[38;5;124mWinning months\u001b[39m\u001b[38;5;124m'\u001b[39m: winning_months,\n\u001b[1;32m----> 7\u001b[0m               \u001b[38;5;124m'\u001b[39m\u001b[38;5;124mExposure\u001b[39m\u001b[38;5;124m'\u001b[39m: \u001b[43mtime_in_market\u001b[49m,\n\u001b[0;32m      8\u001b[0m               \u001b[38;5;124m'\u001b[39m\u001b[38;5;124mAverage profit\u001b[39m\u001b[38;5;124m'\u001b[39m: average_profit_per_trade,\n\u001b[0;32m      9\u001b[0m               \u001b[38;5;124m'\u001b[39m\u001b[38;5;124mAverage time/trade\u001b[39m\u001b[38;5;124m'\u001b[39m: average_time_in_trade,\n\u001b[0;32m     10\u001b[0m               \u001b[38;5;124m'\u001b[39m\u001b[38;5;124mProfit factor\u001b[39m\u001b[38;5;124m'\u001b[39m: profit_factor,\n\u001b[0;32m     11\u001b[0m               \u001b[38;5;124m'\u001b[39m\u001b[38;5;124mWinrate\u001b[39m\u001b[38;5;124m'\u001b[39m: win_rate,\n\u001b[0;32m     12\u001b[0m               \u001b[38;5;124m'\u001b[39m\u001b[38;5;124mTrades/month\u001b[39m\u001b[38;5;124m'\u001b[39m: trades_per_month}\n\u001b[0;32m     13\u001b[0m statistics\n",
      "\u001b[1;31mNameError\u001b[0m: name 'time_in_market' is not defined"
     ]
    }
   ],
   "source": [
    "statistics = {'Annual return': annual_return,\n",
    "              'Sharpe': sharpe,\n",
    "              'Sortina': sortina,\n",
    "              'Alpha': alpha,\n",
    "              'Beta': beta,\n",
    "              'Winning months': winning_months,\n",
    "              'Exposure': time_in_market,\n",
    "              'Average profit': average_profit_per_trade,\n",
    "              'Average time/trade': average_time_in_trade,\n",
    "              'Profit factor': profit_factor,\n",
    "              'Winrate': win_rate,\n",
    "              'Trades/month': trades_per_month}\n",
    "statistics"
   ]
  },
  {
   "cell_type": "markdown",
   "metadata": {},
   "source": [
    "**Plots**"
   ]
  },
  {
   "cell_type": "code",
   "execution_count": 32,
   "metadata": {},
   "outputs": [
    {
     "name": "stderr",
     "output_type": "stream",
     "text": [
      "C:\\Users\\Nathan\\AppData\\Local\\Temp\\ipykernel_5348\\2700281077.py:16: FutureWarning: 'M' is deprecated and will be removed in a future version, please use 'ME' instead.\n",
      "  monthly_return = daily['strategy_return'].resample('1M').sum()\n"
     ]
    },
    {
     "data": {
      "image/png": "[encoded data removed]",
      "text/plain": [
       "<Figure size 640x480 with 3 Axes>"
      ]
     },
     "metadata": {},
     "output_type": "display_data"
    }
   ],
   "source": [
    "fig, (ax1, ax2, ax3) = plt.subplots(nrows=3, gridspec_kw={'height_ratios': [2, 1, 1]})\n",
    "fig.suptitle('IBS',fontsize=16)\n",
    "fig.tight_layout(pad=1.5)\n",
    "\n",
    "# Returns\n",
    "ax1.plot(daily.index, daily[\"strategy_cumulative_return\"]*100, color=\"midnightblue\", linewidth=1)\n",
    "ax1.yaxis.set_major_formatter(mtick.PercentFormatter(decimals=0))\n",
    "ax1.set_title('Total return', fontsize=10, fontweight='bold')\n",
    "\n",
    "# Drawdown\n",
    "ax2.plot(drawdowns.index, drawdowns*100, color=\"firebrick\", linewidth=1)\n",
    "ax2.yaxis.set_major_formatter(mtick.PercentFormatter(decimals=0))\n",
    "ax2.set_title('Drawdown', fontsize=10, fontweight='bold')\n",
    "\n",
    "# Monthly returns\n",
    "monthly_return = daily['strategy_return'].resample('1M').sum()\n",
    "colors = ['firebrick' if ret < 0 else 'g' for ret in monthly_return]\n",
    "monthly_return_index = monthly_return.index.values\n",
    "monthly_return_index[0] = daily.index[0] # To make the x-axis align\n",
    "monthly_return_index[-1] = daily.index[-1] # To make the x-axis align\n",
    "\n",
    "ax3.bar(monthly_return.index, monthly_return.values*100, width=15, color=colors)\n",
    "ax3.yaxis.set_major_formatter(mtick.PercentFormatter(decimals=0))\n",
    "ax3.set_title('Monthly returns', fontsize=10, fontweight='bold')\n",
    "\n",
    "plt.show()"
   ]
  },
  {
   "cell_type": "code",
   "execution_count": null,
   "metadata": {},
   "outputs": [],
   "source": []
  }
 ],
 "metadata": {
  "kernelspec": {
   "display_name": "algotrading",
   "language": "python",
   "name": "python3"
  },
  "language_info": {
   "codemirror_mode": {
    "name": "ipython",
    "version": 3
   },
   "file_extension": ".py",
   "mimetype": "text/x-python",
   "name": "python",
   "nbconvert_exporter": "python",
   "pygments_lexer": "ipython3",
   "version": "3.11.4"
  }
 },
 "nbformat": 4,
 "nbformat_minor": 2
}
