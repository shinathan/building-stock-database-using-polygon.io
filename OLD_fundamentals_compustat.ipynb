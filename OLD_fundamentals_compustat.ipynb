{
 "cells": [
  {
   "cell_type": "markdown",
   "metadata": {},
   "source": [
    "# Fundamentals using Compustat\n",
    "**I have decided to not use Compustat data for fundamentals as there are a lot of missing values.** This is surprising as Compustat is research-grade data. Maybe I did something wrong with my code, or Polygon's cik data is bad."
   ]
  },
  {
   "cell_type": "code",
   "execution_count": 1,
   "metadata": {},
   "outputs": [],
   "source": [
    "from datetime import datetime, date, time, timedelta\n",
    "from times import get_market_dates, get_market_calendar, last_trading_date_before\n",
    "from data import get_data\n",
    "from tickers import get_tickers\n",
    "from polygon.rest import RESTClient\n",
    "import json\n",
    "import numpy as np\n",
    "import ast\n",
    "import pandas as pd"
   ]
  },
  {
   "cell_type": "markdown",
   "metadata": {},
   "source": [
    "### Calculating market cap "
   ]
  },
  {
   "cell_type": "code",
   "execution_count": 19,
   "metadata": {},
   "outputs": [],
   "source": [
    "fundamentals = pd.read_csv('../data/other/compustat.csv')\n",
    "fundamentals['marketcap_M'] = fundamentals['cshoq'] * fundamentals['prccq']\n",
    "fundamentals = fundamentals[fundamentals['curcdq'] == 'USD']\n",
    "fundamentals.to_csv('../data/other/compustat.csv', index=False)"
   ]
  },
  {
   "cell_type": "code",
   "execution_count": 21,
   "metadata": {},
   "outputs": [
    {
     "data": {
      "text/html": [
       "<div>\n",
       "<style scoped>\n",
       "    .dataframe tbody tr th:only-of-type {\n",
       "        vertical-align: middle;\n",
       "    }\n",
       "\n",
       "    .dataframe tbody tr th {\n",
       "        vertical-align: top;\n",
       "    }\n",
       "\n",
       "    .dataframe thead th {\n",
       "        text-align: right;\n",
       "    }\n",
       "</style>\n",
       "<table border=\"1\" class=\"dataframe\">\n",
       "  <thead>\n",
       "    <tr style=\"text-align: right;\">\n",
       "      <th></th>\n",
       "      <th>gvkey</th>\n",
       "      <th>datadate</th>\n",
       "      <th>tic</th>\n",
       "      <th>cusip</th>\n",
       "      <th>conm</th>\n",
       "      <th>curcdq</th>\n",
       "      <th>cshoq</th>\n",
       "      <th>epsfxq</th>\n",
       "      <th>exchg</th>\n",
       "      <th>costat</th>\n",
       "      <th>fic</th>\n",
       "      <th>prccq</th>\n",
       "      <th>loc</th>\n",
       "      <th>marketcap_M</th>\n",
       "    </tr>\n",
       "    <tr>\n",
       "      <th>cik</th>\n",
       "      <th></th>\n",
       "      <th></th>\n",
       "      <th></th>\n",
       "      <th></th>\n",
       "      <th></th>\n",
       "      <th></th>\n",
       "      <th></th>\n",
       "      <th></th>\n",
       "      <th></th>\n",
       "      <th></th>\n",
       "      <th></th>\n",
       "      <th></th>\n",
       "      <th></th>\n",
       "      <th></th>\n",
       "    </tr>\n",
       "  </thead>\n",
       "  <tbody>\n",
       "    <tr>\n",
       "      <th>320193</th>\n",
       "      <td>1690</td>\n",
       "      <td>2000-03-31</td>\n",
       "      <td>AAPL</td>\n",
       "      <td>37833100</td>\n",
       "      <td>APPLE INC</td>\n",
       "      <td>USD</td>\n",
       "      <td>162.680</td>\n",
       "      <td>1.28</td>\n",
       "      <td>14.0</td>\n",
       "      <td>A</td>\n",
       "      <td>USA</td>\n",
       "      <td>135.8125</td>\n",
       "      <td>USA</td>\n",
       "      <td>22093.97750</td>\n",
       "    </tr>\n",
       "    <tr>\n",
       "      <th>320193</th>\n",
       "      <td>1690</td>\n",
       "      <td>2000-06-30</td>\n",
       "      <td>AAPL</td>\n",
       "      <td>37833100</td>\n",
       "      <td>APPLE INC</td>\n",
       "      <td>USD</td>\n",
       "      <td>324.826</td>\n",
       "      <td>0.55</td>\n",
       "      <td>14.0</td>\n",
       "      <td>A</td>\n",
       "      <td>USA</td>\n",
       "      <td>52.3750</td>\n",
       "      <td>USA</td>\n",
       "      <td>17012.76175</td>\n",
       "    </tr>\n",
       "    <tr>\n",
       "      <th>320193</th>\n",
       "      <td>1690</td>\n",
       "      <td>2000-09-30</td>\n",
       "      <td>AAPL</td>\n",
       "      <td>37833100</td>\n",
       "      <td>APPLE INC</td>\n",
       "      <td>USD</td>\n",
       "      <td>335.677</td>\n",
       "      <td>0.47</td>\n",
       "      <td>14.0</td>\n",
       "      <td>A</td>\n",
       "      <td>USA</td>\n",
       "      <td>25.7500</td>\n",
       "      <td>USA</td>\n",
       "      <td>8643.68275</td>\n",
       "    </tr>\n",
       "  </tbody>\n",
       "</table>\n",
       "</div>"
      ],
      "text/plain": [
       "        gvkey    datadate   tic     cusip       conm curcdq    cshoq  epsfxq  \\\n",
       "cik                                                                            \n",
       "320193   1690  2000-03-31  AAPL  37833100  APPLE INC    USD  162.680    1.28   \n",
       "320193   1690  2000-06-30  AAPL  37833100  APPLE INC    USD  324.826    0.55   \n",
       "320193   1690  2000-09-30  AAPL  37833100  APPLE INC    USD  335.677    0.47   \n",
       "\n",
       "        exchg costat  fic     prccq  loc  marketcap_M  \n",
       "cik                                                    \n",
       "320193   14.0      A  USA  135.8125  USA  22093.97750  \n",
       "320193   14.0      A  USA   52.3750  USA  17012.76175  \n",
       "320193   14.0      A  USA   25.7500  USA   8643.68275  "
      ]
     },
     "execution_count": 21,
     "metadata": {},
     "output_type": "execute_result"
    }
   ],
   "source": [
    "fundamentals = pd.read_csv('../data/other/compustat.csv', index_col='cik')\n",
    "fundamentals.index = fundamentals.index.fillna(0).astype(int)\n",
    "fundamentals['datadate'] = pd.to_datetime(fundamentals['datadate']).dt.date\n",
    "fundamentals.loc[320193].head(3)"
   ]
  },
  {
   "cell_type": "code",
   "execution_count": null,
   "metadata": {},
   "outputs": [],
   "source": [
    "rows = [] # List of dataframes\n",
    "tickers = get_tickers(4, types=['CS', 'ADRC'])\n",
    "for index, row in tickers.iterrows():\n",
    "    id = row['ID']\n",
    "    ticker = id[:-11]\n",
    "\n",
    "    country = row['country']\n",
    "    cik = row['cik']\n",
    "    sic = row['sic']\n",
    "    start_data = row['start_data']\n",
    "    end_data = row['end_data']\n",
    "\n",
    "    if pd.isna(cik):\n",
    "        continue\n",
    "\n",
    "    try:\n",
    "        stock_fundamentals = fundamentals.loc[cik]\n",
    "    except KeyError:\n",
    "        continue\n",
    "    if isinstance(stock_fundamentals, pd.Series):\n",
    "        stock_fundamentals = fundamentals.loc[[cik]]\n",
    "\n",
    "    stock_fundamentals = stock_fundamentals[(stock_fundamentals.datadate >= start_data) & \\\n",
    "        (stock_fundamentals.datadate <= end_data)]\n",
    "        \n",
    "    stock_fundamentals = stock_fundamentals[['datadate', 'marketcap_M']]\n",
    "    stock_fundamentals = stock_fundamentals.rename(columns={'datadate': 'date'})\n",
    "    stock_fundamentals.index = [id] * len(stock_fundamentals)\n",
    "\n",
    "    stock_fundamentals['country'] = country\n",
    "    stock_fundamentals['sic'] = sic\n",
    "            \n",
    "    rows.append(stock_fundamentals)\n",
    "    print(index)\n",
    "\n",
    "market_cap_df = pd.concat(rows)\n",
    "market_cap_df.index.names = ['ID']\n",
    "market_cap_df.to_csv('../data/other/compustat_processed.csv')"
   ]
  },
  {
   "cell_type": "code",
   "execution_count": 5,
   "metadata": {},
   "outputs": [
    {
     "name": "stdout",
     "output_type": "stream",
     "text": [
      "Amount of tickers: 17647\n",
      "Amount of stocks with marketcap: 12654\n"
     ]
    }
   ],
   "source": [
    "fundamentals = pd.read_csv('../data/other/compustat_processed.csv')\n",
    "grouped_by_marketcap = fundamentals.groupby('ID').agg({'marketcap_M': 'last'}).dropna()\n",
    "\n",
    "print(f'Amount of tickers: {len(tickers)}')\n",
    "print(f\"Amount of stocks with marketcap: {len(grouped_by_marketcap)}\")"
   ]
  },
  {
   "cell_type": "code",
   "execution_count": 6,
   "metadata": {},
   "outputs": [],
   "source": [
    "no_market_cap_tickers = []\n",
    "for index, row in get_tickers(4, types=['CS', 'ADRC']).iterrows():\n",
    "    id = row['ID']\n",
    "    if id not in grouped_by_marketcap.index:\n",
    "        no_market_cap_tickers.append(id)\n",
    "\n",
    "no_market_cap = tickers[tickers['ID'].isin(no_market_cap_tickers)]\\\n",
    "    [['ID', 'name', 'start_data', 'end_data', 'type', 'cik', 'composite_figi']]\n",
    "no_market_cap.to_csv('../data/other/COMPUSTAT_no_marketcap.csv')"
   ]
  },
  {
   "cell_type": "markdown",
   "metadata": {},
   "source": [
    "I have decided to not use Compustat data. (And I will lose access anyways)"
   ]
  },
  {
   "cell_type": "markdown",
   "metadata": {},
   "source": []
  }
 ],
 "metadata": {
  "kernelspec": {
   "display_name": "algotrading",
   "language": "python",
   "name": "python3"
  },
  "language_info": {
   "codemirror_mode": {
    "name": "ipython",
    "version": 3
   },
   "file_extension": ".py",
   "mimetype": "text/x-python",
   "name": "python",
   "nbconvert_exporter": "python",
   "pygments_lexer": "ipython3",
   "version": "3.11.4"
  }
 },
 "nbformat": 4,
 "nbformat_minor": 2
}
