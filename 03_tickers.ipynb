{
 "cells": [
  {
   "cell_type": "markdown",
   "metadata": {},
   "source": [
    "# 3.1 Tickers\n",
    "The goal is to solve the problems of the Polygon ticker lists in the introduction. Before we do that we will download the ticker list for all days from Polygon and store them into the map <code>tickers</code>."
   ]
  },
  {
   "cell_type": "code",
   "execution_count": 22,
   "metadata": {},
   "outputs": [],
   "source": [
    "###\n",
    "from polygon.rest import RESTClient\n",
    "from datetime import datetime, date, time, timedelta\n",
    "from pytz import timezone\n",
    "from functools import lru_cache\n",
    "from times import get_market_dates, first_trading_date_after, last_trading_date_before, first_trading_date_after_equal, last_trading_date_before_equal\n",
    "import os\n",
    "import pytz\n",
    "import pandas as pd\n",
    "import numpy as np\n",
    "import plotly.graph_objects as go\n",
    "import mplfinance as mpf\n",
    "\n",
    "POLYGON_DATA_PATH = \"../data/polygon/\"\n",
    "\n",
    "START_DATE = date(2019, 6, 1)\n",
    "END_DATE = date(2024, 3, 1)\n",
    "\n",
    "with open(POLYGON_DATA_PATH + \"secret.txt\") as f:\n",
    "    KEY = next(f).strip()\n",
    "\n",
    "client = RESTClient(api_key=KEY)"
   ]
  },
  {
   "cell_type": "markdown",
   "metadata": {},
   "source": [
    "First, I will create a function to download the ticker for a specific date."
   ]
  },
  {
   "cell_type": "code",
   "execution_count": 23,
   "metadata": {},
   "outputs": [],
   "source": [
    "###\n",
    "def download_tickers(day):\n",
    "    \"\"\"Retrieve the ticker list for a specific date\n",
    "\n",
    "    Args:\n",
    "        day (Date): the Date for which to download the ticker list\n",
    "\n",
    "    Returns:\n",
    "        DataFrame: the ticker list\n",
    "    \"\"\"\n",
    "    \n",
    "    date_iso = day.isoformat()\n",
    "\n",
    "    ticker_list_iterator_active = client.list_tickers(type=\"CS\", date=date_iso, active=True, market='stocks', limit=1000)\n",
    "    ticker_list_iterator_delisted = client.list_tickers(type=\"CS\", date=date_iso, active=False, market='stocks', limit=1000)\n",
    "    ticker_list_iterator_active_adr = client.list_tickers(type=\"ADRC\", date=date_iso, active=True, market='stocks', limit=1000)\n",
    "    ticker_list_iterator_delisted_adr = client.list_tickers(type=\"ADRC\", date=date_iso, active=False, market='stocks', limit=1000)\n",
    "    tickers_active = pd.DataFrame(ticker_list_iterator_active)\n",
    "    tickers_delisted = pd.DataFrame(ticker_list_iterator_delisted)\n",
    "    tickers_active_adr = pd.DataFrame(ticker_list_iterator_active_adr)\n",
    "    tickers_delisted_adr = pd.DataFrame(ticker_list_iterator_delisted_adr)\n",
    "\n",
    "    tickers_all = pd.concat([tickers_active, tickers_delisted, tickers_active_adr, tickers_delisted_adr])\n",
    "    tickers_all.sort_values(by = \"ticker\", inplace=True)\n",
    "    tickers_all.reset_index(inplace=True, drop=True)\n",
    "    return tickers_all[['ticker', 'name', 'active', 'delisted_utc', 'last_updated_utc', 'cik', 'composite_figi', 'type']]"
   ]
  },
  {
   "cell_type": "markdown",
   "metadata": {},
   "source": [
    "Then all ticker lists are downloaded and stored in the <code>raw/tickers/</code> map. But only the one that we need if we already have some."
   ]
  },
  {
   "cell_type": "code",
   "execution_count": 24,
   "metadata": {},
   "outputs": [],
   "source": [
    "###\n",
    "# Get a list of what we already have\n",
    "files = os.listdir(POLYGON_DATA_PATH + 'raw/tickers')\n",
    "available_dates = [date.fromisoformat(file.replace(\".csv\", \"\")) for file in files]\n",
    "\n",
    "trading_dates = get_market_dates()\n",
    "for day in trading_dates:\n",
    "    # Only download what we do not have\n",
    "    if day >= START_DATE and day <= END_DATE and day not in available_dates:\n",
    "        tickers = download_tickers(day)\n",
    "        tickers.to_csv(POLYGON_DATA_PATH + f\"raw/tickers/{day.isoformat()}.csv\")\n",
    "        print(f\"Downloaded tickers for {day.isoformat()}\")"
   ]
  },
  {
   "cell_type": "markdown",
   "metadata": {},
   "source": [
    "A random ticker list:"
   ]
  },
  {
   "cell_type": "code",
   "execution_count": 25,
   "metadata": {},
   "outputs": [
    {
     "data": {
      "text/html": [
       "<div>\n",
       "<style scoped>\n",
       "    .dataframe tbody tr th:only-of-type {\n",
       "        vertical-align: middle;\n",
       "    }\n",
       "\n",
       "    .dataframe tbody tr th {\n",
       "        vertical-align: top;\n",
       "    }\n",
       "\n",
       "    .dataframe thead th {\n",
       "        text-align: right;\n",
       "    }\n",
       "</style>\n",
       "<table border=\"1\" class=\"dataframe\">\n",
       "  <thead>\n",
       "    <tr style=\"text-align: right;\">\n",
       "      <th></th>\n",
       "      <th>ticker</th>\n",
       "      <th>name</th>\n",
       "      <th>active</th>\n",
       "      <th>delisted_utc</th>\n",
       "      <th>last_updated_utc</th>\n",
       "      <th>cik</th>\n",
       "      <th>composite_figi</th>\n",
       "      <th>type</th>\n",
       "    </tr>\n",
       "  </thead>\n",
       "  <tbody>\n",
       "    <tr>\n",
       "      <th>0</th>\n",
       "      <td>A</td>\n",
       "      <td>Agilent Technologies Inc.</td>\n",
       "      <td>True</td>\n",
       "      <td>NaN</td>\n",
       "      <td>2022-06-14T00:00:00Z</td>\n",
       "      <td>1090872.0</td>\n",
       "      <td>BBG000C2V3D6</td>\n",
       "      <td>CS</td>\n",
       "    </tr>\n",
       "    <tr>\n",
       "      <th>1</th>\n",
       "      <td>AA</td>\n",
       "      <td>Alcoa, Inc.</td>\n",
       "      <td>False</td>\n",
       "      <td>2016-11-01T00:00:00Z</td>\n",
       "      <td>2016-11-01T00:00:00Z</td>\n",
       "      <td>4281.0</td>\n",
       "      <td>NaN</td>\n",
       "      <td>CS</td>\n",
       "    </tr>\n",
       "    <tr>\n",
       "      <th>2</th>\n",
       "      <td>AA</td>\n",
       "      <td>ALCOA INC</td>\n",
       "      <td>False</td>\n",
       "      <td>2016-10-07T00:00:00Z</td>\n",
       "      <td>2016-10-07T00:00:00Z</td>\n",
       "      <td>4281.0</td>\n",
       "      <td>NaN</td>\n",
       "      <td>CS</td>\n",
       "    </tr>\n",
       "  </tbody>\n",
       "</table>\n",
       "</div>"
      ],
      "text/plain": [
       "  ticker                       name  active          delisted_utc  \\\n",
       "0      A  Agilent Technologies Inc.    True                   NaN   \n",
       "1     AA                Alcoa, Inc.   False  2016-11-01T00:00:00Z   \n",
       "2     AA                  ALCOA INC   False  2016-10-07T00:00:00Z   \n",
       "\n",
       "       last_updated_utc        cik composite_figi type  \n",
       "0  2022-06-14T00:00:00Z  1090872.0   BBG000C2V3D6   CS  \n",
       "1  2016-11-01T00:00:00Z     4281.0            NaN   CS  \n",
       "2  2016-10-07T00:00:00Z     4281.0            NaN   CS  "
      ]
     },
     "execution_count": 25,
     "metadata": {},
     "output_type": "execute_result"
    }
   ],
   "source": [
    "pd.read_csv(POLYGON_DATA_PATH + f\"raw/tickers/2022-06-09.csv\", index_col=0).head(3)"
   ]
  },
  {
   "cell_type": "markdown",
   "metadata": {},
   "source": [
    "We observe that the <code>last_updated_utc</code> does not match the date of the ticker list. For example for \"A\", this date is *after* 2022-06-09. So this value is not point-in-time. Nevertheless, this value is useless for us because we only use the data to determine the delisting date. Neither do we need <code>delisted_utc</code> for the same reason.\n",
    "\n",
    "Later when we do have data, we will create a new column <code>start_data</code> and <code>end_data</code> which gives the start and end dates from the available data."
   ]
  },
  {
   "cell_type": "markdown",
   "metadata": {},
   "source": [
    "# 3.2 Building the tickers loop\n",
    "Now we can finally create our ticker list, which includes all tickers. The process involves looping over all Polygon ticker lists and updating our own one. First some notation: T is our ticker list that we iteratively update using Polygons ticker list. P(i) is the Polygon ticker list from day *i*. \n",
    "\n",
    "1. On day 1, our ticker list is the same as the one from Polygon, but with some extra columns. We create a column <code>start_date</code> which is day 1 and <code>end_date</code> with is empty. We are only interested in stocks that were active on that day.\n",
    "2. For all *i = 2 ... n* days, for the active stocks:\n",
    "    * **Delistings**: The stocks that are in T but not in P(i) are the stocks that are removed by Polygon (e.g. FB). For these tickers we set the <code>end_date</code> in T to day *i-1*. \n",
    "    * **New listings**: The stocks that are in P(i) but not in T are the new listings. We will append the new stock to T and set the start_date to day *i*.\n",
    "    * **Everything else**: The stocks that are both in P(i) and T are the stocks that 'continue their listings'. We do nothing.\n",
    "\n",
    "Two tickers are the 'same' if all fields except <code>last_updated_utc</code> or <code>delisted_utc</code> are the same.\n",
    "\n",
    "For testing, we will start with 2022-06-08 and update to 2022-06-09. Both FB and META should then be included with the correct start and end dates. The start and end date of FB should be 2022-06-08 and the start date of META should be 2022-06-09. The end date of META should be empty."
   ]
  },
  {
   "cell_type": "code",
   "execution_count": 26,
   "metadata": {},
   "outputs": [],
   "source": [
    "day_1 = date(2022, 6, 8)\n",
    "day_2 = date(2022, 6, 9)\n",
    "\n",
    "our_tickers = pd.read_csv(\n",
    "    POLYGON_DATA_PATH + f\"raw/tickers/{day_1.isoformat()}.csv\",\n",
    "    index_col=0,\n",
    ")\n",
    "our_tickers = our_tickers[[\"ticker\", \"name\", \"active\", \"cik\", \"composite_figi\", \"type\"]]\n",
    "our_tickers = our_tickers[our_tickers[\"active\"] == True]\n",
    "our_tickers.reset_index(inplace=True, drop=True)\n",
    "\n",
    "our_tickers[\"start_date\"] = day_1\n",
    "our_tickers[\"end_date\"] = pd.NaT\n",
    "\n",
    "tickers_day_2 = pd.read_csv(\n",
    "    POLYGON_DATA_PATH + f\"raw/tickers/{day_2.isoformat()}.csv\",\n",
    "    index_col=0,\n",
    ")\n",
    "tickers_day_2 = tickers_day_2[[\"ticker\", \"name\", \"active\", \"cik\", \"composite_figi\", \"type\"]]\n",
    "tickers_day_2 = tickers_day_2[tickers_day_2[\"active\"] == True]\n",
    "tickers_day_2.reset_index(inplace=True, drop=True)"
   ]
  },
  {
   "cell_type": "code",
   "execution_count": 27,
   "metadata": {},
   "outputs": [
    {
     "data": {
      "text/html": [
       "<div>\n",
       "<style scoped>\n",
       "    .dataframe tbody tr th:only-of-type {\n",
       "        vertical-align: middle;\n",
       "    }\n",
       "\n",
       "    .dataframe tbody tr th {\n",
       "        vertical-align: top;\n",
       "    }\n",
       "\n",
       "    .dataframe thead th {\n",
       "        text-align: right;\n",
       "    }\n",
       "</style>\n",
       "<table border=\"1\" class=\"dataframe\">\n",
       "  <thead>\n",
       "    <tr style=\"text-align: right;\">\n",
       "      <th></th>\n",
       "      <th>ticker</th>\n",
       "      <th>name</th>\n",
       "      <th>active</th>\n",
       "      <th>cik</th>\n",
       "      <th>composite_figi</th>\n",
       "      <th>type</th>\n",
       "      <th>start_date</th>\n",
       "      <th>end_date</th>\n",
       "    </tr>\n",
       "  </thead>\n",
       "  <tbody>\n",
       "    <tr>\n",
       "      <th>0</th>\n",
       "      <td>A</td>\n",
       "      <td>Agilent Technologies Inc.</td>\n",
       "      <td>True</td>\n",
       "      <td>1090872.0</td>\n",
       "      <td>BBG000C2V3D6</td>\n",
       "      <td>CS</td>\n",
       "      <td>2022-06-08</td>\n",
       "      <td>NaT</td>\n",
       "    </tr>\n",
       "    <tr>\n",
       "      <th>1</th>\n",
       "      <td>AA</td>\n",
       "      <td>Alcoa Corporation</td>\n",
       "      <td>True</td>\n",
       "      <td>1675149.0</td>\n",
       "      <td>BBG00B3T3HD3</td>\n",
       "      <td>CS</td>\n",
       "      <td>2022-06-08</td>\n",
       "      <td>NaT</td>\n",
       "    </tr>\n",
       "  </tbody>\n",
       "</table>\n",
       "</div>"
      ],
      "text/plain": [
       "  ticker                       name  active        cik composite_figi type  \\\n",
       "0      A  Agilent Technologies Inc.    True  1090872.0   BBG000C2V3D6   CS   \n",
       "1     AA          Alcoa Corporation    True  1675149.0   BBG00B3T3HD3   CS   \n",
       "\n",
       "   start_date end_date  \n",
       "0  2022-06-08      NaT  \n",
       "1  2022-06-08      NaT  "
      ]
     },
     "execution_count": 27,
     "metadata": {},
     "output_type": "execute_result"
    }
   ],
   "source": [
    "our_tickers.head(2)"
   ]
  },
  {
   "cell_type": "code",
   "execution_count": 28,
   "metadata": {},
   "outputs": [
    {
     "data": {
      "text/html": [
       "<div>\n",
       "<style scoped>\n",
       "    .dataframe tbody tr th:only-of-type {\n",
       "        vertical-align: middle;\n",
       "    }\n",
       "\n",
       "    .dataframe tbody tr th {\n",
       "        vertical-align: top;\n",
       "    }\n",
       "\n",
       "    .dataframe thead th {\n",
       "        text-align: right;\n",
       "    }\n",
       "</style>\n",
       "<table border=\"1\" class=\"dataframe\">\n",
       "  <thead>\n",
       "    <tr style=\"text-align: right;\">\n",
       "      <th></th>\n",
       "      <th>ticker</th>\n",
       "      <th>name</th>\n",
       "      <th>active</th>\n",
       "      <th>cik</th>\n",
       "      <th>composite_figi</th>\n",
       "      <th>type</th>\n",
       "    </tr>\n",
       "  </thead>\n",
       "  <tbody>\n",
       "    <tr>\n",
       "      <th>0</th>\n",
       "      <td>A</td>\n",
       "      <td>Agilent Technologies Inc.</td>\n",
       "      <td>True</td>\n",
       "      <td>1090872.0</td>\n",
       "      <td>BBG000C2V3D6</td>\n",
       "      <td>CS</td>\n",
       "    </tr>\n",
       "    <tr>\n",
       "      <th>1</th>\n",
       "      <td>AA</td>\n",
       "      <td>Alcoa Corporation</td>\n",
       "      <td>True</td>\n",
       "      <td>1675149.0</td>\n",
       "      <td>BBG00B3T3HD3</td>\n",
       "      <td>CS</td>\n",
       "    </tr>\n",
       "  </tbody>\n",
       "</table>\n",
       "</div>"
      ],
      "text/plain": [
       "  ticker                       name  active        cik composite_figi type\n",
       "0      A  Agilent Technologies Inc.    True  1090872.0   BBG000C2V3D6   CS\n",
       "1     AA          Alcoa Corporation    True  1675149.0   BBG00B3T3HD3   CS"
      ]
     },
     "execution_count": 28,
     "metadata": {},
     "output_type": "execute_result"
    }
   ],
   "source": [
    "tickers_day_2.head(2)"
   ]
  },
  {
   "cell_type": "markdown",
   "metadata": {},
   "source": [
    "Preliminary check for duplicates"
   ]
  },
  {
   "cell_type": "code",
   "execution_count": 29,
   "metadata": {},
   "outputs": [],
   "source": [
    "# Preliminary check: no duplicates\n",
    "if our_tickers[[\"ticker\", \"name\", \"active\", \"cik\", \"composite_figi\", \"type\"]].duplicated().any():\n",
    "    raise Exception(\"There are duplicates!\")\n",
    "\n",
    "if tickers_day_2[[\"ticker\", \"name\", \"active\", \"cik\", \"composite_figi\", \"type\"]].duplicated().any():\n",
    "    raise Exception(\"There are duplicates!\")"
   ]
  },
  {
   "cell_type": "markdown",
   "metadata": {},
   "source": [
    "We will first get the delisting and new listings. (Nothing has to be done with the kept listings)."
   ]
  },
  {
   "cell_type": "code",
   "execution_count": 30,
   "metadata": {},
   "outputs": [],
   "source": [
    "# DELISTINGS: Get tickers that are in T but not in P(2). This is actually not straightforward (https://stackoverflow.com/questions/28901683/pandas-get-rows-which-are-not-in-other-dataframe). We need to get the rows in tickers_day_2 that are not in our_tickers. We will use the merge function but specifying indicator=True and use a left merge (tickers_day_2 left merge to our_tickers). What gets returned is a dataframe with the flags \"left_only\", \"right_only\" and \"both\". If the indicator is \"left_only\", it means that it existed in only in the left DataFrame (our_tickers). This is exactly what we need. \n",
    "indicator_delisted = our_tickers[[\"ticker\", \"name\", \"active\", \"cik\", \"composite_figi\", \"type\"]].merge(tickers_day_2[[\"ticker\", \"name\", \"active\", \"cik\", \"composite_figi\", \"type\"]], on=[\"ticker\", \"name\", \"active\", \"cik\", \"composite_figi\", \"type\"], \n",
    "                   how='left', indicator=True)\n",
    "indicator_delisted = indicator_delisted[\"_merge\"] # Only get the indicator\n",
    "\n",
    "delisted_tickers = our_tickers[indicator_delisted == \"left_only\"] # Only get the delisted tickers\n",
    "\n",
    "# NEW LISTINGS: Swap the DataFrames\n",
    "indicator_new = tickers_day_2[[\"ticker\", \"name\", \"active\", \"cik\", \"composite_figi\", \"type\"]].merge(our_tickers[[\"ticker\", \"name\", \"active\", \"cik\", \"composite_figi\", \"type\"]], on=[\"ticker\", \"name\", \"active\", \"cik\", \"composite_figi\", \"type\"], \n",
    "                   how='left', indicator=True)\n",
    "indicator_new = indicator_new[\"_merge\"]\n",
    "new_tickers = tickers_day_2[indicator_new == \"left_only\"]\n",
    "\n",
    "# KEPT LISTINGS\n",
    "current_tickers = our_tickers[indicator_delisted == \"both\"]\n",
    "# current_tickers = tickers_day_2[indicator_new == \"both\"] # It does not matter which one we choose"
   ]
  },
  {
   "cell_type": "code",
   "execution_count": 31,
   "metadata": {},
   "outputs": [
    {
     "name": "stdout",
     "output_type": "stream",
     "text": [
      "6\n"
     ]
    },
    {
     "data": {
      "text/html": [
       "<div>\n",
       "<style scoped>\n",
       "    .dataframe tbody tr th:only-of-type {\n",
       "        vertical-align: middle;\n",
       "    }\n",
       "\n",
       "    .dataframe tbody tr th {\n",
       "        vertical-align: top;\n",
       "    }\n",
       "\n",
       "    .dataframe thead th {\n",
       "        text-align: right;\n",
       "    }\n",
       "</style>\n",
       "<table border=\"1\" class=\"dataframe\">\n",
       "  <thead>\n",
       "    <tr style=\"text-align: right;\">\n",
       "      <th></th>\n",
       "      <th>ticker</th>\n",
       "      <th>name</th>\n",
       "      <th>active</th>\n",
       "      <th>cik</th>\n",
       "      <th>composite_figi</th>\n",
       "      <th>type</th>\n",
       "      <th>start_date</th>\n",
       "      <th>end_date</th>\n",
       "    </tr>\n",
       "  </thead>\n",
       "  <tbody>\n",
       "    <tr>\n",
       "      <th>1144</th>\n",
       "      <td>CERN</td>\n",
       "      <td>Cerner Corp</td>\n",
       "      <td>True</td>\n",
       "      <td>804753.0</td>\n",
       "      <td>BBG000BFDLV8</td>\n",
       "      <td>CS</td>\n",
       "      <td>2022-06-08</td>\n",
       "      <td>NaT</td>\n",
       "    </tr>\n",
       "    <tr>\n",
       "      <th>1799</th>\n",
       "      <td>DYNS</td>\n",
       "      <td>Dynamics Special Purpose Corp. Class A Common ...</td>\n",
       "      <td>True</td>\n",
       "      <td>1854270.0</td>\n",
       "      <td>BBG010WX7ZB3</td>\n",
       "      <td>CS</td>\n",
       "      <td>2022-06-08</td>\n",
       "      <td>NaT</td>\n",
       "    </tr>\n",
       "  </tbody>\n",
       "</table>\n",
       "</div>"
      ],
      "text/plain": [
       "     ticker                                               name  active  \\\n",
       "1144   CERN                                        Cerner Corp    True   \n",
       "1799   DYNS  Dynamics Special Purpose Corp. Class A Common ...    True   \n",
       "\n",
       "            cik composite_figi type  start_date end_date  \n",
       "1144   804753.0   BBG000BFDLV8   CS  2022-06-08      NaT  \n",
       "1799  1854270.0   BBG010WX7ZB3   CS  2022-06-08      NaT  "
      ]
     },
     "execution_count": 31,
     "metadata": {},
     "output_type": "execute_result"
    }
   ],
   "source": [
    "print(len(delisted_tickers))\n",
    "delisted_tickers.head(2)"
   ]
  },
  {
   "cell_type": "code",
   "execution_count": 32,
   "metadata": {},
   "outputs": [
    {
     "name": "stdout",
     "output_type": "stream",
     "text": [
      "5\n"
     ]
    },
    {
     "data": {
      "text/html": [
       "<div>\n",
       "<style scoped>\n",
       "    .dataframe tbody tr th:only-of-type {\n",
       "        vertical-align: middle;\n",
       "    }\n",
       "\n",
       "    .dataframe tbody tr th {\n",
       "        vertical-align: top;\n",
       "    }\n",
       "\n",
       "    .dataframe thead th {\n",
       "        text-align: right;\n",
       "    }\n",
       "</style>\n",
       "<table border=\"1\" class=\"dataframe\">\n",
       "  <thead>\n",
       "    <tr style=\"text-align: right;\">\n",
       "      <th></th>\n",
       "      <th>ticker</th>\n",
       "      <th>name</th>\n",
       "      <th>active</th>\n",
       "      <th>cik</th>\n",
       "      <th>composite_figi</th>\n",
       "      <th>type</th>\n",
       "    </tr>\n",
       "  </thead>\n",
       "  <tbody>\n",
       "    <tr>\n",
       "      <th>2435</th>\n",
       "      <td>GLAQ</td>\n",
       "      <td>Globis Acquisition Corp. common stock</td>\n",
       "      <td>True</td>\n",
       "      <td>1823383.0</td>\n",
       "      <td>NaN</td>\n",
       "      <td>CS</td>\n",
       "    </tr>\n",
       "    <tr>\n",
       "      <th>2725</th>\n",
       "      <td>HOUS</td>\n",
       "      <td>Anywhere Real Estate Inc.</td>\n",
       "      <td>True</td>\n",
       "      <td>1398987.0</td>\n",
       "      <td>BBG000QN4GY3</td>\n",
       "      <td>CS</td>\n",
       "    </tr>\n",
       "  </tbody>\n",
       "</table>\n",
       "</div>"
      ],
      "text/plain": [
       "     ticker                                   name  active        cik  \\\n",
       "2435   GLAQ  Globis Acquisition Corp. common stock    True  1823383.0   \n",
       "2725   HOUS              Anywhere Real Estate Inc.    True  1398987.0   \n",
       "\n",
       "     composite_figi type  \n",
       "2435            NaN   CS  \n",
       "2725   BBG000QN4GY3   CS  "
      ]
     },
     "execution_count": 32,
     "metadata": {},
     "output_type": "execute_result"
    }
   ],
   "source": [
    "print(len(new_tickers))\n",
    "new_tickers.head(2)"
   ]
  },
  {
   "cell_type": "code",
   "execution_count": 33,
   "metadata": {},
   "outputs": [
    {
     "data": {
      "text/plain": [
       "6275"
      ]
     },
     "execution_count": 33,
     "metadata": {},
     "output_type": "execute_result"
    }
   ],
   "source": [
    "len(current_tickers)"
   ]
  },
  {
   "cell_type": "markdown",
   "metadata": {},
   "source": [
    "Then we will process the delistings and listings."
   ]
  },
  {
   "cell_type": "code",
   "execution_count": 34,
   "metadata": {},
   "outputs": [
    {
     "data": {
      "text/html": [
       "<div>\n",
       "<style scoped>\n",
       "    .dataframe tbody tr th:only-of-type {\n",
       "        vertical-align: middle;\n",
       "    }\n",
       "\n",
       "    .dataframe tbody tr th {\n",
       "        vertical-align: top;\n",
       "    }\n",
       "\n",
       "    .dataframe thead th {\n",
       "        text-align: right;\n",
       "    }\n",
       "</style>\n",
       "<table border=\"1\" class=\"dataframe\">\n",
       "  <thead>\n",
       "    <tr style=\"text-align: right;\">\n",
       "      <th></th>\n",
       "      <th>ticker</th>\n",
       "      <th>name</th>\n",
       "      <th>active</th>\n",
       "      <th>cik</th>\n",
       "      <th>composite_figi</th>\n",
       "      <th>type</th>\n",
       "      <th>start_date</th>\n",
       "      <th>end_date</th>\n",
       "    </tr>\n",
       "  </thead>\n",
       "  <tbody>\n",
       "    <tr>\n",
       "      <th>2080</th>\n",
       "      <td>FB</td>\n",
       "      <td>Meta Platforms, Inc. Class A Common Stock</td>\n",
       "      <td>False</td>\n",
       "      <td>1326801.0</td>\n",
       "      <td>BBG000MM2P62</td>\n",
       "      <td>CS</td>\n",
       "      <td>2022-06-08</td>\n",
       "      <td>2022-06-08</td>\n",
       "    </tr>\n",
       "  </tbody>\n",
       "</table>\n",
       "</div>"
      ],
      "text/plain": [
       "     ticker                                       name  active        cik  \\\n",
       "2080     FB  Meta Platforms, Inc. Class A Common Stock   False  1326801.0   \n",
       "\n",
       "     composite_figi type  start_date    end_date  \n",
       "2080   BBG000MM2P62   CS  2022-06-08  2022-06-08  "
      ]
     },
     "execution_count": 34,
     "metadata": {},
     "output_type": "execute_result"
    }
   ],
   "source": [
    "# DELISTINGS: register delisting date and set to inactive.\n",
    "our_tickers.loc[indicator_delisted == \"left_only\", \"end_date\"] = day_1 #Not day_2!\n",
    "our_tickers.loc[indicator_delisted == \"left_only\", \"active\"] = False\n",
    "\n",
    "our_tickers[our_tickers[\"ticker\"] == \"FB\"]"
   ]
  },
  {
   "cell_type": "code",
   "execution_count": 35,
   "metadata": {},
   "outputs": [
    {
     "name": "stdout",
     "output_type": "stream",
     "text": [
      "6281\n",
      "5\n",
      "6286\n"
     ]
    },
    {
     "data": {
      "text/html": [
       "<div>\n",
       "<style scoped>\n",
       "    .dataframe tbody tr th:only-of-type {\n",
       "        vertical-align: middle;\n",
       "    }\n",
       "\n",
       "    .dataframe tbody tr th {\n",
       "        vertical-align: top;\n",
       "    }\n",
       "\n",
       "    .dataframe thead th {\n",
       "        text-align: right;\n",
       "    }\n",
       "</style>\n",
       "<table border=\"1\" class=\"dataframe\">\n",
       "  <thead>\n",
       "    <tr style=\"text-align: right;\">\n",
       "      <th></th>\n",
       "      <th>ticker</th>\n",
       "      <th>name</th>\n",
       "      <th>active</th>\n",
       "      <th>cik</th>\n",
       "      <th>composite_figi</th>\n",
       "      <th>type</th>\n",
       "      <th>start_date</th>\n",
       "      <th>end_date</th>\n",
       "    </tr>\n",
       "  </thead>\n",
       "  <tbody>\n",
       "    <tr>\n",
       "      <th>6283</th>\n",
       "      <td>META</td>\n",
       "      <td>Meta Platforms, Inc. Class A Common Stock</td>\n",
       "      <td>True</td>\n",
       "      <td>1326801.0</td>\n",
       "      <td>BBG000MM2P62</td>\n",
       "      <td>CS</td>\n",
       "      <td>2022-06-09</td>\n",
       "      <td>NaN</td>\n",
       "    </tr>\n",
       "  </tbody>\n",
       "</table>\n",
       "</div>"
      ],
      "text/plain": [
       "     ticker                                       name  active        cik  \\\n",
       "6283   META  Meta Platforms, Inc. Class A Common Stock    True  1326801.0   \n",
       "\n",
       "     composite_figi type  start_date end_date  \n",
       "6283   BBG000MM2P62   CS  2022-06-09      NaN  "
      ]
     },
     "execution_count": 35,
     "metadata": {},
     "output_type": "execute_result"
    }
   ],
   "source": [
    "# NEW LISTINGS: append the new tickers and register start date\n",
    "print(len(our_tickers))\n",
    "print(len(new_tickers))\n",
    "\n",
    "our_tickers = pd.concat([our_tickers, new_tickers])\n",
    "our_tickers.reset_index(inplace=True, drop=True)\n",
    "our_tickers['start_date'].fillna(value=day_2, inplace=True)\n",
    "\n",
    "print(len(our_tickers))\n",
    "our_tickers[our_tickers[\"ticker\"] == \"META\"]"
   ]
  },
  {
   "cell_type": "markdown",
   "metadata": {},
   "source": [
    "Some final checks and setting <code>end_date</code> for the active listings at END_DATE."
   ]
  },
  {
   "cell_type": "code",
   "execution_count": 36,
   "metadata": {},
   "outputs": [],
   "source": [
    "if our_tickers[[\"ticker\", \"name\", \"active\", \"type\", \"start_date\"]].isnull().values.any():\n",
    "    raise Exception(\"There are missing values.\")\n",
    "\n",
    "# After all is done, set the end_date for active stocks to the new day. This is only done after all iterations. \n",
    "our_tickers[\"end_date\"].fillna(value=day_2, inplace=True)"
   ]
  },
  {
   "cell_type": "markdown",
   "metadata": {},
   "source": [
    "The result is correct. FB is included with the correct <code>end_date</code>. Then META starts with the correct <code>start_date</code>."
   ]
  },
  {
   "cell_type": "code",
   "execution_count": 37,
   "metadata": {},
   "outputs": [
    {
     "data": {
      "text/html": [
       "<div>\n",
       "<style scoped>\n",
       "    .dataframe tbody tr th:only-of-type {\n",
       "        vertical-align: middle;\n",
       "    }\n",
       "\n",
       "    .dataframe tbody tr th {\n",
       "        vertical-align: top;\n",
       "    }\n",
       "\n",
       "    .dataframe thead th {\n",
       "        text-align: right;\n",
       "    }\n",
       "</style>\n",
       "<table border=\"1\" class=\"dataframe\">\n",
       "  <thead>\n",
       "    <tr style=\"text-align: right;\">\n",
       "      <th></th>\n",
       "      <th>ticker</th>\n",
       "      <th>name</th>\n",
       "      <th>active</th>\n",
       "      <th>cik</th>\n",
       "      <th>composite_figi</th>\n",
       "      <th>type</th>\n",
       "      <th>start_date</th>\n",
       "      <th>end_date</th>\n",
       "    </tr>\n",
       "  </thead>\n",
       "  <tbody>\n",
       "    <tr>\n",
       "      <th>2080</th>\n",
       "      <td>FB</td>\n",
       "      <td>Meta Platforms, Inc. Class A Common Stock</td>\n",
       "      <td>False</td>\n",
       "      <td>1326801.0</td>\n",
       "      <td>BBG000MM2P62</td>\n",
       "      <td>CS</td>\n",
       "      <td>2022-06-08</td>\n",
       "      <td>2022-06-08</td>\n",
       "    </tr>\n",
       "    <tr>\n",
       "      <th>6283</th>\n",
       "      <td>META</td>\n",
       "      <td>Meta Platforms, Inc. Class A Common Stock</td>\n",
       "      <td>True</td>\n",
       "      <td>1326801.0</td>\n",
       "      <td>BBG000MM2P62</td>\n",
       "      <td>CS</td>\n",
       "      <td>2022-06-09</td>\n",
       "      <td>2022-06-09</td>\n",
       "    </tr>\n",
       "  </tbody>\n",
       "</table>\n",
       "</div>"
      ],
      "text/plain": [
       "     ticker                                       name  active        cik  \\\n",
       "2080     FB  Meta Platforms, Inc. Class A Common Stock   False  1326801.0   \n",
       "6283   META  Meta Platforms, Inc. Class A Common Stock    True  1326801.0   \n",
       "\n",
       "     composite_figi type  start_date    end_date  \n",
       "2080   BBG000MM2P62   CS  2022-06-08  2022-06-08  \n",
       "6283   BBG000MM2P62   CS  2022-06-09  2022-06-09  "
      ]
     },
     "execution_count": 37,
     "metadata": {},
     "output_type": "execute_result"
    }
   ],
   "source": [
    "our_tickers[our_tickers['ticker'].isin(['FB', 'META'])]"
   ]
  },
  {
   "cell_type": "markdown",
   "metadata": {},
   "source": [
    "Further down the line, I got an error that I wouldn't have gotten if I checked for duplicates in the (original) ticker lists. In the original ticker lists for the active tickers there should never be duplicates. Because each ticker can only have one listing. However the polygon ticker lists do have these:"
   ]
  },
  {
   "cell_type": "code",
   "execution_count": 38,
   "metadata": {},
   "outputs": [
    {
     "data": {
      "text/html": [
       "<div>\n",
       "<style scoped>\n",
       "    .dataframe tbody tr th:only-of-type {\n",
       "        vertical-align: middle;\n",
       "    }\n",
       "\n",
       "    .dataframe tbody tr th {\n",
       "        vertical-align: top;\n",
       "    }\n",
       "\n",
       "    .dataframe thead th {\n",
       "        text-align: right;\n",
       "    }\n",
       "</style>\n",
       "<table border=\"1\" class=\"dataframe\">\n",
       "  <thead>\n",
       "    <tr style=\"text-align: right;\">\n",
       "      <th></th>\n",
       "      <th>ticker</th>\n",
       "      <th>name</th>\n",
       "      <th>active</th>\n",
       "      <th>delisted_utc</th>\n",
       "      <th>last_updated_utc</th>\n",
       "      <th>cik</th>\n",
       "      <th>composite_figi</th>\n",
       "      <th>type</th>\n",
       "    </tr>\n",
       "  </thead>\n",
       "  <tbody>\n",
       "    <tr>\n",
       "      <th>939</th>\n",
       "      <td>CADE</td>\n",
       "      <td>Cadence Bancorporation</td>\n",
       "      <td>True</td>\n",
       "      <td>NaN</td>\n",
       "      <td>2019-01-03T00:00:00Z</td>\n",
       "      <td>1614184.0</td>\n",
       "      <td>BBG00BZSZZD5</td>\n",
       "      <td>CS</td>\n",
       "    </tr>\n",
       "    <tr>\n",
       "      <th>940</th>\n",
       "      <td>CADE</td>\n",
       "      <td>Cadence Bank</td>\n",
       "      <td>True</td>\n",
       "      <td>NaN</td>\n",
       "      <td>2024-03-28T00:00:00Z</td>\n",
       "      <td>1299939.0</td>\n",
       "      <td>BBG000D3MJP5</td>\n",
       "      <td>CS</td>\n",
       "    </tr>\n",
       "    <tr>\n",
       "      <th>3421</th>\n",
       "      <td>MRT</td>\n",
       "      <td>MedEquities Realty Trust, Inc.</td>\n",
       "      <td>True</td>\n",
       "      <td>NaN</td>\n",
       "      <td>2019-01-03T00:00:00Z</td>\n",
       "      <td>1616314.0</td>\n",
       "      <td>NaN</td>\n",
       "      <td>CS</td>\n",
       "    </tr>\n",
       "    <tr>\n",
       "      <th>3422</th>\n",
       "      <td>MRT</td>\n",
       "      <td>Marti Technologies, Inc.</td>\n",
       "      <td>True</td>\n",
       "      <td>NaN</td>\n",
       "      <td>2024-03-28T00:00:00Z</td>\n",
       "      <td>1852767.0</td>\n",
       "      <td>BBG00ZXBPJV8</td>\n",
       "      <td>CS</td>\n",
       "    </tr>\n",
       "  </tbody>\n",
       "</table>\n",
       "</div>"
      ],
      "text/plain": [
       "     ticker                            name  active delisted_utc  \\\n",
       "939    CADE          Cadence Bancorporation    True          NaN   \n",
       "940    CADE                    Cadence Bank    True          NaN   \n",
       "3421    MRT  MedEquities Realty Trust, Inc.    True          NaN   \n",
       "3422    MRT        Marti Technologies, Inc.    True          NaN   \n",
       "\n",
       "          last_updated_utc        cik composite_figi type  \n",
       "939   2019-01-03T00:00:00Z  1614184.0   BBG00BZSZZD5   CS  \n",
       "940   2024-03-28T00:00:00Z  1299939.0   BBG000D3MJP5   CS  \n",
       "3421  2019-01-03T00:00:00Z  1616314.0            NaN   CS  \n",
       "3422  2024-03-28T00:00:00Z  1852767.0   BBG00ZXBPJV8   CS  "
      ]
     },
     "execution_count": 38,
     "metadata": {},
     "output_type": "execute_result"
    }
   ],
   "source": [
    "our_tickers = pd.read_csv(\n",
    "    POLYGON_DATA_PATH + f\"raw/tickers/2024-03-01.csv\",\n",
    "    index_col=0,\n",
    ")\n",
    "our_tickers = our_tickers[our_tickers[\"active\"] == True]\n",
    "our_tickers.sort_values(['last_updated_utc'])\n",
    "our_tickers.reset_index(inplace=True, drop=True)\n",
    "\n",
    "duplicated = our_tickers[our_tickers[\"ticker\"].duplicated(keep=False)]\n",
    "duplicated[duplicated[\"ticker\"].duplicated(keep=False)]"
   ]
  },
  {
   "cell_type": "markdown",
   "metadata": {},
   "source": [
    "We need to make sure to remove these. We will simply keep the last one as that is the most recent one."
   ]
  },
  {
   "cell_type": "code",
   "execution_count": 39,
   "metadata": {},
   "outputs": [
    {
     "data": {
      "text/plain": [
       "[939, 3421]"
      ]
     },
     "execution_count": 39,
     "metadata": {},
     "output_type": "execute_result"
    }
   ],
   "source": [
    "indices_to_remove = duplicated[\"ticker\"].duplicated(keep='last')\n",
    "list(indices_to_remove[indices_to_remove].index)"
   ]
  },
  {
   "cell_type": "code",
   "execution_count": 40,
   "metadata": {},
   "outputs": [],
   "source": [
    "our_tickers.drop(list(indices_to_remove[indices_to_remove].index), inplace=True)\n",
    "our_tickers.reset_index(drop=True, inplace=True)"
   ]
  },
  {
   "cell_type": "markdown",
   "metadata": {},
   "source": [
    "# 3.3 The tickers loop\n",
    "Putting it all in a loop gives the following code. We save the results to <code>tickers_v1.csv</code>."
   ]
  },
  {
   "cell_type": "code",
   "execution_count": null,
   "metadata": {},
   "outputs": [],
   "source": [
    "market_days = get_market_dates()\n",
    "\n",
    "first_trading_date_after_equal_start_date = first_trading_date_after_equal(START_DATE)\n",
    "last_trading_date_before_equal_end_date = last_trading_date_before_equal(END_DATE)\n",
    "\n",
    "for day in market_days:\n",
    "    if day == first_trading_date_after_equal_start_date:\n",
    "        # At the start, our ticker list is the same as polygon.\n",
    "        our_tickers = pd.read_csv(\n",
    "            POLYGON_DATA_PATH + f\"raw/tickers/{first_trading_date_after_equal_start_date.isoformat()}.csv\",\n",
    "            index_col=0,\n",
    "            keep_default_na=False,\n",
    "            na_values=['#N/A', '#N/A N/A', '#NA', '-1.#IND', '-1.#QNAN', '-NaN', '-nan', '1.#IND', '1.#QNAN', '<NA>', 'N/A', 'NULL', 'NaN', 'None', 'n/a', 'nan', 'null']\n",
    "        ) #There is a stock named 'NA'. We have to avoid pandas treating it as a N/A value.\n",
    "        our_tickers = our_tickers[[\"ticker\", \"name\", \"active\", \"cik\", \"composite_figi\", \"type\"]]\n",
    "        our_tickers = our_tickers[our_tickers[\"active\"]]\n",
    "\n",
    "        # Sometimes a cik can be empty. This prevents the merge function from working.\n",
    "        our_tickers['cik'] = our_tickers['cik'].replace('', np.nan)\n",
    "        our_tickers['cik'] = our_tickers['cik'].astype(float)\n",
    "\n",
    "        our_tickers.reset_index(inplace=True, drop=True)\n",
    "    \n",
    "        # Initialize tickers_all\n",
    "        our_tickers[\"start_date\"] = first_trading_date_after_equal_start_date\n",
    "        our_tickers[\"end_date\"] = pd.NaT\n",
    "\n",
    "    elif day > first_trading_date_after_equal_start_date and day <= last_trading_date_before_equal_end_date:\n",
    "        # Get new ticker list to update ours\n",
    "        tickers_day_i = pd.read_csv(\n",
    "            POLYGON_DATA_PATH + f\"raw/tickers/{day.isoformat()}.csv\",\n",
    "            index_col=0,\n",
    "            keep_default_na=False,\n",
    "            na_values=['#N/A', '#N/A N/A', '#NA', '-1.#IND', '-1.#QNAN', '-NaN', '-nan', '1.#IND', '1.#QNAN', '<NA>', 'N/A', 'NULL', 'NaN', 'None', 'n/a', 'nan', 'null']\n",
    "        )\n",
    "        # Sometimes a cik can be empty. This prevents the merge function from working.\n",
    "        tickers_day_i['cik'] = tickers_day_i['cik'].replace('', np.nan)\n",
    "        tickers_day_i['cik'] = tickers_day_i['cik'].astype(float)\n",
    "\n",
    "        tickers_day_i.sort_values(['last_updated_utc'], inplace=True)\n",
    "\n",
    "        tickers_day_i = tickers_day_i[[\"ticker\", \"name\", \"active\", \"cik\", \"composite_figi\", \"type\"]]\n",
    "        tickers_day_i = tickers_day_i[tickers_day_i[\"active\"]]\n",
    "        tickers_day_i.reset_index(inplace=True, drop=True)\n",
    "\n",
    "        # Remove duplicates\n",
    "        duplicated = tickers_day_i[tickers_day_i[\"ticker\"].duplicated(keep=False)]\n",
    "        indices_to_remove = duplicated[\"ticker\"].duplicated(keep='last')\n",
    "        tickers_day_i.drop(list(indices_to_remove[indices_to_remove].index), inplace=True)\n",
    "        tickers_day_i.reset_index(drop=True, inplace=True)\n",
    "\n",
    "        # Preliminary check: no duplicates\n",
    "        if our_tickers.duplicated().any():\n",
    "            raise Exception(\"There are duplicates!\")\n",
    "\n",
    "        if tickers_day_i.duplicated().any():\n",
    "            raise Exception(\"There are duplicates!\")\n",
    "\n",
    "        # DELISTINGS\n",
    "        indicator_delisted = our_tickers[[\"ticker\", \"name\", \"active\", \"cik\", \"composite_figi\", \"type\"]].merge(tickers_day_i[[\"ticker\", \"name\", \"active\", \"cik\", \"composite_figi\", \"type\"]], on=[\"ticker\", \"name\", \"active\", \"cik\", \"composite_figi\", \"type\"], how='left', indicator=True)\n",
    "\n",
    "        indicator_delisted['_merge'] = np.where(our_tickers[\"active\"], indicator_delisted['_merge'], \"both\") # ERROR FIX: If in our ticker list we have already set it inactive, it should not be added to the list of delisted stocks again. By setting _merge to \"both\" we skip the already inactive stocks.\n",
    "\n",
    "        indicator_delisted = indicator_delisted[\"_merge\"] # Only get the indicator\n",
    "        delisted_tickers = our_tickers[indicator_delisted == \"left_only\"]\n",
    "\n",
    "        # NEW LISTINGS\n",
    "        indicator_new = tickers_day_i[[\"ticker\", \"name\", \"active\", \"cik\", \"composite_figi\", \"type\"]].merge(our_tickers[[\"ticker\", \"name\", \"active\", \"cik\", \"composite_figi\", \"type\"]], on=[\"ticker\", \"name\", \"active\", \"cik\", \"composite_figi\", \"type\"], \n",
    "                        how='left', indicator=True)\n",
    "        indicator_new = indicator_new[\"_merge\"]\n",
    "        new_tickers = tickers_day_i[indicator_new == \"left_only\"]\n",
    "\n",
    "        # PROCESS DELISTINGS\n",
    "        previous_day = market_days[market_days.index(day) - 1] # Getting previous trading day\n",
    "        our_tickers.loc[indicator_delisted == \"left_only\", \"end_date\"] = previous_day\n",
    "        our_tickers.loc[indicator_delisted == \"left_only\", \"active\"] = False\n",
    "        \n",
    "        # PROCESS NEW LISTINGS\n",
    "        our_tickers = pd.concat([our_tickers, new_tickers])\n",
    "        our_tickers.reset_index(inplace=True, drop=True)\n",
    "        our_tickers['start_date'].fillna(value=day, inplace=True)\n",
    "\n",
    "        # Final checks\n",
    "        if our_tickers[[\"ticker\", \"name\", \"active\", \"type\", \"start_date\"]].isnull().values.any():\n",
    "            #null_data = our_tickers[our_tickers[[\"ticker\", \"name\", \"active\", \"type\", \"start_date\"]].isnull().any(axis=1)]\n",
    "            raise Exception(\"There are missing values.\")\n",
    "        \n",
    "        # print(f'{day.isoformat()}: Amount of stocks {len(our_tickers)}')\n",
    "        \n",
    "        # Finalize\n",
    "        if day == last_trading_date_before_equal_end_date:\n",
    "            our_tickers[\"end_date\"].fillna(value=last_trading_date_before_equal_end_date, inplace=True)\n",
    "            our_tickers = our_tickers.sort_values(by=[\"ticker\", \"end_date\"]).reset_index(drop=True)\n",
    "            our_tickers[[\"ticker\", \"name\", \"active\", \"start_date\", \"end_date\", \"type\", \"cik\", \"composite_figi\"]].to_csv(\"../data/tickers_v1.csv\")"
   ]
  },
  {
   "cell_type": "markdown",
   "metadata": {},
   "source": [
    "We also create a function to retrieve the ticker list."
   ]
  },
  {
   "cell_type": "code",
   "execution_count": 43,
   "metadata": {},
   "outputs": [],
   "source": [
    "def get_tickers(v=5):\n",
    "    \"\"\"\n",
    "    Retrieve the ticker list. Default is 5.\n",
    "    \"\"\"\n",
    "    tickers = pd.read_csv(\n",
    "        f\"../data/tickers_v{v}.csv\",\n",
    "        parse_dates=[\"start_date\", \"end_date\"],\n",
    "        index_col=0,\n",
    "        keep_default_na=False,\n",
    "        na_values=[\"#N/A\",\"#N/AN/A\",\"#NA\",\"-1.#IND\",\"-1.#QNAN\",\"-NaN\",\"-nan\",\"1.#IND\",\"1.#QNAN\",\"<NA>\",\"N/A\",\"NULL\",\"NaN\",\"None\",\"n/a\",\"nan\",\"null\",],\n",
    "    )\n",
    "    tickers[\"start_date\"] = pd.to_datetime(tickers[\"start_date\"]).dt.date\n",
    "    tickers[\"end_date\"] = pd.to_datetime(tickers[\"end_date\"]).dt.date\n",
    "\n",
    "    # This will only be applied in future notebooks.\n",
    "    if tickers.columns.isin([\"start_data\", \"end_data\"]).any():\n",
    "        tickers[\"start_data\"] = pd.to_datetime(tickers[\"start_data\"]).dt.date\n",
    "        tickers[\"end_data\"] = pd.to_datetime(tickers[\"end_data\"]).dt.date\n",
    "\n",
    "    return tickers"
   ]
  },
  {
   "cell_type": "code",
   "execution_count": 44,
   "metadata": {},
   "outputs": [
    {
     "data": {
      "text/html": [
       "<div>\n",
       "<style scoped>\n",
       "    .dataframe tbody tr th:only-of-type {\n",
       "        vertical-align: middle;\n",
       "    }\n",
       "\n",
       "    .dataframe tbody tr th {\n",
       "        vertical-align: top;\n",
       "    }\n",
       "\n",
       "    .dataframe thead th {\n",
       "        text-align: right;\n",
       "    }\n",
       "</style>\n",
       "<table border=\"1\" class=\"dataframe\">\n",
       "  <thead>\n",
       "    <tr style=\"text-align: right;\">\n",
       "      <th></th>\n",
       "      <th>ticker</th>\n",
       "      <th>name</th>\n",
       "      <th>active</th>\n",
       "      <th>start_date</th>\n",
       "      <th>end_date</th>\n",
       "      <th>type</th>\n",
       "      <th>cik</th>\n",
       "      <th>composite_figi</th>\n",
       "    </tr>\n",
       "  </thead>\n",
       "  <tbody>\n",
       "    <tr>\n",
       "      <th>5243</th>\n",
       "      <td>FB</td>\n",
       "      <td>Facebook, Inc. Class A</td>\n",
       "      <td>False</td>\n",
       "      <td>2019-06-03</td>\n",
       "      <td>2021-10-29</td>\n",
       "      <td>CS</td>\n",
       "      <td>1326801.0</td>\n",
       "      <td>BBG000MM2P62</td>\n",
       "    </tr>\n",
       "    <tr>\n",
       "      <th>5244</th>\n",
       "      <td>FB</td>\n",
       "      <td>Meta Platforms, Inc. Class A Common Stock</td>\n",
       "      <td>False</td>\n",
       "      <td>2021-11-01</td>\n",
       "      <td>2022-06-08</td>\n",
       "      <td>CS</td>\n",
       "      <td>1326801.0</td>\n",
       "      <td>BBG000MM2P62</td>\n",
       "    </tr>\n",
       "  </tbody>\n",
       "</table>\n",
       "</div>"
      ],
      "text/plain": [
       "     ticker                                       name  active  start_date  \\\n",
       "5243     FB                     Facebook, Inc. Class A   False  2019-06-03   \n",
       "5244     FB  Meta Platforms, Inc. Class A Common Stock   False  2021-11-01   \n",
       "\n",
       "        end_date type        cik composite_figi  \n",
       "5243  2021-10-29   CS  1326801.0   BBG000MM2P62  \n",
       "5244  2022-06-08   CS  1326801.0   BBG000MM2P62  "
      ]
     },
     "execution_count": 44,
     "metadata": {},
     "output_type": "execute_result"
    }
   ],
   "source": [
    "tickers_v1 = get_tickers(1)\n",
    "tickers_v1[tickers_v1[\"ticker\"] == \"FB\"]"
   ]
  },
  {
   "cell_type": "code",
   "execution_count": 45,
   "metadata": {},
   "outputs": [
    {
     "data": {
      "text/html": [
       "<div>\n",
       "<style scoped>\n",
       "    .dataframe tbody tr th:only-of-type {\n",
       "        vertical-align: middle;\n",
       "    }\n",
       "\n",
       "    .dataframe tbody tr th {\n",
       "        vertical-align: top;\n",
       "    }\n",
       "\n",
       "    .dataframe thead th {\n",
       "        text-align: right;\n",
       "    }\n",
       "</style>\n",
       "<table border=\"1\" class=\"dataframe\">\n",
       "  <thead>\n",
       "    <tr style=\"text-align: right;\">\n",
       "      <th></th>\n",
       "      <th>ticker</th>\n",
       "      <th>name</th>\n",
       "      <th>active</th>\n",
       "      <th>start_date</th>\n",
       "      <th>end_date</th>\n",
       "      <th>type</th>\n",
       "      <th>cik</th>\n",
       "      <th>composite_figi</th>\n",
       "    </tr>\n",
       "  </thead>\n",
       "  <tbody>\n",
       "    <tr>\n",
       "      <th>8750</th>\n",
       "      <td>META</td>\n",
       "      <td>Meta Platforms, Inc. Class A Common Stock</td>\n",
       "      <td>True</td>\n",
       "      <td>2022-06-09</td>\n",
       "      <td>2024-03-01</td>\n",
       "      <td>CS</td>\n",
       "      <td>1326801.0</td>\n",
       "      <td>BBG000MM2P62</td>\n",
       "    </tr>\n",
       "  </tbody>\n",
       "</table>\n",
       "</div>"
      ],
      "text/plain": [
       "     ticker                                       name  active  start_date  \\\n",
       "8750   META  Meta Platforms, Inc. Class A Common Stock    True  2022-06-09   \n",
       "\n",
       "        end_date type        cik composite_figi  \n",
       "8750  2024-03-01   CS  1326801.0   BBG000MM2P62  "
      ]
     },
     "execution_count": 45,
     "metadata": {},
     "output_type": "execute_result"
    }
   ],
   "source": [
    "tickers_v1[tickers_v1[\"ticker\"] == \"META\"]"
   ]
  },
  {
   "cell_type": "code",
   "execution_count": 46,
   "metadata": {},
   "outputs": [
    {
     "name": "stdout",
     "output_type": "stream",
     "text": [
      "15266\n"
     ]
    }
   ],
   "source": [
    "print(len(tickers_v1))"
   ]
  },
  {
   "cell_type": "markdown",
   "metadata": {},
   "source": [
    "# 3.4 Checks\n",
    "\n",
    "1. Are SPACs handled correctly? We should expect that when they IPO a company, that they get delisted. Then one day after the delisting the new-born company should be listed. We will take a look at VFS. On 2023-8-15 it was IPO'd by the SPAC named BSAQ. So we should expect the delisting date of BSAQ to be 2023-8-14.\n"
   ]
  },
  {
   "cell_type": "code",
   "execution_count": 47,
   "metadata": {},
   "outputs": [
    {
     "data": {
      "text/html": [
       "<div>\n",
       "<style scoped>\n",
       "    .dataframe tbody tr th:only-of-type {\n",
       "        vertical-align: middle;\n",
       "    }\n",
       "\n",
       "    .dataframe tbody tr th {\n",
       "        vertical-align: top;\n",
       "    }\n",
       "\n",
       "    .dataframe thead th {\n",
       "        text-align: right;\n",
       "    }\n",
       "</style>\n",
       "<table border=\"1\" class=\"dataframe\">\n",
       "  <thead>\n",
       "    <tr style=\"text-align: right;\">\n",
       "      <th></th>\n",
       "      <th>ticker</th>\n",
       "      <th>name</th>\n",
       "      <th>active</th>\n",
       "      <th>start_date</th>\n",
       "      <th>end_date</th>\n",
       "      <th>type</th>\n",
       "      <th>cik</th>\n",
       "      <th>composite_figi</th>\n",
       "    </tr>\n",
       "  </thead>\n",
       "  <tbody>\n",
       "    <tr>\n",
       "      <th>14336</th>\n",
       "      <td>VFS</td>\n",
       "      <td>VinFast Auto Ltd. Ordinary Shares</td>\n",
       "      <td>True</td>\n",
       "      <td>2023-08-15</td>\n",
       "      <td>2024-03-01</td>\n",
       "      <td>CS</td>\n",
       "      <td>1913510.0</td>\n",
       "      <td></td>\n",
       "    </tr>\n",
       "  </tbody>\n",
       "</table>\n",
       "</div>"
      ],
      "text/plain": [
       "      ticker                               name  active  start_date  \\\n",
       "14336    VFS  VinFast Auto Ltd. Ordinary Shares    True  2023-08-15   \n",
       "\n",
       "         end_date type        cik composite_figi  \n",
       "14336  2024-03-01   CS  1913510.0                 "
      ]
     },
     "execution_count": 47,
     "metadata": {},
     "output_type": "execute_result"
    }
   ],
   "source": [
    "tickers_v1[tickers_v1[\"ticker\"] == \"VFS\"]"
   ]
  },
  {
   "cell_type": "code",
   "execution_count": 48,
   "metadata": {},
   "outputs": [
    {
     "data": {
      "text/html": [
       "<div>\n",
       "<style scoped>\n",
       "    .dataframe tbody tr th:only-of-type {\n",
       "        vertical-align: middle;\n",
       "    }\n",
       "\n",
       "    .dataframe tbody tr th {\n",
       "        vertical-align: top;\n",
       "    }\n",
       "\n",
       "    .dataframe thead th {\n",
       "        text-align: right;\n",
       "    }\n",
       "</style>\n",
       "<table border=\"1\" class=\"dataframe\">\n",
       "  <thead>\n",
       "    <tr style=\"text-align: right;\">\n",
       "      <th></th>\n",
       "      <th>ticker</th>\n",
       "      <th>name</th>\n",
       "      <th>active</th>\n",
       "      <th>start_date</th>\n",
       "      <th>end_date</th>\n",
       "      <th>type</th>\n",
       "      <th>cik</th>\n",
       "      <th>composite_figi</th>\n",
       "    </tr>\n",
       "  </thead>\n",
       "  <tbody>\n",
       "    <tr>\n",
       "      <th>2128</th>\n",
       "      <td>BSAQ</td>\n",
       "      <td>Black Spade Acquisition Co</td>\n",
       "      <td>False</td>\n",
       "      <td>2021-09-07</td>\n",
       "      <td>2023-08-14</td>\n",
       "      <td>CS</td>\n",
       "      <td>1851908.0</td>\n",
       "      <td></td>\n",
       "    </tr>\n",
       "  </tbody>\n",
       "</table>\n",
       "</div>"
      ],
      "text/plain": [
       "     ticker                        name  active  start_date    end_date type  \\\n",
       "2128   BSAQ  Black Spade Acquisition Co   False  2021-09-07  2023-08-14   CS   \n",
       "\n",
       "            cik composite_figi  \n",
       "2128  1851908.0                 "
      ]
     },
     "execution_count": 48,
     "metadata": {},
     "output_type": "execute_result"
    }
   ],
   "source": [
    "tickers_v1[tickers_v1[\"ticker\"] == \"BSAQ\"]"
   ]
  },
  {
   "cell_type": "markdown",
   "metadata": {},
   "source": [
    "2. Let's check SVB which went bankrupt and HTZ which went from OTC to listed."
   ]
  },
  {
   "cell_type": "code",
   "execution_count": 49,
   "metadata": {},
   "outputs": [
    {
     "data": {
      "text/html": [
       "<div>\n",
       "<style scoped>\n",
       "    .dataframe tbody tr th:only-of-type {\n",
       "        vertical-align: middle;\n",
       "    }\n",
       "\n",
       "    .dataframe tbody tr th {\n",
       "        vertical-align: top;\n",
       "    }\n",
       "\n",
       "    .dataframe thead th {\n",
       "        text-align: right;\n",
       "    }\n",
       "</style>\n",
       "<table border=\"1\" class=\"dataframe\">\n",
       "  <thead>\n",
       "    <tr style=\"text-align: right;\">\n",
       "      <th></th>\n",
       "      <th>ticker</th>\n",
       "      <th>name</th>\n",
       "      <th>active</th>\n",
       "      <th>start_date</th>\n",
       "      <th>end_date</th>\n",
       "      <th>type</th>\n",
       "      <th>cik</th>\n",
       "      <th>composite_figi</th>\n",
       "    </tr>\n",
       "  </thead>\n",
       "  <tbody>\n",
       "    <tr>\n",
       "      <th>12505</th>\n",
       "      <td>SIVB</td>\n",
       "      <td>SVB Financial Group</td>\n",
       "      <td>False</td>\n",
       "      <td>2019-06-03</td>\n",
       "      <td>2023-03-27</td>\n",
       "      <td>CS</td>\n",
       "      <td>719739.0</td>\n",
       "      <td>BBG000BT0CM2</td>\n",
       "    </tr>\n",
       "  </tbody>\n",
       "</table>\n",
       "</div>"
      ],
      "text/plain": [
       "      ticker                 name  active  start_date    end_date type  \\\n",
       "12505   SIVB  SVB Financial Group   False  2019-06-03  2023-03-27   CS   \n",
       "\n",
       "            cik composite_figi  \n",
       "12505  719739.0   BBG000BT0CM2  "
      ]
     },
     "execution_count": 49,
     "metadata": {},
     "output_type": "execute_result"
    }
   ],
   "source": [
    "tickers_v1[tickers_v1[\"ticker\"] == \"SIVB\"]"
   ]
  },
  {
   "cell_type": "code",
   "execution_count": 50,
   "metadata": {},
   "outputs": [
    {
     "data": {
      "text/html": [
       "<div>\n",
       "<style scoped>\n",
       "    .dataframe tbody tr th:only-of-type {\n",
       "        vertical-align: middle;\n",
       "    }\n",
       "\n",
       "    .dataframe tbody tr th {\n",
       "        vertical-align: top;\n",
       "    }\n",
       "\n",
       "    .dataframe thead th {\n",
       "        text-align: right;\n",
       "    }\n",
       "</style>\n",
       "<table border=\"1\" class=\"dataframe\">\n",
       "  <thead>\n",
       "    <tr style=\"text-align: right;\">\n",
       "      <th></th>\n",
       "      <th>ticker</th>\n",
       "      <th>name</th>\n",
       "      <th>active</th>\n",
       "      <th>start_date</th>\n",
       "      <th>end_date</th>\n",
       "      <th>type</th>\n",
       "      <th>cik</th>\n",
       "      <th>composite_figi</th>\n",
       "    </tr>\n",
       "  </thead>\n",
       "  <tbody>\n",
       "    <tr>\n",
       "      <th>6914</th>\n",
       "      <td>HTZ</td>\n",
       "      <td>Hertz Global Holdings, Inc.</td>\n",
       "      <td>False</td>\n",
       "      <td>2019-06-03</td>\n",
       "      <td>2020-10-29</td>\n",
       "      <td>CS</td>\n",
       "      <td>1657853.0</td>\n",
       "      <td>BBG00D5SHJH6</td>\n",
       "    </tr>\n",
       "    <tr>\n",
       "      <th>6915</th>\n",
       "      <td>HTZ</td>\n",
       "      <td>Hertz Global Holdings, Inc Common Stock</td>\n",
       "      <td>True</td>\n",
       "      <td>2021-11-09</td>\n",
       "      <td>2024-03-01</td>\n",
       "      <td>CS</td>\n",
       "      <td>1657853.0</td>\n",
       "      <td>BBG011N57109</td>\n",
       "    </tr>\n",
       "  </tbody>\n",
       "</table>\n",
       "</div>"
      ],
      "text/plain": [
       "     ticker                                     name  active  start_date  \\\n",
       "6914    HTZ              Hertz Global Holdings, Inc.   False  2019-06-03   \n",
       "6915    HTZ  Hertz Global Holdings, Inc Common Stock    True  2021-11-09   \n",
       "\n",
       "        end_date type        cik composite_figi  \n",
       "6914  2020-10-29   CS  1657853.0   BBG00D5SHJH6  \n",
       "6915  2024-03-01   CS  1657853.0   BBG011N57109  "
      ]
     },
     "execution_count": 50,
     "metadata": {},
     "output_type": "execute_result"
    }
   ],
   "source": [
    "tickers_v1[tickers_v1[\"ticker\"] == \"HTZ\"]"
   ]
  },
  {
   "cell_type": "markdown",
   "metadata": {},
   "source": [
    "3. Sometimes tickers are re-used (e.g. META, but since it was an ETF it will not show up in our ticker list). Let's see if that has happened in our ticker list."
   ]
  },
  {
   "cell_type": "code",
   "execution_count": 51,
   "metadata": {},
   "outputs": [
    {
     "name": "stdout",
     "output_type": "stream",
     "text": [
      "3462\n",
      "9585\n"
     ]
    },
    {
     "data": {
      "text/html": [
       "<div>\n",
       "<style scoped>\n",
       "    .dataframe tbody tr th:only-of-type {\n",
       "        vertical-align: middle;\n",
       "    }\n",
       "\n",
       "    .dataframe tbody tr th {\n",
       "        vertical-align: top;\n",
       "    }\n",
       "\n",
       "    .dataframe thead th {\n",
       "        text-align: right;\n",
       "    }\n",
       "</style>\n",
       "<table border=\"1\" class=\"dataframe\">\n",
       "  <thead>\n",
       "    <tr style=\"text-align: right;\">\n",
       "      <th></th>\n",
       "      <th>ticker</th>\n",
       "      <th>name</th>\n",
       "      <th>active</th>\n",
       "      <th>start_date</th>\n",
       "      <th>end_date</th>\n",
       "      <th>type</th>\n",
       "      <th>cik</th>\n",
       "      <th>composite_figi</th>\n",
       "    </tr>\n",
       "  </thead>\n",
       "  <tbody>\n",
       "    <tr>\n",
       "      <th>0</th>\n",
       "      <td>A</td>\n",
       "      <td>Agilent Technologies</td>\n",
       "      <td>False</td>\n",
       "      <td>2019-06-03</td>\n",
       "      <td>2019-08-16</td>\n",
       "      <td>CS</td>\n",
       "      <td>1090872.0</td>\n",
       "      <td>BBG000C2V3D6</td>\n",
       "    </tr>\n",
       "    <tr>\n",
       "      <th>1</th>\n",
       "      <td>A</td>\n",
       "      <td>Agilent Technologies Inc.</td>\n",
       "      <td>False</td>\n",
       "      <td>2019-08-19</td>\n",
       "      <td>2022-02-07</td>\n",
       "      <td>CS</td>\n",
       "      <td>1090872.0</td>\n",
       "      <td>BBG000C2V3D6</td>\n",
       "    </tr>\n",
       "    <tr>\n",
       "      <th>2</th>\n",
       "      <td>A</td>\n",
       "      <td>Agilent Technologies Inc.</td>\n",
       "      <td>False</td>\n",
       "      <td>2022-02-08</td>\n",
       "      <td>2022-02-08</td>\n",
       "      <td>CS</td>\n",
       "      <td>1090872.0</td>\n",
       "      <td>BBG000BWQYZ5</td>\n",
       "    </tr>\n",
       "    <tr>\n",
       "      <th>3</th>\n",
       "      <td>A</td>\n",
       "      <td>Agilent Technologies Inc.</td>\n",
       "      <td>True</td>\n",
       "      <td>2022-02-09</td>\n",
       "      <td>2024-03-01</td>\n",
       "      <td>CS</td>\n",
       "      <td>1090872.0</td>\n",
       "      <td>BBG000C2V3D6</td>\n",
       "    </tr>\n",
       "    <tr>\n",
       "      <th>6</th>\n",
       "      <td>AAC</td>\n",
       "      <td>AAC Holdings, Inc.</td>\n",
       "      <td>False</td>\n",
       "      <td>2019-06-03</td>\n",
       "      <td>2019-10-25</td>\n",
       "      <td>CS</td>\n",
       "      <td>1606180.0</td>\n",
       "      <td>BBG00K1Y3PT9</td>\n",
       "    </tr>\n",
       "  </tbody>\n",
       "</table>\n",
       "</div>"
      ],
      "text/plain": [
       "  ticker                       name  active  start_date    end_date type  \\\n",
       "0      A       Agilent Technologies   False  2019-06-03  2019-08-16   CS   \n",
       "1      A  Agilent Technologies Inc.   False  2019-08-19  2022-02-07   CS   \n",
       "2      A  Agilent Technologies Inc.   False  2022-02-08  2022-02-08   CS   \n",
       "3      A  Agilent Technologies Inc.    True  2022-02-09  2024-03-01   CS   \n",
       "6    AAC         AAC Holdings, Inc.   False  2019-06-03  2019-10-25   CS   \n",
       "\n",
       "         cik composite_figi  \n",
       "0  1090872.0   BBG000C2V3D6  \n",
       "1  1090872.0   BBG000C2V3D6  \n",
       "2  1090872.0   BBG000BWQYZ5  \n",
       "3  1090872.0   BBG000C2V3D6  \n",
       "6  1606180.0   BBG00K1Y3PT9  "
      ]
     },
     "execution_count": 51,
     "metadata": {},
     "output_type": "execute_result"
    }
   ],
   "source": [
    "duplicated = tickers_v1[tickers_v1[\"ticker\"].duplicated(keep=False)]\n",
    "print(len(duplicated[\"ticker\"].unique()))\n",
    "print(len(duplicated))\n",
    "duplicated.head()"
   ]
  },
  {
   "cell_type": "markdown",
   "metadata": {},
   "source": [
    "We will have some merging to do. However these are the \"clean\" ones. The next ones are just ridiculous and should not exist in the first place. "
   ]
  },
  {
   "cell_type": "code",
   "execution_count": 52,
   "metadata": {},
   "outputs": [
    {
     "name": "stdout",
     "output_type": "stream",
     "text": [
      "[('CMS', 217), ('PRE', 213), ('EP', 168), ('IBN', 31), ('CRESY', 24)]\n"
     ]
    },
    {
     "data": {
      "text/html": [
       "<div>\n",
       "<style scoped>\n",
       "    .dataframe tbody tr th:only-of-type {\n",
       "        vertical-align: middle;\n",
       "    }\n",
       "\n",
       "    .dataframe tbody tr th {\n",
       "        vertical-align: top;\n",
       "    }\n",
       "\n",
       "    .dataframe thead th {\n",
       "        text-align: right;\n",
       "    }\n",
       "</style>\n",
       "<table border=\"1\" class=\"dataframe\">\n",
       "  <thead>\n",
       "    <tr style=\"text-align: right;\">\n",
       "      <th></th>\n",
       "      <th>ticker</th>\n",
       "      <th>name</th>\n",
       "      <th>active</th>\n",
       "      <th>start_date</th>\n",
       "      <th>end_date</th>\n",
       "      <th>type</th>\n",
       "      <th>cik</th>\n",
       "      <th>composite_figi</th>\n",
       "    </tr>\n",
       "  </thead>\n",
       "  <tbody>\n",
       "    <tr>\n",
       "      <th>4027</th>\n",
       "      <td>DGICA</td>\n",
       "      <td>Donegal Group Inc</td>\n",
       "      <td>False</td>\n",
       "      <td>2019-06-03</td>\n",
       "      <td>2022-08-25</td>\n",
       "      <td>CS</td>\n",
       "      <td>800457.0</td>\n",
       "      <td>BBG000JQJC22</td>\n",
       "    </tr>\n",
       "    <tr>\n",
       "      <th>4028</th>\n",
       "      <td>DGICA</td>\n",
       "      <td>Donegal Group Inc</td>\n",
       "      <td>False</td>\n",
       "      <td>2022-08-26</td>\n",
       "      <td>2022-08-26</td>\n",
       "      <td>CS</td>\n",
       "      <td>948046.0</td>\n",
       "      <td>BBG000JQJC22</td>\n",
       "    </tr>\n",
       "    <tr>\n",
       "      <th>4029</th>\n",
       "      <td>DGICA</td>\n",
       "      <td>Donegal Group Inc</td>\n",
       "      <td>False</td>\n",
       "      <td>2022-08-29</td>\n",
       "      <td>2022-09-02</td>\n",
       "      <td>CS</td>\n",
       "      <td>800457.0</td>\n",
       "      <td>BBG000JQJC22</td>\n",
       "    </tr>\n",
       "    <tr>\n",
       "      <th>4030</th>\n",
       "      <td>DGICA</td>\n",
       "      <td>Donegal Group Inc</td>\n",
       "      <td>False</td>\n",
       "      <td>2022-09-06</td>\n",
       "      <td>2022-09-06</td>\n",
       "      <td>CS</td>\n",
       "      <td>948046.0</td>\n",
       "      <td>BBG000JQJC22</td>\n",
       "    </tr>\n",
       "    <tr>\n",
       "      <th>4031</th>\n",
       "      <td>DGICA</td>\n",
       "      <td>Donegal Group Inc</td>\n",
       "      <td>False</td>\n",
       "      <td>2022-09-07</td>\n",
       "      <td>2022-09-07</td>\n",
       "      <td>CS</td>\n",
       "      <td>800457.0</td>\n",
       "      <td>BBG000JQJC22</td>\n",
       "    </tr>\n",
       "  </tbody>\n",
       "</table>\n",
       "</div>"
      ],
      "text/plain": [
       "     ticker               name  active  start_date    end_date type       cik  \\\n",
       "4027  DGICA  Donegal Group Inc   False  2019-06-03  2022-08-25   CS  800457.0   \n",
       "4028  DGICA  Donegal Group Inc   False  2022-08-26  2022-08-26   CS  948046.0   \n",
       "4029  DGICA  Donegal Group Inc   False  2022-08-29  2022-09-02   CS  800457.0   \n",
       "4030  DGICA  Donegal Group Inc   False  2022-09-06  2022-09-06   CS  948046.0   \n",
       "4031  DGICA  Donegal Group Inc   False  2022-09-07  2022-09-07   CS  800457.0   \n",
       "\n",
       "     composite_figi  \n",
       "4027   BBG000JQJC22  \n",
       "4028   BBG000JQJC22  \n",
       "4029   BBG000JQJC22  \n",
       "4030   BBG000JQJC22  \n",
       "4031   BBG000JQJC22  "
      ]
     },
     "execution_count": 52,
     "metadata": {},
     "output_type": "execute_result"
    }
   ],
   "source": [
    "from collections import Counter\n",
    "print(Counter(duplicated[\"ticker\"].values.tolist()).most_common(5))\n",
    "duplicated[duplicated[\"ticker\"] == \"DGICA\"].head(5)\n",
    "# ???"
   ]
  },
  {
   "cell_type": "code",
   "execution_count": 53,
   "metadata": {},
   "outputs": [
    {
     "data": {
      "text/html": [
       "<div>\n",
       "<style scoped>\n",
       "    .dataframe tbody tr th:only-of-type {\n",
       "        vertical-align: middle;\n",
       "    }\n",
       "\n",
       "    .dataframe tbody tr th {\n",
       "        vertical-align: top;\n",
       "    }\n",
       "\n",
       "    .dataframe thead th {\n",
       "        text-align: right;\n",
       "    }\n",
       "</style>\n",
       "<table border=\"1\" class=\"dataframe\">\n",
       "  <thead>\n",
       "    <tr style=\"text-align: right;\">\n",
       "      <th></th>\n",
       "      <th>ticker</th>\n",
       "      <th>name</th>\n",
       "      <th>active</th>\n",
       "      <th>start_date</th>\n",
       "      <th>end_date</th>\n",
       "      <th>type</th>\n",
       "      <th>cik</th>\n",
       "      <th>composite_figi</th>\n",
       "    </tr>\n",
       "  </thead>\n",
       "  <tbody>\n",
       "    <tr>\n",
       "      <th>4104</th>\n",
       "      <td>DISCK</td>\n",
       "      <td>Discovery, Inc. Series C Common Stock</td>\n",
       "      <td>False</td>\n",
       "      <td>2019-06-03</td>\n",
       "      <td>2022-02-07</td>\n",
       "      <td>CS</td>\n",
       "      <td>1024333.0</td>\n",
       "      <td></td>\n",
       "    </tr>\n",
       "    <tr>\n",
       "      <th>4105</th>\n",
       "      <td>DISCK</td>\n",
       "      <td>Discovery, Inc. Series C Common Stock</td>\n",
       "      <td>False</td>\n",
       "      <td>2022-02-08</td>\n",
       "      <td>2022-02-08</td>\n",
       "      <td>CS</td>\n",
       "      <td>1024333.0</td>\n",
       "      <td>BBG000VMWHH5</td>\n",
       "    </tr>\n",
       "    <tr>\n",
       "      <th>4106</th>\n",
       "      <td>DISCK</td>\n",
       "      <td>Discovery, Inc. Series C Common Stock</td>\n",
       "      <td>False</td>\n",
       "      <td>2022-02-09</td>\n",
       "      <td>2022-03-02</td>\n",
       "      <td>CS</td>\n",
       "      <td>1024333.0</td>\n",
       "      <td></td>\n",
       "    </tr>\n",
       "    <tr>\n",
       "      <th>4107</th>\n",
       "      <td>DISCK</td>\n",
       "      <td>Discovery, Inc. Series C Common Stock</td>\n",
       "      <td>False</td>\n",
       "      <td>2022-03-03</td>\n",
       "      <td>2022-03-03</td>\n",
       "      <td>CS</td>\n",
       "      <td>1024333.0</td>\n",
       "      <td>BBG000VMWHH5</td>\n",
       "    </tr>\n",
       "    <tr>\n",
       "      <th>4108</th>\n",
       "      <td>DISCK</td>\n",
       "      <td>Discovery, Inc. Series C Common Stock</td>\n",
       "      <td>False</td>\n",
       "      <td>2022-03-04</td>\n",
       "      <td>2022-04-01</td>\n",
       "      <td>CS</td>\n",
       "      <td>1024333.0</td>\n",
       "      <td></td>\n",
       "    </tr>\n",
       "  </tbody>\n",
       "</table>\n",
       "</div>"
      ],
      "text/plain": [
       "     ticker                                   name  active  start_date  \\\n",
       "4104  DISCK  Discovery, Inc. Series C Common Stock   False  2019-06-03   \n",
       "4105  DISCK  Discovery, Inc. Series C Common Stock   False  2022-02-08   \n",
       "4106  DISCK  Discovery, Inc. Series C Common Stock   False  2022-02-09   \n",
       "4107  DISCK  Discovery, Inc. Series C Common Stock   False  2022-03-03   \n",
       "4108  DISCK  Discovery, Inc. Series C Common Stock   False  2022-03-04   \n",
       "\n",
       "        end_date type        cik composite_figi  \n",
       "4104  2022-02-07   CS  1024333.0                 \n",
       "4105  2022-02-08   CS  1024333.0   BBG000VMWHH5  \n",
       "4106  2022-03-02   CS  1024333.0                 \n",
       "4107  2022-03-03   CS  1024333.0   BBG000VMWHH5  \n",
       "4108  2022-04-01   CS  1024333.0                 "
      ]
     },
     "execution_count": 53,
     "metadata": {},
     "output_type": "execute_result"
    }
   ],
   "source": [
    "duplicated[duplicated[\"ticker\"] == \"DISCK\"].head(5)"
   ]
  },
  {
   "cell_type": "markdown",
   "metadata": {},
   "source": [
    "On average there are 3 duplicates for duplicated tickers. When we take a look it seems that it happens a lot that the name/cik/composite_figi gets changed, even though it is the same company and ticker. For example for ZWS the name is \"Zurn Water Solutions Corporation\" on 2022-07-01 but on the next trading day (4th July was a stock holiday) the name changes to \"Zurn Elkay Water Solutions Corporation\". "
   ]
  },
  {
   "cell_type": "markdown",
   "metadata": {},
   "source": [
    "# 3.5 Merging duplicates\n",
    "The most straightforward way to merge these duplicates is to see for every duplicate whether the the end_date (1st occurence) and start_date (2nd occurence) are consecutive *trading days*. Now you understand why we made the functions in notebook 2."
   ]
  },
  {
   "cell_type": "code",
   "execution_count": 54,
   "metadata": {},
   "outputs": [
    {
     "data": {
      "text/html": [
       "<div>\n",
       "<style scoped>\n",
       "    .dataframe tbody tr th:only-of-type {\n",
       "        vertical-align: middle;\n",
       "    }\n",
       "\n",
       "    .dataframe tbody tr th {\n",
       "        vertical-align: top;\n",
       "    }\n",
       "\n",
       "    .dataframe thead th {\n",
       "        text-align: right;\n",
       "    }\n",
       "</style>\n",
       "<table border=\"1\" class=\"dataframe\">\n",
       "  <thead>\n",
       "    <tr style=\"text-align: right;\">\n",
       "      <th></th>\n",
       "      <th>ticker</th>\n",
       "      <th>name</th>\n",
       "      <th>active</th>\n",
       "      <th>start_date</th>\n",
       "      <th>end_date</th>\n",
       "      <th>type</th>\n",
       "      <th>cik</th>\n",
       "      <th>composite_figi</th>\n",
       "    </tr>\n",
       "  </thead>\n",
       "  <tbody>\n",
       "    <tr>\n",
       "      <th>0</th>\n",
       "      <td>A</td>\n",
       "      <td>Agilent Technologies</td>\n",
       "      <td>False</td>\n",
       "      <td>2019-06-03</td>\n",
       "      <td>2019-08-16</td>\n",
       "      <td>CS</td>\n",
       "      <td>1090872.0</td>\n",
       "      <td>BBG000C2V3D6</td>\n",
       "    </tr>\n",
       "    <tr>\n",
       "      <th>1</th>\n",
       "      <td>A</td>\n",
       "      <td>Agilent Technologies Inc.</td>\n",
       "      <td>False</td>\n",
       "      <td>2019-08-19</td>\n",
       "      <td>2022-02-07</td>\n",
       "      <td>CS</td>\n",
       "      <td>1090872.0</td>\n",
       "      <td>BBG000C2V3D6</td>\n",
       "    </tr>\n",
       "    <tr>\n",
       "      <th>2</th>\n",
       "      <td>A</td>\n",
       "      <td>Agilent Technologies Inc.</td>\n",
       "      <td>False</td>\n",
       "      <td>2022-02-08</td>\n",
       "      <td>2022-02-08</td>\n",
       "      <td>CS</td>\n",
       "      <td>1090872.0</td>\n",
       "      <td>BBG000BWQYZ5</td>\n",
       "    </tr>\n",
       "  </tbody>\n",
       "</table>\n",
       "</div>"
      ],
      "text/plain": [
       "  ticker                       name  active  start_date    end_date type  \\\n",
       "0      A       Agilent Technologies   False  2019-06-03  2019-08-16   CS   \n",
       "1      A  Agilent Technologies Inc.   False  2019-08-19  2022-02-07   CS   \n",
       "2      A  Agilent Technologies Inc.   False  2022-02-08  2022-02-08   CS   \n",
       "\n",
       "         cik composite_figi  \n",
       "0  1090872.0   BBG000C2V3D6  \n",
       "1  1090872.0   BBG000C2V3D6  \n",
       "2  1090872.0   BBG000BWQYZ5  "
      ]
     },
     "execution_count": 54,
     "metadata": {},
     "output_type": "execute_result"
    }
   ],
   "source": [
    "tickers_v1.head(3)"
   ]
  },
  {
   "cell_type": "markdown",
   "metadata": {},
   "source": [
    "First we need to get the duplicates."
   ]
  },
  {
   "cell_type": "code",
   "execution_count": 55,
   "metadata": {},
   "outputs": [
    {
     "data": {
      "text/html": [
       "<div>\n",
       "<style scoped>\n",
       "    .dataframe tbody tr th:only-of-type {\n",
       "        vertical-align: middle;\n",
       "    }\n",
       "\n",
       "    .dataframe tbody tr th {\n",
       "        vertical-align: top;\n",
       "    }\n",
       "\n",
       "    .dataframe thead th {\n",
       "        text-align: right;\n",
       "    }\n",
       "</style>\n",
       "<table border=\"1\" class=\"dataframe\">\n",
       "  <thead>\n",
       "    <tr style=\"text-align: right;\">\n",
       "      <th></th>\n",
       "      <th>ticker</th>\n",
       "      <th>name</th>\n",
       "      <th>active</th>\n",
       "      <th>start_date</th>\n",
       "      <th>end_date</th>\n",
       "      <th>type</th>\n",
       "      <th>cik</th>\n",
       "      <th>composite_figi</th>\n",
       "    </tr>\n",
       "  </thead>\n",
       "  <tbody>\n",
       "  </tbody>\n",
       "</table>\n",
       "</div>"
      ],
      "text/plain": [
       "Empty DataFrame\n",
       "Columns: [ticker, name, active, start_date, end_date, type, cik, composite_figi]\n",
       "Index: []"
      ]
     },
     "execution_count": 55,
     "metadata": {},
     "output_type": "execute_result"
    }
   ],
   "source": [
    "tickers_v1 = get_tickers(1)\n",
    "duplicated = tickers_v1[tickers_v1[\"ticker\"].duplicated(keep=False)]\n",
    "active = duplicated[duplicated['active']]\n",
    "active[active[\"ticker\"].duplicated(keep=False)]"
   ]
  },
  {
   "cell_type": "code",
   "execution_count": 56,
   "metadata": {},
   "outputs": [],
   "source": [
    "###\n",
    "tickers_v1 = get_tickers(1)\n",
    "market_days = get_market_dates()\n",
    "\n",
    "duplicated = tickers_v1[tickers_v1[\"ticker\"].duplicated(keep=False)] # Get all duplicated, *including* the original\n",
    "\n",
    "# Step 1: Get the indices of the rows that should be merged.\n",
    "indices_duplicated = [] # looks like [['A', {1, 2, 3}], ['A', {4, 5}], ['B', {10, 11, 12, 13}]]\n",
    "prev_index_and_row = None\n",
    "prev_is_duplicate_and_back_to_back = False\n",
    "\n",
    "for index, row in duplicated.iterrows():\n",
    "    # Get attributes of previous ticker\n",
    "    if prev_index_and_row is not None:\n",
    "        prev_index = prev_index_and_row[0]\n",
    "        prev_row = prev_index_and_row[1]\n",
    "        prev_ticker = prev_row[\"ticker\"]\n",
    "        prev_name = prev_row[\"name\"]\n",
    "        prev_start_date = prev_row[\"start_date\"]\n",
    "        prev_end_date = prev_row[\"end_date\"]\n",
    "        prev_cik = prev_row[\"cik\"]\n",
    "        prev_figi = prev_row[\"composite_figi\"]\n",
    "\n",
    "    # Get attributes of current ticker\n",
    "    current_index = index\n",
    "    current_row = row\n",
    "    current_ticker = current_row[\"ticker\"]\n",
    "    current_name = current_row[\"name\"]\n",
    "    current_start_date = current_row[\"start_date\"]\n",
    "    current_end_date = current_row[\"end_date\"]\n",
    "    current_cik = current_row[\"cik\"]\n",
    "    current_figi = current_row[\"composite_figi\"]\n",
    "    \n",
    "    # Skip first index\n",
    "    if prev_index_and_row is None:\n",
    "        pass\n",
    "    # Check if ticker duplicated and back-to-back\n",
    "    elif prev_ticker == current_ticker and market_days[market_days.index(prev_end_date) + 1] == current_start_date:\n",
    "        # If the previous was NOT duplicated/back-to-back, we need to create a new entry for the stock\n",
    "        if prev_is_duplicate_and_back_to_back == False:\n",
    "            indices_duplicated.append([current_ticker, {prev_index, current_index}])\n",
    "        # Else the stock already exists in the list. Then simply append the indices.\n",
    "        else:\n",
    "            indices_duplicated[-1][-1].add(prev_index)\n",
    "            indices_duplicated[-1][-1].add(current_index)\n",
    "        \n",
    "        # Update flag\n",
    "        prev_is_duplicate_and_back_to_back = True\n",
    "    else:\n",
    "        prev_is_duplicate_and_back_to_back = False\n",
    "\n",
    "    # Update prev_index_and_row for next iteration\n",
    "    prev_index_and_row = (current_index, row)"
   ]
  },
  {
   "cell_type": "code",
   "execution_count": 57,
   "metadata": {},
   "outputs": [
    {
     "name": "stdout",
     "output_type": "stream",
     "text": [
      "3033\n",
      "[['A', {0, 1, 2, 3}], ['AADI', {12, 13}], ['AAGR', {14, 15}]]\n"
     ]
    }
   ],
   "source": [
    "print(len(indices_duplicated))\n",
    "print(indices_duplicated[:3])"
   ]
  },
  {
   "cell_type": "markdown",
   "metadata": {},
   "source": [
    "Very rarely, it happens that the same ticker, but not the same company, has duplicates. E.g. if in our ticker list the first 5 rows is the ticker AAA, but the start and end dates are (1, 2), (2, 3), (3, 4), (9, 10), (10, 11), this means that these are two different companies. Then indices_duplicated contains ['AAA', {1, 2, 3, 4}] and ['AAA, {10, 11}]. If it *is* the same company, it managed to get delisted to OTC and revive to get their listing back. Or something is wrong with Polygons data."
   ]
  },
  {
   "cell_type": "code",
   "execution_count": null,
   "metadata": {},
   "outputs": [],
   "source": [
    "# See which tickers are duplicated in indices_duplicated.\n",
    "tickers_duplicates = set() \n",
    "for ticker, indices in indices_duplicated:\n",
    "    if ticker in tickers_duplicates:\n",
    "        print(ticker)\n",
    "    tickers_duplicates.add(ticker)"
   ]
  },
  {
   "cell_type": "markdown",
   "metadata": {},
   "source": [
    "Now that we have a list of indices of the duplicated tickers, we can merge them together. We do this by looping over <code>indices_duplicated</code> and then changing all duplicated rows to get the correct values. Then we remove the duplicates."
   ]
  },
  {
   "cell_type": "code",
   "execution_count": 59,
   "metadata": {},
   "outputs": [],
   "source": [
    "###\n",
    "\n",
    "# Step 2: Merge duplicated in tickers_all\n",
    "\"\"\"\n",
    "Which value is assigned:\n",
    "    name: last\n",
    "    active: last\n",
    "    start_date: first\n",
    "    end_date: last\n",
    "    type: last (but does not matter as it is always CS or ADRC)\n",
    "    cik: last value that is not NaN\n",
    "    compositite_figi: last value that is not NaN\n",
    "\"\"\"\n",
    "for ticker, indices in indices_duplicated:\n",
    "    # CAUTION: Make sure that indices is sorted! Else it can happen that end_date is before start_date. I only found this out later. Moral: Always do sanity checks.\n",
    "    indices = sorted(list(indices))\n",
    "    ticker_data_in_tickers_v1 = tickers_v1.iloc[indices, :]\n",
    "    tickers_v1.iloc[indices, tickers_v1.columns.get_loc(\"name\")] = ticker_data_in_tickers_v1[\"name\"].values[-1]\n",
    "    tickers_v1.iloc[indices, tickers_v1.columns.get_loc(\"active\")] = ticker_data_in_tickers_v1[\"active\"].values[-1]\n",
    "    tickers_v1.iloc[indices, tickers_v1.columns.get_loc(\"start_date\")] = ticker_data_in_tickers_v1[\"start_date\"].values[0]\n",
    "    tickers_v1.iloc[indices, tickers_v1.columns.get_loc(\"end_date\")] = ticker_data_in_tickers_v1[\"end_date\"].values[-1]\n",
    "    tickers_v1.iloc[indices, tickers_v1.columns.get_loc(\"type\")] = ticker_data_in_tickers_v1[\"type\"].values[-1]\n",
    "    tickers_v1.iloc[indices, tickers_v1.columns.get_loc(\"cik\")] = ticker_data_in_tickers_v1[\"cik\"].ffill().values[-1]\n",
    "    tickers_v1.iloc[indices, tickers_v1.columns.get_loc(\"composite_figi\")] = ticker_data_in_tickers_v1[\"composite_figi\"].ffill().values[-1]\n",
    "\n",
    "tickers_v1 = tickers_v1.drop_duplicates().reset_index(drop=True)"
   ]
  },
  {
   "cell_type": "code",
   "execution_count": 60,
   "metadata": {},
   "outputs": [
    {
     "data": {
      "text/plain": [
       "9766"
      ]
     },
     "execution_count": 60,
     "metadata": {},
     "output_type": "execute_result"
    }
   ],
   "source": [
    "len(tickers_v1)"
   ]
  },
  {
   "cell_type": "markdown",
   "metadata": {},
   "source": [
    "Now only a fraction of the original duplicated tickers remain."
   ]
  },
  {
   "cell_type": "code",
   "execution_count": 61,
   "metadata": {},
   "outputs": [
    {
     "name": "stdout",
     "output_type": "stream",
     "text": [
      "602\n"
     ]
    },
    {
     "data": {
      "text/html": [
       "<div>\n",
       "<style scoped>\n",
       "    .dataframe tbody tr th:only-of-type {\n",
       "        vertical-align: middle;\n",
       "    }\n",
       "\n",
       "    .dataframe tbody tr th {\n",
       "        vertical-align: top;\n",
       "    }\n",
       "\n",
       "    .dataframe thead th {\n",
       "        text-align: right;\n",
       "    }\n",
       "</style>\n",
       "<table border=\"1\" class=\"dataframe\">\n",
       "  <thead>\n",
       "    <tr style=\"text-align: right;\">\n",
       "      <th></th>\n",
       "      <th>ticker</th>\n",
       "      <th>name</th>\n",
       "      <th>active</th>\n",
       "      <th>start_date</th>\n",
       "      <th>end_date</th>\n",
       "      <th>type</th>\n",
       "      <th>cik</th>\n",
       "      <th>composite_figi</th>\n",
       "    </tr>\n",
       "  </thead>\n",
       "  <tbody>\n",
       "    <tr>\n",
       "      <th>3</th>\n",
       "      <td>AAC</td>\n",
       "      <td>AAC Holdings, Inc.</td>\n",
       "      <td>False</td>\n",
       "      <td>2019-06-03</td>\n",
       "      <td>2019-10-25</td>\n",
       "      <td>CS</td>\n",
       "      <td>1606180.0</td>\n",
       "      <td>BBG00K1Y3PT9</td>\n",
       "    </tr>\n",
       "    <tr>\n",
       "      <th>4</th>\n",
       "      <td>AAC</td>\n",
       "      <td>Ares Acquisition Corporation</td>\n",
       "      <td>False</td>\n",
       "      <td>2021-03-25</td>\n",
       "      <td>2023-11-06</td>\n",
       "      <td>CS</td>\n",
       "      <td>1829432.0</td>\n",
       "      <td></td>\n",
       "    </tr>\n",
       "    <tr>\n",
       "      <th>26</th>\n",
       "      <td>AAXN</td>\n",
       "      <td>Axon Enterprise, Inc. Common Stock</td>\n",
       "      <td>False</td>\n",
       "      <td>2019-06-03</td>\n",
       "      <td>2021-01-25</td>\n",
       "      <td>CS</td>\n",
       "      <td>1069183.0</td>\n",
       "      <td>BBG000BHJWG1</td>\n",
       "    </tr>\n",
       "    <tr>\n",
       "      <th>27</th>\n",
       "      <td>AAXN</td>\n",
       "      <td>Axon Enterprise, Inc. Common Stock</td>\n",
       "      <td>True</td>\n",
       "      <td>2023-09-08</td>\n",
       "      <td>2024-03-01</td>\n",
       "      <td>CS</td>\n",
       "      <td>1069183.0</td>\n",
       "      <td>BBG000BHJWG1</td>\n",
       "    </tr>\n",
       "    <tr>\n",
       "      <th>41</th>\n",
       "      <td>ABIL</td>\n",
       "      <td>Ability Inc Ordinary Shares</td>\n",
       "      <td>False</td>\n",
       "      <td>2019-06-03</td>\n",
       "      <td>2019-12-26</td>\n",
       "      <td>CS</td>\n",
       "      <td>1652866.0</td>\n",
       "      <td></td>\n",
       "    </tr>\n",
       "  </tbody>\n",
       "</table>\n",
       "</div>"
      ],
      "text/plain": [
       "   ticker                                name  active  start_date    end_date  \\\n",
       "3     AAC                  AAC Holdings, Inc.   False  2019-06-03  2019-10-25   \n",
       "4     AAC        Ares Acquisition Corporation   False  2021-03-25  2023-11-06   \n",
       "26   AAXN  Axon Enterprise, Inc. Common Stock   False  2019-06-03  2021-01-25   \n",
       "27   AAXN  Axon Enterprise, Inc. Common Stock    True  2023-09-08  2024-03-01   \n",
       "41   ABIL         Ability Inc Ordinary Shares   False  2019-06-03  2019-12-26   \n",
       "\n",
       "   type        cik composite_figi  \n",
       "3    CS  1606180.0   BBG00K1Y3PT9  \n",
       "4    CS  1829432.0                 \n",
       "26   CS  1069183.0   BBG000BHJWG1  \n",
       "27   CS  1069183.0   BBG000BHJWG1  \n",
       "41   CS  1652866.0                 "
      ]
     },
     "execution_count": 61,
     "metadata": {},
     "output_type": "execute_result"
    }
   ],
   "source": [
    "duplicated = tickers_v1[tickers_v1[\"ticker\"].duplicated(keep=False)]\n",
    "print(len(duplicated[\"ticker\"].unique()))\n",
    "pd.set_option('display.max_rows', None)\n",
    "\n",
    "duplicated.head(5)"
   ]
  },
  {
   "cell_type": "markdown",
   "metadata": {},
   "source": [
    "We can see that some are the same company but not back-to-back. Some are different companies or went OTC and back, these are correct. However, for a lot of stocks, the first occurence only trades for a few days. That makes no sense. If you try to download data for these dates, you will see that there exists none.\n",
    "\n",
    "So some stocks have a 'ghost' day just before their IPO. E.g. YGF was IPO'd on 2023-03-28. But on 2023-03-24 had a entry with start_date and end_date of just one day. This is the same with VCIG, which had 2 'ghost' days on 2023-03-22 and 2023-04-06. For SXTP, the ghost days were actually two. Investigating the stocks that only have 1 day in our ticker list also shows funds (that are NOT common stocks!).\n",
    "\n",
    "Nevertheless, if start_date is equal to end_date, it's always unusable and something is wrong. So we will first remove all tickers that only exist for one day."
   ]
  },
  {
   "cell_type": "code",
   "execution_count": 62,
   "metadata": {},
   "outputs": [
    {
     "name": "stdout",
     "output_type": "stream",
     "text": [
      "552\n"
     ]
    },
    {
     "data": {
      "text/html": [
       "<div>\n",
       "<style scoped>\n",
       "    .dataframe tbody tr th:only-of-type {\n",
       "        vertical-align: middle;\n",
       "    }\n",
       "\n",
       "    .dataframe tbody tr th {\n",
       "        vertical-align: top;\n",
       "    }\n",
       "\n",
       "    .dataframe thead th {\n",
       "        text-align: right;\n",
       "    }\n",
       "</style>\n",
       "<table border=\"1\" class=\"dataframe\">\n",
       "  <thead>\n",
       "    <tr style=\"text-align: right;\">\n",
       "      <th></th>\n",
       "      <th>ticker</th>\n",
       "      <th>name</th>\n",
       "      <th>active</th>\n",
       "      <th>start_date</th>\n",
       "      <th>end_date</th>\n",
       "      <th>type</th>\n",
       "      <th>cik</th>\n",
       "      <th>composite_figi</th>\n",
       "    </tr>\n",
       "  </thead>\n",
       "  <tbody>\n",
       "    <tr>\n",
       "      <th>98</th>\n",
       "      <td>ACLL</td>\n",
       "      <td>ACell, Inc. Common Stock</td>\n",
       "      <td>False</td>\n",
       "      <td>2020-07-17</td>\n",
       "      <td>2020-07-17</td>\n",
       "      <td>CS</td>\n",
       "      <td></td>\n",
       "      <td></td>\n",
       "    </tr>\n",
       "    <tr>\n",
       "      <th>110</th>\n",
       "      <td>ACP</td>\n",
       "      <td>abrdn Income Credit Strategies Fund</td>\n",
       "      <td>False</td>\n",
       "      <td>2022-08-22</td>\n",
       "      <td>2022-08-22</td>\n",
       "      <td>CS</td>\n",
       "      <td>1503290.0</td>\n",
       "      <td>BBG0017VSC04</td>\n",
       "    </tr>\n",
       "    <tr>\n",
       "      <th>120</th>\n",
       "      <td>ACT</td>\n",
       "      <td>Enact Holdings, Inc. Common Stock</td>\n",
       "      <td>False</td>\n",
       "      <td>2021-05-13</td>\n",
       "      <td>2021-05-13</td>\n",
       "      <td>CS</td>\n",
       "      <td>1823529.0</td>\n",
       "      <td>BBG00WSNP4R3</td>\n",
       "    </tr>\n",
       "    <tr>\n",
       "      <th>128</th>\n",
       "      <td>ACV</td>\n",
       "      <td>Virtus Diversified Income &amp; Convertible Fund</td>\n",
       "      <td>False</td>\n",
       "      <td>2022-08-22</td>\n",
       "      <td>2022-08-22</td>\n",
       "      <td>CS</td>\n",
       "      <td>1636289.0</td>\n",
       "      <td>BBG008HMBD22</td>\n",
       "    </tr>\n",
       "    <tr>\n",
       "      <th>137</th>\n",
       "      <td>ADCT</td>\n",
       "      <td>ADC Therapeutics SA</td>\n",
       "      <td>False</td>\n",
       "      <td>2019-10-02</td>\n",
       "      <td>2019-10-02</td>\n",
       "      <td>CS</td>\n",
       "      <td>1771910.0</td>\n",
       "      <td></td>\n",
       "    </tr>\n",
       "  </tbody>\n",
       "</table>\n",
       "</div>"
      ],
      "text/plain": [
       "    ticker                                          name  active  start_date  \\\n",
       "98    ACLL                      ACell, Inc. Common Stock   False  2020-07-17   \n",
       "110    ACP           abrdn Income Credit Strategies Fund   False  2022-08-22   \n",
       "120    ACT             Enact Holdings, Inc. Common Stock   False  2021-05-13   \n",
       "128    ACV  Virtus Diversified Income & Convertible Fund   False  2022-08-22   \n",
       "137   ADCT                           ADC Therapeutics SA   False  2019-10-02   \n",
       "\n",
       "       end_date type        cik composite_figi  \n",
       "98   2020-07-17   CS                            \n",
       "110  2022-08-22   CS  1503290.0   BBG0017VSC04  \n",
       "120  2021-05-13   CS  1823529.0   BBG00WSNP4R3  \n",
       "128  2022-08-22   CS  1636289.0   BBG008HMBD22  \n",
       "137  2019-10-02   CS  1771910.0                 "
      ]
     },
     "execution_count": 62,
     "metadata": {},
     "output_type": "execute_result"
    }
   ],
   "source": [
    "ghost_days = tickers_v1[(tickers_v1[\"end_date\"] - tickers_v1[\"start_date\"]) == timedelta(days=0)]\n",
    "print(len(ghost_days))\n",
    "ghost_days.head(5)"
   ]
  },
  {
   "cell_type": "code",
   "execution_count": 63,
   "metadata": {},
   "outputs": [
    {
     "data": {
      "text/plain": [
       "9216"
      ]
     },
     "execution_count": 63,
     "metadata": {},
     "output_type": "execute_result"
    }
   ],
   "source": [
    "###\n",
    "\n",
    "# Only keep tickers that have >1 day history. But if they were just listed, keep them anyways.\n",
    "tickers_v1 = tickers_v1[((tickers_v1[\"end_date\"] - tickers_v1[\"start_date\"]) > timedelta(days=0)) | \n",
    "                        (tickers_v1[\"end_date\"] == market_days[market_days.index(END_DATE) - 1])]\n",
    "len(tickers_v1)"
   ]
  },
  {
   "cell_type": "markdown",
   "metadata": {},
   "source": [
    "The remaining duplicates are:"
   ]
  },
  {
   "cell_type": "code",
   "execution_count": 64,
   "metadata": {},
   "outputs": [
    {
     "name": "stdout",
     "output_type": "stream",
     "text": [
      "171\n"
     ]
    },
    {
     "data": {
      "text/html": [
       "<div>\n",
       "<style scoped>\n",
       "    .dataframe tbody tr th:only-of-type {\n",
       "        vertical-align: middle;\n",
       "    }\n",
       "\n",
       "    .dataframe tbody tr th {\n",
       "        vertical-align: top;\n",
       "    }\n",
       "\n",
       "    .dataframe thead th {\n",
       "        text-align: right;\n",
       "    }\n",
       "</style>\n",
       "<table border=\"1\" class=\"dataframe\">\n",
       "  <thead>\n",
       "    <tr style=\"text-align: right;\">\n",
       "      <th></th>\n",
       "      <th>ticker</th>\n",
       "      <th>name</th>\n",
       "      <th>active</th>\n",
       "      <th>start_date</th>\n",
       "      <th>end_date</th>\n",
       "      <th>type</th>\n",
       "      <th>cik</th>\n",
       "      <th>composite_figi</th>\n",
       "    </tr>\n",
       "  </thead>\n",
       "  <tbody>\n",
       "    <tr>\n",
       "      <th>3</th>\n",
       "      <td>AAC</td>\n",
       "      <td>AAC Holdings, Inc.</td>\n",
       "      <td>False</td>\n",
       "      <td>2019-06-03</td>\n",
       "      <td>2019-10-25</td>\n",
       "      <td>CS</td>\n",
       "      <td>1606180.0</td>\n",
       "      <td>BBG00K1Y3PT9</td>\n",
       "    </tr>\n",
       "    <tr>\n",
       "      <th>4</th>\n",
       "      <td>AAC</td>\n",
       "      <td>Ares Acquisition Corporation</td>\n",
       "      <td>False</td>\n",
       "      <td>2021-03-25</td>\n",
       "      <td>2023-11-06</td>\n",
       "      <td>CS</td>\n",
       "      <td>1829432.0</td>\n",
       "      <td></td>\n",
       "    </tr>\n",
       "    <tr>\n",
       "      <th>26</th>\n",
       "      <td>AAXN</td>\n",
       "      <td>Axon Enterprise, Inc. Common Stock</td>\n",
       "      <td>False</td>\n",
       "      <td>2019-06-03</td>\n",
       "      <td>2021-01-25</td>\n",
       "      <td>CS</td>\n",
       "      <td>1069183.0</td>\n",
       "      <td>BBG000BHJWG1</td>\n",
       "    </tr>\n",
       "    <tr>\n",
       "      <th>27</th>\n",
       "      <td>AAXN</td>\n",
       "      <td>Axon Enterprise, Inc. Common Stock</td>\n",
       "      <td>True</td>\n",
       "      <td>2023-09-08</td>\n",
       "      <td>2024-03-01</td>\n",
       "      <td>CS</td>\n",
       "      <td>1069183.0</td>\n",
       "      <td>BBG000BHJWG1</td>\n",
       "    </tr>\n",
       "    <tr>\n",
       "      <th>41</th>\n",
       "      <td>ABIL</td>\n",
       "      <td>Ability Inc Ordinary Shares</td>\n",
       "      <td>False</td>\n",
       "      <td>2019-06-03</td>\n",
       "      <td>2019-12-26</td>\n",
       "      <td>CS</td>\n",
       "      <td>1652866.0</td>\n",
       "      <td></td>\n",
       "    </tr>\n",
       "  </tbody>\n",
       "</table>\n",
       "</div>"
      ],
      "text/plain": [
       "   ticker                                name  active  start_date    end_date  \\\n",
       "3     AAC                  AAC Holdings, Inc.   False  2019-06-03  2019-10-25   \n",
       "4     AAC        Ares Acquisition Corporation   False  2021-03-25  2023-11-06   \n",
       "26   AAXN  Axon Enterprise, Inc. Common Stock   False  2019-06-03  2021-01-25   \n",
       "27   AAXN  Axon Enterprise, Inc. Common Stock    True  2023-09-08  2024-03-01   \n",
       "41   ABIL         Ability Inc Ordinary Shares   False  2019-06-03  2019-12-26   \n",
       "\n",
       "   type        cik composite_figi  \n",
       "3    CS  1606180.0   BBG00K1Y3PT9  \n",
       "4    CS  1829432.0                 \n",
       "26   CS  1069183.0   BBG000BHJWG1  \n",
       "27   CS  1069183.0   BBG000BHJWG1  \n",
       "41   CS  1652866.0                 "
      ]
     },
     "execution_count": 64,
     "metadata": {},
     "output_type": "execute_result"
    }
   ],
   "source": [
    "duplicated = tickers_v1[tickers_v1[\"ticker\"].duplicated(keep=False)]\n",
    "print(len(duplicated[\"ticker\"].unique()))\n",
    "\n",
    "duplicated.head(5)"
   ]
  },
  {
   "cell_type": "markdown",
   "metadata": {},
   "source": [
    "We need to keep in mind that the <code>start_date</code> and <code>end_date</code> may not be the start/end dates of the data. To determine the data dates, we need to loop through the ticker list and see whether the data exists. \n",
    "\n",
    "However, after we have downloaded our data, we can just infer it. So we will postpone this to avoid doing it twice."
   ]
  },
  {
   "cell_type": "markdown",
   "metadata": {},
   "source": [
    "# 3.6 Removing incorrect classes\n",
    "There are still some weird or incorrect stock classes that we have to remove. These were found by just looking through the ticker list.\n",
    "\n",
    "These are:\n",
    "- Funds\n",
    "- Preferred stock/bonds\n",
    "- A \"w\" appended to the stock ticker\n",
    "- \"Ex-distribution\" or \"When-issued\" conditions"
   ]
  },
  {
   "cell_type": "code",
   "execution_count": 65,
   "metadata": {},
   "outputs": [
    {
     "name": "stdout",
     "output_type": "stream",
     "text": [
      "141\n"
     ]
    },
    {
     "data": {
      "text/html": [
       "<div>\n",
       "<style scoped>\n",
       "    .dataframe tbody tr th:only-of-type {\n",
       "        vertical-align: middle;\n",
       "    }\n",
       "\n",
       "    .dataframe tbody tr th {\n",
       "        vertical-align: top;\n",
       "    }\n",
       "\n",
       "    .dataframe thead th {\n",
       "        text-align: right;\n",
       "    }\n",
       "</style>\n",
       "<table border=\"1\" class=\"dataframe\">\n",
       "  <thead>\n",
       "    <tr style=\"text-align: right;\">\n",
       "      <th></th>\n",
       "      <th>ticker</th>\n",
       "      <th>name</th>\n",
       "      <th>active</th>\n",
       "      <th>start_date</th>\n",
       "      <th>end_date</th>\n",
       "      <th>type</th>\n",
       "      <th>cik</th>\n",
       "      <th>composite_figi</th>\n",
       "    </tr>\n",
       "  </thead>\n",
       "  <tbody>\n",
       "    <tr>\n",
       "      <th>127</th>\n",
       "      <td>ACV</td>\n",
       "      <td>AllianzGI Div Inc &amp; Convert Fund</td>\n",
       "      <td>False</td>\n",
       "      <td>2019-06-03</td>\n",
       "      <td>2019-08-14</td>\n",
       "      <td>CS</td>\n",
       "      <td>1636289.0</td>\n",
       "      <td></td>\n",
       "    </tr>\n",
       "    <tr>\n",
       "      <th>176</th>\n",
       "      <td>ADX</td>\n",
       "      <td>Adams Diversified Equity Fund</td>\n",
       "      <td>False</td>\n",
       "      <td>2019-06-03</td>\n",
       "      <td>2019-08-09</td>\n",
       "      <td>CS</td>\n",
       "      <td>2230.0</td>\n",
       "      <td>BBG000BB8MR6</td>\n",
       "    </tr>\n",
       "    <tr>\n",
       "      <th>234</th>\n",
       "      <td>AFT</td>\n",
       "      <td>Apollo Senior Floating Rate Fund Inc.</td>\n",
       "      <td>False</td>\n",
       "      <td>2019-06-03</td>\n",
       "      <td>2019-09-05</td>\n",
       "      <td>CS</td>\n",
       "      <td>1502573.0</td>\n",
       "      <td>BBG00174L007</td>\n",
       "    </tr>\n",
       "  </tbody>\n",
       "</table>\n",
       "</div>"
      ],
      "text/plain": [
       "    ticker                                   name  active  start_date  \\\n",
       "127    ACV       AllianzGI Div Inc & Convert Fund   False  2019-06-03   \n",
       "176    ADX          Adams Diversified Equity Fund   False  2019-06-03   \n",
       "234    AFT  Apollo Senior Floating Rate Fund Inc.   False  2019-06-03   \n",
       "\n",
       "       end_date type        cik composite_figi  \n",
       "127  2019-08-14   CS  1636289.0                 \n",
       "176  2019-08-09   CS     2230.0   BBG000BB8MR6  \n",
       "234  2019-09-05   CS  1502573.0   BBG00174L007  "
      ]
     },
     "execution_count": 65,
     "metadata": {},
     "output_type": "execute_result"
    }
   ],
   "source": [
    "###\n",
    "funds = tickers_v1[tickers_v1['name'].apply(lambda s: \"Fund\" in s.split())]\n",
    "print(len(funds))\n",
    "funds.head(3)"
   ]
  },
  {
   "cell_type": "code",
   "execution_count": 66,
   "metadata": {},
   "outputs": [
    {
     "name": "stdout",
     "output_type": "stream",
     "text": [
      "55\n"
     ]
    },
    {
     "data": {
      "text/html": [
       "<div>\n",
       "<style scoped>\n",
       "    .dataframe tbody tr th:only-of-type {\n",
       "        vertical-align: middle;\n",
       "    }\n",
       "\n",
       "    .dataframe tbody tr th {\n",
       "        vertical-align: top;\n",
       "    }\n",
       "\n",
       "    .dataframe thead th {\n",
       "        text-align: right;\n",
       "    }\n",
       "</style>\n",
       "<table border=\"1\" class=\"dataframe\">\n",
       "  <thead>\n",
       "    <tr style=\"text-align: right;\">\n",
       "      <th></th>\n",
       "      <th>ticker</th>\n",
       "      <th>name</th>\n",
       "      <th>active</th>\n",
       "      <th>start_date</th>\n",
       "      <th>end_date</th>\n",
       "      <th>type</th>\n",
       "      <th>cik</th>\n",
       "      <th>composite_figi</th>\n",
       "    </tr>\n",
       "  </thead>\n",
       "  <tbody>\n",
       "    <tr>\n",
       "      <th>45</th>\n",
       "      <td>ABLLL</td>\n",
       "      <td>Abacus Life, Inc. 9.875% Fixed Rate Senior Not...</td>\n",
       "      <td>True</td>\n",
       "      <td>2023-11-28</td>\n",
       "      <td>2024-03-01</td>\n",
       "      <td>CS</td>\n",
       "      <td></td>\n",
       "      <td></td>\n",
       "    </tr>\n",
       "    <tr>\n",
       "      <th>83</th>\n",
       "      <td>ACGLN</td>\n",
       "      <td>Arch Capital Group Ltd. Depositary Shares, eac...</td>\n",
       "      <td>True</td>\n",
       "      <td>2023-05-08</td>\n",
       "      <td>2024-03-01</td>\n",
       "      <td>CS</td>\n",
       "      <td>947484.0</td>\n",
       "      <td></td>\n",
       "    </tr>\n",
       "    <tr>\n",
       "      <th>263</th>\n",
       "      <td>AGNCL</td>\n",
       "      <td>AGNC Investment Corp. Depositary Shares Each R...</td>\n",
       "      <td>True</td>\n",
       "      <td>2023-05-08</td>\n",
       "      <td>2024-03-01</td>\n",
       "      <td>CS</td>\n",
       "      <td>1423689.0</td>\n",
       "      <td></td>\n",
       "    </tr>\n",
       "  </tbody>\n",
       "</table>\n",
       "</div>"
      ],
      "text/plain": [
       "    ticker                                               name  active  \\\n",
       "45   ABLLL  Abacus Life, Inc. 9.875% Fixed Rate Senior Not...    True   \n",
       "83   ACGLN  Arch Capital Group Ltd. Depositary Shares, eac...    True   \n",
       "263  AGNCL  AGNC Investment Corp. Depositary Shares Each R...    True   \n",
       "\n",
       "     start_date    end_date type        cik composite_figi  \n",
       "45   2023-11-28  2024-03-01   CS                            \n",
       "83   2023-05-08  2024-03-01   CS   947484.0                 \n",
       "263  2023-05-08  2024-03-01   CS  1423689.0                 "
      ]
     },
     "execution_count": 66,
     "metadata": {},
     "output_type": "execute_result"
    }
   ],
   "source": [
    "###\n",
    "notes = tickers_v1[tickers_v1['name'].str.contains('%')]\n",
    "print(len(notes))\n",
    "notes.head(3)"
   ]
  },
  {
   "cell_type": "code",
   "execution_count": 67,
   "metadata": {},
   "outputs": [
    {
     "name": "stdout",
     "output_type": "stream",
     "text": [
      "114\n"
     ]
    },
    {
     "data": {
      "text/html": [
       "<div>\n",
       "<style scoped>\n",
       "    .dataframe tbody tr th:only-of-type {\n",
       "        vertical-align: middle;\n",
       "    }\n",
       "\n",
       "    .dataframe tbody tr th {\n",
       "        vertical-align: top;\n",
       "    }\n",
       "\n",
       "    .dataframe thead th {\n",
       "        text-align: right;\n",
       "    }\n",
       "</style>\n",
       "<table border=\"1\" class=\"dataframe\">\n",
       "  <thead>\n",
       "    <tr style=\"text-align: right;\">\n",
       "      <th></th>\n",
       "      <th>ticker</th>\n",
       "      <th>name</th>\n",
       "      <th>active</th>\n",
       "      <th>start_date</th>\n",
       "      <th>end_date</th>\n",
       "      <th>type</th>\n",
       "      <th>cik</th>\n",
       "      <th>composite_figi</th>\n",
       "    </tr>\n",
       "  </thead>\n",
       "  <tbody>\n",
       "    <tr>\n",
       "      <th>16</th>\n",
       "      <td>AANw</td>\n",
       "      <td>The Aaron''s Company, Inc.</td>\n",
       "      <td>False</td>\n",
       "      <td>2020-11-25</td>\n",
       "      <td>2020-11-30</td>\n",
       "      <td>CS</td>\n",
       "      <td>1821393.0</td>\n",
       "      <td>BBG00WCNDCZ6</td>\n",
       "    </tr>\n",
       "    <tr>\n",
       "      <th>167</th>\n",
       "      <td>ADSw</td>\n",
       "      <td>Alliance Data Systems Corporation</td>\n",
       "      <td>False</td>\n",
       "      <td>2021-11-01</td>\n",
       "      <td>2021-11-05</td>\n",
       "      <td>CS</td>\n",
       "      <td>1101215.0</td>\n",
       "      <td></td>\n",
       "    </tr>\n",
       "    <tr>\n",
       "      <th>309</th>\n",
       "      <td>AIRCw</td>\n",
       "      <td>Apartment Income REIT Corp.</td>\n",
       "      <td>False</td>\n",
       "      <td>2020-12-03</td>\n",
       "      <td>2020-12-14</td>\n",
       "      <td>CS</td>\n",
       "      <td>1820877.0</td>\n",
       "      <td>BBG00XK3WVD0</td>\n",
       "    </tr>\n",
       "  </tbody>\n",
       "</table>\n",
       "</div>"
      ],
      "text/plain": [
       "    ticker                               name  active  start_date    end_date  \\\n",
       "16    AANw         The Aaron''s Company, Inc.   False  2020-11-25  2020-11-30   \n",
       "167   ADSw  Alliance Data Systems Corporation   False  2021-11-01  2021-11-05   \n",
       "309  AIRCw        Apartment Income REIT Corp.   False  2020-12-03  2020-12-14   \n",
       "\n",
       "    type        cik composite_figi  \n",
       "16    CS  1821393.0   BBG00WCNDCZ6  \n",
       "167   CS  1101215.0                 \n",
       "309   CS  1820877.0   BBG00XK3WVD0  "
      ]
     },
     "execution_count": 67,
     "metadata": {},
     "output_type": "execute_result"
    }
   ],
   "source": [
    "###\n",
    "tickers_w = tickers_v1[tickers_v1[\"ticker\"].str.contains(\"w\")]\n",
    "print(len(tickers_w))\n",
    "tickers_w.head(3)"
   ]
  },
  {
   "cell_type": "code",
   "execution_count": 68,
   "metadata": {},
   "outputs": [
    {
     "name": "stdout",
     "output_type": "stream",
     "text": [
      "68\n"
     ]
    },
    {
     "data": {
      "text/html": [
       "<div>\n",
       "<style scoped>\n",
       "    .dataframe tbody tr th:only-of-type {\n",
       "        vertical-align: middle;\n",
       "    }\n",
       "\n",
       "    .dataframe tbody tr th {\n",
       "        vertical-align: top;\n",
       "    }\n",
       "\n",
       "    .dataframe thead th {\n",
       "        text-align: right;\n",
       "    }\n",
       "</style>\n",
       "<table border=\"1\" class=\"dataframe\">\n",
       "  <thead>\n",
       "    <tr style=\"text-align: right;\">\n",
       "      <th></th>\n",
       "      <th>ticker</th>\n",
       "      <th>name</th>\n",
       "      <th>active</th>\n",
       "      <th>start_date</th>\n",
       "      <th>end_date</th>\n",
       "      <th>type</th>\n",
       "      <th>cik</th>\n",
       "      <th>composite_figi</th>\n",
       "    </tr>\n",
       "  </thead>\n",
       "  <tbody>\n",
       "    <tr>\n",
       "      <th>141</th>\n",
       "      <td>ADEAV</td>\n",
       "      <td>Adeia Inc. Common Stock Ex-distribution When I...</td>\n",
       "      <td>False</td>\n",
       "      <td>2022-09-20</td>\n",
       "      <td>2022-09-30</td>\n",
       "      <td>CS</td>\n",
       "      <td></td>\n",
       "      <td>BBG019KN8702</td>\n",
       "    </tr>\n",
       "    <tr>\n",
       "      <th>379</th>\n",
       "      <td>ALKSV</td>\n",
       "      <td>Alkermes plc Ordinary Shares Ex-distribution W...</td>\n",
       "      <td>False</td>\n",
       "      <td>2023-11-03</td>\n",
       "      <td>2023-11-15</td>\n",
       "      <td>CS</td>\n",
       "      <td>1520262.0</td>\n",
       "      <td></td>\n",
       "    </tr>\n",
       "    <tr>\n",
       "      <th>552</th>\n",
       "      <td>AOUTV</td>\n",
       "      <td>American Outdoor Brands, Inc. Common Stock Whe...</td>\n",
       "      <td>False</td>\n",
       "      <td>2020-08-10</td>\n",
       "      <td>2020-08-24</td>\n",
       "      <td>CS</td>\n",
       "      <td>1808997.0</td>\n",
       "      <td>BBG00QV8FS02</td>\n",
       "    </tr>\n",
       "  </tbody>\n",
       "</table>\n",
       "</div>"
      ],
      "text/plain": [
       "    ticker                                               name  active  \\\n",
       "141  ADEAV  Adeia Inc. Common Stock Ex-distribution When I...   False   \n",
       "379  ALKSV  Alkermes plc Ordinary Shares Ex-distribution W...   False   \n",
       "552  AOUTV  American Outdoor Brands, Inc. Common Stock Whe...   False   \n",
       "\n",
       "     start_date    end_date type        cik composite_figi  \n",
       "141  2022-09-20  2022-09-30   CS              BBG019KN8702  \n",
       "379  2023-11-03  2023-11-15   CS  1520262.0                 \n",
       "552  2020-08-10  2020-08-24   CS  1808997.0   BBG00QV8FS02  "
      ]
     },
     "execution_count": 68,
     "metadata": {},
     "output_type": "execute_result"
    }
   ],
   "source": [
    "###\n",
    "when_issued_or_ex_distr = tickers_v1[tickers_v1['name'].apply(lambda s: (\"When\" in s.split()) or (\"Issued\" in s.split()) or (\"When-Issued\" in s.split()) or (\"Ex-Distribution\" in s.split())  )  ]\n",
    "print(len(when_issued_or_ex_distr))\n",
    "when_issued_or_ex_distr.head(3)"
   ]
  },
  {
   "cell_type": "code",
   "execution_count": 69,
   "metadata": {},
   "outputs": [
    {
     "name": "stdout",
     "output_type": "stream",
     "text": [
      "7\n"
     ]
    },
    {
     "data": {
      "text/html": [
       "<div>\n",
       "<style scoped>\n",
       "    .dataframe tbody tr th:only-of-type {\n",
       "        vertical-align: middle;\n",
       "    }\n",
       "\n",
       "    .dataframe tbody tr th {\n",
       "        vertical-align: top;\n",
       "    }\n",
       "\n",
       "    .dataframe thead th {\n",
       "        text-align: right;\n",
       "    }\n",
       "</style>\n",
       "<table border=\"1\" class=\"dataframe\">\n",
       "  <thead>\n",
       "    <tr style=\"text-align: right;\">\n",
       "      <th></th>\n",
       "      <th>ticker</th>\n",
       "      <th>name</th>\n",
       "      <th>active</th>\n",
       "      <th>start_date</th>\n",
       "      <th>end_date</th>\n",
       "      <th>type</th>\n",
       "      <th>cik</th>\n",
       "      <th>composite_figi</th>\n",
       "    </tr>\n",
       "  </thead>\n",
       "  <tbody>\n",
       "    <tr>\n",
       "      <th>2433</th>\n",
       "      <td>DD.WD</td>\n",
       "      <td>DuPont de Nemours, Inc</td>\n",
       "      <td>False</td>\n",
       "      <td>2021-02-02</td>\n",
       "      <td>2021-02-03</td>\n",
       "      <td>CS</td>\n",
       "      <td>1666700.0</td>\n",
       "      <td>BBG00BN961G4</td>\n",
       "    </tr>\n",
       "    <tr>\n",
       "      <th>2502</th>\n",
       "      <td>DHR.WD</td>\n",
       "      <td>Danaher Corporation When Distributed</td>\n",
       "      <td>False</td>\n",
       "      <td>2019-12-16</td>\n",
       "      <td>2019-12-18</td>\n",
       "      <td>CS</td>\n",
       "      <td>313616.0</td>\n",
       "      <td>BBG000BH3JF8</td>\n",
       "    </tr>\n",
       "    <tr>\n",
       "      <th>2746</th>\n",
       "      <td>ECL.WD</td>\n",
       "      <td>Ecolab Inc.</td>\n",
       "      <td>False</td>\n",
       "      <td>2020-06-03</td>\n",
       "      <td>2020-06-05</td>\n",
       "      <td>CS</td>\n",
       "      <td>31462.0</td>\n",
       "      <td>BBG000BHKYH4</td>\n",
       "    </tr>\n",
       "  </tbody>\n",
       "</table>\n",
       "</div>"
      ],
      "text/plain": [
       "      ticker                                  name  active  start_date  \\\n",
       "2433   DD.WD                DuPont de Nemours, Inc   False  2021-02-02   \n",
       "2502  DHR.WD  Danaher Corporation When Distributed   False  2019-12-16   \n",
       "2746  ECL.WD                           Ecolab Inc.   False  2020-06-03   \n",
       "\n",
       "        end_date type        cik composite_figi  \n",
       "2433  2021-02-03   CS  1666700.0   BBG00BN961G4  \n",
       "2502  2019-12-18   CS   313616.0   BBG000BH3JF8  \n",
       "2746  2020-06-05   CS    31462.0   BBG000BHKYH4  "
      ]
     },
     "execution_count": 69,
     "metadata": {},
     "output_type": "execute_result"
    }
   ],
   "source": [
    "###\n",
    "wd_suffix = tickers_v1[tickers_v1[\"ticker\"].str.contains(\"\\.WD\")]\n",
    "print(len(wd_suffix))\n",
    "wd_suffix.head(3)"
   ]
  },
  {
   "cell_type": "code",
   "execution_count": 70,
   "metadata": {},
   "outputs": [],
   "source": [
    "###\n",
    "indices_to_remove = funds.index.union(notes.index).union(tickers_w.index).union(when_issued_or_ex_distr.index).union(wd_suffix.index)"
   ]
  },
  {
   "cell_type": "code",
   "execution_count": 71,
   "metadata": {},
   "outputs": [
    {
     "name": "stdout",
     "output_type": "stream",
     "text": [
      "9216\n",
      "8832\n"
     ]
    }
   ],
   "source": [
    "###\n",
    "print(len(tickers_v1))\n",
    "tickers_v1 = tickers_v1.drop(index=indices_to_remove)\n",
    "print(len(tickers_v1))"
   ]
  },
  {
   "cell_type": "markdown",
   "metadata": {},
   "source": [
    "Apparently this is not enough. There are still a lot of misclassified funds/preferred stocks. For example the ticker ARDC (ARES DYNAMIC CREDIT ALLOCATION FUND, INC.) is considered a common stock on 2019-04-02. However on 2019-04-01 it is considered a fund. It seems that Polygon uses the filings to determine the classification, and that common stocks are the default class. Then sometimes the filings are incomplete and Polygon classifies it as a common stock."
   ]
  },
  {
   "cell_type": "code",
   "execution_count": 72,
   "metadata": {},
   "outputs": [
    {
     "name": "stdout",
     "output_type": "stream",
     "text": [
      "47\n"
     ]
    },
    {
     "data": {
      "text/html": [
       "<div>\n",
       "<style scoped>\n",
       "    .dataframe tbody tr th:only-of-type {\n",
       "        vertical-align: middle;\n",
       "    }\n",
       "\n",
       "    .dataframe tbody tr th {\n",
       "        vertical-align: top;\n",
       "    }\n",
       "\n",
       "    .dataframe thead th {\n",
       "        text-align: right;\n",
       "    }\n",
       "</style>\n",
       "<table border=\"1\" class=\"dataframe\">\n",
       "  <thead>\n",
       "    <tr style=\"text-align: right;\">\n",
       "      <th></th>\n",
       "      <th>ticker</th>\n",
       "      <th>name</th>\n",
       "      <th>active</th>\n",
       "      <th>start_date</th>\n",
       "      <th>end_date</th>\n",
       "      <th>type</th>\n",
       "      <th>cik</th>\n",
       "      <th>composite_figi</th>\n",
       "    </tr>\n",
       "  </thead>\n",
       "  <tbody>\n",
       "    <tr>\n",
       "      <th>109</th>\n",
       "      <td>ACP</td>\n",
       "      <td>Aberdeen Income Crd Strategies</td>\n",
       "      <td>False</td>\n",
       "      <td>2019-06-03</td>\n",
       "      <td>2019-08-09</td>\n",
       "      <td>CS</td>\n",
       "      <td>1503290.0</td>\n",
       "      <td>BBG0017VSC04</td>\n",
       "    </tr>\n",
       "    <tr>\n",
       "      <th>632</th>\n",
       "      <td>ARDC</td>\n",
       "      <td>ARES DYNAMIC CREDIT ALLOCATION FUND, INC.</td>\n",
       "      <td>False</td>\n",
       "      <td>2019-06-03</td>\n",
       "      <td>2019-09-05</td>\n",
       "      <td>CS</td>\n",
       "      <td>1515324.0</td>\n",
       "      <td>BBG001LJH325</td>\n",
       "    </tr>\n",
       "    <tr>\n",
       "      <th>702</th>\n",
       "      <td>ASFI</td>\n",
       "      <td>Asta Funding Inc</td>\n",
       "      <td>False</td>\n",
       "      <td>2019-06-03</td>\n",
       "      <td>2020-09-29</td>\n",
       "      <td>CS</td>\n",
       "      <td>1001258.0</td>\n",
       "      <td>BBG00K9VT498</td>\n",
       "    </tr>\n",
       "    <tr>\n",
       "      <th>1093</th>\n",
       "      <td>BGB</td>\n",
       "      <td>BLACKSTONE / GSO STRATEGIC CREDIT FUND</td>\n",
       "      <td>False</td>\n",
       "      <td>2019-06-03</td>\n",
       "      <td>2019-09-09</td>\n",
       "      <td>CS</td>\n",
       "      <td>1546429.0</td>\n",
       "      <td>BBG002W5R785</td>\n",
       "    </tr>\n",
       "    <tr>\n",
       "      <th>2416</th>\n",
       "      <td>DCF</td>\n",
       "      <td>BNY Mellon Alcentra Global Credit Income 2024 ...</td>\n",
       "      <td>False</td>\n",
       "      <td>2019-06-03</td>\n",
       "      <td>2019-09-09</td>\n",
       "      <td>CS</td>\n",
       "      <td>1627854.0</td>\n",
       "      <td>BBG00J2DVN20</td>\n",
       "    </tr>\n",
       "  </tbody>\n",
       "</table>\n",
       "</div>"
      ],
      "text/plain": [
       "     ticker                                               name  active  \\\n",
       "109     ACP                     Aberdeen Income Crd Strategies   False   \n",
       "632    ARDC          ARES DYNAMIC CREDIT ALLOCATION FUND, INC.   False   \n",
       "702    ASFI                                   Asta Funding Inc   False   \n",
       "1093    BGB             BLACKSTONE / GSO STRATEGIC CREDIT FUND   False   \n",
       "2416    DCF  BNY Mellon Alcentra Global Credit Income 2024 ...   False   \n",
       "\n",
       "      start_date    end_date type        cik composite_figi  \n",
       "109   2019-06-03  2019-08-09   CS  1503290.0   BBG0017VSC04  \n",
       "632   2019-06-03  2019-09-05   CS  1515324.0   BBG001LJH325  \n",
       "702   2019-06-03  2020-09-29   CS  1001258.0   BBG00K9VT498  \n",
       "1093  2019-06-03  2019-09-09   CS  1546429.0   BBG002W5R785  \n",
       "2416  2019-06-03  2019-09-09   CS  1627854.0   BBG00J2DVN20  "
      ]
     },
     "execution_count": 72,
     "metadata": {},
     "output_type": "execute_result"
    }
   ],
   "source": [
    "funds = tickers_v1[tickers_v1[\"name\"].str.lower().str.contains(\"fund\") | tickers_v1[\"name\"].str.lower().str.contains(\"strategies\")]\n",
    "print(len(funds))\n",
    "funds.head(5)"
   ]
  },
  {
   "cell_type": "code",
   "execution_count": 73,
   "metadata": {},
   "outputs": [
    {
     "data": {
      "text/plain": [
       "'FUND'"
      ]
     },
     "execution_count": 73,
     "metadata": {},
     "output_type": "execute_result"
    }
   ],
   "source": [
    "client.get_ticker_details(ticker=\"BGIO\", date = \"2019-09-13\").type"
   ]
  },
  {
   "cell_type": "code",
   "execution_count": 74,
   "metadata": {},
   "outputs": [
    {
     "data": {
      "text/plain": [
       "'CS'"
      ]
     },
     "execution_count": 74,
     "metadata": {},
     "output_type": "execute_result"
    }
   ],
   "source": [
    "client.get_ticker_details(ticker=\"ACP\", date = \"2019-04-02\").type"
   ]
  },
  {
   "cell_type": "code",
   "execution_count": 75,
   "metadata": {},
   "outputs": [
    {
     "data": {
      "text/plain": [
       "'FUND'"
      ]
     },
     "execution_count": 75,
     "metadata": {},
     "output_type": "execute_result"
    }
   ],
   "source": [
    "client.get_ticker_details(ticker=\"ACP\", date = \"2019-04-01\").type"
   ]
  },
  {
   "cell_type": "markdown",
   "metadata": {},
   "source": [
    "We will solve this issue by looking at the classification before or after the start/end date. If it is not a common stock, we will delete it from the ticker list. This takes quite some time to run. However most misclassifications seem to be in 2019. So realistically I would only do this once."
   ]
  },
  {
   "cell_type": "code",
   "execution_count": 76,
   "metadata": {},
   "outputs": [],
   "source": [
    "###\n",
    "tickers_v1[\"ID\"] = tickers_v1[\"ticker\"] + '-' + tickers_v1[\"start_date\"].astype(str)"
   ]
  },
  {
   "cell_type": "code",
   "execution_count": null,
   "metadata": {},
   "outputs": [],
   "source": [
    "### (OPTIONAL)\n",
    "IDs_to_remove = []\n",
    "for index, row in tickers_v1.copy().iterrows():\n",
    "    try:\n",
    "        # The get_ticker_details is extremely slow.\n",
    "        type_before_start = client.get_ticker_details(ticker=row['ticker'], date = last_trading_date_before(row['start_date']) ).type\n",
    "    except Exception as e:\n",
    "        # If there is no information. we will keep it.\n",
    "        type_before_start = 'CS'\n",
    "\n",
    "    try: \n",
    "        type_after_end = client.get_ticker_details(ticker=row['ticker'], date = first_trading_date_after(row['end_date']) ).type\n",
    "    except Exception as e:\n",
    "        # If there is no information. we will keep it.\n",
    "        type_after_end = 'CS'\n",
    "\n",
    "    # Apparently an ordinary share is the same as a common stock... Also do not forget ADRCs!\n",
    "    if type_before_start not in ['CS', 'ADRC', 'OS', None] or type_after_end not in ['CS', 'ADRC', 'OS', None]:\n",
    "        IDs_to_remove.append(row['ID'])\n",
    "        print(row['ID'])"
   ]
  },
  {
   "cell_type": "markdown",
   "metadata": {},
   "source": [
    "The amount of incorrect classified common stock is unacceptable:"
   ]
  },
  {
   "cell_type": "code",
   "execution_count": 83,
   "metadata": {},
   "outputs": [
    {
     "name": "stdout",
     "output_type": "stream",
     "text": [
      "243\n"
     ]
    },
    {
     "data": {
      "text/html": [
       "<div>\n",
       "<style scoped>\n",
       "    .dataframe tbody tr th:only-of-type {\n",
       "        vertical-align: middle;\n",
       "    }\n",
       "\n",
       "    .dataframe tbody tr th {\n",
       "        vertical-align: top;\n",
       "    }\n",
       "\n",
       "    .dataframe thead th {\n",
       "        text-align: right;\n",
       "    }\n",
       "</style>\n",
       "<table border=\"1\" class=\"dataframe\">\n",
       "  <thead>\n",
       "    <tr style=\"text-align: right;\">\n",
       "      <th></th>\n",
       "      <th>ticker</th>\n",
       "      <th>name</th>\n",
       "      <th>active</th>\n",
       "      <th>start_date</th>\n",
       "      <th>end_date</th>\n",
       "    </tr>\n",
       "  </thead>\n",
       "  <tbody>\n",
       "    <tr>\n",
       "      <th>9074</th>\n",
       "      <td>UTF</td>\n",
       "      <td>Cohen &amp; Steers  Infrastructure Fund, Inc.</td>\n",
       "      <td>False</td>\n",
       "      <td>2019-06-03</td>\n",
       "      <td>2019-09-10</td>\n",
       "    </tr>\n",
       "    <tr>\n",
       "      <th>9549</th>\n",
       "      <td>WTMAR</td>\n",
       "      <td>Welsbach Technology Metals Acquisition Corp. o...</td>\n",
       "      <td>False</td>\n",
       "      <td>2022-01-21</td>\n",
       "      <td>2022-08-29</td>\n",
       "    </tr>\n",
       "    <tr>\n",
       "      <th>9681</th>\n",
       "      <td>YSACW</td>\n",
       "      <td>Yellowstone Acquisition Company Warrants to pu...</td>\n",
       "      <td>False</td>\n",
       "      <td>2020-12-08</td>\n",
       "      <td>2021-02-09</td>\n",
       "    </tr>\n",
       "  </tbody>\n",
       "</table>\n",
       "</div>"
      ],
      "text/plain": [
       "     ticker                                               name  active  \\\n",
       "9074    UTF          Cohen & Steers  Infrastructure Fund, Inc.   False   \n",
       "9549  WTMAR  Welsbach Technology Metals Acquisition Corp. o...   False   \n",
       "9681  YSACW  Yellowstone Acquisition Company Warrants to pu...   False   \n",
       "\n",
       "      start_date    end_date  \n",
       "9074  2019-06-03  2019-09-10  \n",
       "9549  2022-01-21  2022-08-29  \n",
       "9681  2020-12-08  2021-02-09  "
      ]
     },
     "execution_count": 83,
     "metadata": {},
     "output_type": "execute_result"
    }
   ],
   "source": [
    "### (OPTIONAL)\n",
    "incorrect_classified = tickers_v1[tickers_v1['ID'].isin(IDs_to_remove)]\n",
    "print(len(incorrect_classified))\n",
    "incorrect_classified.to_csv(\"../data/incorrect_classified.csv\")\n",
    "incorrect_classified.tail(3)[['ticker', 'name', 'active', 'start_date', 'end_date']]"
   ]
  },
  {
   "cell_type": "code",
   "execution_count": 84,
   "metadata": {},
   "outputs": [
    {
     "name": "stdout",
     "output_type": "stream",
     "text": [
      "8832\n",
      "8589\n"
     ]
    }
   ],
   "source": [
    "###\n",
    "to_remove = pd.read_csv(\"../data/incorrect_classified.csv\", index_col=0)\n",
    "IDs_to_remove = list(to_remove.index)\n",
    "\n",
    "print(len(tickers_v1))\n",
    "tickers_v1 = tickers_v1[~tickers_v1['ID'].isin(IDs_to_remove)]\n",
    "tickers_v1.reset_index(inplace=True, drop=True)\n",
    "print(len(tickers_v1))"
   ]
  },
  {
   "cell_type": "markdown",
   "metadata": {},
   "source": [
    "Finally, we save the merged and cleaned ticker list to <code>tickers_v2.csv</code>."
   ]
  },
  {
   "cell_type": "code",
   "execution_count": 85,
   "metadata": {},
   "outputs": [
    {
     "name": "stdout",
     "output_type": "stream",
     "text": [
      "Total tickers: 8589\n",
      "Unique tickers: 8434\n"
     ]
    },
    {
     "ename": "",
     "evalue": "",
     "output_type": "error",
     "traceback": [
      "\u001b[1;31mThe Kernel crashed while executing code in the current cell or a previous cell. \n",
      "\u001b[1;31mPlease review the code in the cell(s) to identify a possible cause of the failure. \n",
      "\u001b[1;31mClick <a href='https://aka.ms/vscodeJupyterKernelCrash'>here</a> for more info. \n",
      "\u001b[1;31mView Jupyter <a href='command:jupyter.viewOutput'>log</a> for further details."
     ]
    }
   ],
   "source": [
    "###\n",
    "print(f\"Total tickers: {len(tickers_v1)}\")\n",
    "print(f\"Unique tickers: {len(tickers_v1['ticker'].unique())}\")\n",
    "\n",
    "tickers_v1 = tickers_v1.reset_index(drop=True)\n",
    "tickers_v1 = tickers_v1[[\"ID\", \"ticker\", \"name\", \"active\", \"start_date\", \"end_date\", \"type\", \"cik\", \"composite_figi\"]]\n",
    "tickers_v1.to_csv(\"../data/tickers_v2.csv\")"
   ]
  },
  {
   "cell_type": "markdown",
   "metadata": {},
   "source": [
    "# 3.7 Updates\n",
    "1. Run the first cell below to create a backup of <code>tickers_v3</code>. Later when we download data, we will compare the old to the new ticker list to determine which stocks and dates to update, instead of downloading everything.\n",
    "1. Update END_DATE.\n",
    "2. Run the 3 ### cells in 3.1. This updates the folder of ticker lists. It takes around 7 seconds per day.\n",
    "3. Run the cell below to update <code>tickers_v1</code>. Instead of merging all ticker lists, only the new ones are merged.\n",
    "4. Run the cells with ### in 3.5 and 3.6 to update <code>tickers_v2</code>. We skip checking if a stock is a common stock is not because it is very time consuming. Instead we remove what we had already removed. If you do not want to skip it, run the two '### (OPTIONAL)' rows. However most incorrect classifications were in 2019."
   ]
  },
  {
   "cell_type": "code",
   "execution_count": null,
   "metadata": {},
   "outputs": [],
   "source": [
    "tickers_v3 = get_tickers(3)\n",
    "tickers_v3.to_csv(\"../data/tickers_v3_old.csv\")"
   ]
  },
  {
   "cell_type": "code",
   "execution_count": null,
   "metadata": {},
   "outputs": [
    {
     "name": "stdout",
     "output_type": "stream",
     "text": [
      "2023-09-05: Amount of stocks 14794\n",
      "2023-09-06: Amount of stocks 14799\n",
      "2023-09-07: Amount of stocks 14802\n"
     ]
    }
   ],
   "source": [
    "from tickers import get_tickers\n",
    "\n",
    "tickers_v1 = get_tickers(1, cik_as_float=False)\n",
    "current_end_date = tickers_v1['end_date'].max()\n",
    "\n",
    "market_days = get_market_dates()\n",
    "first_trading_date_after_current_end_date = first_trading_date_after_equal(current_end_date + timedelta(days=1))\n",
    "last_trading_date_before_end_date = last_trading_date_before_equal(END_DATE)\n",
    "\n",
    "for day in market_days:\n",
    "    if day == current_end_date:\n",
    "        our_tickers = tickers_v1\n",
    "        our_tickers.loc[our_tickers['active'], 'end_date'] = np.NaN\n",
    "\n",
    "    elif day >= first_trading_date_after_current_end_date and day <= END_DATE:\n",
    "        # Get new ticker list to update ours\n",
    "        tickers_day_i = pd.read_csv(\n",
    "            POLYGON_DATA_PATH + f\"raw/tickers/{day.isoformat()}.csv\",\n",
    "            index_col=0,\n",
    "            keep_default_na=False,\n",
    "            na_values=['#N/A', '#N/A N/A', '#NA', '-1.#IND', '-1.#QNAN', '-NaN', '-nan', '1.#IND', '1.#QNAN', '<NA>', 'N/A', 'NULL', 'NaN', 'None', 'n/a', 'nan', 'null']\n",
    "        )\n",
    "        tickers_day_i = tickers_day_i[[\"ticker\", \"name\", \"active\", \"cik\", \"composite_figi\", \"type\"]]\n",
    "        tickers_day_i = tickers_day_i[tickers_day_i[\"active\"] == True]\n",
    "        tickers_day_i.reset_index(inplace=True, drop=True)\n",
    "\n",
    "        # Preliminary check: no duplicates\n",
    "        if our_tickers[[\"ticker\", \"name\", \"active\", \"cik\", \"composite_figi\", \"type\"]].duplicated().all():\n",
    "            raise Exception(\"There are duplicates!\")\n",
    "\n",
    "        if tickers_day_i[[\"ticker\", \"name\", \"active\", \"cik\", \"composite_figi\", \"type\"]].duplicated().all():\n",
    "            raise Exception(\"There are duplicates!\")\n",
    "\n",
    "        # DELISTINGS\n",
    "        indicator_delisted = our_tickers[[\"ticker\", \"name\", \"active\", \"cik\", \"composite_figi\", \"type\"]].merge(tickers_day_i[[\"ticker\", \"name\", \"active\", \"cik\", \"composite_figi\", \"type\"]], on=[\"ticker\", \"name\", \"active\", \"cik\", \"composite_figi\", \"type\"], how='left', indicator=True)\n",
    "\n",
    "        indicator_delisted['_merge'] = np.where(our_tickers[\"active\"], indicator_delisted['_merge'], \"both\") # ERROR FIX: If in our ticker list we have already set it inactive, it should not be added to the list of delisted stocks again. By setting _merge to \"both\" we skip the already inactive stocks.\n",
    "\n",
    "        indicator_delisted = indicator_delisted[\"_merge\"] # Only get the indicator\n",
    "        delisted_tickers = our_tickers[indicator_delisted == \"left_only\"]\n",
    "\n",
    "        # NEW LISTINGS\n",
    "        indicator_new = tickers_day_i[[\"ticker\", \"name\", \"active\", \"cik\", \"composite_figi\", \"type\"]].merge(our_tickers[[\"ticker\", \"name\", \"active\", \"cik\", \"composite_figi\", \"type\"]], on=[\"ticker\", \"name\", \"active\", \"cik\", \"composite_figi\", \"type\"], \n",
    "                        how='left', indicator=True)\n",
    "        indicator_new = indicator_new[\"_merge\"]\n",
    "        new_tickers = tickers_day_i[indicator_new == \"left_only\"]\n",
    "\n",
    "        # PROCESS DELISTINGS\n",
    "        previous_day = market_days[market_days.index(day) - 1] # Getting previous trading day\n",
    "        our_tickers.loc[indicator_delisted == \"left_only\", \"end_date\"] = previous_day\n",
    "        our_tickers.loc[indicator_delisted == \"left_only\", \"active\"] = False\n",
    "        \n",
    "        # PROCESS NEW LISTINGS\n",
    "        our_tickers = pd.concat([our_tickers, new_tickers])\n",
    "\n",
    "        our_tickers.reset_index(inplace=True, drop=True)\n",
    "        our_tickers['start_date'].fillna(value=day, inplace=True)\n",
    "        \n",
    "        # Final checks\n",
    "        if our_tickers[[\"ticker\", \"name\", \"active\", \"type\", \"start_date\"]].isnull().values.any():\n",
    "            #null_data = our_tickers[our_tickers[[\"ticker\", \"name\", \"active\", \"type\", \"start_date\"]].isnull().any(axis=1)]\n",
    "            raise Exception(\"There are missing values.\")\n",
    "        \n",
    "        print(f'{day.isoformat()}: Amount of stocks {len(our_tickers)}')\n",
    "        \n",
    "        # Finalize\n",
    "        if day == last_trading_date_before_end_date:\n",
    "            our_tickers[\"end_date\"].fillna(value=last_trading_date_before_end_date, inplace=True)\n",
    "            our_tickers = our_tickers.sort_values(by=[\"ticker\", \"end_date\"]).reset_index(drop=True)\n",
    "            our_tickers[[\"ticker\", \"name\", \"active\", \"start_date\", \"end_date\", \"type\", \"cik\", \"composite_figi\"]].to_csv(\"../data/tickers_v1.csv\")"
   ]
  }
 ],
 "metadata": {
  "kernelspec": {
   "display_name": "algotrading",
   "language": "python",
   "name": "python3"
  },
  "language_info": {
   "codemirror_mode": {
    "name": "ipython",
    "version": 3
   },
   "file_extension": ".py",
   "mimetype": "text/x-python",
   "name": "python",
   "nbconvert_exporter": "python",
   "pygments_lexer": "ipython3",
   "version": "3.11.4"
  }
 },
 "nbformat": 4,
 "nbformat_minor": 2
}
