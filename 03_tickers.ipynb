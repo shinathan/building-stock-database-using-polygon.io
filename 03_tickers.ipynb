{
 "cells": [
  {
   "cell_type": "markdown",
   "metadata": {},
   "source": [
    "# 3.1 Tickers\n",
    "The goal is to solve the problems of the Polygon ticker lists in the introduction. Before we do that we will download the ticker list for all days from Polygon and store them into the map <code>tickers</code>."
   ]
  },
  {
   "cell_type": "code",
   "execution_count": 1,
   "metadata": {},
   "outputs": [],
   "source": [
    "#####\n",
    "from polygon.rest import RESTClient\n",
    "from datetime import datetime, date, time, timedelta\n",
    "from pytz import timezone\n",
    "from functools import lru_cache\n",
    "from utils import get_market_dates\n",
    "import os\n",
    "import pytz\n",
    "import pandas as pd\n",
    "import numpy as np\n",
    "import plotly.graph_objects as go\n",
    "import mplfinance as mpf\n",
    "\n",
    "POLYGON_DATA_PATH = \"../data/polygon/\"\n",
    "\n",
    "START_DATE = date(2019, 1, 1)\n",
    "END_DATE = date(2023, 9, 1)\n",
    "\n",
    "with open(POLYGON_DATA_PATH + \"secret.txt\") as f:\n",
    "    KEY = next(f).strip()\n",
    "\n",
    "client = RESTClient(api_key=KEY)"
   ]
  },
  {
   "cell_type": "markdown",
   "metadata": {},
   "source": [
    "First, I will create a function to download the ticker for a specific date."
   ]
  },
  {
   "cell_type": "code",
   "execution_count": 2,
   "metadata": {},
   "outputs": [],
   "source": [
    "###\n",
    "def download_tickers(date_):\n",
    "    \"\"\"Retrieve the ticker list for a specific date\n",
    "\n",
    "    Args:\n",
    "        date_ (Date): the Date for which to download the ticker list\n",
    "\n",
    "    Returns:\n",
    "        DataFrame: the ticker list\n",
    "    \"\"\"\n",
    "    \n",
    "    date_iso = date_.isoformat()\n",
    "\n",
    "    ticker_list_iterator_active = client.list_tickers(type=\"CS\", date=date_iso, active=True, market='stocks', limit=1000)\n",
    "    ticker_list_iterator_delisted = client.list_tickers(type=\"CS\", date=date_iso, active=False, market='stocks', limit=1000)\n",
    "    ticker_list_iterator_active_adr = client.list_tickers(type=\"ADRC\", date=date_iso, active=True, market='stocks', limit=1000)\n",
    "    ticker_list_iterator_delisted_adr = client.list_tickers(type=\"ADRC\", date=date_iso, active=False, market='stocks', limit=1000)\n",
    "    tickers_active = pd.DataFrame(ticker_list_iterator_active)\n",
    "    tickers_delisted = pd.DataFrame(ticker_list_iterator_delisted)\n",
    "    tickers_active_adr = pd.DataFrame(ticker_list_iterator_active_adr)\n",
    "    tickers_delisted_adr = pd.DataFrame(ticker_list_iterator_delisted_adr)\n",
    "\n",
    "    tickers_all = pd.concat([tickers_active, tickers_delisted, tickers_active_adr, tickers_delisted_adr])\n",
    "    tickers_all.sort_values(by = \"ticker\", inplace=True)\n",
    "    tickers_all.reset_index(inplace=True, drop=True)\n",
    "    return tickers_all[['ticker', 'name', 'active', 'delisted_utc', 'last_updated_utc', 'cik', 'composite_figi', 'type']]"
   ]
  },
  {
   "cell_type": "markdown",
   "metadata": {},
   "source": [
    "Then all ticker lists are downloaded and stored in the <code>raw/tickers/</code> map. But only the one that we need if we already have some."
   ]
  },
  {
   "cell_type": "code",
   "execution_count": 3,
   "metadata": {},
   "outputs": [
    {
     "name": "stdout",
     "output_type": "stream",
     "text": [
      "Downloaded tickers for 2023-08-29\n",
      "Downloaded tickers for 2023-08-30\n",
      "Downloaded tickers for 2023-08-31\n",
      "Downloaded tickers for 2023-09-01\n"
     ]
    }
   ],
   "source": [
    "###\n",
    "# Get a list of what we already have\n",
    "files = os.listdir(POLYGON_DATA_PATH + f'raw/tickers')\n",
    "available_dates = [date.fromisoformat(file.replace(\".csv\", \"\")) for file in files]\n",
    "\n",
    "trading_dates = get_market_dates()\n",
    "for day in trading_dates:\n",
    "    # Only download what we do not have\n",
    "    if day >= START_DATE and day <= END_DATE and day not in available_dates:\n",
    "        tickers = download_tickers(day)\n",
    "        tickers.to_csv(POLYGON_DATA_PATH + f\"raw/tickers/{day.isoformat()}.csv\")\n",
    "        print(f\"Downloaded tickers for {day.isoformat()}\")"
   ]
  },
  {
   "cell_type": "markdown",
   "metadata": {},
   "source": [
    "A random ticker list:"
   ]
  },
  {
   "cell_type": "code",
   "execution_count": 12,
   "metadata": {},
   "outputs": [
    {
     "data": {
      "text/html": [
       "<div>\n",
       "<style scoped>\n",
       "    .dataframe tbody tr th:only-of-type {\n",
       "        vertical-align: middle;\n",
       "    }\n",
       "\n",
       "    .dataframe tbody tr th {\n",
       "        vertical-align: top;\n",
       "    }\n",
       "\n",
       "    .dataframe thead th {\n",
       "        text-align: right;\n",
       "    }\n",
       "</style>\n",
       "<table border=\"1\" class=\"dataframe\">\n",
       "  <thead>\n",
       "    <tr style=\"text-align: right;\">\n",
       "      <th></th>\n",
       "      <th>ticker</th>\n",
       "      <th>name</th>\n",
       "      <th>active</th>\n",
       "      <th>delisted_utc</th>\n",
       "      <th>last_updated_utc</th>\n",
       "      <th>cik</th>\n",
       "      <th>composite_figi</th>\n",
       "      <th>type</th>\n",
       "    </tr>\n",
       "  </thead>\n",
       "  <tbody>\n",
       "    <tr>\n",
       "      <th>0</th>\n",
       "      <td>A</td>\n",
       "      <td>Agilent Technologies Inc.</td>\n",
       "      <td>True</td>\n",
       "      <td>NaN</td>\n",
       "      <td>2022-06-14T00:00:00Z</td>\n",
       "      <td>1090872.0</td>\n",
       "      <td>BBG000C2V3D6</td>\n",
       "      <td>CS</td>\n",
       "    </tr>\n",
       "    <tr>\n",
       "      <th>1</th>\n",
       "      <td>AA</td>\n",
       "      <td>Alcoa, Inc.</td>\n",
       "      <td>False</td>\n",
       "      <td>2016-11-01T00:00:00Z</td>\n",
       "      <td>2016-11-01T00:00:00Z</td>\n",
       "      <td>4281.0</td>\n",
       "      <td>NaN</td>\n",
       "      <td>CS</td>\n",
       "    </tr>\n",
       "    <tr>\n",
       "      <th>2</th>\n",
       "      <td>AA</td>\n",
       "      <td>ALCOA INC</td>\n",
       "      <td>False</td>\n",
       "      <td>2016-10-07T00:00:00Z</td>\n",
       "      <td>2016-10-07T00:00:00Z</td>\n",
       "      <td>4281.0</td>\n",
       "      <td>NaN</td>\n",
       "      <td>CS</td>\n",
       "    </tr>\n",
       "  </tbody>\n",
       "</table>\n",
       "</div>"
      ],
      "text/plain": [
       "  ticker                       name  active          delisted_utc  \\\n",
       "0      A  Agilent Technologies Inc.    True                   NaN   \n",
       "1     AA                Alcoa, Inc.   False  2016-11-01T00:00:00Z   \n",
       "2     AA                  ALCOA INC   False  2016-10-07T00:00:00Z   \n",
       "\n",
       "       last_updated_utc        cik composite_figi type  \n",
       "0  2022-06-14T00:00:00Z  1090872.0   BBG000C2V3D6   CS  \n",
       "1  2016-11-01T00:00:00Z     4281.0            NaN   CS  \n",
       "2  2016-10-07T00:00:00Z     4281.0            NaN   CS  "
      ]
     },
     "execution_count": 12,
     "metadata": {},
     "output_type": "execute_result"
    }
   ],
   "source": [
    "pd.read_csv(POLYGON_DATA_PATH + f\"raw/tickers/2022-06-09.csv\", index_col=0).head(3)"
   ]
  },
  {
   "cell_type": "markdown",
   "metadata": {},
   "source": [
    "We observe that the <code>last_updated_utc</code> does not match the date of the ticker list. For example for \"A\", this date is *after* 2022-06-09. So this value is not point-in-time. So this value is useless for us. Neither do we need <code>delisted_utc</code>, because we will determine the <code>end_date</code> by the ticker lists themselves. We will also determine the <code>start_date</code>, which Polygon does not give at all.\n",
    "\n",
    "Later when we do have data, we will create a new column <code>start_data</code> and <code>end_data</code> which gives the start and end dates from the available data."
   ]
  },
  {
   "cell_type": "markdown",
   "metadata": {},
   "source": [
    "# 3.2 Building the tickers loop\n",
    "Now we can finally create our ticker list, which includes all tickers. The process involves looping over all Polygon ticker lists and updating our own one. First some notation: T is our ticker list that we iteratively update using Polygons ticker list. P(i) is the Polygon ticker list from day *i*. \n",
    "\n",
    "1. On day 1, our ticker list is the same as the one from Polygon, but with some extra columns. We create a column <code>start_date</code> which is day 1 and <code>end_date</code> with is empty. We are only interested in stocks that were active on that day.\n",
    "2. For all *i = 2 ... n* days, for the active stocks:\n",
    "    * **Delistings**: The stocks that are in T but not in P(i) are the stocks that are removed by Polygon (e.g. FB). For these tickers we set the <code>end_date</code> in T to day *i*. \n",
    "    * **New listings**: The stocks that are in P(i) but not in T are the new listings. We will append the new stock to T and set the start_date to day *i*.\n",
    "    * **Everything else**: The stocks that are both in P(i) and T are the stocks that 'continue their listings'. We do nothing.\n",
    "\n",
    "Two tickers are the 'same' if all fields except <code>last_updated_utc</code> or <code>delisted_utc</code> are the same.\n",
    "\n",
    "For testing, we will start with 2022-06-08 and update to 2022-06-09. Both FB and META should then be included with the correct start and end dates. The start and end date of FB should be 2022-06-08 and the start date of META should be 2022-06-09. The end date of META should be empty."
   ]
  },
  {
   "cell_type": "code",
   "execution_count": 13,
   "metadata": {},
   "outputs": [],
   "source": [
    "day_1 = date(2022, 6, 8)\n",
    "day_2 = date(2022, 6, 9)\n",
    "\n",
    "our_tickers = pd.read_csv(\n",
    "    POLYGON_DATA_PATH + f\"raw/tickers/{day_1.isoformat()}.csv\",\n",
    "    index_col=0,\n",
    ")\n",
    "our_tickers = our_tickers[[\"ticker\", \"name\", \"active\", \"cik\", \"composite_figi\", \"type\"]]\n",
    "our_tickers = our_tickers[our_tickers[\"active\"] == True]\n",
    "our_tickers.reset_index(inplace=True, drop=True)\n",
    "\n",
    "our_tickers[\"start_date\"] = day_1\n",
    "our_tickers[\"end_date\"] = pd.NaT\n",
    "\n",
    "tickers_day_2 = pd.read_csv(\n",
    "    POLYGON_DATA_PATH + f\"raw/tickers/{day_2.isoformat()}.csv\",\n",
    "    index_col=0,\n",
    ")\n",
    "tickers_day_2 = tickers_day_2[[\"ticker\", \"name\", \"active\", \"cik\", \"composite_figi\", \"type\"]]\n",
    "tickers_day_2 = tickers_day_2[tickers_day_2[\"active\"] == True]\n",
    "tickers_day_2.reset_index(inplace=True, drop=True)"
   ]
  },
  {
   "cell_type": "code",
   "execution_count": 15,
   "metadata": {},
   "outputs": [
    {
     "data": {
      "text/html": [
       "<div>\n",
       "<style scoped>\n",
       "    .dataframe tbody tr th:only-of-type {\n",
       "        vertical-align: middle;\n",
       "    }\n",
       "\n",
       "    .dataframe tbody tr th {\n",
       "        vertical-align: top;\n",
       "    }\n",
       "\n",
       "    .dataframe thead th {\n",
       "        text-align: right;\n",
       "    }\n",
       "</style>\n",
       "<table border=\"1\" class=\"dataframe\">\n",
       "  <thead>\n",
       "    <tr style=\"text-align: right;\">\n",
       "      <th></th>\n",
       "      <th>ticker</th>\n",
       "      <th>name</th>\n",
       "      <th>active</th>\n",
       "      <th>cik</th>\n",
       "      <th>composite_figi</th>\n",
       "      <th>type</th>\n",
       "      <th>start_date</th>\n",
       "      <th>end_date</th>\n",
       "    </tr>\n",
       "  </thead>\n",
       "  <tbody>\n",
       "    <tr>\n",
       "      <th>0</th>\n",
       "      <td>A</td>\n",
       "      <td>Agilent Technologies Inc.</td>\n",
       "      <td>True</td>\n",
       "      <td>1090872.0</td>\n",
       "      <td>BBG000C2V3D6</td>\n",
       "      <td>CS</td>\n",
       "      <td>2022-06-08</td>\n",
       "      <td>NaT</td>\n",
       "    </tr>\n",
       "    <tr>\n",
       "      <th>1</th>\n",
       "      <td>AA</td>\n",
       "      <td>Alcoa Corporation</td>\n",
       "      <td>True</td>\n",
       "      <td>1675149.0</td>\n",
       "      <td>BBG00B3T3HD3</td>\n",
       "      <td>CS</td>\n",
       "      <td>2022-06-08</td>\n",
       "      <td>NaT</td>\n",
       "    </tr>\n",
       "  </tbody>\n",
       "</table>\n",
       "</div>"
      ],
      "text/plain": [
       "  ticker                       name  active        cik composite_figi type  \\\n",
       "0      A  Agilent Technologies Inc.    True  1090872.0   BBG000C2V3D6   CS   \n",
       "1     AA          Alcoa Corporation    True  1675149.0   BBG00B3T3HD3   CS   \n",
       "\n",
       "   start_date end_date  \n",
       "0  2022-06-08      NaT  \n",
       "1  2022-06-08      NaT  "
      ]
     },
     "execution_count": 15,
     "metadata": {},
     "output_type": "execute_result"
    }
   ],
   "source": [
    "our_tickers.head(2)"
   ]
  },
  {
   "cell_type": "code",
   "execution_count": 16,
   "metadata": {},
   "outputs": [
    {
     "data": {
      "text/html": [
       "<div>\n",
       "<style scoped>\n",
       "    .dataframe tbody tr th:only-of-type {\n",
       "        vertical-align: middle;\n",
       "    }\n",
       "\n",
       "    .dataframe tbody tr th {\n",
       "        vertical-align: top;\n",
       "    }\n",
       "\n",
       "    .dataframe thead th {\n",
       "        text-align: right;\n",
       "    }\n",
       "</style>\n",
       "<table border=\"1\" class=\"dataframe\">\n",
       "  <thead>\n",
       "    <tr style=\"text-align: right;\">\n",
       "      <th></th>\n",
       "      <th>ticker</th>\n",
       "      <th>name</th>\n",
       "      <th>active</th>\n",
       "      <th>cik</th>\n",
       "      <th>composite_figi</th>\n",
       "      <th>type</th>\n",
       "    </tr>\n",
       "  </thead>\n",
       "  <tbody>\n",
       "    <tr>\n",
       "      <th>0</th>\n",
       "      <td>A</td>\n",
       "      <td>Agilent Technologies Inc.</td>\n",
       "      <td>True</td>\n",
       "      <td>1090872.0</td>\n",
       "      <td>BBG000C2V3D6</td>\n",
       "      <td>CS</td>\n",
       "    </tr>\n",
       "    <tr>\n",
       "      <th>1</th>\n",
       "      <td>AA</td>\n",
       "      <td>Alcoa Corporation</td>\n",
       "      <td>True</td>\n",
       "      <td>1675149.0</td>\n",
       "      <td>BBG00B3T3HD3</td>\n",
       "      <td>CS</td>\n",
       "    </tr>\n",
       "  </tbody>\n",
       "</table>\n",
       "</div>"
      ],
      "text/plain": [
       "  ticker                       name  active        cik composite_figi type\n",
       "0      A  Agilent Technologies Inc.    True  1090872.0   BBG000C2V3D6   CS\n",
       "1     AA          Alcoa Corporation    True  1675149.0   BBG00B3T3HD3   CS"
      ]
     },
     "execution_count": 16,
     "metadata": {},
     "output_type": "execute_result"
    }
   ],
   "source": [
    "tickers_day_2.head(2)"
   ]
  },
  {
   "cell_type": "markdown",
   "metadata": {},
   "source": [
    "Preliminary check for duplicates"
   ]
  },
  {
   "cell_type": "code",
   "execution_count": 17,
   "metadata": {},
   "outputs": [],
   "source": [
    "# Preliminary check: no duplicates\n",
    "if our_tickers[[\"ticker\", \"name\", \"active\", \"cik\", \"composite_figi\", \"type\"]].duplicated().all():\n",
    "    raise Exception(\"There are duplicates!\")\n",
    "\n",
    "if tickers_day_2[[\"ticker\", \"name\", \"active\", \"cik\", \"composite_figi\", \"type\"]].duplicated().all():\n",
    "    raise Exception(\"There are duplicates!\")"
   ]
  },
  {
   "cell_type": "markdown",
   "metadata": {},
   "source": [
    "CONTINUE HERE"
   ]
  },
  {
   "cell_type": "markdown",
   "metadata": {},
   "source": []
  }
 ],
 "metadata": {
  "kernelspec": {
   "display_name": "algotrading",
   "language": "python",
   "name": "python3"
  },
  "language_info": {
   "codemirror_mode": {
    "name": "ipython",
    "version": 3
   },
   "file_extension": ".py",
   "mimetype": "text/x-python",
   "name": "python",
   "nbconvert_exporter": "python",
   "pygments_lexer": "ipython3",
   "version": "3.11.4"
  }
 },
 "nbformat": 4,
 "nbformat_minor": 2
}
