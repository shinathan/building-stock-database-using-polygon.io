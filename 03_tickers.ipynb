{
 "cells": [
  {
   "cell_type": "markdown",
   "metadata": {},
   "source": [
    "# 3.1 Tickers\n",
    "The goal is to solve the problems of the Polygon ticker lists in the introduction. Before we do that we will download the ticker list for all days from Polygon and store them into the map <code>tickers</code>."
   ]
  },
  {
   "cell_type": "code",
   "execution_count": 3,
   "metadata": {},
   "outputs": [],
   "source": [
    "###\n",
    "from polygon.rest import RESTClient\n",
    "from datetime import datetime, date, time, timedelta\n",
    "from pytz import timezone\n",
    "from functools import lru_cache\n",
    "from times import get_market_dates, first_trading_date_after, last_trading_date_before, first_trading_date_after_equal, last_trading_date_before_equal\n",
    "import os\n",
    "import pytz\n",
    "import pandas as pd\n",
    "import numpy as np\n",
    "import plotly.graph_objects as go\n",
    "import mplfinance as mpf\n",
    "import warnings\n",
    "warnings.simplefilter(action='ignore', category=FutureWarning)\n",
    "\n",
    "POLYGON_DATA_PATH = \"../data/polygon/\"\n",
    "\n",
    "START_DATE = date(2003, 9, 10)\n",
    "END_DATE = date(2024, 4, 19)\n",
    "\n",
    "with open(POLYGON_DATA_PATH + \"secret.txt\") as f:\n",
    "    KEY = next(f).strip()\n",
    "\n",
    "client = RESTClient(api_key=KEY)"
   ]
  },
  {
   "cell_type": "markdown",
   "metadata": {},
   "source": [
    "First, I will create a function to download the tickers for a specific date. We also need to download the 'None' type tickers. "
   ]
  },
  {
   "cell_type": "code",
   "execution_count": 62,
   "metadata": {},
   "outputs": [],
   "source": [
    "###\n",
    "def download_tickers(day):\n",
    "    \"\"\"Retrieve the ticker list for a specific date\n",
    "\n",
    "    Args:\n",
    "        day (Date): the Date for which to download the ticker list\n",
    "\n",
    "    Returns:\n",
    "        DataFrame: the ticker list\n",
    "    \"\"\"\n",
    "    \n",
    "    date_iso = day.isoformat()\n",
    "\n",
    "    tickers_iterator_active = client.list_tickers(date=date_iso, active=True, market='stocks', limit=1000)\n",
    "    tickers = pd.DataFrame(tickers_iterator_active)\n",
    "    tickers = tickers[~tickers['type'].isin(['PFD', 'WARRANT', 'RIGHT', 'BOND', 'ETF', 'ETN', \\\n",
    "        'ETV', 'SP', 'ADRP', 'ADRW', 'ADRR', 'FUND', 'BASKET', 'UNIT', 'LT', 'GDR', 'OTHER', \\\n",
    "            'AGEN', 'EQLK', 'ETS', 'INDEX'])] # Only keep CS, ADRC, NYRS and OS\n",
    "\n",
    "    tickers.sort_values(by = \"ticker\", inplace=True)\n",
    "    tickers.reset_index(inplace=True, drop=True)\n",
    "    return tickers[['ticker', 'name', 'active', 'delisted_utc', 'last_updated_utc', 'cik', 'composite_figi', 'type']]"
   ]
  },
  {
   "cell_type": "markdown",
   "metadata": {},
   "source": [
    "Then all ticker lists are downloaded and stored in the <code>raw/tickers/</code> map. But only the one that we need if we already have some."
   ]
  },
  {
   "cell_type": "code",
   "execution_count": null,
   "metadata": {},
   "outputs": [],
   "source": [
    "###\n",
    "# Get a list of what we already have\n",
    "files = os.listdir(POLYGON_DATA_PATH + 'raw/tickers')\n",
    "available_dates = [date.fromisoformat(file.replace(\".csv\", \"\")) for file in files]\n",
    "\n",
    "trading_dates = get_market_dates()\n",
    "for day in trading_dates:\n",
    "    # Only download what we do not have\n",
    "    if day >= START_DATE and day <= END_DATE and day not in available_dates:\n",
    "        tickers = download_tickers(day)\n",
    "        tickers.to_csv(POLYGON_DATA_PATH + f\"raw/tickers/{day.isoformat()}.csv\")"
   ]
  },
  {
   "cell_type": "markdown",
   "metadata": {},
   "source": [
    "A random ticker list:"
   ]
  },
  {
   "cell_type": "code",
   "execution_count": 63,
   "metadata": {},
   "outputs": [
    {
     "data": {
      "text/html": [
       "<div>\n",
       "<style scoped>\n",
       "    .dataframe tbody tr th:only-of-type {\n",
       "        vertical-align: middle;\n",
       "    }\n",
       "\n",
       "    .dataframe tbody tr th {\n",
       "        vertical-align: top;\n",
       "    }\n",
       "\n",
       "    .dataframe thead th {\n",
       "        text-align: right;\n",
       "    }\n",
       "</style>\n",
       "<table border=\"1\" class=\"dataframe\">\n",
       "  <thead>\n",
       "    <tr style=\"text-align: right;\">\n",
       "      <th></th>\n",
       "      <th>ticker</th>\n",
       "      <th>name</th>\n",
       "      <th>active</th>\n",
       "      <th>delisted_utc</th>\n",
       "      <th>last_updated_utc</th>\n",
       "      <th>cik</th>\n",
       "      <th>composite_figi</th>\n",
       "      <th>type</th>\n",
       "    </tr>\n",
       "  </thead>\n",
       "  <tbody>\n",
       "    <tr>\n",
       "      <th>0</th>\n",
       "      <td>A</td>\n",
       "      <td>Agilent Technologies Inc.</td>\n",
       "      <td>True</td>\n",
       "      <td>NaN</td>\n",
       "      <td>2022-06-14T00:00:00Z</td>\n",
       "      <td>1090872.0</td>\n",
       "      <td>BBG000C2V3D6</td>\n",
       "      <td>CS</td>\n",
       "    </tr>\n",
       "    <tr>\n",
       "      <th>1</th>\n",
       "      <td>AA</td>\n",
       "      <td>Alcoa Corporation</td>\n",
       "      <td>True</td>\n",
       "      <td>NaN</td>\n",
       "      <td>2022-07-20T00:00:00Z</td>\n",
       "      <td>1675149.0</td>\n",
       "      <td>BBG00B3T3HD3</td>\n",
       "      <td>CS</td>\n",
       "    </tr>\n",
       "    <tr>\n",
       "      <th>2</th>\n",
       "      <td>AAC</td>\n",
       "      <td>Ares Acquisition Corporation</td>\n",
       "      <td>True</td>\n",
       "      <td>NaN</td>\n",
       "      <td>2022-10-05T00:00:00Z</td>\n",
       "      <td>1829432.0</td>\n",
       "      <td>NaN</td>\n",
       "      <td>CS</td>\n",
       "    </tr>\n",
       "  </tbody>\n",
       "</table>\n",
       "</div>"
      ],
      "text/plain": [
       "  ticker                          name  active  delisted_utc  \\\n",
       "0      A     Agilent Technologies Inc.    True           NaN   \n",
       "1     AA             Alcoa Corporation    True           NaN   \n",
       "2    AAC  Ares Acquisition Corporation    True           NaN   \n",
       "\n",
       "       last_updated_utc        cik composite_figi type  \n",
       "0  2022-06-14T00:00:00Z  1090872.0   BBG000C2V3D6   CS  \n",
       "1  2022-07-20T00:00:00Z  1675149.0   BBG00B3T3HD3   CS  \n",
       "2  2022-10-05T00:00:00Z  1829432.0            NaN   CS  "
      ]
     },
     "execution_count": 63,
     "metadata": {},
     "output_type": "execute_result"
    }
   ],
   "source": [
    "pd.read_csv(POLYGON_DATA_PATH + f\"raw/tickers/2022-06-09.csv\", index_col=0).head(3)"
   ]
  },
  {
   "cell_type": "markdown",
   "metadata": {},
   "source": [
    "We observe that the <code>last_updated_utc</code> does not match the date of the ticker list. For example for \"A\", this date is *after* 2022-06-09. So this value is not point-in-time. Nevertheless, this value is useless for us because we only use the data to determine the delisting date. Neither do we need <code>delisted_utc</code> for the same reason.\n",
    "\n",
    "Later when we do have data, we will create a new column <code>start_data</code> and <code>end_data</code> which gives the start and end dates from the available data."
   ]
  },
  {
   "cell_type": "markdown",
   "metadata": {},
   "source": [
    "# More problems\n",
    "The amount of None values for the ticker types is problematic. Sometimes, there isn't even a ticker description. We will clean the ticker lists in the following way:\n",
    "* Remove tickers with no description or no ticker. (What?)\n",
    "* Assign ticker type 'NONE'. When merging in step 3.5, if the correct ticker type shows up we will use that. Else we will 'manually' take care of it, e.g. by assigning ADRC to all tickers that have 'DEP', 'ADR' and 'ADS' in its name.\n",
    "\n",
    "After around 2019, this issue was fixed. So we don't have to do this for new ticker lists. \n",
    "<!-- * Assign ticker type 'ADR' if the ticker description contains:\n",
    "    * DEP, ADR, ADS, PLC, n.v., has a suffix with () that contains a non-US country. \n",
    "* Assign ticker type 'CS' otherwise.\n",
    "Btw, there are also a lot of preferred stocks and other stuff.  -->"
   ]
  },
  {
   "cell_type": "code",
   "execution_count": 4,
   "metadata": {},
   "outputs": [],
   "source": [
    "files = os.listdir(POLYGON_DATA_PATH + 'raw/tickers')\n",
    "for file in files:\n",
    "    df = pd.read_csv(POLYGON_DATA_PATH + f'raw/tickers/{file}', index_col=0)\n",
    "    df = df[~df['name'].isna()] # Remove tickers with no name\n",
    "    df = df[~df['ticker'].isna()]\n",
    "    df['type'] = df['type'].fillna('NONE')\n",
    "    df.reset_index(drop=True).to_csv(POLYGON_DATA_PATH + f'raw/tickers/{file}')"
   ]
  },
  {
   "cell_type": "markdown",
   "metadata": {},
   "source": [
    "Btw, some ADRs are classified as common stocks..."
   ]
  },
  {
   "cell_type": "markdown",
   "metadata": {},
   "source": [
    "# 3.2 Building the tickers loop\n",
    "Now we can finally create our ticker list, which includes all tickers. The process involves looping over all Polygon ticker lists and updating our own one. First some notation: T is our ticker list that we iteratively update using Polygons ticker list. P(i) is the Polygon ticker list from day *i*. \n",
    "\n",
    "1. On day 1, our ticker list is the same as the one from Polygon, but with some extra columns. We create a column <code>start_date</code> which is day 1 and <code>end_date</code> with is empty. We are only interested in stocks that were active on that day.\n",
    "2. For all *i = 2 ... n* days, for the active stocks:\n",
    "    * **Delistings**: The stocks that are in T but not in P(i) are the stocks that are removed by Polygon (e.g. FB). For these tickers we set the <code>end_date</code> in T to day *i-1*. \n",
    "    * **New listings**: The stocks that are in P(i) but not in T are the new listings. We will append the new stock to T and set the start_date to day *i*.\n",
    "    * **Everything else**: The stocks that are both in P(i) and T are the stocks that 'continue their listings'. We do nothing.\n",
    "\n",
    "Two tickers are the 'same' if all fields except <code>last_updated_utc</code> or <code>delisted_utc</code> are the same.\n",
    "\n",
    "For testing, we will start with 2022-06-08 and update to 2022-06-09. Both FB and META should then be included with the correct start and end dates. The start and end date of FB should be 2022-06-08 and the start date of META should be 2022-06-09. The end date of META should be empty."
   ]
  },
  {
   "cell_type": "code",
   "execution_count": 5,
   "metadata": {},
   "outputs": [],
   "source": [
    "day_1 = date(2022, 6, 8)\n",
    "day_2 = date(2022, 6, 9)\n",
    "\n",
    "our_tickers = pd.read_csv(\n",
    "    POLYGON_DATA_PATH + f\"raw/tickers/{day_1.isoformat()}.csv\",\n",
    "    index_col=0,\n",
    ")\n",
    "our_tickers = our_tickers[[\"ticker\", \"name\", \"active\", \"cik\", \"composite_figi\", \"type\"]]\n",
    "our_tickers = our_tickers[our_tickers[\"active\"] == True]\n",
    "our_tickers.reset_index(inplace=True, drop=True)\n",
    "\n",
    "our_tickers[\"start_date\"] = day_1\n",
    "our_tickers[\"end_date\"] = pd.NaT\n",
    "\n",
    "tickers_day_2 = pd.read_csv(\n",
    "    POLYGON_DATA_PATH + f\"raw/tickers/{day_2.isoformat()}.csv\",\n",
    "    index_col=0,\n",
    ")\n",
    "tickers_day_2 = tickers_day_2[[\"ticker\", \"name\", \"active\", \"cik\", \"composite_figi\", \"type\"]]\n",
    "tickers_day_2 = tickers_day_2[tickers_day_2[\"active\"] == True]\n",
    "tickers_day_2.reset_index(inplace=True, drop=True)"
   ]
  },
  {
   "cell_type": "code",
   "execution_count": 6,
   "metadata": {},
   "outputs": [
    {
     "data": {
      "text/html": [
       "<div>\n",
       "<style scoped>\n",
       "    .dataframe tbody tr th:only-of-type {\n",
       "        vertical-align: middle;\n",
       "    }\n",
       "\n",
       "    .dataframe tbody tr th {\n",
       "        vertical-align: top;\n",
       "    }\n",
       "\n",
       "    .dataframe thead th {\n",
       "        text-align: right;\n",
       "    }\n",
       "</style>\n",
       "<table border=\"1\" class=\"dataframe\">\n",
       "  <thead>\n",
       "    <tr style=\"text-align: right;\">\n",
       "      <th></th>\n",
       "      <th>ticker</th>\n",
       "      <th>name</th>\n",
       "      <th>active</th>\n",
       "      <th>cik</th>\n",
       "      <th>composite_figi</th>\n",
       "      <th>type</th>\n",
       "      <th>start_date</th>\n",
       "      <th>end_date</th>\n",
       "    </tr>\n",
       "  </thead>\n",
       "  <tbody>\n",
       "    <tr>\n",
       "      <th>0</th>\n",
       "      <td>A</td>\n",
       "      <td>Agilent Technologies Inc.</td>\n",
       "      <td>True</td>\n",
       "      <td>1090872.0</td>\n",
       "      <td>BBG000C2V3D6</td>\n",
       "      <td>CS</td>\n",
       "      <td>2022-06-08</td>\n",
       "      <td>NaT</td>\n",
       "    </tr>\n",
       "    <tr>\n",
       "      <th>1</th>\n",
       "      <td>AA</td>\n",
       "      <td>Alcoa Corporation</td>\n",
       "      <td>True</td>\n",
       "      <td>1675149.0</td>\n",
       "      <td>BBG00B3T3HD3</td>\n",
       "      <td>CS</td>\n",
       "      <td>2022-06-08</td>\n",
       "      <td>NaT</td>\n",
       "    </tr>\n",
       "  </tbody>\n",
       "</table>\n",
       "</div>"
      ],
      "text/plain": [
       "  ticker                       name  active        cik composite_figi type  \\\n",
       "0      A  Agilent Technologies Inc.    True  1090872.0   BBG000C2V3D6   CS   \n",
       "1     AA          Alcoa Corporation    True  1675149.0   BBG00B3T3HD3   CS   \n",
       "\n",
       "   start_date end_date  \n",
       "0  2022-06-08      NaT  \n",
       "1  2022-06-08      NaT  "
      ]
     },
     "execution_count": 6,
     "metadata": {},
     "output_type": "execute_result"
    }
   ],
   "source": [
    "our_tickers.head(2)"
   ]
  },
  {
   "cell_type": "code",
   "execution_count": 7,
   "metadata": {},
   "outputs": [
    {
     "data": {
      "text/html": [
       "<div>\n",
       "<style scoped>\n",
       "    .dataframe tbody tr th:only-of-type {\n",
       "        vertical-align: middle;\n",
       "    }\n",
       "\n",
       "    .dataframe tbody tr th {\n",
       "        vertical-align: top;\n",
       "    }\n",
       "\n",
       "    .dataframe thead th {\n",
       "        text-align: right;\n",
       "    }\n",
       "</style>\n",
       "<table border=\"1\" class=\"dataframe\">\n",
       "  <thead>\n",
       "    <tr style=\"text-align: right;\">\n",
       "      <th></th>\n",
       "      <th>ticker</th>\n",
       "      <th>name</th>\n",
       "      <th>active</th>\n",
       "      <th>cik</th>\n",
       "      <th>composite_figi</th>\n",
       "      <th>type</th>\n",
       "    </tr>\n",
       "  </thead>\n",
       "  <tbody>\n",
       "    <tr>\n",
       "      <th>0</th>\n",
       "      <td>A</td>\n",
       "      <td>Agilent Technologies Inc.</td>\n",
       "      <td>True</td>\n",
       "      <td>1090872.0</td>\n",
       "      <td>BBG000C2V3D6</td>\n",
       "      <td>CS</td>\n",
       "    </tr>\n",
       "    <tr>\n",
       "      <th>1</th>\n",
       "      <td>AA</td>\n",
       "      <td>Alcoa Corporation</td>\n",
       "      <td>True</td>\n",
       "      <td>1675149.0</td>\n",
       "      <td>BBG00B3T3HD3</td>\n",
       "      <td>CS</td>\n",
       "    </tr>\n",
       "  </tbody>\n",
       "</table>\n",
       "</div>"
      ],
      "text/plain": [
       "  ticker                       name  active        cik composite_figi type\n",
       "0      A  Agilent Technologies Inc.    True  1090872.0   BBG000C2V3D6   CS\n",
       "1     AA          Alcoa Corporation    True  1675149.0   BBG00B3T3HD3   CS"
      ]
     },
     "execution_count": 7,
     "metadata": {},
     "output_type": "execute_result"
    }
   ],
   "source": [
    "tickers_day_2.head(2)"
   ]
  },
  {
   "cell_type": "markdown",
   "metadata": {},
   "source": [
    "Preliminary check for duplicates"
   ]
  },
  {
   "cell_type": "code",
   "execution_count": 8,
   "metadata": {},
   "outputs": [],
   "source": [
    "# Preliminary check: no duplicates\n",
    "if our_tickers[[\"ticker\", \"name\", \"active\", \"cik\", \"composite_figi\", \"type\"]].duplicated().any():\n",
    "    raise Exception(\"There are duplicates!\")\n",
    "\n",
    "if tickers_day_2[[\"ticker\", \"name\", \"active\", \"cik\", \"composite_figi\", \"type\"]].duplicated().any():\n",
    "    raise Exception(\"There are duplicates!\")"
   ]
  },
  {
   "cell_type": "markdown",
   "metadata": {},
   "source": [
    "We will first get the delisting and new listings. (Nothing has to be done with the kept listings)."
   ]
  },
  {
   "cell_type": "code",
   "execution_count": 9,
   "metadata": {},
   "outputs": [],
   "source": [
    "# DELISTINGS: Get tickers that are in T but not in P(2). This is actually not straightforward (https://stackoverflow.com/questions/28901683/pandas-get-rows-which-are-not-in-other-dataframe). We need to get the rows in tickers_day_2 that are not in our_tickers. We will use the merge function but specifying indicator=True and use a left merge (tickers_day_2 left merge to our_tickers). What gets returned is a dataframe with the flags \"left_only\", \"right_only\" and \"both\". If the indicator is \"left_only\", it means that it existed in only in the left DataFrame (our_tickers). This is exactly what we need. \n",
    "indicator_delisted = our_tickers[[\"ticker\", \"name\", \"active\", \"cik\", \"composite_figi\", \"type\"]].merge(tickers_day_2[[\"ticker\", \"name\", \"active\", \"cik\", \"composite_figi\", \"type\"]], on=[\"ticker\", \"name\", \"active\", \"cik\", \"composite_figi\", \"type\"], \n",
    "                   how='left', indicator=True)\n",
    "indicator_delisted = indicator_delisted[\"_merge\"] # Only get the indicator\n",
    "\n",
    "delisted_tickers = our_tickers[indicator_delisted == \"left_only\"] # Only get the delisted tickers\n",
    "\n",
    "# NEW LISTINGS: Swap the DataFrames\n",
    "indicator_new = tickers_day_2[[\"ticker\", \"name\", \"active\", \"cik\", \"composite_figi\", \"type\"]].merge(our_tickers[[\"ticker\", \"name\", \"active\", \"cik\", \"composite_figi\", \"type\"]], on=[\"ticker\", \"name\", \"active\", \"cik\", \"composite_figi\", \"type\"], \n",
    "                   how='left', indicator=True)\n",
    "indicator_new = indicator_new[\"_merge\"]\n",
    "new_tickers = tickers_day_2[indicator_new == \"left_only\"]\n",
    "\n",
    "# KEPT LISTINGS\n",
    "current_tickers = our_tickers[indicator_delisted == \"both\"]\n",
    "# current_tickers = tickers_day_2[indicator_new == \"both\"] # It does not matter which one we choose"
   ]
  },
  {
   "cell_type": "code",
   "execution_count": 10,
   "metadata": {},
   "outputs": [
    {
     "name": "stdout",
     "output_type": "stream",
     "text": [
      "8\n"
     ]
    },
    {
     "data": {
      "text/html": [
       "<div>\n",
       "<style scoped>\n",
       "    .dataframe tbody tr th:only-of-type {\n",
       "        vertical-align: middle;\n",
       "    }\n",
       "\n",
       "    .dataframe tbody tr th {\n",
       "        vertical-align: top;\n",
       "    }\n",
       "\n",
       "    .dataframe thead th {\n",
       "        text-align: right;\n",
       "    }\n",
       "</style>\n",
       "<table border=\"1\" class=\"dataframe\">\n",
       "  <thead>\n",
       "    <tr style=\"text-align: right;\">\n",
       "      <th></th>\n",
       "      <th>ticker</th>\n",
       "      <th>name</th>\n",
       "      <th>active</th>\n",
       "      <th>cik</th>\n",
       "      <th>composite_figi</th>\n",
       "      <th>type</th>\n",
       "      <th>start_date</th>\n",
       "      <th>end_date</th>\n",
       "    </tr>\n",
       "  </thead>\n",
       "  <tbody>\n",
       "    <tr>\n",
       "      <th>1195</th>\n",
       "      <td>CERN</td>\n",
       "      <td>Cerner Corp</td>\n",
       "      <td>True</td>\n",
       "      <td>804753.0</td>\n",
       "      <td>BBG000BFDLV8</td>\n",
       "      <td>CS</td>\n",
       "      <td>2022-06-08</td>\n",
       "      <td>NaT</td>\n",
       "    </tr>\n",
       "    <tr>\n",
       "      <th>1589</th>\n",
       "      <td>CUK</td>\n",
       "      <td>Carnival PLC</td>\n",
       "      <td>True</td>\n",
       "      <td>1125259.0</td>\n",
       "      <td>BBG000CKYG71</td>\n",
       "      <td>ADRC</td>\n",
       "      <td>2022-06-08</td>\n",
       "      <td>NaT</td>\n",
       "    </tr>\n",
       "  </tbody>\n",
       "</table>\n",
       "</div>"
      ],
      "text/plain": [
       "     ticker          name  active        cik composite_figi  type  start_date  \\\n",
       "1195   CERN   Cerner Corp    True   804753.0   BBG000BFDLV8    CS  2022-06-08   \n",
       "1589    CUK  Carnival PLC    True  1125259.0   BBG000CKYG71  ADRC  2022-06-08   \n",
       "\n",
       "     end_date  \n",
       "1195      NaT  \n",
       "1589      NaT  "
      ]
     },
     "execution_count": 10,
     "metadata": {},
     "output_type": "execute_result"
    }
   ],
   "source": [
    "print(len(delisted_tickers))\n",
    "delisted_tickers.head(2)"
   ]
  },
  {
   "cell_type": "code",
   "execution_count": 11,
   "metadata": {},
   "outputs": [
    {
     "name": "stdout",
     "output_type": "stream",
     "text": [
      "7\n"
     ]
    },
    {
     "data": {
      "text/html": [
       "<div>\n",
       "<style scoped>\n",
       "    .dataframe tbody tr th:only-of-type {\n",
       "        vertical-align: middle;\n",
       "    }\n",
       "\n",
       "    .dataframe tbody tr th {\n",
       "        vertical-align: top;\n",
       "    }\n",
       "\n",
       "    .dataframe thead th {\n",
       "        text-align: right;\n",
       "    }\n",
       "</style>\n",
       "<table border=\"1\" class=\"dataframe\">\n",
       "  <thead>\n",
       "    <tr style=\"text-align: right;\">\n",
       "      <th></th>\n",
       "      <th>ticker</th>\n",
       "      <th>name</th>\n",
       "      <th>active</th>\n",
       "      <th>cik</th>\n",
       "      <th>composite_figi</th>\n",
       "      <th>type</th>\n",
       "    </tr>\n",
       "  </thead>\n",
       "  <tbody>\n",
       "    <tr>\n",
       "      <th>1588</th>\n",
       "      <td>CUK</td>\n",
       "      <td>Carnival Plc</td>\n",
       "      <td>True</td>\n",
       "      <td>1125259.0</td>\n",
       "      <td>BBG000CKYG71</td>\n",
       "      <td>ADRC</td>\n",
       "    </tr>\n",
       "    <tr>\n",
       "      <th>2545</th>\n",
       "      <td>GLAQ</td>\n",
       "      <td>Globis Acquisition Corp. common stock</td>\n",
       "      <td>True</td>\n",
       "      <td>1823383.0</td>\n",
       "      <td>NaN</td>\n",
       "      <td>CS</td>\n",
       "    </tr>\n",
       "  </tbody>\n",
       "</table>\n",
       "</div>"
      ],
      "text/plain": [
       "     ticker                                   name  active        cik  \\\n",
       "1588    CUK                           Carnival Plc    True  1125259.0   \n",
       "2545   GLAQ  Globis Acquisition Corp. common stock    True  1823383.0   \n",
       "\n",
       "     composite_figi  type  \n",
       "1588   BBG000CKYG71  ADRC  \n",
       "2545            NaN    CS  "
      ]
     },
     "execution_count": 11,
     "metadata": {},
     "output_type": "execute_result"
    }
   ],
   "source": [
    "print(len(new_tickers))\n",
    "new_tickers.head(2)"
   ]
  },
  {
   "cell_type": "code",
   "execution_count": 12,
   "metadata": {},
   "outputs": [
    {
     "data": {
      "text/plain": [
       "6520"
      ]
     },
     "execution_count": 12,
     "metadata": {},
     "output_type": "execute_result"
    }
   ],
   "source": [
    "len(current_tickers)"
   ]
  },
  {
   "cell_type": "markdown",
   "metadata": {},
   "source": [
    "Then we will process the delistings and listings."
   ]
  },
  {
   "cell_type": "code",
   "execution_count": 13,
   "metadata": {},
   "outputs": [
    {
     "name": "stderr",
     "output_type": "stream",
     "text": [
      "C:\\Users\\Nathan\\AppData\\Local\\Temp\\ipykernel_5824\\1945433122.py:2: FutureWarning: Setting an item of incompatible dtype is deprecated and will raise an error in a future version of pandas. Value '2022-06-08' has dtype incompatible with datetime64[ns], please explicitly cast to a compatible dtype first.\n",
      "  our_tickers.loc[indicator_delisted == \"left_only\", \"end_date\"] = day_1 #Not day_2!\n"
     ]
    },
    {
     "data": {
      "text/html": [
       "<div>\n",
       "<style scoped>\n",
       "    .dataframe tbody tr th:only-of-type {\n",
       "        vertical-align: middle;\n",
       "    }\n",
       "\n",
       "    .dataframe tbody tr th {\n",
       "        vertical-align: top;\n",
       "    }\n",
       "\n",
       "    .dataframe thead th {\n",
       "        text-align: right;\n",
       "    }\n",
       "</style>\n",
       "<table border=\"1\" class=\"dataframe\">\n",
       "  <thead>\n",
       "    <tr style=\"text-align: right;\">\n",
       "      <th></th>\n",
       "      <th>ticker</th>\n",
       "      <th>name</th>\n",
       "      <th>active</th>\n",
       "      <th>cik</th>\n",
       "      <th>composite_figi</th>\n",
       "      <th>type</th>\n",
       "      <th>start_date</th>\n",
       "      <th>end_date</th>\n",
       "    </tr>\n",
       "  </thead>\n",
       "  <tbody>\n",
       "    <tr>\n",
       "      <th>2171</th>\n",
       "      <td>FB</td>\n",
       "      <td>Meta Platforms, Inc. Class A Common Stock</td>\n",
       "      <td>False</td>\n",
       "      <td>1326801.0</td>\n",
       "      <td>BBG000MM2P62</td>\n",
       "      <td>CS</td>\n",
       "      <td>2022-06-08</td>\n",
       "      <td>2022-06-08</td>\n",
       "    </tr>\n",
       "  </tbody>\n",
       "</table>\n",
       "</div>"
      ],
      "text/plain": [
       "     ticker                                       name  active        cik  \\\n",
       "2171     FB  Meta Platforms, Inc. Class A Common Stock   False  1326801.0   \n",
       "\n",
       "     composite_figi type  start_date    end_date  \n",
       "2171   BBG000MM2P62   CS  2022-06-08  2022-06-08  "
      ]
     },
     "execution_count": 13,
     "metadata": {},
     "output_type": "execute_result"
    }
   ],
   "source": [
    "# DELISTINGS: register delisting date and set to inactive.\n",
    "our_tickers.loc[indicator_delisted == \"left_only\", \"end_date\"] = day_1 #Not day_2!\n",
    "our_tickers.loc[indicator_delisted == \"left_only\", \"active\"] = False\n",
    "\n",
    "our_tickers[our_tickers[\"ticker\"] == \"FB\"]"
   ]
  },
  {
   "cell_type": "code",
   "execution_count": 14,
   "metadata": {},
   "outputs": [
    {
     "name": "stdout",
     "output_type": "stream",
     "text": [
      "6528\n",
      "7\n",
      "6535\n"
     ]
    },
    {
     "name": "stderr",
     "output_type": "stream",
     "text": [
      "C:\\Users\\Nathan\\AppData\\Local\\Temp\\ipykernel_5824\\2444986509.py:7: FutureWarning: A value is trying to be set on a copy of a DataFrame or Series through chained assignment using an inplace method.\n",
      "The behavior will change in pandas 3.0. This inplace method will never work because the intermediate object on which we are setting values always behaves as a copy.\n",
      "\n",
      "For example, when doing 'df[col].method(value, inplace=True)', try using 'df.method({col: value}, inplace=True)' or df[col] = df[col].method(value) instead, to perform the operation inplace on the original object.\n",
      "\n",
      "\n",
      "  our_tickers['start_date'].fillna(value=day_2, inplace=True)\n"
     ]
    },
    {
     "data": {
      "text/html": [
       "<div>\n",
       "<style scoped>\n",
       "    .dataframe tbody tr th:only-of-type {\n",
       "        vertical-align: middle;\n",
       "    }\n",
       "\n",
       "    .dataframe tbody tr th {\n",
       "        vertical-align: top;\n",
       "    }\n",
       "\n",
       "    .dataframe thead th {\n",
       "        text-align: right;\n",
       "    }\n",
       "</style>\n",
       "<table border=\"1\" class=\"dataframe\">\n",
       "  <thead>\n",
       "    <tr style=\"text-align: right;\">\n",
       "      <th></th>\n",
       "      <th>ticker</th>\n",
       "      <th>name</th>\n",
       "      <th>active</th>\n",
       "      <th>cik</th>\n",
       "      <th>composite_figi</th>\n",
       "      <th>type</th>\n",
       "      <th>start_date</th>\n",
       "      <th>end_date</th>\n",
       "    </tr>\n",
       "  </thead>\n",
       "  <tbody>\n",
       "    <tr>\n",
       "      <th>6532</th>\n",
       "      <td>META</td>\n",
       "      <td>Meta Platforms, Inc. Class A Common Stock</td>\n",
       "      <td>True</td>\n",
       "      <td>1326801.0</td>\n",
       "      <td>BBG000MM2P62</td>\n",
       "      <td>CS</td>\n",
       "      <td>2022-06-09</td>\n",
       "      <td>NaN</td>\n",
       "    </tr>\n",
       "  </tbody>\n",
       "</table>\n",
       "</div>"
      ],
      "text/plain": [
       "     ticker                                       name  active        cik  \\\n",
       "6532   META  Meta Platforms, Inc. Class A Common Stock    True  1326801.0   \n",
       "\n",
       "     composite_figi type  start_date end_date  \n",
       "6532   BBG000MM2P62   CS  2022-06-09      NaN  "
      ]
     },
     "execution_count": 14,
     "metadata": {},
     "output_type": "execute_result"
    }
   ],
   "source": [
    "# NEW LISTINGS: append the new tickers and register start date\n",
    "print(len(our_tickers))\n",
    "print(len(new_tickers))\n",
    "\n",
    "our_tickers = pd.concat([our_tickers, new_tickers])\n",
    "our_tickers.reset_index(inplace=True, drop=True)\n",
    "our_tickers['start_date'].fillna(value=day_2, inplace=True)\n",
    "\n",
    "print(len(our_tickers))\n",
    "our_tickers[our_tickers[\"ticker\"] == \"META\"]"
   ]
  },
  {
   "cell_type": "markdown",
   "metadata": {},
   "source": [
    "Some final checks and setting <code>end_date</code> for the active listings at END_DATE."
   ]
  },
  {
   "cell_type": "code",
   "execution_count": 15,
   "metadata": {},
   "outputs": [
    {
     "name": "stderr",
     "output_type": "stream",
     "text": [
      "C:\\Users\\Nathan\\AppData\\Local\\Temp\\ipykernel_5824\\2662210552.py:5: FutureWarning: A value is trying to be set on a copy of a DataFrame or Series through chained assignment using an inplace method.\n",
      "The behavior will change in pandas 3.0. This inplace method will never work because the intermediate object on which we are setting values always behaves as a copy.\n",
      "\n",
      "For example, when doing 'df[col].method(value, inplace=True)', try using 'df.method({col: value}, inplace=True)' or df[col] = df[col].method(value) instead, to perform the operation inplace on the original object.\n",
      "\n",
      "\n",
      "  our_tickers[\"end_date\"].fillna(value=day_2, inplace=True)\n"
     ]
    }
   ],
   "source": [
    "if our_tickers[[\"ticker\", \"name\", \"active\", \"type\", \"start_date\"]].isnull().values.any():\n",
    "    raise Exception(\"There are missing values.\")\n",
    "\n",
    "# After all is done, set the end_date for active stocks to the new day. This is only done after all iterations. \n",
    "our_tickers[\"end_date\"].fillna(value=day_2, inplace=True)"
   ]
  },
  {
   "cell_type": "markdown",
   "metadata": {},
   "source": [
    "The result is correct. FB is included with the correct <code>end_date</code>. Then META starts with the correct <code>start_date</code>."
   ]
  },
  {
   "cell_type": "code",
   "execution_count": null,
   "metadata": {},
   "outputs": [],
   "source": [
    "our_tickers[our_tickers['ticker'].isin(['FB', 'META'])]"
   ]
  },
  {
   "cell_type": "markdown",
   "metadata": {},
   "source": [
    "Further down the line, I got an error that I wouldn't have gotten if I checked for duplicates among the active tickers given a day. For the raw polygon ticker lists, I assumed that for all active tickers on that day, there were no duplicates. However I was wrong:"
   ]
  },
  {
   "cell_type": "code",
   "execution_count": 16,
   "metadata": {},
   "outputs": [
    {
     "data": {
      "text/html": [
       "<div>\n",
       "<style scoped>\n",
       "    .dataframe tbody tr th:only-of-type {\n",
       "        vertical-align: middle;\n",
       "    }\n",
       "\n",
       "    .dataframe tbody tr th {\n",
       "        vertical-align: top;\n",
       "    }\n",
       "\n",
       "    .dataframe thead th {\n",
       "        text-align: right;\n",
       "    }\n",
       "</style>\n",
       "<table border=\"1\" class=\"dataframe\">\n",
       "  <thead>\n",
       "    <tr style=\"text-align: right;\">\n",
       "      <th></th>\n",
       "      <th>ticker</th>\n",
       "      <th>name</th>\n",
       "      <th>active</th>\n",
       "      <th>delisted_utc</th>\n",
       "      <th>last_updated_utc</th>\n",
       "      <th>cik</th>\n",
       "      <th>composite_figi</th>\n",
       "      <th>type</th>\n",
       "    </tr>\n",
       "  </thead>\n",
       "  <tbody>\n",
       "    <tr>\n",
       "      <th>939</th>\n",
       "      <td>CADE</td>\n",
       "      <td>Cadence Bancorporation</td>\n",
       "      <td>True</td>\n",
       "      <td>NaN</td>\n",
       "      <td>2019-01-03T00:00:00Z</td>\n",
       "      <td>1614184.0</td>\n",
       "      <td>BBG00BZSZZD5</td>\n",
       "      <td>CS</td>\n",
       "    </tr>\n",
       "    <tr>\n",
       "      <th>940</th>\n",
       "      <td>CADE</td>\n",
       "      <td>Cadence Bank</td>\n",
       "      <td>True</td>\n",
       "      <td>NaN</td>\n",
       "      <td>2024-04-03T00:00:00Z</td>\n",
       "      <td>1299939.0</td>\n",
       "      <td>BBG000D3MJP5</td>\n",
       "      <td>CS</td>\n",
       "    </tr>\n",
       "    <tr>\n",
       "      <th>3421</th>\n",
       "      <td>MRT</td>\n",
       "      <td>MedEquities Realty Trust, Inc.</td>\n",
       "      <td>True</td>\n",
       "      <td>NaN</td>\n",
       "      <td>2019-01-03T00:00:00Z</td>\n",
       "      <td>1616314.0</td>\n",
       "      <td>NaN</td>\n",
       "      <td>CS</td>\n",
       "    </tr>\n",
       "    <tr>\n",
       "      <th>3422</th>\n",
       "      <td>MRT</td>\n",
       "      <td>Marti Technologies, Inc.</td>\n",
       "      <td>True</td>\n",
       "      <td>NaN</td>\n",
       "      <td>2024-04-15T00:00:00Z</td>\n",
       "      <td>1852767.0</td>\n",
       "      <td>BBG00ZXBPJV8</td>\n",
       "      <td>CS</td>\n",
       "    </tr>\n",
       "  </tbody>\n",
       "</table>\n",
       "</div>"
      ],
      "text/plain": [
       "     ticker                            name  active  delisted_utc  \\\n",
       "939    CADE          Cadence Bancorporation    True           NaN   \n",
       "940    CADE                    Cadence Bank    True           NaN   \n",
       "3421    MRT  MedEquities Realty Trust, Inc.    True           NaN   \n",
       "3422    MRT        Marti Technologies, Inc.    True           NaN   \n",
       "\n",
       "          last_updated_utc        cik composite_figi type  \n",
       "939   2019-01-03T00:00:00Z  1614184.0   BBG00BZSZZD5   CS  \n",
       "940   2024-04-03T00:00:00Z  1299939.0   BBG000D3MJP5   CS  \n",
       "3421  2019-01-03T00:00:00Z  1616314.0            NaN   CS  \n",
       "3422  2024-04-15T00:00:00Z  1852767.0   BBG00ZXBPJV8   CS  "
      ]
     },
     "execution_count": 16,
     "metadata": {},
     "output_type": "execute_result"
    }
   ],
   "source": [
    "our_tickers = pd.read_csv(\n",
    "    POLYGON_DATA_PATH + f\"raw/tickers/2024-03-01.csv\",\n",
    "    index_col=0,\n",
    ")\n",
    "our_tickers = our_tickers[our_tickers[\"active\"] == True]\n",
    "our_tickers.sort_values(['last_updated_utc'])\n",
    "our_tickers.reset_index(inplace=True, drop=True)\n",
    "\n",
    "duplicated = our_tickers[our_tickers[\"ticker\"].duplicated(keep=False)]\n",
    "duplicated[duplicated[\"ticker\"].duplicated(keep=False)]"
   ]
  },
  {
   "cell_type": "markdown",
   "metadata": {},
   "source": [
    "We need to make sure to remove these. We will simply keep the last one as that is the most recent one (we have already sorted on 'last_updated_utc')."
   ]
  },
  {
   "cell_type": "code",
   "execution_count": 17,
   "metadata": {},
   "outputs": [
    {
     "data": {
      "text/plain": [
       "[939, 3421]"
      ]
     },
     "execution_count": 17,
     "metadata": {},
     "output_type": "execute_result"
    }
   ],
   "source": [
    "indices_to_remove = duplicated[\"ticker\"].duplicated(keep='last')\n",
    "list(indices_to_remove[indices_to_remove].index)"
   ]
  },
  {
   "cell_type": "code",
   "execution_count": 18,
   "metadata": {},
   "outputs": [],
   "source": [
    "our_tickers.drop(list(indices_to_remove[indices_to_remove].index), inplace=True)\n",
    "our_tickers.reset_index(drop=True, inplace=True)"
   ]
  },
  {
   "cell_type": "markdown",
   "metadata": {},
   "source": [
    "I also found another type of duplicate:"
   ]
  },
  {
   "cell_type": "code",
   "execution_count": 23,
   "metadata": {},
   "outputs": [
    {
     "data": {
      "text/html": [
       "<div>\n",
       "<style scoped>\n",
       "    .dataframe tbody tr th:only-of-type {\n",
       "        vertical-align: middle;\n",
       "    }\n",
       "\n",
       "    .dataframe tbody tr th {\n",
       "        vertical-align: top;\n",
       "    }\n",
       "\n",
       "    .dataframe thead th {\n",
       "        text-align: right;\n",
       "    }\n",
       "</style>\n",
       "<table border=\"1\" class=\"dataframe\">\n",
       "  <thead>\n",
       "    <tr style=\"text-align: right;\">\n",
       "      <th></th>\n",
       "      <th>ticker</th>\n",
       "      <th>name</th>\n",
       "      <th>active</th>\n",
       "      <th>delisted_utc</th>\n",
       "      <th>last_updated_utc</th>\n",
       "      <th>cik</th>\n",
       "      <th>composite_figi</th>\n",
       "      <th>type</th>\n",
       "    </tr>\n",
       "  </thead>\n",
       "  <tbody>\n",
       "    <tr>\n",
       "      <th>1098</th>\n",
       "      <td>CMCSA</td>\n",
       "      <td>COMCAST CORP CL A (NEW)</td>\n",
       "      <td>True</td>\n",
       "      <td>NaN</td>\n",
       "      <td>2014-05-07T00:00:00Z</td>\n",
       "      <td>1166691.0</td>\n",
       "      <td>BBG000BFT2L4</td>\n",
       "      <td>NONE</td>\n",
       "    </tr>\n",
       "  </tbody>\n",
       "</table>\n",
       "</div>"
      ],
      "text/plain": [
       "     ticker                     name  active  delisted_utc  \\\n",
       "1098  CMCSA  COMCAST CORP CL A (NEW)    True           NaN   \n",
       "\n",
       "          last_updated_utc        cik composite_figi  type  \n",
       "1098  2014-05-07T00:00:00Z  1166691.0   BBG000BFT2L4  NONE  "
      ]
     },
     "execution_count": 23,
     "metadata": {},
     "output_type": "execute_result"
    }
   ],
   "source": [
    "our_tickers = pd.read_csv(\n",
    "    POLYGON_DATA_PATH + f\"raw/tickers/2014-05-01.csv\",\n",
    "    index_col=0,\n",
    ")\n",
    "our_tickers[our_tickers[\"ticker\"] == 'CMCSA']"
   ]
  },
  {
   "cell_type": "code",
   "execution_count": 36,
   "metadata": {},
   "outputs": [
    {
     "data": {
      "text/html": [
       "<div>\n",
       "<style scoped>\n",
       "    .dataframe tbody tr th:only-of-type {\n",
       "        vertical-align: middle;\n",
       "    }\n",
       "\n",
       "    .dataframe tbody tr th {\n",
       "        vertical-align: top;\n",
       "    }\n",
       "\n",
       "    .dataframe thead th {\n",
       "        text-align: right;\n",
       "    }\n",
       "</style>\n",
       "<table border=\"1\" class=\"dataframe\">\n",
       "  <thead>\n",
       "    <tr style=\"text-align: right;\">\n",
       "      <th></th>\n",
       "      <th>ticker</th>\n",
       "      <th>name</th>\n",
       "      <th>active</th>\n",
       "      <th>delisted_utc</th>\n",
       "      <th>last_updated_utc</th>\n",
       "      <th>cik</th>\n",
       "      <th>composite_figi</th>\n",
       "      <th>type</th>\n",
       "    </tr>\n",
       "  </thead>\n",
       "  <tbody>\n",
       "    <tr>\n",
       "      <th>1096</th>\n",
       "      <td>CMCS.A</td>\n",
       "      <td>COMCAST CORP CL A (NEW)</td>\n",
       "      <td>True</td>\n",
       "      <td>NaN</td>\n",
       "      <td>2014-05-01T00:00:00Z</td>\n",
       "      <td>1166691.0</td>\n",
       "      <td>BBG000BFT2L4</td>\n",
       "      <td>NONE</td>\n",
       "    </tr>\n",
       "  </tbody>\n",
       "</table>\n",
       "</div>"
      ],
      "text/plain": [
       "      ticker                     name  active  delisted_utc  \\\n",
       "1096  CMCS.A  COMCAST CORP CL A (NEW)    True           NaN   \n",
       "\n",
       "          last_updated_utc        cik composite_figi  type  \n",
       "1096  2014-05-01T00:00:00Z  1166691.0   BBG000BFT2L4  NONE  "
      ]
     },
     "execution_count": 36,
     "metadata": {},
     "output_type": "execute_result"
    }
   ],
   "source": [
    "our_tickers[our_tickers[\"ticker\"] == 'CMCS.A']"
   ]
  },
  {
   "cell_type": "markdown",
   "metadata": {},
   "source": [
    "We will also remove these."
   ]
  },
  {
   "cell_type": "code",
   "execution_count": 38,
   "metadata": {},
   "outputs": [],
   "source": [
    "for day in get_market_dates():\n",
    "    our_tickers = pd.read_csv(POLYGON_DATA_PATH + f'raw/tickers/{day.isoformat()}.csv', index_col=0)\n",
    "    indices_to_remove = []\n",
    "    our_tickers_with_points = our_tickers[our_tickers['ticker'].str.contains('\\.')]\n",
    "    for index, row in our_tickers_with_points.iterrows():\n",
    "        ticker = row['ticker']\n",
    "        name = row['name']\n",
    "        if '.' in ticker:\n",
    "            ticker_without_point = ticker.replace('.', '')\n",
    "            duplicate = our_tickers[our_tickers['ticker'] == ticker_without_point]\n",
    "            if duplicate.size > 0:\n",
    "                if duplicate['name'].values == name:\n",
    "                    indices_to_remove.append(duplicate.index[0])\n",
    "    our_tickers.drop(indices_to_remove, inplace=True)\n",
    "    our_tickers.reset_index(drop=True, inplace=True)\n",
    "    our_tickers.to_csv(POLYGON_DATA_PATH + f'raw/tickers/{day.isoformat()}.csv')"
   ]
  },
  {
   "cell_type": "markdown",
   "metadata": {},
   "source": [
    "# 3.3 The tickers loop\n",
    "The ticker lists of 2009-10-29, 2010-03-30 and 2010-03-31 seem incomplete. We will simply copy the ticker list the trading day before to avoid errors.\n",
    "\n",
    "Putting it all in a loop gives the following code. We save the results to <code>tickers_v1.csv</code>."
   ]
  },
  {
   "cell_type": "code",
   "execution_count": null,
   "metadata": {},
   "outputs": [],
   "source": [
    "market_days = get_market_dates()\n",
    "\n",
    "START_DATE = first_trading_date_after_equal(START_DATE)\n",
    "END_DATE = last_trading_date_before_equal(END_DATE)\n",
    "\n",
    "for day in market_days:\n",
    "    if day == START_DATE:\n",
    "        # At the start, our ticker list is the same as polygon.\n",
    "        our_tickers = pd.read_csv(\n",
    "            POLYGON_DATA_PATH + f\"raw/tickers/{START_DATE.isoformat()}.csv\",\n",
    "            index_col=0,\n",
    "            keep_default_na=False,\n",
    "            na_values=['#N/A', '#N/A N/A', '#NA', '-1.#IND', '-1.#QNAN', '-NaN', '-nan', '1.#IND', '1.#QNAN', '<NA>', 'N/A', 'NULL', 'NaN', 'None', 'n/a', 'nan', 'null']\n",
    "        ) #There is a stock named 'NA'. We have to avoid pandas treating it as a N/A value.\n",
    "        our_tickers = our_tickers[[\"ticker\", \"name\", \"active\", \"cik\", \"composite_figi\", \"type\"]]\n",
    "        our_tickers = our_tickers[our_tickers[\"active\"]]\n",
    "\n",
    "        # Sometimes a cik can be empty. This prevents the merge function from working.\n",
    "        our_tickers['cik'] = our_tickers['cik'].replace('', np.nan)\n",
    "        our_tickers['cik'] = our_tickers['cik'].astype(float)\n",
    "\n",
    "        our_tickers.reset_index(inplace=True, drop=True)\n",
    "    \n",
    "        # Initialize tickers_all\n",
    "        our_tickers[\"start_date\"] = START_DATE\n",
    "        our_tickers[\"end_date\"] = pd.NaT\n",
    "\n",
    "    elif day > START_DATE and day <= END_DATE:\n",
    "        # Get new ticker list to update ours\n",
    "        tickers_day_i = pd.read_csv(\n",
    "            POLYGON_DATA_PATH + f\"raw/tickers/{day.isoformat()}.csv\",\n",
    "            index_col=0,\n",
    "            keep_default_na=False,\n",
    "            na_values=['#N/A', '#N/A N/A', '#NA', '-1.#IND', '-1.#QNAN', '-NaN', '-nan', '1.#IND', '1.#QNAN', '<NA>', 'N/A', 'NULL', 'NaN', 'None', 'n/a', 'nan', 'null']\n",
    "        )\n",
    "        # Sometimes a cik can be empty. This prevents the merge function from working.\n",
    "        tickers_day_i['cik'] = tickers_day_i['cik'].replace('', np.nan)\n",
    "        tickers_day_i['cik'] = tickers_day_i['cik'].astype(float)\n",
    "\n",
    "        tickers_day_i.sort_values(['last_updated_utc'], inplace=True)\n",
    "\n",
    "        tickers_day_i = tickers_day_i[[\"ticker\", \"name\", \"active\", \"cik\", \"composite_figi\", \"type\"]]\n",
    "        tickers_day_i = tickers_day_i[tickers_day_i[\"active\"]]\n",
    "        tickers_day_i.reset_index(inplace=True, drop=True)\n",
    "\n",
    "        # Remove duplicates\n",
    "        duplicated = tickers_day_i[tickers_day_i[\"ticker\"].duplicated(keep=False)]\n",
    "        indices_to_remove = duplicated[\"ticker\"].duplicated(keep='last')\n",
    "        tickers_day_i.drop(list(indices_to_remove[indices_to_remove].index), inplace=True)\n",
    "        tickers_day_i.reset_index(drop=True, inplace=True)\n",
    "\n",
    "        # Preliminary check: no duplicates\n",
    "        if our_tickers.duplicated().any():\n",
    "            raise Exception(\"There are duplicates!\")\n",
    "\n",
    "        if tickers_day_i.duplicated().any():\n",
    "            raise Exception(\"There are duplicates!\")\n",
    "\n",
    "        # DELISTINGS\n",
    "        indicator_delisted = our_tickers[[\"ticker\", \"name\", \"active\", \"cik\", \"composite_figi\", \"type\"]].merge(tickers_day_i[[\"ticker\", \"name\", \"active\", \"cik\", \"composite_figi\", \"type\"]], on=[\"ticker\", \"name\", \"active\", \"cik\", \"composite_figi\", \"type\"], how='left', indicator=True)\n",
    "\n",
    "        indicator_delisted['_merge'] = np.where(our_tickers[\"active\"], indicator_delisted['_merge'], \"both\") # ERROR FIX: If in our ticker list we have already set it inactive, it should not be added to the list of delisted stocks again. By setting _merge to \"both\" we skip the already inactive stocks.\n",
    "\n",
    "        indicator_delisted = indicator_delisted[\"_merge\"] # Only get the indicator\n",
    "        delisted_tickers = our_tickers[indicator_delisted == \"left_only\"]\n",
    "\n",
    "        # NEW LISTINGS\n",
    "        indicator_new = tickers_day_i[[\"ticker\", \"name\", \"active\", \"cik\", \"composite_figi\", \"type\"]].merge(our_tickers[[\"ticker\", \"name\", \"active\", \"cik\", \"composite_figi\", \"type\"]], on=[\"ticker\", \"name\", \"active\", \"cik\", \"composite_figi\", \"type\"], \n",
    "                        how='left', indicator=True)\n",
    "        indicator_new = indicator_new[\"_merge\"]\n",
    "        new_tickers = tickers_day_i[indicator_new == \"left_only\"]\n",
    "\n",
    "        # PROCESS DELISTINGS\n",
    "        previous_day = market_days[market_days.index(day) - 1] # Getting previous trading day\n",
    "        our_tickers.loc[indicator_delisted == \"left_only\", \"end_date\"] = previous_day\n",
    "        our_tickers.loc[indicator_delisted == \"left_only\", \"active\"] = False\n",
    "        \n",
    "        # PROCESS NEW LISTINGS\n",
    "        our_tickers = pd.concat([our_tickers, new_tickers])\n",
    "        our_tickers.reset_index(inplace=True, drop=True)\n",
    "        our_tickers['start_date'] = our_tickers['start_date'].fillna(value=day)\n",
    "\n",
    "        # Final checks\n",
    "        if our_tickers[[\"ticker\", \"name\", \"active\", \"type\", \"start_date\"]].isnull().values.any():\n",
    "            #null_data = our_tickers[our_tickers[[\"ticker\", \"name\", \"active\", \"type\", \"start_date\"]].isnull().any(axis=1)]\n",
    "            raise Exception(\"There are missing values.\")\n",
    "        \n",
    "        print(f'{day.isoformat()}: Amount of stocks {len(our_tickers)}')\n",
    "        \n",
    "        # Finalize\n",
    "        if day == END_DATE:\n",
    "            our_tickers[\"end_date\"] = our_tickers[\"end_date\"].fillna(value=END_DATE)\n",
    "            our_tickers = our_tickers.sort_values(by=[\"ticker\", \"end_date\"]).reset_index(drop=True)\n",
    "            our_tickers[[\"ticker\", \"name\", \"active\", \"start_date\", \"end_date\", \"type\", \"cik\", \"composite_figi\"]].\\\n",
    "                to_csv(\"../data/tickers_v1.csv\")"
   ]
  },
  {
   "cell_type": "markdown",
   "metadata": {},
   "source": [
    "We also create a function to retrieve the ticker list."
   ]
  },
  {
   "cell_type": "code",
   "execution_count": 40,
   "metadata": {},
   "outputs": [],
   "source": [
    "def get_tickers(v=5):\n",
    "    \"\"\"\n",
    "    Retrieve the ticker list. Default is 5.\n",
    "    \"\"\"\n",
    "    tickers = pd.read_csv(\n",
    "        f\"../data/tickers_v{v}.csv\",\n",
    "        parse_dates=[\"start_date\", \"end_date\"],\n",
    "        index_col=0,\n",
    "        keep_default_na=False,\n",
    "        na_values=[\"#N/A\",\"#N/AN/A\",\"#NA\",\"-1.#IND\",\"-1.#QNAN\",\"-NaN\",\"-nan\",\"1.#IND\",\"1.#QNAN\",\"<NA>\",\"N/A\",\"NULL\",\"NaN\",\"None\",\"n/a\",\"nan\",\"null\",],\n",
    "    )\n",
    "    tickers[\"start_date\"] = pd.to_datetime(tickers[\"start_date\"]).dt.date\n",
    "    tickers[\"end_date\"] = pd.to_datetime(tickers[\"end_date\"]).dt.date\n",
    "\n",
    "    # This will only be applied in future notebooks.\n",
    "    if tickers.columns.isin([\"start_data\", \"end_data\"]).any():\n",
    "        tickers[\"start_data\"] = pd.to_datetime(tickers[\"start_data\"]).dt.date\n",
    "        tickers[\"end_data\"] = pd.to_datetime(tickers[\"end_data\"]).dt.date\n",
    "\n",
    "    return tickers"
   ]
  },
  {
   "cell_type": "code",
   "execution_count": 41,
   "metadata": {},
   "outputs": [
    {
     "data": {
      "text/html": [
       "<div>\n",
       "<style scoped>\n",
       "    .dataframe tbody tr th:only-of-type {\n",
       "        vertical-align: middle;\n",
       "    }\n",
       "\n",
       "    .dataframe tbody tr th {\n",
       "        vertical-align: top;\n",
       "    }\n",
       "\n",
       "    .dataframe thead th {\n",
       "        text-align: right;\n",
       "    }\n",
       "</style>\n",
       "<table border=\"1\" class=\"dataframe\">\n",
       "  <thead>\n",
       "    <tr style=\"text-align: right;\">\n",
       "      <th></th>\n",
       "      <th>ticker</th>\n",
       "      <th>name</th>\n",
       "      <th>active</th>\n",
       "      <th>start_date</th>\n",
       "      <th>end_date</th>\n",
       "      <th>type</th>\n",
       "      <th>cik</th>\n",
       "      <th>composite_figi</th>\n",
       "    </tr>\n",
       "  </thead>\n",
       "  <tbody>\n",
       "    <tr>\n",
       "      <th>16250</th>\n",
       "      <td>FB</td>\n",
       "      <td>FACEBOOK INC CL A COM STK (DE)</td>\n",
       "      <td>False</td>\n",
       "      <td>2012-05-18</td>\n",
       "      <td>2016-10-24</td>\n",
       "      <td>NONE</td>\n",
       "      <td>1326801.0</td>\n",
       "      <td>BBG000MM2P62</td>\n",
       "    </tr>\n",
       "    <tr>\n",
       "      <th>16251</th>\n",
       "      <td>FB</td>\n",
       "      <td>Facebook, Inc. Class A</td>\n",
       "      <td>False</td>\n",
       "      <td>2016-10-25</td>\n",
       "      <td>2021-10-29</td>\n",
       "      <td>CS</td>\n",
       "      <td>1326801.0</td>\n",
       "      <td>BBG000MM2P62</td>\n",
       "    </tr>\n",
       "    <tr>\n",
       "      <th>16252</th>\n",
       "      <td>FB</td>\n",
       "      <td>Meta Platforms, Inc. Class A Common Stock</td>\n",
       "      <td>False</td>\n",
       "      <td>2021-11-01</td>\n",
       "      <td>2022-06-08</td>\n",
       "      <td>CS</td>\n",
       "      <td>1326801.0</td>\n",
       "      <td>BBG000MM2P62</td>\n",
       "    </tr>\n",
       "  </tbody>\n",
       "</table>\n",
       "</div>"
      ],
      "text/plain": [
       "      ticker                                       name  active  start_date  \\\n",
       "16250     FB             FACEBOOK INC CL A COM STK (DE)   False  2012-05-18   \n",
       "16251     FB                     Facebook, Inc. Class A   False  2016-10-25   \n",
       "16252     FB  Meta Platforms, Inc. Class A Common Stock   False  2021-11-01   \n",
       "\n",
       "         end_date  type        cik composite_figi  \n",
       "16250  2016-10-24  NONE  1326801.0   BBG000MM2P62  \n",
       "16251  2021-10-29    CS  1326801.0   BBG000MM2P62  \n",
       "16252  2022-06-08    CS  1326801.0   BBG000MM2P62  "
      ]
     },
     "execution_count": 41,
     "metadata": {},
     "output_type": "execute_result"
    }
   ],
   "source": [
    "tickers_v1 = get_tickers(1)\n",
    "tickers_v1[tickers_v1[\"ticker\"] == \"FB\"]"
   ]
  },
  {
   "cell_type": "code",
   "execution_count": 42,
   "metadata": {},
   "outputs": [
    {
     "data": {
      "text/html": [
       "<div>\n",
       "<style scoped>\n",
       "    .dataframe tbody tr th:only-of-type {\n",
       "        vertical-align: middle;\n",
       "    }\n",
       "\n",
       "    .dataframe tbody tr th {\n",
       "        vertical-align: top;\n",
       "    }\n",
       "\n",
       "    .dataframe thead th {\n",
       "        text-align: right;\n",
       "    }\n",
       "</style>\n",
       "<table border=\"1\" class=\"dataframe\">\n",
       "  <thead>\n",
       "    <tr style=\"text-align: right;\">\n",
       "      <th></th>\n",
       "      <th>ticker</th>\n",
       "      <th>name</th>\n",
       "      <th>active</th>\n",
       "      <th>start_date</th>\n",
       "      <th>end_date</th>\n",
       "      <th>type</th>\n",
       "      <th>cik</th>\n",
       "      <th>composite_figi</th>\n",
       "    </tr>\n",
       "  </thead>\n",
       "  <tbody>\n",
       "    <tr>\n",
       "      <th>27991</th>\n",
       "      <td>META</td>\n",
       "      <td>Meta Platforms, Inc. Class A Common Stock</td>\n",
       "      <td>True</td>\n",
       "      <td>2022-06-09</td>\n",
       "      <td>2024-04-19</td>\n",
       "      <td>CS</td>\n",
       "      <td>1326801.0</td>\n",
       "      <td>BBG000MM2P62</td>\n",
       "    </tr>\n",
       "  </tbody>\n",
       "</table>\n",
       "</div>"
      ],
      "text/plain": [
       "      ticker                                       name  active  start_date  \\\n",
       "27991   META  Meta Platforms, Inc. Class A Common Stock    True  2022-06-09   \n",
       "\n",
       "         end_date type        cik composite_figi  \n",
       "27991  2024-04-19   CS  1326801.0   BBG000MM2P62  "
      ]
     },
     "execution_count": 42,
     "metadata": {},
     "output_type": "execute_result"
    }
   ],
   "source": [
    "tickers_v1[tickers_v1[\"ticker\"] == \"META\"]"
   ]
  },
  {
   "cell_type": "code",
   "execution_count": 43,
   "metadata": {},
   "outputs": [
    {
     "name": "stdout",
     "output_type": "stream",
     "text": [
      "49007\n"
     ]
    }
   ],
   "source": [
    "print(len(tickers_v1))"
   ]
  },
  {
   "cell_type": "markdown",
   "metadata": {},
   "source": [
    "# 3.4 Checks\n",
    "\n",
    "1. Are SPACs handled correctly? We should expect that when they IPO a company, that they get delisted. Then one day after the delisting the new-born company should be listed. We will take a look at VFS. On 2023-8-15 it was IPO'd by the SPAC named BSAQ. So we should expect the delisting date of BSAQ to be 2023-8-14.\n"
   ]
  },
  {
   "cell_type": "code",
   "execution_count": 44,
   "metadata": {},
   "outputs": [
    {
     "data": {
      "text/html": [
       "<div>\n",
       "<style scoped>\n",
       "    .dataframe tbody tr th:only-of-type {\n",
       "        vertical-align: middle;\n",
       "    }\n",
       "\n",
       "    .dataframe tbody tr th {\n",
       "        vertical-align: top;\n",
       "    }\n",
       "\n",
       "    .dataframe thead th {\n",
       "        text-align: right;\n",
       "    }\n",
       "</style>\n",
       "<table border=\"1\" class=\"dataframe\">\n",
       "  <thead>\n",
       "    <tr style=\"text-align: right;\">\n",
       "      <th></th>\n",
       "      <th>ticker</th>\n",
       "      <th>name</th>\n",
       "      <th>active</th>\n",
       "      <th>start_date</th>\n",
       "      <th>end_date</th>\n",
       "      <th>type</th>\n",
       "      <th>cik</th>\n",
       "      <th>composite_figi</th>\n",
       "    </tr>\n",
       "  </thead>\n",
       "  <tbody>\n",
       "    <tr>\n",
       "      <th>45912</th>\n",
       "      <td>VFS</td>\n",
       "      <td>VinFast Auto Ltd. Ordinary Shares</td>\n",
       "      <td>True</td>\n",
       "      <td>2023-08-15</td>\n",
       "      <td>2024-04-19</td>\n",
       "      <td>CS</td>\n",
       "      <td>1913510.0</td>\n",
       "      <td></td>\n",
       "    </tr>\n",
       "  </tbody>\n",
       "</table>\n",
       "</div>"
      ],
      "text/plain": [
       "      ticker                               name  active  start_date  \\\n",
       "45912    VFS  VinFast Auto Ltd. Ordinary Shares    True  2023-08-15   \n",
       "\n",
       "         end_date type        cik composite_figi  \n",
       "45912  2024-04-19   CS  1913510.0                 "
      ]
     },
     "execution_count": 44,
     "metadata": {},
     "output_type": "execute_result"
    }
   ],
   "source": [
    "tickers_v1[tickers_v1[\"ticker\"] == \"VFS\"]"
   ]
  },
  {
   "cell_type": "code",
   "execution_count": 45,
   "metadata": {},
   "outputs": [
    {
     "data": {
      "text/html": [
       "<div>\n",
       "<style scoped>\n",
       "    .dataframe tbody tr th:only-of-type {\n",
       "        vertical-align: middle;\n",
       "    }\n",
       "\n",
       "    .dataframe tbody tr th {\n",
       "        vertical-align: top;\n",
       "    }\n",
       "\n",
       "    .dataframe thead th {\n",
       "        text-align: right;\n",
       "    }\n",
       "</style>\n",
       "<table border=\"1\" class=\"dataframe\">\n",
       "  <thead>\n",
       "    <tr style=\"text-align: right;\">\n",
       "      <th></th>\n",
       "      <th>ticker</th>\n",
       "      <th>name</th>\n",
       "      <th>active</th>\n",
       "      <th>start_date</th>\n",
       "      <th>end_date</th>\n",
       "      <th>type</th>\n",
       "      <th>cik</th>\n",
       "      <th>composite_figi</th>\n",
       "    </tr>\n",
       "  </thead>\n",
       "  <tbody>\n",
       "    <tr>\n",
       "      <th>6338</th>\n",
       "      <td>BSAQ</td>\n",
       "      <td>Black Spade Acquisition Co</td>\n",
       "      <td>False</td>\n",
       "      <td>2021-09-07</td>\n",
       "      <td>2023-08-14</td>\n",
       "      <td>CS</td>\n",
       "      <td>1851908.0</td>\n",
       "      <td></td>\n",
       "    </tr>\n",
       "  </tbody>\n",
       "</table>\n",
       "</div>"
      ],
      "text/plain": [
       "     ticker                        name  active  start_date    end_date type  \\\n",
       "6338   BSAQ  Black Spade Acquisition Co   False  2021-09-07  2023-08-14   CS   \n",
       "\n",
       "            cik composite_figi  \n",
       "6338  1851908.0                 "
      ]
     },
     "execution_count": 45,
     "metadata": {},
     "output_type": "execute_result"
    }
   ],
   "source": [
    "tickers_v1[tickers_v1[\"ticker\"] == \"BSAQ\"]"
   ]
  },
  {
   "cell_type": "markdown",
   "metadata": {},
   "source": [
    "2. Let's check SVB which went bankrupt and HTZ which went from OTC to listed."
   ]
  },
  {
   "cell_type": "code",
   "execution_count": 46,
   "metadata": {},
   "outputs": [
    {
     "data": {
      "text/html": [
       "<div>\n",
       "<style scoped>\n",
       "    .dataframe tbody tr th:only-of-type {\n",
       "        vertical-align: middle;\n",
       "    }\n",
       "\n",
       "    .dataframe tbody tr th {\n",
       "        vertical-align: top;\n",
       "    }\n",
       "\n",
       "    .dataframe thead th {\n",
       "        text-align: right;\n",
       "    }\n",
       "</style>\n",
       "<table border=\"1\" class=\"dataframe\">\n",
       "  <thead>\n",
       "    <tr style=\"text-align: right;\">\n",
       "      <th></th>\n",
       "      <th>ticker</th>\n",
       "      <th>name</th>\n",
       "      <th>active</th>\n",
       "      <th>start_date</th>\n",
       "      <th>end_date</th>\n",
       "      <th>type</th>\n",
       "      <th>cik</th>\n",
       "      <th>composite_figi</th>\n",
       "    </tr>\n",
       "  </thead>\n",
       "  <tbody>\n",
       "    <tr>\n",
       "      <th>40040</th>\n",
       "      <td>SIVB</td>\n",
       "      <td>SILICON VALLEY BANCSHARES</td>\n",
       "      <td>False</td>\n",
       "      <td>2003-09-10</td>\n",
       "      <td>2005-05-27</td>\n",
       "      <td>NONE</td>\n",
       "      <td>719739.0</td>\n",
       "      <td></td>\n",
       "    </tr>\n",
       "    <tr>\n",
       "      <th>40041</th>\n",
       "      <td>SIVB</td>\n",
       "      <td>SVB FINANCIAL GROUP</td>\n",
       "      <td>False</td>\n",
       "      <td>2005-05-31</td>\n",
       "      <td>2005-08-17</td>\n",
       "      <td>NONE</td>\n",
       "      <td>719739.0</td>\n",
       "      <td>BBG000BT0CM2</td>\n",
       "    </tr>\n",
       "    <tr>\n",
       "      <th>40042</th>\n",
       "      <td>SIVB</td>\n",
       "      <td>SVB FINANCIAL GROUP</td>\n",
       "      <td>False</td>\n",
       "      <td>2006-01-12</td>\n",
       "      <td>2016-10-24</td>\n",
       "      <td>NONE</td>\n",
       "      <td>719739.0</td>\n",
       "      <td>BBG000BT0CM2</td>\n",
       "    </tr>\n",
       "    <tr>\n",
       "      <th>40043</th>\n",
       "      <td>SIVB</td>\n",
       "      <td>SVB Financial Group</td>\n",
       "      <td>False</td>\n",
       "      <td>2016-10-25</td>\n",
       "      <td>2023-03-27</td>\n",
       "      <td>CS</td>\n",
       "      <td>719739.0</td>\n",
       "      <td>BBG000BT0CM2</td>\n",
       "    </tr>\n",
       "  </tbody>\n",
       "</table>\n",
       "</div>"
      ],
      "text/plain": [
       "      ticker                       name  active  start_date    end_date  type  \\\n",
       "40040   SIVB  SILICON VALLEY BANCSHARES   False  2003-09-10  2005-05-27  NONE   \n",
       "40041   SIVB        SVB FINANCIAL GROUP   False  2005-05-31  2005-08-17  NONE   \n",
       "40042   SIVB        SVB FINANCIAL GROUP   False  2006-01-12  2016-10-24  NONE   \n",
       "40043   SIVB        SVB Financial Group   False  2016-10-25  2023-03-27    CS   \n",
       "\n",
       "            cik composite_figi  \n",
       "40040  719739.0                 \n",
       "40041  719739.0   BBG000BT0CM2  \n",
       "40042  719739.0   BBG000BT0CM2  \n",
       "40043  719739.0   BBG000BT0CM2  "
      ]
     },
     "execution_count": 46,
     "metadata": {},
     "output_type": "execute_result"
    }
   ],
   "source": [
    "tickers_v1[tickers_v1[\"ticker\"] == \"SIVB\"]"
   ]
  },
  {
   "cell_type": "code",
   "execution_count": 47,
   "metadata": {},
   "outputs": [
    {
     "data": {
      "text/html": [
       "<div>\n",
       "<style scoped>\n",
       "    .dataframe tbody tr th:only-of-type {\n",
       "        vertical-align: middle;\n",
       "    }\n",
       "\n",
       "    .dataframe tbody tr th {\n",
       "        vertical-align: top;\n",
       "    }\n",
       "\n",
       "    .dataframe thead th {\n",
       "        text-align: right;\n",
       "    }\n",
       "</style>\n",
       "<table border=\"1\" class=\"dataframe\">\n",
       "  <thead>\n",
       "    <tr style=\"text-align: right;\">\n",
       "      <th></th>\n",
       "      <th>ticker</th>\n",
       "      <th>name</th>\n",
       "      <th>active</th>\n",
       "      <th>start_date</th>\n",
       "      <th>end_date</th>\n",
       "      <th>type</th>\n",
       "      <th>cik</th>\n",
       "      <th>composite_figi</th>\n",
       "    </tr>\n",
       "  </thead>\n",
       "  <tbody>\n",
       "    <tr>\n",
       "      <th>21785</th>\n",
       "      <td>HTZ</td>\n",
       "      <td>HERTZ GLOBAL HOLDINGS INC COM</td>\n",
       "      <td>False</td>\n",
       "      <td>2006-11-16</td>\n",
       "      <td>2016-07-01</td>\n",
       "      <td>CS</td>\n",
       "      <td>1364479.0</td>\n",
       "      <td></td>\n",
       "    </tr>\n",
       "    <tr>\n",
       "      <th>21786</th>\n",
       "      <td>HTZ</td>\n",
       "      <td>HERTZ GLOBAL HOLDINGS, INC. COM (DE)</td>\n",
       "      <td>False</td>\n",
       "      <td>2016-07-05</td>\n",
       "      <td>2016-10-24</td>\n",
       "      <td>CS</td>\n",
       "      <td>1657853.0</td>\n",
       "      <td>BBG00D5SHJH6</td>\n",
       "    </tr>\n",
       "    <tr>\n",
       "      <th>21787</th>\n",
       "      <td>HTZ</td>\n",
       "      <td>Hertz Global Holdings, Inc.</td>\n",
       "      <td>False</td>\n",
       "      <td>2016-10-25</td>\n",
       "      <td>2020-10-29</td>\n",
       "      <td>CS</td>\n",
       "      <td>1657853.0</td>\n",
       "      <td>BBG00D5SHJH6</td>\n",
       "    </tr>\n",
       "    <tr>\n",
       "      <th>21788</th>\n",
       "      <td>HTZ</td>\n",
       "      <td>Hertz Global Holdings, Inc Common Stock</td>\n",
       "      <td>True</td>\n",
       "      <td>2021-11-09</td>\n",
       "      <td>2024-04-19</td>\n",
       "      <td>CS</td>\n",
       "      <td>1657853.0</td>\n",
       "      <td>BBG011N57109</td>\n",
       "    </tr>\n",
       "  </tbody>\n",
       "</table>\n",
       "</div>"
      ],
      "text/plain": [
       "      ticker                                     name  active  start_date  \\\n",
       "21785    HTZ            HERTZ GLOBAL HOLDINGS INC COM   False  2006-11-16   \n",
       "21786    HTZ     HERTZ GLOBAL HOLDINGS, INC. COM (DE)   False  2016-07-05   \n",
       "21787    HTZ              Hertz Global Holdings, Inc.   False  2016-10-25   \n",
       "21788    HTZ  Hertz Global Holdings, Inc Common Stock    True  2021-11-09   \n",
       "\n",
       "         end_date type        cik composite_figi  \n",
       "21785  2016-07-01   CS  1364479.0                 \n",
       "21786  2016-10-24   CS  1657853.0   BBG00D5SHJH6  \n",
       "21787  2020-10-29   CS  1657853.0   BBG00D5SHJH6  \n",
       "21788  2024-04-19   CS  1657853.0   BBG011N57109  "
      ]
     },
     "execution_count": 47,
     "metadata": {},
     "output_type": "execute_result"
    }
   ],
   "source": [
    "tickers_v1[tickers_v1[\"ticker\"] == \"HTZ\"]"
   ]
  },
  {
   "cell_type": "markdown",
   "metadata": {},
   "source": [
    "3. Sometimes tickers are re-used (e.g. META, but since it was an ETF it will not show up in our ticker list). Let's see if that has happened in our ticker list."
   ]
  },
  {
   "cell_type": "code",
   "execution_count": 48,
   "metadata": {},
   "outputs": [
    {
     "name": "stdout",
     "output_type": "stream",
     "text": [
      "11409\n",
      "37375\n"
     ]
    },
    {
     "data": {
      "text/html": [
       "<div>\n",
       "<style scoped>\n",
       "    .dataframe tbody tr th:only-of-type {\n",
       "        vertical-align: middle;\n",
       "    }\n",
       "\n",
       "    .dataframe tbody tr th {\n",
       "        vertical-align: top;\n",
       "    }\n",
       "\n",
       "    .dataframe thead th {\n",
       "        text-align: right;\n",
       "    }\n",
       "</style>\n",
       "<table border=\"1\" class=\"dataframe\">\n",
       "  <thead>\n",
       "    <tr style=\"text-align: right;\">\n",
       "      <th></th>\n",
       "      <th>ticker</th>\n",
       "      <th>name</th>\n",
       "      <th>active</th>\n",
       "      <th>start_date</th>\n",
       "      <th>end_date</th>\n",
       "      <th>type</th>\n",
       "      <th>cik</th>\n",
       "      <th>composite_figi</th>\n",
       "    </tr>\n",
       "  </thead>\n",
       "  <tbody>\n",
       "    <tr>\n",
       "      <th>0</th>\n",
       "      <td>A</td>\n",
       "      <td>AGILENT TECHNOLOGIES, INC</td>\n",
       "      <td>False</td>\n",
       "      <td>2003-09-10</td>\n",
       "      <td>2004-06-24</td>\n",
       "      <td>NONE</td>\n",
       "      <td>1090872.0</td>\n",
       "      <td>BBG000C2V3D6</td>\n",
       "    </tr>\n",
       "    <tr>\n",
       "      <th>1</th>\n",
       "      <td>A</td>\n",
       "      <td>AGILENT TECHNOLOGIES, INC</td>\n",
       "      <td>False</td>\n",
       "      <td>2004-06-25</td>\n",
       "      <td>2005-11-22</td>\n",
       "      <td>CS</td>\n",
       "      <td>1090872.0</td>\n",
       "      <td>BBG000C2V3D6</td>\n",
       "    </tr>\n",
       "    <tr>\n",
       "      <th>2</th>\n",
       "      <td>A</td>\n",
       "      <td>AGILENT TECHNOLOGIES, INC</td>\n",
       "      <td>False</td>\n",
       "      <td>2005-11-28</td>\n",
       "      <td>2005-11-28</td>\n",
       "      <td>CS</td>\n",
       "      <td>1090872.0</td>\n",
       "      <td>BBG000C2V3D6</td>\n",
       "    </tr>\n",
       "    <tr>\n",
       "      <th>3</th>\n",
       "      <td>A</td>\n",
       "      <td>AGILENT TECHNOLOGIES, INC</td>\n",
       "      <td>False</td>\n",
       "      <td>2005-11-30</td>\n",
       "      <td>2005-11-30</td>\n",
       "      <td>CS</td>\n",
       "      <td>1090872.0</td>\n",
       "      <td>BBG000C2V3D6</td>\n",
       "    </tr>\n",
       "    <tr>\n",
       "      <th>4</th>\n",
       "      <td>A</td>\n",
       "      <td>AGILENT TECHNOLOGIES, INC</td>\n",
       "      <td>False</td>\n",
       "      <td>2005-12-02</td>\n",
       "      <td>2005-12-02</td>\n",
       "      <td>CS</td>\n",
       "      <td>1090872.0</td>\n",
       "      <td>BBG000C2V3D6</td>\n",
       "    </tr>\n",
       "  </tbody>\n",
       "</table>\n",
       "</div>"
      ],
      "text/plain": [
       "  ticker                       name  active  start_date    end_date  type  \\\n",
       "0      A  AGILENT TECHNOLOGIES, INC   False  2003-09-10  2004-06-24  NONE   \n",
       "1      A  AGILENT TECHNOLOGIES, INC   False  2004-06-25  2005-11-22    CS   \n",
       "2      A  AGILENT TECHNOLOGIES, INC   False  2005-11-28  2005-11-28    CS   \n",
       "3      A  AGILENT TECHNOLOGIES, INC   False  2005-11-30  2005-11-30    CS   \n",
       "4      A  AGILENT TECHNOLOGIES, INC   False  2005-12-02  2005-12-02    CS   \n",
       "\n",
       "         cik composite_figi  \n",
       "0  1090872.0   BBG000C2V3D6  \n",
       "1  1090872.0   BBG000C2V3D6  \n",
       "2  1090872.0   BBG000C2V3D6  \n",
       "3  1090872.0   BBG000C2V3D6  \n",
       "4  1090872.0   BBG000C2V3D6  "
      ]
     },
     "execution_count": 48,
     "metadata": {},
     "output_type": "execute_result"
    }
   ],
   "source": [
    "duplicated = tickers_v1[tickers_v1[\"ticker\"].duplicated(keep=False)]\n",
    "print(len(duplicated[\"ticker\"].unique()))\n",
    "print(len(duplicated))\n",
    "duplicated.head()"
   ]
  },
  {
   "cell_type": "markdown",
   "metadata": {},
   "source": [
    "We will have some merging to do. However these are the \"clean\" ones. The next ones are just ridiculous and should not exist in the first place. "
   ]
  },
  {
   "cell_type": "code",
   "execution_count": 49,
   "metadata": {},
   "outputs": [
    {
     "name": "stdout",
     "output_type": "stream",
     "text": [
      "[('CMS', 240), ('IBN', 240), ('PRE', 233), ('EP', 183), ('CUK', 106)]\n"
     ]
    },
    {
     "data": {
      "text/html": [
       "<div>\n",
       "<style scoped>\n",
       "    .dataframe tbody tr th:only-of-type {\n",
       "        vertical-align: middle;\n",
       "    }\n",
       "\n",
       "    .dataframe tbody tr th {\n",
       "        vertical-align: top;\n",
       "    }\n",
       "\n",
       "    .dataframe thead th {\n",
       "        text-align: right;\n",
       "    }\n",
       "</style>\n",
       "<table border=\"1\" class=\"dataframe\">\n",
       "  <thead>\n",
       "    <tr style=\"text-align: right;\">\n",
       "      <th></th>\n",
       "      <th>ticker</th>\n",
       "      <th>name</th>\n",
       "      <th>active</th>\n",
       "      <th>start_date</th>\n",
       "      <th>end_date</th>\n",
       "      <th>type</th>\n",
       "      <th>cik</th>\n",
       "      <th>composite_figi</th>\n",
       "    </tr>\n",
       "  </thead>\n",
       "  <tbody>\n",
       "    <tr>\n",
       "      <th>12386</th>\n",
       "      <td>DGICA</td>\n",
       "      <td>DONEGAL GROUP INC. CL-A</td>\n",
       "      <td>False</td>\n",
       "      <td>2004-11-08</td>\n",
       "      <td>2004-11-08</td>\n",
       "      <td>NONE</td>\n",
       "      <td>800457.0</td>\n",
       "      <td>BBG000JQJC22</td>\n",
       "    </tr>\n",
       "    <tr>\n",
       "      <th>12387</th>\n",
       "      <td>DGICA</td>\n",
       "      <td>DONEGAL GROUP INC. CL-A</td>\n",
       "      <td>False</td>\n",
       "      <td>2005-01-03</td>\n",
       "      <td>2012-12-13</td>\n",
       "      <td>NONE</td>\n",
       "      <td>800457.0</td>\n",
       "      <td>BBG000JQJC22</td>\n",
       "    </tr>\n",
       "    <tr>\n",
       "      <th>12388</th>\n",
       "      <td>DGICA</td>\n",
       "      <td>Donegal Group Inc</td>\n",
       "      <td>False</td>\n",
       "      <td>2016-10-25</td>\n",
       "      <td>2022-08-25</td>\n",
       "      <td>CS</td>\n",
       "      <td>800457.0</td>\n",
       "      <td>BBG000JQJC22</td>\n",
       "    </tr>\n",
       "    <tr>\n",
       "      <th>12389</th>\n",
       "      <td>DGICA</td>\n",
       "      <td>Donegal Group Inc</td>\n",
       "      <td>False</td>\n",
       "      <td>2022-08-26</td>\n",
       "      <td>2022-08-26</td>\n",
       "      <td>CS</td>\n",
       "      <td>948046.0</td>\n",
       "      <td>BBG000JQJC22</td>\n",
       "    </tr>\n",
       "    <tr>\n",
       "      <th>12390</th>\n",
       "      <td>DGICA</td>\n",
       "      <td>Donegal Group Inc</td>\n",
       "      <td>False</td>\n",
       "      <td>2022-08-29</td>\n",
       "      <td>2022-09-02</td>\n",
       "      <td>CS</td>\n",
       "      <td>800457.0</td>\n",
       "      <td>BBG000JQJC22</td>\n",
       "    </tr>\n",
       "  </tbody>\n",
       "</table>\n",
       "</div>"
      ],
      "text/plain": [
       "      ticker                     name  active  start_date    end_date  type  \\\n",
       "12386  DGICA  DONEGAL GROUP INC. CL-A   False  2004-11-08  2004-11-08  NONE   \n",
       "12387  DGICA  DONEGAL GROUP INC. CL-A   False  2005-01-03  2012-12-13  NONE   \n",
       "12388  DGICA        Donegal Group Inc   False  2016-10-25  2022-08-25    CS   \n",
       "12389  DGICA        Donegal Group Inc   False  2022-08-26  2022-08-26    CS   \n",
       "12390  DGICA        Donegal Group Inc   False  2022-08-29  2022-09-02    CS   \n",
       "\n",
       "            cik composite_figi  \n",
       "12386  800457.0   BBG000JQJC22  \n",
       "12387  800457.0   BBG000JQJC22  \n",
       "12388  800457.0   BBG000JQJC22  \n",
       "12389  948046.0   BBG000JQJC22  \n",
       "12390  800457.0   BBG000JQJC22  "
      ]
     },
     "execution_count": 49,
     "metadata": {},
     "output_type": "execute_result"
    }
   ],
   "source": [
    "from collections import Counter\n",
    "print(Counter(duplicated[\"ticker\"].values.tolist()).most_common(5))\n",
    "duplicated[duplicated[\"ticker\"] == \"DGICA\"].head(5)\n",
    "# ???"
   ]
  },
  {
   "cell_type": "code",
   "execution_count": 50,
   "metadata": {},
   "outputs": [
    {
     "data": {
      "text/html": [
       "<div>\n",
       "<style scoped>\n",
       "    .dataframe tbody tr th:only-of-type {\n",
       "        vertical-align: middle;\n",
       "    }\n",
       "\n",
       "    .dataframe tbody tr th {\n",
       "        vertical-align: top;\n",
       "    }\n",
       "\n",
       "    .dataframe thead th {\n",
       "        text-align: right;\n",
       "    }\n",
       "</style>\n",
       "<table border=\"1\" class=\"dataframe\">\n",
       "  <thead>\n",
       "    <tr style=\"text-align: right;\">\n",
       "      <th></th>\n",
       "      <th>ticker</th>\n",
       "      <th>name</th>\n",
       "      <th>active</th>\n",
       "      <th>start_date</th>\n",
       "      <th>end_date</th>\n",
       "      <th>type</th>\n",
       "      <th>cik</th>\n",
       "      <th>composite_figi</th>\n",
       "    </tr>\n",
       "  </thead>\n",
       "  <tbody>\n",
       "    <tr>\n",
       "      <th>12615</th>\n",
       "      <td>DISCK</td>\n",
       "      <td>DISCOVERY COMM INC SER C COM STK</td>\n",
       "      <td>False</td>\n",
       "      <td>2008-09-19</td>\n",
       "      <td>2012-12-13</td>\n",
       "      <td>NONE</td>\n",
       "      <td>1024333.0</td>\n",
       "      <td></td>\n",
       "    </tr>\n",
       "    <tr>\n",
       "      <th>12616</th>\n",
       "      <td>DISCK</td>\n",
       "      <td>DISCOVERY COMM INC SER C COM STK</td>\n",
       "      <td>False</td>\n",
       "      <td>2014-05-05</td>\n",
       "      <td>2014-05-16</td>\n",
       "      <td>NONE</td>\n",
       "      <td>1024333.0</td>\n",
       "      <td></td>\n",
       "    </tr>\n",
       "    <tr>\n",
       "      <th>12617</th>\n",
       "      <td>DISCK</td>\n",
       "      <td>DISCOVERY COMM INC SER C COM STK</td>\n",
       "      <td>False</td>\n",
       "      <td>2014-05-29</td>\n",
       "      <td>2014-05-29</td>\n",
       "      <td>NONE</td>\n",
       "      <td>1024333.0</td>\n",
       "      <td></td>\n",
       "    </tr>\n",
       "    <tr>\n",
       "      <th>12618</th>\n",
       "      <td>DISCK</td>\n",
       "      <td>DISCOVERY COMM INC SER C COM STK</td>\n",
       "      <td>False</td>\n",
       "      <td>2014-06-02</td>\n",
       "      <td>2014-06-16</td>\n",
       "      <td>NONE</td>\n",
       "      <td>1024333.0</td>\n",
       "      <td></td>\n",
       "    </tr>\n",
       "    <tr>\n",
       "      <th>12619</th>\n",
       "      <td>DISCK</td>\n",
       "      <td>DISCOVERY COMM INC SER C COM STK</td>\n",
       "      <td>False</td>\n",
       "      <td>2014-06-18</td>\n",
       "      <td>2014-06-23</td>\n",
       "      <td>NONE</td>\n",
       "      <td>1024333.0</td>\n",
       "      <td></td>\n",
       "    </tr>\n",
       "  </tbody>\n",
       "</table>\n",
       "</div>"
      ],
      "text/plain": [
       "      ticker                              name  active  start_date  \\\n",
       "12615  DISCK  DISCOVERY COMM INC SER C COM STK   False  2008-09-19   \n",
       "12616  DISCK  DISCOVERY COMM INC SER C COM STK   False  2014-05-05   \n",
       "12617  DISCK  DISCOVERY COMM INC SER C COM STK   False  2014-05-29   \n",
       "12618  DISCK  DISCOVERY COMM INC SER C COM STK   False  2014-06-02   \n",
       "12619  DISCK  DISCOVERY COMM INC SER C COM STK   False  2014-06-18   \n",
       "\n",
       "         end_date  type        cik composite_figi  \n",
       "12615  2012-12-13  NONE  1024333.0                 \n",
       "12616  2014-05-16  NONE  1024333.0                 \n",
       "12617  2014-05-29  NONE  1024333.0                 \n",
       "12618  2014-06-16  NONE  1024333.0                 \n",
       "12619  2014-06-23  NONE  1024333.0                 "
      ]
     },
     "execution_count": 50,
     "metadata": {},
     "output_type": "execute_result"
    }
   ],
   "source": [
    "duplicated[duplicated[\"ticker\"] == \"DISCK\"].head(5)"
   ]
  },
  {
   "cell_type": "markdown",
   "metadata": {},
   "source": [
    "On average there are 3 duplicates for duplicated tickers. When we take a look it seems that it happens a lot that the name/cik/composite_figi gets changed, even though it is the same company and ticker. For example for ZWS the name is \"Zurn Water Solutions Corporation\" on 2022-07-01 but on the next trading day (4th July was a stock holiday) the name changes to \"Zurn Elkay Water Solutions Corporation\". "
   ]
  },
  {
   "cell_type": "markdown",
   "metadata": {},
   "source": [
    "# 3.5 Merging duplicates\n",
    "The most straightforward way to merge these duplicates is to see for every duplicate whether the the end_date (1st occurence) and start_date (2nd occurence) are consecutive *trading days*. Now you understand why we made the functions in notebook 2."
   ]
  },
  {
   "cell_type": "code",
   "execution_count": 51,
   "metadata": {},
   "outputs": [
    {
     "data": {
      "text/html": [
       "<div>\n",
       "<style scoped>\n",
       "    .dataframe tbody tr th:only-of-type {\n",
       "        vertical-align: middle;\n",
       "    }\n",
       "\n",
       "    .dataframe tbody tr th {\n",
       "        vertical-align: top;\n",
       "    }\n",
       "\n",
       "    .dataframe thead th {\n",
       "        text-align: right;\n",
       "    }\n",
       "</style>\n",
       "<table border=\"1\" class=\"dataframe\">\n",
       "  <thead>\n",
       "    <tr style=\"text-align: right;\">\n",
       "      <th></th>\n",
       "      <th>ticker</th>\n",
       "      <th>name</th>\n",
       "      <th>active</th>\n",
       "      <th>start_date</th>\n",
       "      <th>end_date</th>\n",
       "      <th>type</th>\n",
       "      <th>cik</th>\n",
       "      <th>composite_figi</th>\n",
       "    </tr>\n",
       "  </thead>\n",
       "  <tbody>\n",
       "    <tr>\n",
       "      <th>0</th>\n",
       "      <td>A</td>\n",
       "      <td>AGILENT TECHNOLOGIES, INC</td>\n",
       "      <td>False</td>\n",
       "      <td>2003-09-10</td>\n",
       "      <td>2004-06-24</td>\n",
       "      <td>NONE</td>\n",
       "      <td>1090872.0</td>\n",
       "      <td>BBG000C2V3D6</td>\n",
       "    </tr>\n",
       "    <tr>\n",
       "      <th>1</th>\n",
       "      <td>A</td>\n",
       "      <td>AGILENT TECHNOLOGIES, INC</td>\n",
       "      <td>False</td>\n",
       "      <td>2004-06-25</td>\n",
       "      <td>2005-11-22</td>\n",
       "      <td>CS</td>\n",
       "      <td>1090872.0</td>\n",
       "      <td>BBG000C2V3D6</td>\n",
       "    </tr>\n",
       "    <tr>\n",
       "      <th>2</th>\n",
       "      <td>A</td>\n",
       "      <td>AGILENT TECHNOLOGIES, INC</td>\n",
       "      <td>False</td>\n",
       "      <td>2005-11-28</td>\n",
       "      <td>2005-11-28</td>\n",
       "      <td>CS</td>\n",
       "      <td>1090872.0</td>\n",
       "      <td>BBG000C2V3D6</td>\n",
       "    </tr>\n",
       "  </tbody>\n",
       "</table>\n",
       "</div>"
      ],
      "text/plain": [
       "  ticker                       name  active  start_date    end_date  type  \\\n",
       "0      A  AGILENT TECHNOLOGIES, INC   False  2003-09-10  2004-06-24  NONE   \n",
       "1      A  AGILENT TECHNOLOGIES, INC   False  2004-06-25  2005-11-22    CS   \n",
       "2      A  AGILENT TECHNOLOGIES, INC   False  2005-11-28  2005-11-28    CS   \n",
       "\n",
       "         cik composite_figi  \n",
       "0  1090872.0   BBG000C2V3D6  \n",
       "1  1090872.0   BBG000C2V3D6  \n",
       "2  1090872.0   BBG000C2V3D6  "
      ]
     },
     "execution_count": 51,
     "metadata": {},
     "output_type": "execute_result"
    }
   ],
   "source": [
    "tickers_v1.head(3)"
   ]
  },
  {
   "cell_type": "markdown",
   "metadata": {},
   "source": [
    "First we need to get the duplicates."
   ]
  },
  {
   "cell_type": "code",
   "execution_count": 52,
   "metadata": {},
   "outputs": [
    {
     "data": {
      "text/html": [
       "<div>\n",
       "<style scoped>\n",
       "    .dataframe tbody tr th:only-of-type {\n",
       "        vertical-align: middle;\n",
       "    }\n",
       "\n",
       "    .dataframe tbody tr th {\n",
       "        vertical-align: top;\n",
       "    }\n",
       "\n",
       "    .dataframe thead th {\n",
       "        text-align: right;\n",
       "    }\n",
       "</style>\n",
       "<table border=\"1\" class=\"dataframe\">\n",
       "  <thead>\n",
       "    <tr style=\"text-align: right;\">\n",
       "      <th></th>\n",
       "      <th>ticker</th>\n",
       "      <th>name</th>\n",
       "      <th>active</th>\n",
       "      <th>start_date</th>\n",
       "      <th>end_date</th>\n",
       "      <th>type</th>\n",
       "      <th>cik</th>\n",
       "      <th>composite_figi</th>\n",
       "    </tr>\n",
       "  </thead>\n",
       "  <tbody>\n",
       "    <tr>\n",
       "      <th>49000</th>\n",
       "      <td>ZYME</td>\n",
       "      <td>Zymeworks Inc.</td>\n",
       "      <td>True</td>\n",
       "      <td>2022-10-24</td>\n",
       "      <td>2024-04-19</td>\n",
       "      <td>CS</td>\n",
       "      <td>1937653.0</td>\n",
       "      <td>BBG019XSYC89</td>\n",
       "    </tr>\n",
       "    <tr>\n",
       "      <th>49001</th>\n",
       "      <td>ZYNE</td>\n",
       "      <td>ZYNERBA PHARMACEUTICALS INC COM STK (DE)</td>\n",
       "      <td>False</td>\n",
       "      <td>2015-08-05</td>\n",
       "      <td>2016-10-24</td>\n",
       "      <td>NONE</td>\n",
       "      <td>1621443.0</td>\n",
       "      <td>BBG007BBS8B7</td>\n",
       "    </tr>\n",
       "    <tr>\n",
       "      <th>49002</th>\n",
       "      <td>ZYNE</td>\n",
       "      <td>Zynerba Pharmaceuticals, Inc</td>\n",
       "      <td>False</td>\n",
       "      <td>2016-10-25</td>\n",
       "      <td>2023-10-11</td>\n",
       "      <td>CS</td>\n",
       "      <td>1621443.0</td>\n",
       "      <td>BBG007BBS8B7</td>\n",
       "    </tr>\n",
       "  </tbody>\n",
       "</table>\n",
       "</div>"
      ],
      "text/plain": [
       "      ticker                                      name  active  start_date  \\\n",
       "49000   ZYME                            Zymeworks Inc.    True  2022-10-24   \n",
       "49001   ZYNE  ZYNERBA PHARMACEUTICALS INC COM STK (DE)   False  2015-08-05   \n",
       "49002   ZYNE              Zynerba Pharmaceuticals, Inc   False  2016-10-25   \n",
       "\n",
       "         end_date  type        cik composite_figi  \n",
       "49000  2024-04-19    CS  1937653.0   BBG019XSYC89  \n",
       "49001  2016-10-24  NONE  1621443.0   BBG007BBS8B7  \n",
       "49002  2023-10-11    CS  1621443.0   BBG007BBS8B7  "
      ]
     },
     "execution_count": 52,
     "metadata": {},
     "output_type": "execute_result"
    }
   ],
   "source": [
    "tickers_v1 = get_tickers(1)\n",
    "duplicated = tickers_v1[tickers_v1[\"ticker\"].duplicated(keep=False)]\n",
    "duplicated.tail(3)"
   ]
  },
  {
   "cell_type": "code",
   "execution_count": 53,
   "metadata": {},
   "outputs": [],
   "source": [
    "###\n",
    "tickers_v1 = get_tickers(1)"
   ]
  },
  {
   "cell_type": "code",
   "execution_count": 21,
   "metadata": {},
   "outputs": [],
   "source": [
    "###\n",
    "tickers_v1 = tickers_v1.sort_values(by=['ticker', 'end_date'])\n",
    "tickers_v1 = tickers_v1.reset_index(drop=True)\n",
    "market_days = get_market_dates()\n",
    "\n",
    "duplicated = tickers_v1[tickers_v1[\"ticker\"].duplicated(keep=False)] # Get all duplicated, *including* the original\n",
    "\n",
    "# Step 1: Get the indices of the rows that should be merged.\n",
    "indices_duplicated = [] # looks like [['A', {1, 2, 3}], ['A', {4, 5}], ['B', {10, 11, 12, 13}]]\n",
    "prev_index_and_row = None\n",
    "prev_is_duplicate_and_back_to_back = False\n",
    "\n",
    "for index, row in duplicated.iterrows():\n",
    "    # Get attributes of previous ticker\n",
    "    if prev_index_and_row is not None:\n",
    "        prev_index = prev_index_and_row[0]\n",
    "        prev_row = prev_index_and_row[1]\n",
    "        prev_ticker = prev_row[\"ticker\"]\n",
    "        prev_name = prev_row[\"name\"]\n",
    "        prev_start_date = prev_row[\"start_date\"]\n",
    "        prev_end_date = prev_row[\"end_date\"]\n",
    "        prev_cik = prev_row[\"cik\"]\n",
    "        prev_figi = prev_row[\"composite_figi\"]\n",
    "\n",
    "    # Get attributes of current ticker\n",
    "    current_index = index\n",
    "    current_row = row\n",
    "    current_ticker = current_row[\"ticker\"]\n",
    "    current_name = current_row[\"name\"]\n",
    "    current_start_date = current_row[\"start_date\"]\n",
    "    current_end_date = current_row[\"end_date\"]\n",
    "    current_cik = current_row[\"cik\"]\n",
    "    current_figi = current_row[\"composite_figi\"]\n",
    "    \n",
    "    # Skip first index\n",
    "    if prev_index_and_row is None:\n",
    "        pass\n",
    "    # Check if ticker duplicated and back-to-back\n",
    "    elif prev_ticker == current_ticker and market_days[market_days.index(prev_end_date) + 1] == current_start_date:\n",
    "        # If the previous was NOT duplicated/back-to-back, we need to create a new entry for the stock\n",
    "        if prev_is_duplicate_and_back_to_back == False:\n",
    "            indices_duplicated.append([current_ticker, {prev_index, current_index}])\n",
    "        # Else the stock already exists in the list. Then simply append the indices.\n",
    "        else:\n",
    "            indices_duplicated[-1][-1].add(prev_index)\n",
    "            indices_duplicated[-1][-1].add(current_index)\n",
    "        \n",
    "        # Update flag\n",
    "        prev_is_duplicate_and_back_to_back = True\n",
    "    else:\n",
    "        prev_is_duplicate_and_back_to_back = False\n",
    "\n",
    "    # Update prev_index_and_row for next iteration\n",
    "    prev_index_and_row = (current_index, row)"
   ]
  },
  {
   "cell_type": "code",
   "execution_count": 22,
   "metadata": {},
   "outputs": [
    {
     "name": "stdout",
     "output_type": "stream",
     "text": [
      "238\n",
      "[['ABTLE', {133, 134}], ['ACMTA', {225, 226, 227}], ['ACSEF', {249, 250, 251, 252}]]\n"
     ]
    }
   ],
   "source": [
    "print(len(indices_duplicated))\n",
    "print(indices_duplicated[:3])"
   ]
  },
  {
   "cell_type": "markdown",
   "metadata": {},
   "source": [
    "Very rarely, it happens that the same ticker, but not the same company, has duplicates. E.g. if in our ticker list the first 5 rows is the ticker AAA, but the start and end dates are (1, 2), (2, 3), (3, 4), (9, 10), (10, 11), this means that these are two different companies. Then indices_duplicated contains ['AAA', {1, 2, 3, 4}] and ['AAA, {10, 11}]. If it *is* the same company, it managed to get delisted to OTC and revive to get their listing back. However we stated that we are not interested in OTC so this is fine. Or something is wrong with Polygons data."
   ]
  },
  {
   "cell_type": "code",
   "execution_count": 66,
   "metadata": {},
   "outputs": [],
   "source": [
    "# See which tickers are duplicated in indices_duplicated.\n",
    "tickers_already_checked = set() \n",
    "for ticker, indices in indices_duplicated:\n",
    "    if ticker in tickers_already_checked:\n",
    "        print(ticker)\n",
    "    tickers_already_checked.add(ticker)"
   ]
  },
  {
   "cell_type": "markdown",
   "metadata": {},
   "source": [
    "Now that we have a list of indices of the duplicated tickers, we can merge them together. We do this by looping over <code>indices_duplicated</code> and then changing all duplicated rows to get the correct values. Then we remove the duplicates."
   ]
  },
  {
   "cell_type": "code",
   "execution_count": 23,
   "metadata": {},
   "outputs": [],
   "source": [
    "###\n",
    "\n",
    "# Step 2: Merge duplicated in tickers_all\n",
    "\"\"\"\n",
    "Which value is assigned:\n",
    "    name: last\n",
    "    active: last\n",
    "    start_date: first\n",
    "    end_date: last\n",
    "    type: last (but does not matter as it is always CS or ADRC)\n",
    "    cik: last value that is not NaN\n",
    "    compositite_figi: last value that is not NaN\n",
    "\"\"\"\n",
    "for ticker, indices in indices_duplicated:\n",
    "    # CAUTION: Make sure that indices is sorted! Else it can happen that end_date is before start_date. I only found this out later. Moral: Always do sanity checks.\n",
    "    indices = sorted(list(indices))\n",
    "    ticker_data_in_tickers_v1 = tickers_v1.iloc[indices, :]\n",
    "    tickers_v1.iloc[indices, tickers_v1.columns.get_loc(\"name\")] = ticker_data_in_tickers_v1[\"name\"].values[-1]\n",
    "    tickers_v1.iloc[indices, tickers_v1.columns.get_loc(\"active\")] = ticker_data_in_tickers_v1[\"active\"].values[-1]\n",
    "    tickers_v1.iloc[indices, tickers_v1.columns.get_loc(\"start_date\")] = ticker_data_in_tickers_v1[\"start_date\"].values[0]\n",
    "    tickers_v1.iloc[indices, tickers_v1.columns.get_loc(\"end_date\")] = ticker_data_in_tickers_v1[\"end_date\"].values[-1]\n",
    "    tickers_v1.iloc[indices, tickers_v1.columns.get_loc(\"type\")] = ticker_data_in_tickers_v1[\"type\"].values[-1]\n",
    "    tickers_v1.iloc[indices, tickers_v1.columns.get_loc(\"cik\")] = ticker_data_in_tickers_v1[\"cik\"].ffill().values[-1]\n",
    "    tickers_v1.iloc[indices, tickers_v1.columns.get_loc(\"composite_figi\")] = ticker_data_in_tickers_v1[\"composite_figi\"].ffill().values[-1]\n",
    "\n",
    "tickers_v1 = tickers_v1.drop_duplicates().reset_index(drop=True)"
   ]
  },
  {
   "cell_type": "code",
   "execution_count": 68,
   "metadata": {},
   "outputs": [
    {
     "data": {
      "text/plain": [
       "28896"
      ]
     },
     "execution_count": 68,
     "metadata": {},
     "output_type": "execute_result"
    }
   ],
   "source": [
    "len(tickers_v1)"
   ]
  },
  {
   "cell_type": "markdown",
   "metadata": {},
   "source": [
    "Now only a fraction of the original duplicated tickers remain."
   ]
  },
  {
   "cell_type": "code",
   "execution_count": 69,
   "metadata": {},
   "outputs": [
    {
     "name": "stdout",
     "output_type": "stream",
     "text": [
      "4283\n"
     ]
    },
    {
     "data": {
      "text/html": [
       "<div>\n",
       "<style scoped>\n",
       "    .dataframe tbody tr th:only-of-type {\n",
       "        vertical-align: middle;\n",
       "    }\n",
       "\n",
       "    .dataframe tbody tr th {\n",
       "        vertical-align: top;\n",
       "    }\n",
       "\n",
       "    .dataframe thead th {\n",
       "        text-align: right;\n",
       "    }\n",
       "</style>\n",
       "<table border=\"1\" class=\"dataframe\">\n",
       "  <thead>\n",
       "    <tr style=\"text-align: right;\">\n",
       "      <th></th>\n",
       "      <th>ticker</th>\n",
       "      <th>name</th>\n",
       "      <th>active</th>\n",
       "      <th>start_date</th>\n",
       "      <th>end_date</th>\n",
       "      <th>type</th>\n",
       "      <th>cik</th>\n",
       "      <th>composite_figi</th>\n",
       "    </tr>\n",
       "  </thead>\n",
       "  <tbody>\n",
       "    <tr>\n",
       "      <th>0</th>\n",
       "      <td>A</td>\n",
       "      <td>AGILENT TECHNOLOGIES, INC</td>\n",
       "      <td>False</td>\n",
       "      <td>2003-09-10</td>\n",
       "      <td>2005-11-22</td>\n",
       "      <td>CS</td>\n",
       "      <td>1090872.0</td>\n",
       "      <td>BBG000C2V3D6</td>\n",
       "    </tr>\n",
       "    <tr>\n",
       "      <th>1</th>\n",
       "      <td>A</td>\n",
       "      <td>AGILENT TECHNOLOGIES, INC</td>\n",
       "      <td>False</td>\n",
       "      <td>2005-11-28</td>\n",
       "      <td>2005-11-28</td>\n",
       "      <td>CS</td>\n",
       "      <td>1090872.0</td>\n",
       "      <td>BBG000C2V3D6</td>\n",
       "    </tr>\n",
       "    <tr>\n",
       "      <th>2</th>\n",
       "      <td>A</td>\n",
       "      <td>AGILENT TECHNOLOGIES, INC</td>\n",
       "      <td>False</td>\n",
       "      <td>2005-11-30</td>\n",
       "      <td>2005-11-30</td>\n",
       "      <td>CS</td>\n",
       "      <td>1090872.0</td>\n",
       "      <td>BBG000C2V3D6</td>\n",
       "    </tr>\n",
       "    <tr>\n",
       "      <th>3</th>\n",
       "      <td>A</td>\n",
       "      <td>AGILENT TECHNOLOGIES, INC</td>\n",
       "      <td>False</td>\n",
       "      <td>2005-12-02</td>\n",
       "      <td>2005-12-02</td>\n",
       "      <td>CS</td>\n",
       "      <td>1090872.0</td>\n",
       "      <td>BBG000C2V3D6</td>\n",
       "    </tr>\n",
       "    <tr>\n",
       "      <th>4</th>\n",
       "      <td>A</td>\n",
       "      <td>AGILENT TECHNOLOGIES, INC</td>\n",
       "      <td>False</td>\n",
       "      <td>2005-12-06</td>\n",
       "      <td>2005-12-06</td>\n",
       "      <td>CS</td>\n",
       "      <td>1090872.0</td>\n",
       "      <td>BBG000C2V3D6</td>\n",
       "    </tr>\n",
       "  </tbody>\n",
       "</table>\n",
       "</div>"
      ],
      "text/plain": [
       "  ticker                       name  active  start_date    end_date type  \\\n",
       "0      A  AGILENT TECHNOLOGIES, INC   False  2003-09-10  2005-11-22   CS   \n",
       "1      A  AGILENT TECHNOLOGIES, INC   False  2005-11-28  2005-11-28   CS   \n",
       "2      A  AGILENT TECHNOLOGIES, INC   False  2005-11-30  2005-11-30   CS   \n",
       "3      A  AGILENT TECHNOLOGIES, INC   False  2005-12-02  2005-12-02   CS   \n",
       "4      A  AGILENT TECHNOLOGIES, INC   False  2005-12-06  2005-12-06   CS   \n",
       "\n",
       "         cik composite_figi  \n",
       "0  1090872.0   BBG000C2V3D6  \n",
       "1  1090872.0   BBG000C2V3D6  \n",
       "2  1090872.0   BBG000C2V3D6  \n",
       "3  1090872.0   BBG000C2V3D6  \n",
       "4  1090872.0   BBG000C2V3D6  "
      ]
     },
     "execution_count": 69,
     "metadata": {},
     "output_type": "execute_result"
    }
   ],
   "source": [
    "duplicated = tickers_v1[tickers_v1[\"ticker\"].duplicated(keep=False)]\n",
    "print(len(duplicated[\"ticker\"].unique()))\n",
    "pd.set_option('display.max_rows', None)\n",
    "\n",
    "duplicated.head(5)"
   ]
  },
  {
   "cell_type": "markdown",
   "metadata": {},
   "source": [
    "We can see that some are the same company but not back-to-back. Some are different companies or went OTC and back, these are correct. However, for a lot of stocks, the first occurence only trades for a few days. That makes no sense. If you try to download data for these dates, you will see that there exists none.\n",
    "\n",
    "So some stocks have a 'ghost' day just before their IPO. E.g. YGF was IPO'd on 2023-03-28. But on 2023-03-24 had a entry with start_date and end_date of just one day. This is the same with VCIG, which had 2 'ghost' days on 2023-03-22 and 2023-04-06. For SXTP, the ghost days were actually two. Investigating the stocks that only have 1 day in our ticker list also shows funds (that are NOT common stocks!).\n",
    "\n",
    "Nevertheless, if start_date is equal to end_date, it's always unusable and something is wrong. So we will first remove all tickers that only exist for one day.\n",
    "\n",
    "*This has been moved to after the second merging in 'more problems'. Else we will incorrectly remove the tickers that have one day. See the ticker CMCSA to see why.*"
   ]
  },
  {
   "cell_type": "code",
   "execution_count": 60,
   "metadata": {},
   "outputs": [],
   "source": [
    "# ghost_days = tickers_v1[((tickers_v1[\"end_date\"] - tickers_v1[\"start_date\"]) == timedelta(days=0)) & \n",
    "#                         (tickers_v1[\"start_date\"] <= market_days[market_days.index(END_DATE) - 1])]\n",
    "# print(len(ghost_days))\n",
    "# ghost_days.head(5)"
   ]
  },
  {
   "cell_type": "code",
   "execution_count": 61,
   "metadata": {},
   "outputs": [],
   "source": [
    "# ###\n",
    "# tickers_v1 = tickers_v1[((tickers_v1[\"end_date\"] - tickers_v1[\"start_date\"]) > timedelta(days=0)) | \n",
    "#                         (tickers_v1[\"start_date\"] == market_days[market_days.index(END_DATE) - 1])]\n",
    "# tickers_v1 = tickers_v1.reset_index(drop=True)\n",
    "# len(tickers_v1)"
   ]
  },
  {
   "cell_type": "markdown",
   "metadata": {},
   "source": [
    "The remaining duplicates are:"
   ]
  },
  {
   "cell_type": "code",
   "execution_count": 62,
   "metadata": {},
   "outputs": [],
   "source": [
    "# duplicated = tickers_v1[tickers_v1[\"ticker\"].duplicated(keep=False)]\n",
    "# print(len(duplicated[\"ticker\"].unique()))\n",
    "\n",
    "# duplicated.head(5)"
   ]
  },
  {
   "cell_type": "markdown",
   "metadata": {},
   "source": [
    "We need to keep in mind that the <code>start_date</code> and <code>end_date</code> may not be the start/end dates of the data. To determine the data dates, we need to loop through the ticker list and see whether the data exists. \n",
    "\n",
    "However, after we have downloaded our data, we can just infer it. So we will postpone this to avoid doing it twice."
   ]
  },
  {
   "cell_type": "code",
   "execution_count": 63,
   "metadata": {},
   "outputs": [],
   "source": [
    "tickers_v1.to_csv(\"../data/tickers_v1_BEFORE_3.6.csv\")"
   ]
  },
  {
   "cell_type": "code",
   "execution_count": 4,
   "metadata": {},
   "outputs": [],
   "source": [
    "tickers_v1 = pd.read_csv(\"../data/tickers_v1_BEFORE_3.6.csv\", index_col=0)"
   ]
  },
  {
   "cell_type": "code",
   "execution_count": 5,
   "metadata": {},
   "outputs": [],
   "source": [
    "tickers_v1['name'] = tickers_v1['name'].astype(str)\n",
    "tickers_v1['ticker'] = tickers_v1['ticker'].astype(str)\n",
    "tickers_v1['start_date'] = pd.to_datetime(tickers_v1['start_date']).dt.date\n",
    "tickers_v1['end_date'] = pd.to_datetime(tickers_v1['end_date']).dt.date"
   ]
  },
  {
   "cell_type": "markdown",
   "metadata": {},
   "source": [
    "# 3.6 Removing incorrect classes\n",
    "There are still some weird or incorrect stock classes that we have to remove. These were found by just looking through the ticker list.\n",
    "\n",
    "These are:\n",
    "- Funds. There are a LOT of them.\n",
    "- Preferred stock/bonds\n",
    "- Non-stocks, these have a uncapitalized letter in the ticker, such as \"w\" for warrants\n",
    "- \"Ex-distribution\" or \"When-issued\" conditions\n",
    "\n",
    "For the last 2 ones, it is understandable that they show up in ticker lists. However the first 2 should never.\n",
    "\n",
    "Caution: we might remove some correct tickers. However that is better than having 100+ funds in the data... And it's also random so this is a less bad form of survivorship bias."
   ]
  },
  {
   "cell_type": "code",
   "execution_count": 8,
   "metadata": {},
   "outputs": [
    {
     "name": "stdout",
     "output_type": "stream",
     "text": [
      "5101\n"
     ]
    },
    {
     "data": {
      "text/html": [
       "<div>\n",
       "<style scoped>\n",
       "    .dataframe tbody tr th:only-of-type {\n",
       "        vertical-align: middle;\n",
       "    }\n",
       "\n",
       "    .dataframe tbody tr th {\n",
       "        vertical-align: top;\n",
       "    }\n",
       "\n",
       "    .dataframe thead th {\n",
       "        text-align: right;\n",
       "    }\n",
       "</style>\n",
       "<table border=\"1\" class=\"dataframe\">\n",
       "  <thead>\n",
       "    <tr style=\"text-align: right;\">\n",
       "      <th></th>\n",
       "      <th>ticker</th>\n",
       "      <th>name</th>\n",
       "      <th>active</th>\n",
       "      <th>start_date</th>\n",
       "      <th>end_date</th>\n",
       "      <th>type</th>\n",
       "      <th>cik</th>\n",
       "      <th>composite_figi</th>\n",
       "    </tr>\n",
       "  </thead>\n",
       "  <tbody>\n",
       "    <tr>\n",
       "      <th>25</th>\n",
       "      <td>AACOU</td>\n",
       "      <td>AUSTRALIA ACQUISITION CORP   UNIT SH &amp; WT EXP</td>\n",
       "      <td>False</td>\n",
       "      <td>2010-11-12</td>\n",
       "      <td>2010-12-10</td>\n",
       "      <td>NONE</td>\n",
       "      <td>1499593.0</td>\n",
       "      <td>NaN</td>\n",
       "    </tr>\n",
       "    <tr>\n",
       "      <th>26</th>\n",
       "      <td>AACOU</td>\n",
       "      <td>AUSTRALIA ACQUISITION CORP   UNIT SH &amp; WT EXP</td>\n",
       "      <td>False</td>\n",
       "      <td>2010-12-15</td>\n",
       "      <td>2012-10-15</td>\n",
       "      <td>NONE</td>\n",
       "      <td>1499593.0</td>\n",
       "      <td>NaN</td>\n",
       "    </tr>\n",
       "    <tr>\n",
       "      <th>42</th>\n",
       "      <td>AAIT</td>\n",
       "      <td>ISHARES MSCI ALL COUNTRY ASIA INFO TECHNOLOGY ETF</td>\n",
       "      <td>False</td>\n",
       "      <td>2012-02-09</td>\n",
       "      <td>2015-08-21</td>\n",
       "      <td>NONE</td>\n",
       "      <td>1100663.0</td>\n",
       "      <td>NaN</td>\n",
       "    </tr>\n",
       "  </tbody>\n",
       "</table>\n",
       "</div>"
      ],
      "text/plain": [
       "   ticker                                               name  active  \\\n",
       "25  AACOU      AUSTRALIA ACQUISITION CORP   UNIT SH & WT EXP   False   \n",
       "26  AACOU      AUSTRALIA ACQUISITION CORP   UNIT SH & WT EXP   False   \n",
       "42   AAIT  ISHARES MSCI ALL COUNTRY ASIA INFO TECHNOLOGY ETF   False   \n",
       "\n",
       "    start_date    end_date  type        cik composite_figi  \n",
       "25  2010-11-12  2010-12-10  NONE  1499593.0            NaN  \n",
       "26  2010-12-15  2012-10-15  NONE  1499593.0            NaN  \n",
       "42  2012-02-09  2015-08-21  NONE  1100663.0            NaN  "
      ]
     },
     "execution_count": 8,
     "metadata": {},
     "output_type": "execute_result"
    }
   ],
   "source": [
    "###\n",
    "funds = tickers_v1[tickers_v1['name'].apply(lambda s: \n",
    "        \"fund\" in s.lower().split() \\\n",
    "        or \"fund,\" in s.lower().split() \\\n",
    "        or \"fnd\" in s.lower().split() \\\n",
    "        or \"fd\" in s.lower().split() \\\n",
    "        or \"aberdeen\" in s.lower().split() \\\n",
    "        or \"barings,\" in s.lower().split() \\\n",
    "        or \"blackrock\" in s.lower().split() \\\n",
    "        or \"barclays\" in s.lower().split() \\\n",
    "        or \"bldrs\" in s.lower().split() \\\n",
    "        or \"contigent\" in s.lower().split() \\\n",
    "        or \"citigroup\" in s.lower().split() \\\n",
    "        or \"direxion\" in s.lower().split() \\\n",
    "        or \"mfs\" in s.lower().split() \\\n",
    "        or \"eaton\" in s.lower().split() \\\n",
    "        or \"calamos\" in s.lower().split() \\\n",
    "        or \"nuveen\" in s.lower().split() \\\n",
    "        or \"proshares\" in s.lower().split() \\\n",
    "        or \"suisse\" in s.lower().split()\\\n",
    "        or \"ishares\" in s.lower().split()\\\n",
    "        or \"jpmorgan\" in s.lower().split()\\\n",
    "        or \"invesco\" in s.lower().split()\\\n",
    "        or \"powershares\" in s.lower().split()\\\n",
    "        or \"gabelli\" in s.lower().split() \\\n",
    "        or \"morgan\" in s.lower().split() \\\n",
    "        or \"merrill\" in s.lower().split() \\\n",
    "        or \"merill\" in s.lower().split() \\\n",
    "        or \"merr\" in s.lower().split() \\\n",
    "        or \"etf\" in s.lower().split() \\\n",
    "        or \"etn\" in s.lower().split() \\\n",
    "        or \"etv\" in s.lower().split() \\\n",
    "        or \"index\" in s.lower().split() \\\n",
    "        or \"idx\" in s.lower().split() \\\n",
    "        or \"indx\" in s.lower().split() \\\n",
    "        or \"ctf\" in s.lower().split() \\\n",
    "        or \"pwrshrs\" in s.lower().split() \\\n",
    "        or \"pwrsh\" in s.lower().split() \\\n",
    "        or \"dbx\" in s.lower().split() \\\n",
    "        or \"msdw\" in s.lower().split() \\\n",
    "        or \"structured\" in s.lower().split() \\\n",
    "        or \"tr\" in s.lower().split() \\\n",
    "        or \"ubs\" in s.lower().split() \\\n",
    "        or \"xai\" in s.lower().split() \\\n",
    "        or \"structrd\" in s.lower().split() \\\n",
    "        or \"structurd\" in s.lower().split() \\\n",
    "        or \"putnam\" in s.lower().split() \\\n",
    "        or \"citigrp\" in s.lower().split() \\\n",
    "        or \"citigp\" in s.lower().split() \\\n",
    "        or \"citicgroup\" in s.lower().split() \\\n",
    "        or \"mrgn\" in s.lower().split() \\\n",
    "        or \"lnk\" in s.lower().split() \\\n",
    "        or \"pines\" in s.lower().split() \\\n",
    "        or \"cert\" in s.lower().split() \\\n",
    "        or \"certificate\" in s.lower().split() \\\n",
    "        or \"lkd\" in s.lower().split() \\\n",
    "        or \"lknd\" in s.lower().split() \\\n",
    "        or \"velocityshs\" in s.lower().split() \\\n",
    "        or \"structred\" in s.lower().split() \\\n",
    "        or \"struct\" in s.lower().split() \\\n",
    "        or \"nt\" in s.lower().split()\\\n",
    "        or \"unit\" in s.lower().split()\\\n",
    "        or \"units\" in s.lower().split()\\\n",
    "        or \"\\\"quids\\\"\" in s.lower().split() \\\n",
    "        or (\"pioneer\" in s.lower().split() and \"trust\" in s.lower().split()) \\\n",
    "        )\n",
    "\n",
    "        | tickers_v1['ticker'].isin(['FSMO', 'LOR', 'CMCA', 'EMD', 'HORI', 'KEMP', 'HCD', 'PMO', 'PCV', 'FSCO', 'AGB', 'FIV', 'GYB', 'FIV', 'IKBCO', 'MBINO', 'INDB.N', 'INDB', 'JBN', 'XFLT', 'VKA', 'VKC', 'VKS', 'TMT', 'TMB', 'RMT'])\n",
    "\n",
    "        & ~tickers_v1['ticker'].isin(['JPM', 'EV', 'IVZ', 'IVR', 'BLK', 'TCPC', \\\n",
    "                'DJP', 'KMI', 'KMP', 'KMR', 'MHGC', 'MS', 'MWD', 'MR', 'MFUN', 'C', 'CS', 'CSR', 'UBS'])\n",
    "        ]\n",
    "print(len(funds))\n",
    "funds.head(3)"
   ]
  },
  {
   "cell_type": "code",
   "execution_count": 9,
   "metadata": {},
   "outputs": [
    {
     "name": "stdout",
     "output_type": "stream",
     "text": [
      "2043\n"
     ]
    },
    {
     "data": {
      "text/html": [
       "<div>\n",
       "<style scoped>\n",
       "    .dataframe tbody tr th:only-of-type {\n",
       "        vertical-align: middle;\n",
       "    }\n",
       "\n",
       "    .dataframe tbody tr th {\n",
       "        vertical-align: top;\n",
       "    }\n",
       "\n",
       "    .dataframe thead th {\n",
       "        text-align: right;\n",
       "    }\n",
       "</style>\n",
       "<table border=\"1\" class=\"dataframe\">\n",
       "  <thead>\n",
       "    <tr style=\"text-align: right;\">\n",
       "      <th></th>\n",
       "      <th>ticker</th>\n",
       "      <th>name</th>\n",
       "      <th>active</th>\n",
       "      <th>start_date</th>\n",
       "      <th>end_date</th>\n",
       "      <th>type</th>\n",
       "      <th>cik</th>\n",
       "      <th>composite_figi</th>\n",
       "    </tr>\n",
       "  </thead>\n",
       "  <tbody>\n",
       "    <tr>\n",
       "      <th>31</th>\n",
       "      <td>AAG.PRTC</td>\n",
       "      <td>AMER ANNTY GRP 91/4% (TOPRS)</td>\n",
       "      <td>False</td>\n",
       "      <td>2004-01-30</td>\n",
       "      <td>2004-03-05</td>\n",
       "      <td>NONE</td>\n",
       "      <td>NaN</td>\n",
       "      <td>NaN</td>\n",
       "    </tr>\n",
       "    <tr>\n",
       "      <th>33</th>\n",
       "      <td>AAGpT</td>\n",
       "      <td>AMER ANNTY GRP 91/4% (TOPRS)</td>\n",
       "      <td>False</td>\n",
       "      <td>2003-09-10</td>\n",
       "      <td>2004-01-29</td>\n",
       "      <td>NONE</td>\n",
       "      <td>NaN</td>\n",
       "      <td>NaN</td>\n",
       "    </tr>\n",
       "    <tr>\n",
       "      <th>41</th>\n",
       "      <td>AAIN</td>\n",
       "      <td>Arlington Asset Investment Corp. 6.000% Senior...</td>\n",
       "      <td>False</td>\n",
       "      <td>2021-07-19</td>\n",
       "      <td>2022-08-19</td>\n",
       "      <td>NONE</td>\n",
       "      <td>1209028.0</td>\n",
       "      <td>NaN</td>\n",
       "    </tr>\n",
       "  </tbody>\n",
       "</table>\n",
       "</div>"
      ],
      "text/plain": [
       "      ticker                                               name  active  \\\n",
       "31  AAG.PRTC                       AMER ANNTY GRP 91/4% (TOPRS)   False   \n",
       "33     AAGpT                       AMER ANNTY GRP 91/4% (TOPRS)   False   \n",
       "41      AAIN  Arlington Asset Investment Corp. 6.000% Senior...   False   \n",
       "\n",
       "    start_date    end_date  type        cik composite_figi  \n",
       "31  2004-01-30  2004-03-05  NONE        NaN            NaN  \n",
       "33  2003-09-10  2004-01-29  NONE        NaN            NaN  \n",
       "41  2021-07-19  2022-08-19  NONE  1209028.0            NaN  "
      ]
     },
     "execution_count": 9,
     "metadata": {},
     "output_type": "execute_result"
    }
   ],
   "source": [
    "###\n",
    "tickers_pct = tickers_v1[tickers_v1['name'].str.contains('%')]\n",
    "print(len(tickers_pct))\n",
    "tickers_pct.head(3)"
   ]
  },
  {
   "cell_type": "code",
   "execution_count": 10,
   "metadata": {},
   "outputs": [
    {
     "name": "stdout",
     "output_type": "stream",
     "text": [
      "2537\n"
     ]
    },
    {
     "data": {
      "text/html": [
       "<div>\n",
       "<style scoped>\n",
       "    .dataframe tbody tr th:only-of-type {\n",
       "        vertical-align: middle;\n",
       "    }\n",
       "\n",
       "    .dataframe tbody tr th {\n",
       "        vertical-align: top;\n",
       "    }\n",
       "\n",
       "    .dataframe thead th {\n",
       "        text-align: right;\n",
       "    }\n",
       "</style>\n",
       "<table border=\"1\" class=\"dataframe\">\n",
       "  <thead>\n",
       "    <tr style=\"text-align: right;\">\n",
       "      <th></th>\n",
       "      <th>ticker</th>\n",
       "      <th>name</th>\n",
       "      <th>active</th>\n",
       "      <th>start_date</th>\n",
       "      <th>end_date</th>\n",
       "      <th>type</th>\n",
       "      <th>cik</th>\n",
       "      <th>composite_figi</th>\n",
       "    </tr>\n",
       "  </thead>\n",
       "  <tbody>\n",
       "    <tr>\n",
       "      <th>33</th>\n",
       "      <td>AAGpT</td>\n",
       "      <td>AMER ANNTY GRP 91/4% (TOPRS)</td>\n",
       "      <td>False</td>\n",
       "      <td>2003-09-10</td>\n",
       "      <td>2004-01-29</td>\n",
       "      <td>NONE</td>\n",
       "      <td>NaN</td>\n",
       "      <td>NaN</td>\n",
       "    </tr>\n",
       "    <tr>\n",
       "      <th>50</th>\n",
       "      <td>AANw</td>\n",
       "      <td>The Aaron''s Company, Inc.</td>\n",
       "      <td>False</td>\n",
       "      <td>2020-11-25</td>\n",
       "      <td>2020-11-30</td>\n",
       "      <td>CS</td>\n",
       "      <td>1821393.0</td>\n",
       "      <td>BBG00WCNDCZ6</td>\n",
       "    </tr>\n",
       "    <tr>\n",
       "      <th>56</th>\n",
       "      <td>AAPw</td>\n",
       "      <td>ADVANCE AUTO PARTS INC WI</td>\n",
       "      <td>False</td>\n",
       "      <td>2005-09-22</td>\n",
       "      <td>2005-09-23</td>\n",
       "      <td>NONE</td>\n",
       "      <td>1158449.0</td>\n",
       "      <td>BBG000F7RCJ1</td>\n",
       "    </tr>\n",
       "  </tbody>\n",
       "</table>\n",
       "</div>"
      ],
      "text/plain": [
       "   ticker                          name  active  start_date    end_date  type  \\\n",
       "33  AAGpT  AMER ANNTY GRP 91/4% (TOPRS)   False  2003-09-10  2004-01-29  NONE   \n",
       "50   AANw    The Aaron''s Company, Inc.   False  2020-11-25  2020-11-30    CS   \n",
       "56   AAPw     ADVANCE AUTO PARTS INC WI   False  2005-09-22  2005-09-23  NONE   \n",
       "\n",
       "          cik composite_figi  \n",
       "33        NaN            NaN  \n",
       "50  1821393.0   BBG00WCNDCZ6  \n",
       "56  1158449.0   BBG000F7RCJ1  "
      ]
     },
     "execution_count": 10,
     "metadata": {},
     "output_type": "execute_result"
    }
   ],
   "source": [
    "###\n",
    "tickers_small_letter = tickers_v1[tickers_v1[\"ticker\"].apply(lambda str: any(s.islower() for s in str))]\n",
    "print(len(tickers_small_letter))\n",
    "tickers_small_letter.head(3)"
   ]
  },
  {
   "cell_type": "code",
   "execution_count": 11,
   "metadata": {},
   "outputs": [
    {
     "name": "stdout",
     "output_type": "stream",
     "text": [
      "3052\n"
     ]
    },
    {
     "data": {
      "text/html": [
       "<div>\n",
       "<style scoped>\n",
       "    .dataframe tbody tr th:only-of-type {\n",
       "        vertical-align: middle;\n",
       "    }\n",
       "\n",
       "    .dataframe tbody tr th {\n",
       "        vertical-align: top;\n",
       "    }\n",
       "\n",
       "    .dataframe thead th {\n",
       "        text-align: right;\n",
       "    }\n",
       "</style>\n",
       "<table border=\"1\" class=\"dataframe\">\n",
       "  <thead>\n",
       "    <tr style=\"text-align: right;\">\n",
       "      <th></th>\n",
       "      <th>ticker</th>\n",
       "      <th>name</th>\n",
       "      <th>active</th>\n",
       "      <th>start_date</th>\n",
       "      <th>end_date</th>\n",
       "      <th>type</th>\n",
       "      <th>cik</th>\n",
       "      <th>composite_figi</th>\n",
       "    </tr>\n",
       "  </thead>\n",
       "  <tbody>\n",
       "    <tr>\n",
       "      <th>13</th>\n",
       "      <td>AAB.WS</td>\n",
       "      <td>LEHMAN BROTHERS CURRENCY BASKET WTS EXP 2/13/2008</td>\n",
       "      <td>False</td>\n",
       "      <td>2006-08-08</td>\n",
       "      <td>2008-02-08</td>\n",
       "      <td>NONE</td>\n",
       "      <td>NaN</td>\n",
       "      <td>NaN</td>\n",
       "    </tr>\n",
       "    <tr>\n",
       "      <th>25</th>\n",
       "      <td>AACOU</td>\n",
       "      <td>AUSTRALIA ACQUISITION CORP   UNIT SH &amp; WT EXP</td>\n",
       "      <td>False</td>\n",
       "      <td>2010-11-12</td>\n",
       "      <td>2010-12-10</td>\n",
       "      <td>NONE</td>\n",
       "      <td>1499593.0</td>\n",
       "      <td>NaN</td>\n",
       "    </tr>\n",
       "    <tr>\n",
       "      <th>26</th>\n",
       "      <td>AACOU</td>\n",
       "      <td>AUSTRALIA ACQUISITION CORP   UNIT SH &amp; WT EXP</td>\n",
       "      <td>False</td>\n",
       "      <td>2010-12-15</td>\n",
       "      <td>2012-10-15</td>\n",
       "      <td>NONE</td>\n",
       "      <td>1499593.0</td>\n",
       "      <td>NaN</td>\n",
       "    </tr>\n",
       "  </tbody>\n",
       "</table>\n",
       "</div>"
      ],
      "text/plain": [
       "    ticker                                               name  active  \\\n",
       "13  AAB.WS  LEHMAN BROTHERS CURRENCY BASKET WTS EXP 2/13/2008   False   \n",
       "25   AACOU      AUSTRALIA ACQUISITION CORP   UNIT SH & WT EXP   False   \n",
       "26   AACOU      AUSTRALIA ACQUISITION CORP   UNIT SH & WT EXP   False   \n",
       "\n",
       "    start_date    end_date  type        cik composite_figi  \n",
       "13  2006-08-08  2008-02-08  NONE        NaN            NaN  \n",
       "25  2010-11-12  2010-12-10  NONE  1499593.0            NaN  \n",
       "26  2010-12-15  2012-10-15  NONE  1499593.0            NaN  "
      ]
     },
     "execution_count": 11,
     "metadata": {},
     "output_type": "execute_result"
    }
   ],
   "source": [
    "###\n",
    "tickers_preferred = tickers_v1[tickers_v1['name'].apply(lambda s: \n",
    "               (\"pf\" in s.lower().split()) \\\n",
    "            or (\"pfd\" in s.lower().split()) \\\n",
    "            or (\"pfr\" in s.lower().split()) \\\n",
    "            or (\"pref\" in s.lower().split()) \\\n",
    "            or (\"preferred\" in s.lower().split()) \\\n",
    "            or (\"exp\" in s.lower().split()) \\\n",
    "            or (\"due\" in s.lower().split()) \\\n",
    "            or (\"expiry\" in s.lower().split())\\\n",
    "            or (\"abs\" in s.lower().split())\\\n",
    "            or (\"warrant\" in s.lower().split()) \\\n",
    "            or (\"warrants\" in s.lower().split()) \\\n",
    "            or (\"crts\" in s.lower().split()))\n",
    "            ]\n",
    "print(len(tickers_preferred))\n",
    "tickers_preferred.head(3)"
   ]
  },
  {
   "cell_type": "code",
   "execution_count": 12,
   "metadata": {},
   "outputs": [
    {
     "name": "stdout",
     "output_type": "stream",
     "text": [
      "1108\n"
     ]
    },
    {
     "data": {
      "text/html": [
       "<div>\n",
       "<style scoped>\n",
       "    .dataframe tbody tr th:only-of-type {\n",
       "        vertical-align: middle;\n",
       "    }\n",
       "\n",
       "    .dataframe tbody tr th {\n",
       "        vertical-align: top;\n",
       "    }\n",
       "\n",
       "    .dataframe thead th {\n",
       "        text-align: right;\n",
       "    }\n",
       "</style>\n",
       "<table border=\"1\" class=\"dataframe\">\n",
       "  <thead>\n",
       "    <tr style=\"text-align: right;\">\n",
       "      <th></th>\n",
       "      <th>ticker</th>\n",
       "      <th>name</th>\n",
       "      <th>active</th>\n",
       "      <th>start_date</th>\n",
       "      <th>end_date</th>\n",
       "      <th>type</th>\n",
       "      <th>cik</th>\n",
       "      <th>composite_figi</th>\n",
       "    </tr>\n",
       "  </thead>\n",
       "  <tbody>\n",
       "    <tr>\n",
       "      <th>13</th>\n",
       "      <td>AAB.WS</td>\n",
       "      <td>LEHMAN BROTHERS CURRENCY BASKET WTS EXP 2/13/2008</td>\n",
       "      <td>False</td>\n",
       "      <td>2006-08-08</td>\n",
       "      <td>2008-02-08</td>\n",
       "      <td>NONE</td>\n",
       "      <td>NaN</td>\n",
       "      <td>NaN</td>\n",
       "    </tr>\n",
       "    <tr>\n",
       "      <th>94</th>\n",
       "      <td>ABBVw</td>\n",
       "      <td>ABBVIE INC COM STK (DE) W.I.</td>\n",
       "      <td>False</td>\n",
       "      <td>2012-12-10</td>\n",
       "      <td>2012-12-31</td>\n",
       "      <td>CS</td>\n",
       "      <td>1551152.0</td>\n",
       "      <td>BBG0025Y4RY4</td>\n",
       "    </tr>\n",
       "    <tr>\n",
       "      <th>110</th>\n",
       "      <td>ABDw</td>\n",
       "      <td>ACCO BRANDS CORPORATION W.I.</td>\n",
       "      <td>False</td>\n",
       "      <td>2005-08-09</td>\n",
       "      <td>2005-08-16</td>\n",
       "      <td>CS</td>\n",
       "      <td>712034.0</td>\n",
       "      <td>BBG000J06K07</td>\n",
       "    </tr>\n",
       "  </tbody>\n",
       "</table>\n",
       "</div>"
      ],
      "text/plain": [
       "     ticker                                               name  active  \\\n",
       "13   AAB.WS  LEHMAN BROTHERS CURRENCY BASKET WTS EXP 2/13/2008   False   \n",
       "94    ABBVw                       ABBVIE INC COM STK (DE) W.I.   False   \n",
       "110    ABDw                       ACCO BRANDS CORPORATION W.I.   False   \n",
       "\n",
       "     start_date    end_date  type        cik composite_figi  \n",
       "13   2006-08-08  2008-02-08  NONE        NaN            NaN  \n",
       "94   2012-12-10  2012-12-31    CS  1551152.0   BBG0025Y4RY4  \n",
       "110  2005-08-09  2005-08-16    CS   712034.0   BBG000J06K07  "
      ]
     },
     "execution_count": 12,
     "metadata": {},
     "output_type": "execute_result"
    }
   ],
   "source": [
    "###\n",
    "when_issued_or_ex_distr = tickers_v1[tickers_v1['name'].apply(lambda s: \n",
    "               (\"when\" in s.lower().split()) \\\n",
    "            or (\"issued\" in s.lower().split()) \\\n",
    "            or (\"when-issued\" in s.lower().split()) \\\n",
    "            or (\"ex-distribution\" in s.lower().split()) \\\n",
    "            or (\"w.i.\" in s.lower().split()) \\\n",
    "            or (\"wts\" in s.lower().split())   )  ]\n",
    "print(len(when_issued_or_ex_distr))\n",
    "when_issued_or_ex_distr.head(3)"
   ]
  },
  {
   "cell_type": "code",
   "execution_count": 13,
   "metadata": {},
   "outputs": [
    {
     "name": "stdout",
     "output_type": "stream",
     "text": [
      "1293\n"
     ]
    },
    {
     "data": {
      "text/html": [
       "<div>\n",
       "<style scoped>\n",
       "    .dataframe tbody tr th:only-of-type {\n",
       "        vertical-align: middle;\n",
       "    }\n",
       "\n",
       "    .dataframe tbody tr th {\n",
       "        vertical-align: top;\n",
       "    }\n",
       "\n",
       "    .dataframe thead th {\n",
       "        text-align: right;\n",
       "    }\n",
       "</style>\n",
       "<table border=\"1\" class=\"dataframe\">\n",
       "  <thead>\n",
       "    <tr style=\"text-align: right;\">\n",
       "      <th></th>\n",
       "      <th>ticker</th>\n",
       "      <th>name</th>\n",
       "      <th>active</th>\n",
       "      <th>start_date</th>\n",
       "      <th>end_date</th>\n",
       "      <th>type</th>\n",
       "      <th>cik</th>\n",
       "      <th>composite_figi</th>\n",
       "    </tr>\n",
       "  </thead>\n",
       "  <tbody>\n",
       "    <tr>\n",
       "      <th>13</th>\n",
       "      <td>AAB.WS</td>\n",
       "      <td>LEHMAN BROTHERS CURRENCY BASKET WTS EXP 2/13/2008</td>\n",
       "      <td>False</td>\n",
       "      <td>2006-08-08</td>\n",
       "      <td>2008-02-08</td>\n",
       "      <td>NONE</td>\n",
       "      <td>NaN</td>\n",
       "      <td>NaN</td>\n",
       "    </tr>\n",
       "    <tr>\n",
       "      <th>31</th>\n",
       "      <td>AAG.PRTC</td>\n",
       "      <td>AMER ANNTY GRP 91/4% (TOPRS)</td>\n",
       "      <td>False</td>\n",
       "      <td>2004-01-30</td>\n",
       "      <td>2004-03-05</td>\n",
       "      <td>NONE</td>\n",
       "      <td>NaN</td>\n",
       "      <td>NaN</td>\n",
       "    </tr>\n",
       "    <tr>\n",
       "      <th>44</th>\n",
       "      <td>AALC.P</td>\n",
       "      <td>AMERICAN AIRLINES GROUP INC SER A CONV PREF STK</td>\n",
       "      <td>False</td>\n",
       "      <td>2013-12-09</td>\n",
       "      <td>2014-04-08</td>\n",
       "      <td>NONE</td>\n",
       "      <td>6201.0</td>\n",
       "      <td>NaN</td>\n",
       "    </tr>\n",
       "  </tbody>\n",
       "</table>\n",
       "</div>"
      ],
      "text/plain": [
       "      ticker                                               name  active  \\\n",
       "13    AAB.WS  LEHMAN BROTHERS CURRENCY BASKET WTS EXP 2/13/2008   False   \n",
       "31  AAG.PRTC                       AMER ANNTY GRP 91/4% (TOPRS)   False   \n",
       "44    AALC.P    AMERICAN AIRLINES GROUP INC SER A CONV PREF STK   False   \n",
       "\n",
       "    start_date    end_date  type     cik composite_figi  \n",
       "13  2006-08-08  2008-02-08  NONE     NaN            NaN  \n",
       "31  2004-01-30  2004-03-05  NONE     NaN            NaN  \n",
       "44  2013-12-09  2014-04-08  NONE  6201.0            NaN  "
      ]
     },
     "execution_count": 13,
     "metadata": {},
     "output_type": "execute_result"
    }
   ],
   "source": [
    "###\n",
    "tickers_suffix = tickers_v1[\n",
    "        tickers_v1[\"ticker\"].str.contains(\"\\.WD\") |\n",
    "        tickers_v1[\"ticker\"].str.contains(\"\\.W\") |\n",
    "        tickers_v1[\"ticker\"].str.contains(\"\\.Z\") |\n",
    "        tickers_v1[\"ticker\"].str.contains(\"\\.V\") |\n",
    "        tickers_v1[\"ticker\"].str.contains(\"\\.U\") |\n",
    "        tickers_v1[\"ticker\"].str.contains(\"\\.P\") |\n",
    "        tickers_v1[\"ticker\"].str.contains(\"\\.PRTC\") |\n",
    "        tickers_v1[\"ticker\"].str.contains(\"\\.RTS\") |\n",
    "        tickers_v1[\"ticker\"].str.contains(\"\\.PRU\") |\n",
    "        tickers_v1[\"ticker\"].str.contains(\"\\.PRAC\") |\n",
    "        tickers_v1[\"ticker\"].str.contains(\"\\.PRDC\") |\n",
    "        tickers_v1[\"ticker\"].str.contains(\"\\.PRPC\") |\n",
    "        tickers_v1[\"ticker\"].str.contains(\"\\.PRBC\") |\n",
    "        tickers_v1[\"ticker\"].str.contains(\"\\.PREC\")\n",
    "        ]\n",
    "print(len(tickers_suffix))\n",
    "tickers_suffix.head(3)"
   ]
  },
  {
   "cell_type": "code",
   "execution_count": 14,
   "metadata": {},
   "outputs": [
    {
     "name": "stdout",
     "output_type": "stream",
     "text": [
      "1993\n"
     ]
    },
    {
     "data": {
      "text/html": [
       "<div>\n",
       "<style scoped>\n",
       "    .dataframe tbody tr th:only-of-type {\n",
       "        vertical-align: middle;\n",
       "    }\n",
       "\n",
       "    .dataframe tbody tr th {\n",
       "        vertical-align: top;\n",
       "    }\n",
       "\n",
       "    .dataframe thead th {\n",
       "        text-align: right;\n",
       "    }\n",
       "</style>\n",
       "<table border=\"1\" class=\"dataframe\">\n",
       "  <thead>\n",
       "    <tr style=\"text-align: right;\">\n",
       "      <th></th>\n",
       "      <th>ticker</th>\n",
       "      <th>name</th>\n",
       "      <th>active</th>\n",
       "      <th>start_date</th>\n",
       "      <th>end_date</th>\n",
       "      <th>type</th>\n",
       "      <th>cik</th>\n",
       "      <th>composite_figi</th>\n",
       "    </tr>\n",
       "  </thead>\n",
       "  <tbody>\n",
       "    <tr>\n",
       "      <th>25</th>\n",
       "      <td>AACOU</td>\n",
       "      <td>AUSTRALIA ACQUISITION CORP   UNIT SH &amp; WT EXP</td>\n",
       "      <td>False</td>\n",
       "      <td>2010-11-12</td>\n",
       "      <td>2010-12-10</td>\n",
       "      <td>NONE</td>\n",
       "      <td>1499593.0</td>\n",
       "      <td>NaN</td>\n",
       "    </tr>\n",
       "    <tr>\n",
       "      <th>26</th>\n",
       "      <td>AACOU</td>\n",
       "      <td>AUSTRALIA ACQUISITION CORP   UNIT SH &amp; WT EXP</td>\n",
       "      <td>False</td>\n",
       "      <td>2010-12-15</td>\n",
       "      <td>2012-10-15</td>\n",
       "      <td>NONE</td>\n",
       "      <td>1499593.0</td>\n",
       "      <td>NaN</td>\n",
       "    </tr>\n",
       "    <tr>\n",
       "      <th>27</th>\n",
       "      <td>AACOW</td>\n",
       "      <td>AUSTRALIA ACQUISITION CORP WARRANT</td>\n",
       "      <td>False</td>\n",
       "      <td>2010-12-14</td>\n",
       "      <td>2012-10-15</td>\n",
       "      <td>NONE</td>\n",
       "      <td>1499593.0</td>\n",
       "      <td>NaN</td>\n",
       "    </tr>\n",
       "  </tbody>\n",
       "</table>\n",
       "</div>"
      ],
      "text/plain": [
       "   ticker                                           name  active  start_date  \\\n",
       "25  AACOU  AUSTRALIA ACQUISITION CORP   UNIT SH & WT EXP   False  2010-11-12   \n",
       "26  AACOU  AUSTRALIA ACQUISITION CORP   UNIT SH & WT EXP   False  2010-12-15   \n",
       "27  AACOW             AUSTRALIA ACQUISITION CORP WARRANT   False  2010-12-14   \n",
       "\n",
       "      end_date  type        cik composite_figi  \n",
       "25  2010-12-10  NONE  1499593.0            NaN  \n",
       "26  2012-10-15  NONE  1499593.0            NaN  \n",
       "27  2012-10-15  NONE  1499593.0            NaN  "
      ]
     },
     "execution_count": 14,
     "metadata": {},
     "output_type": "execute_result"
    }
   ],
   "source": [
    "###\n",
    "# https://www.nasdaqtrader.com/content/technicalsupport/specifications/dataproducts/nasdaqfifthcharactersuffixlist.pdf\n",
    "tickers_units = tickers_v1[\n",
    "    (tickers_v1[\"ticker\"].str.replace(\".\", \"\").str.len() == 5)\n",
    "    & (tickers_v1[\"ticker\"].str[-1].isin([\"G\", \"H\", \"I\", \"M\", \"N\", \"O\", \"P\", \"R\", \"T\", \"U\", \"V\", \"W\", \"Z\"]))\n",
    "]\n",
    "print(len(tickers_units))\n",
    "tickers_units.head(3)"
   ]
  },
  {
   "cell_type": "code",
   "execution_count": 15,
   "metadata": {},
   "outputs": [],
   "source": [
    "###\n",
    "indices_to_remove = set().union(*[set(funds.index), \n",
    "                                  set(tickers_pct.index),\n",
    "                                  set(tickers_small_letter.index),\n",
    "                                  set(tickers_preferred.index),\n",
    "                                  set(when_issued_or_ex_distr.index),\n",
    "                                  set(tickers_suffix.index),\n",
    "                                  set(tickers_units.index),\n",
    "                                  ])"
   ]
  },
  {
   "cell_type": "code",
   "execution_count": 16,
   "metadata": {},
   "outputs": [
    {
     "name": "stdout",
     "output_type": "stream",
     "text": [
      "28896\n",
      "19188\n"
     ]
    }
   ],
   "source": [
    "###\n",
    "print(len(tickers_v1))\n",
    "tickers_v1 = tickers_v1.drop(index=indices_to_remove)\n",
    "print(len(tickers_v1))"
   ]
  },
  {
   "cell_type": "markdown",
   "metadata": {},
   "source": [
    "Whether something is an ADR, however this has such a higher error rate that it is useless."
   ]
  },
  {
   "cell_type": "code",
   "execution_count": 17,
   "metadata": {},
   "outputs": [],
   "source": [
    "###\n",
    "tickers_v1 = tickers_v1.reset_index(drop=True)\n",
    "tickers_ADR = tickers_v1[(tickers_v1['name'].apply(lambda s: \n",
    "               (\"n.v.\" in s.lower().split()) \\\n",
    "            or (\"sa\" in s.lower().split()) \\\n",
    "            or (\"adr\" in s.lower().split()) \\\n",
    "            or (\"ads\" in s.lower().split()) \\\n",
    "            or (\"ltd\" in s.lower().split()) \\\n",
    "            or (\"plc\" in s.lower().split()) \\\n",
    "            or (\"depositary\" in s.lower().split()) \\\n",
    "            or (\"sponsored\" in s.lower().split()) \\\n",
    "                )) & (tickers_v1['type'] == 'NONE')]\n",
    "\n",
    "tickers_v1.iloc[tickers_ADR.index, 5] = 'ADRC'\n",
    "tickers_v1.loc[tickers_v1['type'] == 'NONE', 'type'] = 'CS'"
   ]
  },
  {
   "cell_type": "markdown",
   "metadata": {},
   "source": [
    "# More problems\n",
    "We have to fix the ticker inconsistencies. Sometimes when a ticker has multiple classes (e.g. BRK.B), the ticker list put a point. Sometimes not. We will fix this by cross-checking with the database. We see that the raw database always has a point with multiple classes. And never a point with some special conditions. It seems to follows the CQS conventions. However it's not 100%, you can see a ticker ZZO-A which has a dash... This is the only one. However the ticker list doesn't show this anyways.\n",
    "\n",
    "However, tickers that are 5 characters long have no point for some reason."
   ]
  },
  {
   "cell_type": "code",
   "execution_count": 18,
   "metadata": {},
   "outputs": [],
   "source": [
    "# Change all / to a point\n",
    "tickers_v1['ticker'] = tickers_v1['ticker'].apply(lambda s: s.replace('/', '.'))"
   ]
  },
  {
   "cell_type": "code",
   "execution_count": 19,
   "metadata": {},
   "outputs": [],
   "source": [
    "# Remove all points, unless its a .A or .B AND the database contains it \n",
    "files = os.listdir(POLYGON_DATA_PATH + \"raw/m1\")\n",
    "tickers_in_files = [file_name[:-8] for file_name in files]\n",
    "\n",
    "tickers_v1[\"ticker\"] = tickers_v1[\"ticker\"].apply(\n",
    "    lambda s: (\n",
    "        s.replace(\".\", \"\")\n",
    "        if not ((\".A\" in s or \".B\" in s) and s in tickers_in_files)\n",
    "        else s\n",
    "    )\n",
    ")"
   ]
  },
  {
   "cell_type": "code",
   "execution_count": 20,
   "metadata": {},
   "outputs": [],
   "source": [
    "# If a ticker is 5 long, remove the point if its .A or .B and the database contains it.\n",
    "tickers_v1[\"ticker\"] = tickers_v1[\"ticker\"].apply(\n",
    "    lambda s: (\n",
    "        s.replace(\".\", \"\")\n",
    "        if (len(s.replace(\".\", \"\")) == 5) and (\".A\" in s or \".B\" in s) and s.replace(\".\", \"\") in tickers_in_files\n",
    "        else s\n",
    "    )\n",
    ")"
   ]
  },
  {
   "cell_type": "code",
   "execution_count": 17,
   "metadata": {},
   "outputs": [
    {
     "ename": "AssertionError",
     "evalue": "",
     "output_type": "error",
     "traceback": [
      "\u001b[1;31m---------------------------------------------------------------------------\u001b[0m",
      "\u001b[1;31mAssertionError\u001b[0m                            Traceback (most recent call last)",
      "Cell \u001b[1;32mIn[17], line 1\u001b[0m\n\u001b[1;32m----> 1\u001b[0m \u001b[38;5;28;01massert\u001b[39;00m \u001b[38;5;28;01mFalse\u001b[39;00m\n",
      "\u001b[1;31mAssertionError\u001b[0m: "
     ]
    }
   ],
   "source": [
    "assert False"
   ]
  },
  {
   "cell_type": "markdown",
   "metadata": {},
   "source": [
    "**Rerun the merging!** \n",
    "\n",
    "Some /A are corrected to .A which means that it should be merged with the corresponding .A ticker. Search in the ticker list for 'BRK' and you will see what I mean. Go back and rerun the cells for merging.\n",
    "\n",
    "After merging again, we save the merged and cleaned ticker list to <code>tickers_v2.csv</code> and give an unique identifier."
   ]
  },
  {
   "cell_type": "code",
   "execution_count": 24,
   "metadata": {},
   "outputs": [
    {
     "data": {
      "text/plain": [
       "17929"
      ]
     },
     "execution_count": 24,
     "metadata": {},
     "output_type": "execute_result"
    }
   ],
   "source": [
    "# Remove tickers that only have 1 day of history and are not just listed.\n",
    "tickers_v1 = tickers_v1[((tickers_v1[\"end_date\"] - tickers_v1[\"start_date\"]) > timedelta(days=0)) | \n",
    "                        (tickers_v1[\"start_date\"] == market_days[market_days.index(END_DATE) - 1])]\n",
    "tickers_v1 = tickers_v1.reset_index(drop=True)\n",
    "len(tickers_v1)"
   ]
  },
  {
   "cell_type": "code",
   "execution_count": 25,
   "metadata": {},
   "outputs": [],
   "source": [
    "###\n",
    "tickers_v1[\"ID\"] = tickers_v1[\"ticker\"] + '-' + tickers_v1[\"start_date\"].astype(str)"
   ]
  },
  {
   "cell_type": "code",
   "execution_count": 26,
   "metadata": {},
   "outputs": [
    {
     "name": "stdout",
     "output_type": "stream",
     "text": [
      "Total tickers: 17929\n",
      "Unique tickers: 15552\n"
     ]
    }
   ],
   "source": [
    "###\n",
    "print(f\"Total tickers: {len(tickers_v1)}\")\n",
    "print(f\"Unique tickers: {len(tickers_v1['ticker'].unique())}\")\n",
    "\n",
    "tickers_v1 = tickers_v1.reset_index(drop=True)\n",
    "tickers_v1 = tickers_v1[[\"ID\", \"ticker\", \"name\", \"active\", \"start_date\", \"end_date\", \"type\", \"cik\", \"composite_figi\"]]\n",
    "tickers_v1.to_csv(\"../data/tickers_v2.csv\")"
   ]
  },
  {
   "cell_type": "markdown",
   "metadata": {},
   "source": [
    "In the beginning we had 49000 tickers. After removing the duplicates, incorrect classes and making sure the ticker conventions are correct, we have reduced this to 18291.\n",
    "\n",
    "The amount of tickers that have data is even smaller. As you will see, this is because a lot of tickers are 'ghost tickers' that have no data."
   ]
  },
  {
   "cell_type": "markdown",
   "metadata": {},
   "source": [
    "# 3.7 Updates\n",
    "1. Run the first cell below to create a backup of <code>tickers_v3</code>. Later when we download data, we will compare the old to the new ticker list to determine which stocks and dates to update, instead of downloading everything.\n",
    "1. Update END_DATE.\n",
    "2. 3.1: Run the 3 cells with ###. This updates the folder of ticker lists.\n",
    "3. Run the below cells to get the new <code>tickers_v1</code>.\n",
    "4. 3.5, 3.6: Run everything (merge, remove incorrect classes) to get <code>tickers_v2</code>."
   ]
  },
  {
   "cell_type": "code",
   "execution_count": null,
   "metadata": {},
   "outputs": [],
   "source": [
    "tickers_v3 = get_tickers(3)\n",
    "tickers_v3.to_csv(\"../data/tickers_v3_old.csv\")"
   ]
  },
  {
   "cell_type": "markdown",
   "metadata": {},
   "source": [
    "This is the tickers loop, however the first ticker list is tickers_v1 instead of the ticker list of the first day. This is much faster than redoing everything."
   ]
  },
  {
   "cell_type": "code",
   "execution_count": null,
   "metadata": {},
   "outputs": [],
   "source": [
    "from tickers import get_tickers\n",
    "market_days = get_market_dates()\n",
    "\n",
    "tickers_v1 = get_tickers(1)\n",
    "CURRENT_END_DATE = tickers_v1['end_date'].max()\n",
    "END_DATE = last_trading_date_before_equal(END_DATE)\n",
    "\n",
    "market_days = get_market_dates()\n",
    "\n",
    "for day in market_days:\n",
    "    if day == CURRENT_END_DATE:\n",
    "        # At the start, our ticker list is our current tickers_v1\n",
    "        our_tickers = tickers_v1\n",
    "        our_tickers.loc[our_tickers['active'], 'end_date'] = np.NaN\n",
    "        our_tickers['cik'] = our_tickers['cik'].replace('', np.nan)\n",
    "        our_tickers['cik'] = our_tickers['cik'].astype(float)\n",
    "\n",
    "    elif day > CURRENT_END_DATE and day <= END_DATE:\n",
    "        # Get new ticker list to update ours\n",
    "        tickers_day_i = pd.read_csv(\n",
    "            POLYGON_DATA_PATH + f\"raw/tickers/{day.isoformat()}.csv\",\n",
    "            index_col=0,\n",
    "            keep_default_na=False,\n",
    "            na_values=['#N/A', '#N/A N/A', '#NA', '-1.#IND', '-1.#QNAN', '-NaN', '-nan', '1.#IND', \\\n",
    "            '1.#QNAN', '<NA>', 'N/A', 'NULL', 'NaN', 'None', 'n/a', 'nan', 'null']\n",
    "        )\n",
    "        # Sometimes a cik can be empty. This prevents the merge function from working.\n",
    "        tickers_day_i['cik'] = tickers_day_i['cik'].replace('', np.nan)\n",
    "        tickers_day_i['cik'] = tickers_day_i['cik'].astype(float)\n",
    "\n",
    "        tickers_day_i.sort_values(['last_updated_utc'], inplace=True)\n",
    "\n",
    "        tickers_day_i = tickers_day_i[[\"ticker\", \"name\", \"active\", \"cik\", \"composite_figi\", \"type\"]]\n",
    "        tickers_day_i = tickers_day_i[tickers_day_i[\"active\"]]\n",
    "        tickers_day_i.reset_index(inplace=True, drop=True)\n",
    "\n",
    "        # Remove duplicates (very rare, but sometimes this happens due to duplicates in polygons ticker lists)\n",
    "        duplicated = tickers_day_i[tickers_day_i[\"ticker\"].duplicated(keep=False)]\n",
    "        indices_to_remove = duplicated[\"ticker\"].duplicated(keep='last')\n",
    "        tickers_day_i.drop(list(indices_to_remove[indices_to_remove].index), inplace=True)\n",
    "        tickers_day_i.reset_index(drop=True, inplace=True)\n",
    "\n",
    "        # Preliminary check: no duplicates\n",
    "        if our_tickers.duplicated().any():\n",
    "            raise Exception(\"There are duplicates!\")\n",
    "\n",
    "        if tickers_day_i.duplicated().any():\n",
    "            raise Exception(\"There are duplicates!\")\n",
    "\n",
    "        # DELISTINGS\n",
    "        indicator_delisted = our_tickers[[\"ticker\", \"name\", \"active\", \"cik\", \"composite_figi\", \"type\"]].\\\n",
    "            merge(tickers_day_i[[\"ticker\", \"name\", \"active\", \"cik\", \"composite_figi\", \"type\"]], \\\n",
    "                on=[\"ticker\", \"name\", \"active\", \"cik\", \"composite_figi\", \"type\"], how='left', indicator=True)\n",
    "\n",
    "        indicator_delisted['_merge'] = np.where(our_tickers[\"active\"], indicator_delisted['_merge'], \"both\") # ERROR FIX: If in our ticker list we have already set it inactive, it should not be added to the list of delisted stocks again. By setting _merge to \"both\" we skip the already inactive stocks.\n",
    "\n",
    "        indicator_delisted = indicator_delisted[\"_merge\"] # Only get the indicator\n",
    "        delisted_tickers = our_tickers[indicator_delisted == \"left_only\"]\n",
    "\n",
    "        # NEW LISTINGS\n",
    "        indicator_new = tickers_day_i[[\"ticker\", \"name\", \"active\", \"cik\", \"composite_figi\", \"type\"]].\\\n",
    "            merge(our_tickers[[\"ticker\", \"name\", \"active\", \"cik\", \"composite_figi\", \"type\"]], \\\n",
    "                on=[\"ticker\", \"name\", \"active\", \"cik\", \"composite_figi\", \"type\"], \n",
    "                        how='left', indicator=True)\n",
    "        indicator_new = indicator_new[\"_merge\"]\n",
    "        new_tickers = tickers_day_i[indicator_new == \"left_only\"]\n",
    "\n",
    "        # PROCESS DELISTINGS\n",
    "        previous_day = market_days[market_days.index(day) - 1] # Getting previous trading day\n",
    "        our_tickers.loc[indicator_delisted == \"left_only\", \"end_date\"] = previous_day\n",
    "        our_tickers.loc[indicator_delisted == \"left_only\", \"active\"] = False\n",
    "        \n",
    "        # PROCESS NEW LISTINGS\n",
    "        our_tickers = pd.concat([our_tickers, new_tickers])\n",
    "        our_tickers.reset_index(inplace=True, drop=True)\n",
    "        our_tickers['start_date'].fillna(value=day, inplace=True)\n",
    "\n",
    "        # Final checks\n",
    "        if our_tickers[[\"ticker\", \"name\", \"active\", \"type\", \"start_date\"]].isnull().values.any():\n",
    "            #null_data = our_tickers[our_tickers[[\"ticker\", \"name\", \"active\", \"type\", \"start_date\"]].isnull().any(axis=1)]\n",
    "            raise Exception(\"There are missing values.\")\n",
    "        \n",
    "        print(f'{day.isoformat()}: Amount of stocks {len(our_tickers)}')\n",
    "        \n",
    "        # Finalize\n",
    "        if day == END_DATE:\n",
    "            our_tickers[\"end_date\"].fillna(value=END_DATE, inplace=True)\n",
    "            our_tickers = our_tickers.sort_values(by=[\"ticker\", \"end_date\"]).reset_index(drop=True)\n",
    "            our_tickers[[\"ticker\", \"name\", \"active\", \"start_date\", \"end_date\", \"type\", \"cik\", \"composite_figi\"]].\\\n",
    "                to_csv(\"../data/tickers_v1.csv\")"
   ]
  }
 ],
 "metadata": {
  "kernelspec": {
   "display_name": "algotrading",
   "language": "python",
   "name": "python3"
  },
  "language_info": {
   "codemirror_mode": {
    "name": "ipython",
    "version": 3
   },
   "file_extension": ".py",
   "mimetype": "text/x-python",
   "name": "python",
   "nbconvert_exporter": "python",
   "pygments_lexer": "ipython3",
   "version": "3.11.4"
  }
 },
 "nbformat": 4,
 "nbformat_minor": 2
}
